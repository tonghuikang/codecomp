{
 "cells": [
  {
   "cell_type": "code",
   "execution_count": 28,
   "id": "tight-property",
   "metadata": {},
   "outputs": [],
   "source": [
    "import collections\n",
    "import random"
   ]
  },
  {
   "cell_type": "code",
   "execution_count": 29,
   "id": "retired-symphony",
   "metadata": {},
   "outputs": [],
   "source": [
    "with open(\"corpus.md\", \"r\") as f:\n",
    "    text = f.read()"
   ]
  },
  {
   "cell_type": "code",
   "execution_count": 30,
   "id": "inclusive-laptop",
   "metadata": {},
   "outputs": [],
   "source": [
    "# preprocessing\n",
    "text = text.strip().replace(\"\\n\", \" \")\n",
    "allowed = set(list(\"abcdefghijklmnopqrstuvwxyz01234567890 \\n.\"))\n",
    "for num in \"0123456789\":\n",
    "    text = text.replace(num, \" {} \".format(num))\n",
    "text = \"\".join(x for x in text.lower() if x in allowed)"
   ]
  },
  {
   "cell_type": "code",
   "execution_count": 31,
   "id": "printable-master",
   "metadata": {},
   "outputs": [
    {
     "name": "stdout",
     "output_type": "stream",
     "text": [
      "[('the', 1435), ('and', 1109), ('to', 1008), ('we', 649), ('a', 575), ('is', 548), ('of', 468), ('in', 455), ('0', 411), ('will', 399)]\n"
     ]
    }
   ],
   "source": [
    "all_tokens = text.replace(\".\",\"\").split()\n",
    "counter_tokens = collections.Counter(all_tokens)\n",
    "tokens = [token for token,count in counter_tokens.most_common()[:50]]\n",
    "token_to_word = {i:x for i,x in enumerate(tokens)}\n",
    "word_to_token = {x:i for i,x in enumerate(tokens)}\n",
    "print(counter_tokens.most_common()[:10])"
   ]
  },
  {
   "cell_type": "code",
   "execution_count": 32,
   "id": "limited-cooler",
   "metadata": {},
   "outputs": [],
   "source": [
    "sentences = [sentence.strip() for sentence in text.split(\".\")]\n",
    "sentences = [[word_to_token[word] for word in sentence.split() if word in tokens] \n",
    "             for sentence in sentences]\n",
    "sentences = [sentence for sentence in sentences if len(sentence) >= 6]\n",
    "targets = []\n",
    "\n",
    "for i in range(len(sentences)):\n",
    "    idx = i%len(sentences[i])\n",
    "    targets.append(sentences[i][idx])\n",
    "    sentences[i][idx] = -1 "
   ]
  },
  {
   "cell_type": "code",
   "execution_count": 33,
   "id": "collective-habitat",
   "metadata": {},
   "outputs": [],
   "source": [
    "sample_input_arr = [\" \".join(str(token) for token in sentence) for sentence in sentences]\n",
    "sample_input_arr = [str(len(sample_input_arr))] + sample_input_arr\n",
    "sample_output_arr = [str(target) for target in targets]\n",
    "\n",
    "with open(\"f1\", \"w\") as f:\n",
    "    f.write(\"\\n\".join(sample_input_arr))\n",
    "    \n",
    "with open(\"f1.ref\", \"w\") as f:\n",
    "    f.write(\"\\n\".join(sample_output_arr))"
   ]
  },
  {
   "cell_type": "code",
   "execution_count": 34,
   "id": "elect-richards",
   "metadata": {},
   "outputs": [],
   "source": [
    "# please evaluate with your model"
   ]
  },
  {
   "cell_type": "code",
   "execution_count": 35,
   "id": "duplicate-summit",
   "metadata": {},
   "outputs": [
    {
     "name": "stdout",
     "output_type": "stream",
     "text": [
      "[(0, 106), (2, 73), (1, 73), (3, 56), (9, 36), (4, 34), (7, 32), (6, 30), (5, 30), (14, 28)]\n"
     ]
    }
   ],
   "source": [
    "print(collections.Counter(targets).most_common()[:10])"
   ]
  },
  {
   "cell_type": "code",
   "execution_count": 40,
   "id": "multiple-address",
   "metadata": {},
   "outputs": [
    {
     "name": "stdout",
     "output_type": "stream",
     "text": [
      "209 1045 1045 0.200\n",
      "[(0, 392), (3, 72), (2, 58), (1, 50), (10, 44), (8, 37), (4, 31), (12, 31), (11, 28), (5, 26)]\n"
     ]
    }
   ],
   "source": [
    "with open(\"f1.out\") as f:\n",
    "    predicted_targets = [int(x) for x in f.readlines()]\n",
    "\n",
    "correct = 0\n",
    "for a,b in zip(predicted_targets, targets):\n",
    "    if a == b:\n",
    "        correct += 1\n",
    "print(correct, len(predicted_targets), len(targets), \"{:.3f}\".format(correct/len(targets)))\n",
    "print(collections.Counter(predicted_targets).most_common()[:10])"
   ]
  },
  {
   "cell_type": "code",
   "execution_count": 46,
   "id": "sixth-disabled",
   "metadata": {},
   "outputs": [
    {
     "name": "stdout",
     "output_type": "stream",
     "text": [
      "106 1045 1045 0.101\n",
      "[(0, 377), (2, 84), (3, 76), (5, 68), (1, 59), (8, 56), (12, 45), (6, 30), (11, 25), (14, 22)]\n"
     ]
    }
   ],
   "source": [
    "with open(\"f1.cbow\") as f:\n",
    "    predicted_targets = [int(x) for x in f.readlines()]\n",
    "\n",
    "correct = 0\n",
    "for a,b in zip(predicted_targets, targets):\n",
    "    if a == b:\n",
    "        correct += 1\n",
    "print(correct, len(predicted_targets), len(targets), \"{:.3f}\".format(correct/len(targets)))\n",
    "print(collections.Counter(predicted_targets).most_common()[:10])"
   ]
  },
  {
   "cell_type": "code",
   "execution_count": null,
   "id": "deluxe-welcome",
   "metadata": {},
   "outputs": [],
   "source": []
  }
 ],
 "metadata": {
  "kernelspec": {
   "display_name": "Python [conda env:quora]",
   "language": "python",
   "name": "conda-env-quora-py"
  },
  "language_info": {
   "codemirror_mode": {
    "name": "ipython",
    "version": 3
   },
   "file_extension": ".py",
   "mimetype": "text/x-python",
   "name": "python",
   "nbconvert_exporter": "python",
   "pygments_lexer": "ipython3",
   "version": "3.6.9"
  }
 },
 "nbformat": 4,
 "nbformat_minor": 5
}

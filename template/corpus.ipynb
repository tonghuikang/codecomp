{
 "cells": [
  {
   "cell_type": "code",
   "execution_count": 1,
   "id": "furnished-couple",
   "metadata": {},
   "outputs": [],
   "source": [
    "import collections\n",
    "import random"
   ]
  },
  {
   "cell_type": "code",
   "execution_count": 2,
   "id": "stunning-evolution",
   "metadata": {},
   "outputs": [],
   "source": [
    "with open(\"corpus.md\", \"r\") as f:\n",
    "    text = f.read()"
   ]
  },
  {
   "cell_type": "code",
   "execution_count": 3,
   "id": "funded-courage",
   "metadata": {},
   "outputs": [],
   "source": [
    "# preprocessing\n",
    "text = text.strip().replace(\"\\n\", \" \")\n",
    "allowed = set(list(\"abcdefghijklmnopqrstuvwxyz01234567890 \\n.\"))\n",
    "for num in \"0123456789\":\n",
    "    text = text.replace(num, \" {} \".format(num))\n",
    "text = \"\".join(x for x in text.lower() if x in allowed)"
   ]
  },
  {
   "cell_type": "code",
   "execution_count": 4,
   "id": "attempted-fisher",
   "metadata": {},
   "outputs": [],
   "source": [
    "all_tokens = text.replace(\".\",\"\").split()\n",
    "counter_tokens = collections.Counter(all_tokens)\n",
    "tokens = [token for token,count in counter_tokens.most_common()[:1000]]\n",
    "token_to_word = {i:x for i,x in enumerate(tokens)}\n",
    "word_to_token = {x:i for i,x in enumerate(tokens)}"
   ]
  },
  {
   "cell_type": "code",
   "execution_count": 5,
   "id": "underlying-cocktail",
   "metadata": {},
   "outputs": [],
   "source": [
    "sentences = [sentence.strip() for sentence in text.split(\".\")]\n",
    "sentences = [[word_to_token[word] for word in sentence.split() if word in tokens] \n",
    "             for sentence in sentences]\n",
    "sentences = [sentence for sentence in sentences if len(sentence) >= 6]\n",
    "targets = []\n",
    "\n",
    "for i in range(len(sentences)):\n",
    "    idx = i%len(sentences[i])\n",
    "    targets.append(sentences[i][idx])\n",
    "    sentences[i][idx] = -1 "
   ]
  },
  {
   "cell_type": "code",
   "execution_count": 6,
   "id": "fossil-combat",
   "metadata": {},
   "outputs": [],
   "source": [
    "sample_input_arr = [\" \".join(str(token) for token in sentence) for sentence in sentences]\n",
    "sample_input_arr = [str(len(sample_input_arr))] + sample_input_arr\n",
    "sample_output_arr = [str(target) for target in targets]\n",
    "\n",
    "with open(\"f1\", \"w\") as f:\n",
    "    f.write(\"\\n\".join(sample_input_arr))\n",
    "    \n",
    "with open(\"f1.ref\", \"w\") as f:\n",
    "    f.write(\"\\n\".join(sample_output_arr))"
   ]
  },
  {
   "cell_type": "code",
   "execution_count": 16,
   "id": "designing-perspective",
   "metadata": {},
   "outputs": [],
   "source": [
    "with open(\"f1.out\") as f:\n",
    "    predicted_targets = [int(x) for x in f.readlines()]"
   ]
  },
  {
   "cell_type": "code",
   "execution_count": 17,
   "id": "fifth-civilian",
   "metadata": {},
   "outputs": [],
   "source": [
    "# please evaluate with your model"
   ]
  },
  {
   "cell_type": "code",
   "execution_count": 18,
   "id": "statistical-lotus",
   "metadata": {},
   "outputs": [
    {
     "name": "stdout",
     "output_type": "stream",
     "text": [
      "322 1589 1589 0.203\n"
     ]
    }
   ],
   "source": [
    "correct = 0\n",
    "for a,b in zip(predicted_targets, targets):\n",
    "    if a == b:\n",
    "        correct += 1\n",
    "print(correct, len(predicted_targets), len(targets), \"{:.3f}\".format(correct/len(targets)))"
   ]
  },
  {
   "cell_type": "code",
   "execution_count": null,
   "id": "applied-bolivia",
   "metadata": {},
   "outputs": [],
   "source": []
  },
  {
   "cell_type": "code",
   "execution_count": null,
   "id": "fluid-concord",
   "metadata": {},
   "outputs": [],
   "source": []
  }
 ],
 "metadata": {
  "kernelspec": {
   "display_name": "Python [conda env:quora]",
   "language": "python",
   "name": "conda-env-quora-py"
  },
  "language_info": {
   "codemirror_mode": {
    "name": "ipython",
    "version": 3
   },
   "file_extension": ".py",
   "mimetype": "text/x-python",
   "name": "python",
   "nbconvert_exporter": "python",
   "pygments_lexer": "ipython3",
   "version": "3.6.9"
  }
 },
 "nbformat": 4,
 "nbformat_minor": 5
}

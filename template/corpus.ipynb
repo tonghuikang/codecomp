{
 "cells": [
  {
   "cell_type": "code",
   "execution_count": 11,
   "id": "former-union",
   "metadata": {},
   "outputs": [],
   "source": [
    "import collections\n",
    "import random"
   ]
  },
  {
   "cell_type": "code",
   "execution_count": 12,
   "id": "absolute-smile",
   "metadata": {},
   "outputs": [],
   "source": [
    "with open(\"corpus.md\", \"r\") as f:\n",
    "    text = f.read()"
   ]
  },
  {
   "cell_type": "code",
   "execution_count": 13,
   "id": "sudden-mandate",
   "metadata": {},
   "outputs": [],
   "source": [
    "# preprocessing\n",
    "text = text.strip().replace(\"\\n\", \" \")\n",
    "allowed = set(list(\"abcdefghijklmnopqrstuvwxyz01234567890 \\n.\"))\n",
    "for num in \"0123456789\":\n",
    "    text = text.replace(num, \" {} \".format(num))\n",
    "text = \"\".join(x for x in text.lower() if x in allowed)"
   ]
  },
  {
   "cell_type": "code",
   "execution_count": 14,
   "id": "finnish-scale",
   "metadata": {},
   "outputs": [
    {
     "name": "stdout",
     "output_type": "stream",
     "text": [
      "[('the', 1435), ('and', 1109), ('to', 1008), ('we', 649), ('a', 575), ('is', 548), ('of', 468), ('in', 455), ('0', 411), ('will', 399)]\n"
     ]
    }
   ],
   "source": [
    "all_tokens = text.replace(\".\",\"\").split()\n",
    "counter_tokens = collections.Counter(all_tokens)\n",
    "tokens = [token for token,count in counter_tokens.most_common()[:100]]\n",
    "token_to_word = {i:x for i,x in enumerate(tokens)}\n",
    "word_to_token = {x:i for i,x in enumerate(tokens)}\n",
    "print(counter_tokens.most_common()[:10])"
   ]
  },
  {
   "cell_type": "code",
   "execution_count": 15,
   "id": "universal-throw",
   "metadata": {},
   "outputs": [],
   "source": [
    "sentences = [sentence.strip() for sentence in text.split(\".\")]\n",
    "sentences = [[word_to_token[word] for word in sentence.split() if word in tokens] \n",
    "             for sentence in sentences]\n",
    "sentences = [sentence for sentence in sentences if len(sentence) >= 6]\n",
    "targets = []\n",
    "\n",
    "for i in range(len(sentences)):\n",
    "    idx = i%len(sentences[i])\n",
    "    targets.append(sentences[i][idx])\n",
    "    sentences[i][idx] = -1 "
   ]
  },
  {
   "cell_type": "code",
   "execution_count": 16,
   "id": "excessive-uruguay",
   "metadata": {},
   "outputs": [],
   "source": [
    "sample_input_arr = [\" \".join(str(token) for token in sentence) for sentence in sentences]\n",
    "sample_input_arr = [str(len(sample_input_arr))] + sample_input_arr\n",
    "sample_output_arr = [str(target) for target in targets]\n",
    "\n",
    "with open(\"f1\", \"w\") as f:\n",
    "    f.write(\"\\n\".join(sample_input_arr))\n",
    "    \n",
    "with open(\"f1.ref\", \"w\") as f:\n",
    "    f.write(\"\\n\".join(sample_output_arr))"
   ]
  },
  {
   "cell_type": "code",
   "execution_count": 17,
   "id": "administrative-killing",
   "metadata": {},
   "outputs": [],
   "source": [
    "# please evaluate with your model"
   ]
  },
  {
   "cell_type": "code",
   "execution_count": 18,
   "id": "representative-distinction",
   "metadata": {},
   "outputs": [
    {
     "name": "stdout",
     "output_type": "stream",
     "text": [
      "[(0, 98), (1, 85), (2, 65), (4, 43), (5, 42), (3, 37), (7, 34), (9, 34), (8, 32), (6, 30)]\n"
     ]
    }
   ],
   "source": [
    "print(collections.Counter(targets).most_common()[:10])"
   ]
  },
  {
   "cell_type": "code",
   "execution_count": 26,
   "id": "consecutive-battlefield",
   "metadata": {},
   "outputs": [
    {
     "name": "stdout",
     "output_type": "stream",
     "text": [
      "249 1263 1263 0.197\n",
      "[(0, 383), (1, 64), (2, 63), (3, 63), (5, 42), (9, 40), (10, 40), (8, 35), (12, 27), (4, 25)]\n"
     ]
    }
   ],
   "source": [
    "with open(\"f1.out\") as f:\n",
    "    predicted_targets = [int(x) for x in f.readlines()]\n",
    "\n",
    "correct = 0\n",
    "for a,b in zip(predicted_targets, targets):\n",
    "    if a == b:\n",
    "        correct += 1\n",
    "print(correct, len(predicted_targets), len(targets), \"{:.3f}\".format(correct/len(targets)))\n",
    "print(collections.Counter(predicted_targets).most_common()[:10])"
   ]
  },
  {
   "cell_type": "code",
   "execution_count": 27,
   "id": "impressed-elizabeth",
   "metadata": {},
   "outputs": [
    {
     "name": "stdout",
     "output_type": "stream",
     "text": [
      "88 1263 1263 0.070\n",
      "[(0, 180), (8, 89), (11, 65), (6, 65), (3, 56), (1, 53), (5, 51), (2, 49), (23, 46), (18, 45)]\n"
     ]
    }
   ],
   "source": [
    "with open(\"f1.cbow\") as f:\n",
    "    predicted_targets = [int(x) for x in f.readlines()]\n",
    "\n",
    "correct = 0\n",
    "for a,b in zip(predicted_targets, targets):\n",
    "    if a == b:\n",
    "        correct += 1\n",
    "print(correct, len(predicted_targets), len(targets), \"{:.3f}\".format(correct/len(targets)))\n",
    "print(collections.Counter(predicted_targets).most_common()[:10])"
   ]
  },
  {
   "cell_type": "code",
   "execution_count": null,
   "id": "naval-criminal",
   "metadata": {},
   "outputs": [],
   "source": []
  }
 ],
 "metadata": {
  "kernelspec": {
   "display_name": "Python [conda env:quora]",
   "language": "python",
   "name": "conda-env-quora-py"
  },
  "language_info": {
   "codemirror_mode": {
    "name": "ipython",
    "version": 3
   },
   "file_extension": ".py",
   "mimetype": "text/x-python",
   "name": "python",
   "nbconvert_exporter": "python",
   "pygments_lexer": "ipython3",
   "version": "3.6.9"
  }
 },
 "nbformat": 4,
 "nbformat_minor": 5
}

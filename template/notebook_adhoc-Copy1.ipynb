{
 "cells": [
  {
   "cell_type": "code",
   "execution_count": 156,
   "metadata": {},
   "outputs": [],
   "source": [
    "%reset -sf"
   ]
  },
  {
   "cell_type": "code",
   "execution_count": 157,
   "metadata": {},
   "outputs": [],
   "source": [
    "# LOAD THIS BEFORE START, run rmdl\n",
    "\n",
    "#!/usr/bin/env python3\n",
    "import sys\n",
    "import math, random\n",
    "import functools, itertools, collections, heapq, bisect\n",
    "from collections import Counter, defaultdict, deque\n",
    "\n",
    "# import numpy as np\n",
    "# import scipy\n",
    "import matplotlib.pyplot as plt\n",
    "\n",
    "abc = \"abcdefghijklmnopqrstuvwxyz\"\n",
    "abc_map = {c:i for i,c in enumerate(abc)}\n",
    "M9 = 10**9 + 7  # 998244353\n",
    "yes, no = \"YES\", \"NO\"\n",
    "d4 = [(1,0),(0,1),(-1,0),(0,-1)]\n",
    "d8 = [\n",
    "    (-1,-1),(-1,0),(-1,1),\n",
    "    (0,-1),(0,0),(0,1),\n",
    "    (1,-1),(1,0),(1,1)]\n",
    "d6 = [(2,0),(1,1),(-1,1),(-2,0),(-1,-1),(1,-1)]  # hexagonal layout\n",
    "MAXINT = sys.maxsize"
   ]
  },
  {
   "cell_type": "code",
   "execution_count": 6,
   "metadata": {},
   "outputs": [],
   "source": [
    "with open(\"/Users/htong/Downloads/input.txt\") as f:\n",
    "    srr = f.read().strip().split(\"\\n\")"
   ]
  },
  {
   "cell_type": "code",
   "execution_count": 2,
   "metadata": {},
   "outputs": [],
   "source": [
    "srr = \"\"\"\n",
    "Sensor at x=2, y=18: closest beacon is at x=-2, y=15\n",
    "Sensor at x=9, y=16: closest beacon is at x=10, y=16\n",
    "Sensor at x=13, y=2: closest beacon is at x=15, y=3\n",
    "Sensor at x=12, y=14: closest beacon is at x=10, y=16\n",
    "Sensor at x=10, y=20: closest beacon is at x=10, y=16\n",
    "Sensor at x=14, y=17: closest beacon is at x=10, y=16\n",
    "Sensor at x=8, y=7: closest beacon is at x=2, y=10\n",
    "Sensor at x=2, y=0: closest beacon is at x=2, y=10\n",
    "Sensor at x=0, y=11: closest beacon is at x=2, y=10\n",
    "Sensor at x=20, y=14: closest beacon is at x=25, y=17\n",
    "Sensor at x=17, y=20: closest beacon is at x=21, y=22\n",
    "Sensor at x=16, y=7: closest beacon is at x=15, y=3\n",
    "Sensor at x=14, y=3: closest beacon is at x=15, y=3\n",
    "Sensor at x=20, y=1: closest beacon is at x=15, y=3\n",
    "\"\"\".strip().split(\"\\n\")"
   ]
  },
  {
   "cell_type": "code",
   "execution_count": 21,
   "metadata": {},
   "outputs": [
    {
     "name": "stdout",
     "output_type": "stream",
     "text": [
      "3842919 126080 109174\n",
      "406527 2094318 109174\n",
      "2208821 3683408 109174\n",
      "39441 1251806 109174\n",
      "3093352 2404566 109174\n",
      "3645473 2234498 109174\n",
      "3645012 2995540 109174\n",
      "18039 3083937 109174\n",
      "2375680 551123 109174\n",
      "776553 123250 109174\n",
      "2884996 2022644 109174\n",
      "1886537 2659379 109174\n",
      "3980015 3987237 109174\n",
      "3426483 3353349 109174\n",
      "999596 1165648 109174\n",
      "2518209 2287271 109174\n",
      "3982110 3262128 109174\n",
      "3412896 3999288 109174\n",
      "2716180 2798731 109174\n",
      "3575486 1273265 109174\n",
      "7606 2926795 109174\n",
      "2719370 2062251 109174\n",
      "1603268 1771299 109174\n",
      "3999678 1864727 109174\n",
      "3157947 2833781 109174\n",
      "3904662 2601010 109174\n",
      "3846359 1608423 109174\n",
      "2831842 3562642 109174\n",
      "3157592 1874755 109174\n",
      "934300 2824967 109174\n",
      "3986911 1907590 109174\n",
      "200888 3579976 109174\n",
      "967209 3837958 109174\n",
      "3998480 1972726 109174\n"
     ]
    }
   ],
   "source": [
    "# mrr = {x:0 for x in range(-22570059, 37570059)}\n",
    "# mrr = {x:0 for x in range(-100, 100)}\n",
    "yy = 10\n",
    "\n",
    "def transform(x,y):\n",
    "    return x+y, x-y\n",
    "\n",
    "diffs = {x:[] for x in range(-2570059, 5935985)}\n",
    "\n",
    "for row in srr:\n",
    "    row = row.replace(\"=\", \" \").replace(\":\", \" \").replace(\",\", \" \")\n",
    "    row = row.split()\n",
    "    x1, y1, x2, y2 = row[3], row[5], row[11], row[13]\n",
    "    x1, y1, x2, y2 = int(x1), int(y1), int(x2), int(y2)\n",
    "    d = abs(x1 - x2) + abs(y1 - y2)\n",
    "    \n",
    "    transform(x1, y1)\n",
    "    \n",
    "    ya, yb = y1 - d, y1 + d\n",
    "    xa, xb = x1 - d, x1 + d\n",
    "\n",
    "    diffs[xa].append([1, ya, yb])\n",
    "    diffs[xb+1].append([0, ya, yb])\n",
    "    \n",
    "    print(x1, y1, dist)\n",
    "    \n",
    "# for row in srr:\n",
    "#     row = row.replace(\"=\", \" \").replace(\":\", \" \").replace(\",\", \" \")\n",
    "#     row = row.split()\n",
    "#     x1, y1, x2, y2 = row[3], row[5], row[11], row[13]\n",
    "#     x1, y1, x2, y2 = int(x1), int(y1), int(x2), int(y2)\n",
    "#     if y2 == yy:\n",
    "#         mrr[x2] = 0"
   ]
  },
  {
   "cell_type": "code",
   "execution_count": 22,
   "metadata": {},
   "outputs": [
    {
     "data": {
      "text/plain": [
       "{-1211094: [[1, -1864397, 2110897]],\n",
       " -762106: [[1, 925685, 3262951]],\n",
       " -727026: [[1, 2143723, 5532193]],\n",
       " -469044: [[1, 2910044, 4249908]],\n",
       " -168925: [[1, 2750264, 3103326]],\n",
       " -168696: [[1, -2644, 2333940]],\n",
       " -143769: [[1, 2922129, 3245745]],\n",
       " -82538: [[1, 1129827, 1373785]],\n",
       " -79123: [[1, 1811544, 3838390]],\n",
       " 161421: [[0, 1129827, 1373785]],\n",
       " 179848: [[0, 2922129, 3245745]],\n",
       " 184138: [[0, 2750264, 3103326]],\n",
       " 216462: [[1, 384493, 3158105]],\n",
       " 541110: [[1, -1283447, 2385693]],\n",
       " 870821: [[0, 2910044, 4249908]],\n",
       " 882129: [[1, 2356716, 5010100]],\n",
       " 922072: [[1, 1694914, 3623844]],\n",
       " 1575161: [[0, 925685, 3262951]],\n",
       " 1947724: [[0, 1811544, 3838390]],\n",
       " 1949853: [[1, -1766986, 2019146]],\n",
       " 1987774: [[1, 1756836, 2817706]],\n",
       " 2167889: [[0, -2644, 2333940]],\n",
       " 2248937: [[1, 2979737, 4145547]],\n",
       " 2515729: [[1, 1826943, 2982189]],\n",
       " 2522466: [[1, 2605017, 2992445]],\n",
       " 2551875: [[1, 3138267, 4860309]],\n",
       " 2562172: [[1, 259951, 2286579]],\n",
       " 2615116: [[1, 1957997, 2166505]],\n",
       " 2636128: [[1, 1353291, 2396219]],\n",
       " 2661445: [[0, 2143723, 5532193]],\n",
       " 2685886: [[1, 2361720, 3305842]],\n",
       " 2738729: [[1, 1876377, 2168911]],\n",
       " 2764201: [[0, -1864397, 2110897]],\n",
       " 2791568: [[1, 2718434, 3988264]],\n",
       " 2823625: [[0, 1957997, 2166505]],\n",
       " 2851003: [[0, 1694914, 3623844]],\n",
       " 2909895: [[0, 2605017, 2992445]],\n",
       " 2990075: [[0, 384493, 3158105]],\n",
       " 3030727: [[1, 1619752, 2849244]],\n",
       " 3031264: [[0, 1876377, 2168911]],\n",
       " 3048645: [[0, 1756836, 2817706]],\n",
       " 3080003: [[1, 2430531, 3560549]],\n",
       " 3414748: [[0, 2979737, 4145547]],\n",
       " 3427510: [[1, 3434732, 4539742]],\n",
       " 3439076: [[1, 1201140, 2015706]],\n",
       " 3535514: [[0, 2356716, 5010100]],\n",
       " 3536757: [[1, 2816775, 3707481]],\n",
       " 3621203: [[1, 2317551, 2884469]],\n",
       " 3630009: [[0, 2361720, 3305842]],\n",
       " 3670976: [[0, 1826943, 2982189]],\n",
       " 3679057: [[0, 1353291, 2396219]],\n",
       " 3889339: [[1, 1863585, 2081867]],\n",
       " 3890448: [[1, 1755497, 1973957]],\n",
       " 3933311: [[1, 1853990, 1961190]],\n",
       " 4040512: [[0, 1853990, 1961190]],\n",
       " 4061399: [[0, 2718434, 3988264]],\n",
       " 4107622: [[0, 1863585, 2081867]],\n",
       " 4108909: [[0, 1755497, 1973957]],\n",
       " 4188122: [[0, 2317551, 2884469]],\n",
       " 4210022: [[0, 2430531, 3560549]],\n",
       " 4210251: [[0, -1283447, 2385693]],\n",
       " 4253643: [[0, 1201140, 2015706]],\n",
       " 4260220: [[0, 1619752, 2849244]],\n",
       " 4273918: [[0, 3138267, 4860309]],\n",
       " 4427464: [[0, 2816775, 3707481]],\n",
       " 4532521: [[0, 3434732, 4539742]],\n",
       " 4588801: [[0, 259951, 2286579]],\n",
       " 5735986: [[0, -1766986, 2019146]]}"
      ]
     },
     "execution_count": 22,
     "metadata": {},
     "output_type": "execute_result"
    }
   ],
   "source": [
    "{k:v for k,v in diffs.items() if v}"
   ]
  },
  {
   "cell_type": "code",
   "execution_count": 10,
   "metadata": {},
   "outputs": [],
   "source": [
    "# {x for x in mrr if mrr[x]}"
   ]
  },
  {
   "cell_type": "code",
   "execution_count": 203,
   "metadata": {},
   "outputs": [],
   "source": [
    "# mrr[-2570059]"
   ]
  },
  {
   "cell_type": "code",
   "execution_count": 8,
   "metadata": {},
   "outputs": [
    {
     "data": {
      "text/plain": [
       "0"
      ]
     },
     "execution_count": 8,
     "metadata": {},
     "output_type": "execute_result"
    }
   ],
   "source": [
    "sum(mrr.values())"
   ]
  },
  {
   "cell_type": "code",
   "execution_count": 149,
   "metadata": {},
   "outputs": [],
   "source": [
    "# 500,0"
   ]
  },
  {
   "cell_type": "code",
   "execution_count": null,
   "metadata": {},
   "outputs": [],
   "source": [
    "res = 0"
   ]
  },
  {
   "cell_type": "code",
   "execution_count": 432,
   "metadata": {},
   "outputs": [],
   "source": [
    "def test(arr):\n",
    "    res = 0\n",
    "    return res"
   ]
  },
  {
   "cell_type": "code",
   "execution_count": null,
   "metadata": {},
   "outputs": [],
   "source": []
  },
  {
   "cell_type": "code",
   "execution_count": null,
   "metadata": {},
   "outputs": [],
   "source": []
  }
 ],
 "metadata": {
  "kernelspec": {
   "display_name": "Python 3 (ipykernel)",
   "language": "python",
   "name": "python3"
  },
  "language_info": {
   "codemirror_mode": {
    "name": "ipython",
    "version": 3
   },
   "file_extension": ".py",
   "mimetype": "text/x-python",
   "name": "python",
   "nbconvert_exporter": "python",
   "pygments_lexer": "ipython3",
   "version": "3.9.7"
  }
 },
 "nbformat": 4,
 "nbformat_minor": 4
}

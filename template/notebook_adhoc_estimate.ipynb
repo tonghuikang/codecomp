{
 "cells": [
  {
   "cell_type": "code",
   "execution_count": 8,
   "metadata": {},
   "outputs": [],
   "source": [
    "import numpy as np\n",
    "import matplotlib.pyplot as plt\n",
    "from scipy.stats import pearsonr"
   ]
  },
  {
   "cell_type": "code",
   "execution_count": 9,
   "metadata": {},
   "outputs": [],
   "source": [
    "with open(\"e1\", \"r\") as f:\n",
    "    ref = f.readlines()\n",
    "    \n",
    "ref = [[int(x) for x in row.strip()] for row in ref[2:]]\n",
    "ref = np.array(ref)"
   ]
  },
  {
   "cell_type": "code",
   "execution_count": 10,
   "metadata": {},
   "outputs": [],
   "source": [
    "correct_for_each_contestant = np.sum(ref, axis=1)"
   ]
  },
  {
   "cell_type": "code",
   "execution_count": 11,
   "metadata": {},
   "outputs": [],
   "source": [
    "correct_for_each_question = np.sum(ref, axis=0)"
   ]
  },
  {
   "cell_type": "code",
   "execution_count": 27,
   "metadata": {},
   "outputs": [],
   "source": [
    "p_vals = []\n",
    "for result in ref:\n",
    "    p_val = pearsonr(correct_for_each_question, result)[0]\n",
    "    p_vals.append(p_val)\n",
    "cheater = np.argmin(p_vals)"
   ]
  },
  {
   "cell_type": "code",
   "execution_count": 28,
   "metadata": {},
   "outputs": [
    {
     "data": {
      "text/plain": [
       "58"
      ]
     },
     "execution_count": 28,
     "metadata": {},
     "output_type": "execute_result"
    }
   ],
   "source": [
    "cheater"
   ]
  },
  {
   "cell_type": "code",
   "execution_count": 25,
   "metadata": {},
   "outputs": [
    {
     "data": {
      "text/plain": [
       "(array([ 1.,  0.,  0.,  0.,  0.,  0.,  0.,  1.,  3.,  2.,  1.,  3.,  5.,\n",
       "         1.,  0.,  0.,  2.,  1.,  1.,  2.,  4.,  1.,  3.,  5.,  1.,  0.,\n",
       "         4.,  1.,  8.,  3.,  5.,  5.,  3.,  1.,  1.,  5.,  3., 10., 11.,\n",
       "         3.]),\n",
       " array([0.3260649 , 0.33391451, 0.34176413, 0.34961374, 0.35746336,\n",
       "        0.36531297, 0.37316259, 0.3810122 , 0.38886182, 0.39671143,\n",
       "        0.40456105, 0.41241066, 0.42026028, 0.42810989, 0.43595951,\n",
       "        0.44380912, 0.45165874, 0.45950835, 0.46735797, 0.47520758,\n",
       "        0.4830572 , 0.49090681, 0.49875643, 0.50660604, 0.51445566,\n",
       "        0.52230527, 0.53015489, 0.5380045 , 0.54585412, 0.55370373,\n",
       "        0.56155334, 0.56940296, 0.57725257, 0.58510219, 0.5929518 ,\n",
       "        0.60080142, 0.60865103, 0.61650065, 0.62435026, 0.63219988,\n",
       "        0.64004949]),\n",
       " <BarContainer object of 40 artists>)"
      ]
     },
     "execution_count": 25,
     "metadata": {},
     "output_type": "execute_result"
    },
    {
     "data": {
      "image/png": "[encoded data removed]",
      "text/plain": [
       "<Figure size 432x288 with 1 Axes>"
      ]
     },
     "metadata": {
      "needs_background": "light"
     },
     "output_type": "display_data"
    }
   ],
   "source": [
    "# plt.hist(p_vals, bins=40)"
   ]
  },
  {
   "cell_type": "code",
   "execution_count": null,
   "metadata": {},
   "outputs": [],
   "source": []
  }
 ],
 "metadata": {
  "kernelspec": {
   "display_name": "Python [conda env:code] *",
   "language": "python",
   "name": "conda-env-code-py"
  },
  "language_info": {
   "codemirror_mode": {
    "name": "ipython",
    "version": 3
   },
   "file_extension": ".py",
   "mimetype": "text/x-python",
   "name": "python",
   "nbconvert_exporter": "python",
   "pygments_lexer": "ipython3",
   "version": "3.7.9"
  }
 },
 "nbformat": 4,
 "nbformat_minor": 4
}

{
 "cells": [
  {
   "cell_type": "markdown",
   "id": "through-glossary",
   "metadata": {},
   "source": [
    "# 1.bis. CBoW demo (Full text)\n",
    "\n",
    "### Imports"
   ]
  },
  {
   "cell_type": "code",
   "execution_count": 1,
   "id": "diverse-ivory",
   "metadata": {},
   "outputs": [],
   "source": [
    "import torch\n",
    "import collections\n",
    "import random\n",
    "from torch.autograd import Variable\n",
    "import torch.nn as nn\n",
    "import torch.optim as optim\n",
    "import torch.nn.functional as F\n",
    "import functools\n",
    "import matplotlib.pyplot as plt\n",
    "device = torch.device(\"cuda:0\" if torch.cuda.is_available() else \"cpu\")"
   ]
  },
  {
   "cell_type": "markdown",
   "id": "destroyed-excuse",
   "metadata": {},
   "source": [
    "### Step 1. Data Processing"
   ]
  },
  {
   "cell_type": "code",
   "execution_count": 2,
   "id": "banner-forward",
   "metadata": {},
   "outputs": [],
   "source": [
    "k = 2  # window size\n",
    "testcase = \"f1\""
   ]
  },
  {
   "cell_type": "code",
   "execution_count": 3,
   "id": "biblical-burner",
   "metadata": {},
   "outputs": [],
   "source": [
    "with open(testcase, \"r\") as f:\n",
    "    sentences = [[int(x) for x in sentence.strip().split()] for sentence in f.readlines()][1:]\n",
    "VOCAB_SIZE = max(max(sentence) for sentence in sentences) + 2\n",
    "sentences = [[-2]*k + sentence + [-2]*k for sentence in sentences]\n",
    "sentences = [[x%VOCAB_SIZE for x in sentence] for sentence in sentences]"
   ]
  },
  {
   "cell_type": "code",
   "execution_count": 4,
   "id": "formed-expression",
   "metadata": {},
   "outputs": [
    {
     "name": "stdout",
     "output_type": "stream",
     "text": [
      "11795\n"
     ]
    }
   ],
   "source": [
    "data = []\n",
    "for sentence in sentences:\n",
    "    for segment in zip(*[sentence[i:] for i in range(2*k+1)]):\n",
    "#         if c == VOCAB_SIZE-1:\n",
    "#             continue\n",
    "        data.append([[*segment[:k], *segment[-k:]], segment[k]])\n",
    "print(len(data))"
   ]
  },
  {
   "cell_type": "code",
   "execution_count": 5,
   "id": "theoretical-positive",
   "metadata": {},
   "outputs": [
    {
     "name": "stdout",
     "output_type": "stream",
     "text": [
      "1072\n"
     ]
    },
    {
     "data": {
      "text/plain": [
       "2291997"
      ]
     },
     "execution_count": 5,
     "metadata": {},
     "output_type": "execute_result"
    }
   ],
   "source": [
    "# negative sampling\n",
    "data_aug = []\n",
    "freq = collections.Counter([x[1] for x in data])\n",
    "print(max(freq.values()))\n",
    "for context, target in data:\n",
    "    data_aug.extend([[context, target]]*int(max(freq.values())//(freq[target]**0.3)))\n",
    "len(data_aug)"
   ]
  },
  {
   "cell_type": "code",
   "execution_count": 6,
   "id": "tribal-algebra",
   "metadata": {},
   "outputs": [
    {
     "data": {
      "text/plain": [
       "(1072, 274, 3.9124087591240877)"
      ]
     },
     "execution_count": 6,
     "metadata": {},
     "output_type": "execute_result"
    }
   ],
   "source": [
    "freq[0], freq[10], freq[0]/freq[10]"
   ]
  },
  {
   "cell_type": "code",
   "execution_count": 7,
   "id": "artificial-decision",
   "metadata": {},
   "outputs": [
    {
     "data": {
      "text/plain": [
       "(141504, 54526, 2.595165609067234)"
      ]
     },
     "execution_count": 7,
     "metadata": {},
     "output_type": "execute_result"
    }
   ],
   "source": [
    "freq_aug = collections.Counter([x[1] for x in data_aug])\n",
    "freq_aug[0], freq_aug[10], freq_aug[0]/freq_aug[10]"
   ]
  },
  {
   "cell_type": "code",
   "execution_count": 8,
   "id": "missing-sport",
   "metadata": {},
   "outputs": [
    {
     "name": "stdout",
     "output_type": "stream",
     "text": [
      "1045\n"
     ]
    }
   ],
   "source": [
    "test_data = []\n",
    "for sentence in sentences:\n",
    "    for segment in zip(*[sentence[i:] for i in range(2*k+1)]):\n",
    "        if segment[k] == VOCAB_SIZE-1:\n",
    "            test_data.append([*segment[:k], *segment[-k:]])\n",
    "print(len(test_data))"
   ]
  },
  {
   "cell_type": "markdown",
   "id": "medieval-trouble",
   "metadata": {},
   "source": [
    "### Step 2. Create a CBoW model and train"
   ]
  },
  {
   "cell_type": "code",
   "execution_count": 9,
   "id": "higher-kentucky",
   "metadata": {},
   "outputs": [],
   "source": [
    "class CBOW(nn.Module):\n",
    "\n",
    "    def __init__(self, context_size, embedding_size, vocab_size):\n",
    "        super(CBOW, self).__init__()\n",
    "        self.embeddings = nn.Embedding(vocab_size, embedding_size)\n",
    "        self.linear = nn.Linear(embedding_size, vocab_size)\n",
    "\n",
    "    def forward(self, inputs):\n",
    "        lookup_embeds = self.embeddings(inputs)\n",
    "        embeds = lookup_embeds.sum(dim=0)\n",
    "        out = self.linear(embeds)\n",
    "        #out = F.log_softmax(out, dim = -1)\n",
    "        return out"
   ]
  },
  {
   "cell_type": "code",
   "execution_count": 10,
   "id": "civilian-tongue",
   "metadata": {},
   "outputs": [
    {
     "data": {
      "text/plain": [
       "CBOW(\n",
       "  (embeddings): Embedding(51, 20)\n",
       "  (linear): Linear(in_features=20, out_features=51, bias=True)\n",
       ")"
      ]
     },
     "execution_count": 10,
     "metadata": {},
     "output_type": "execute_result"
    }
   ],
   "source": [
    "# Create model and pass to CUDA\n",
    "model = CBOW(context_size = 2, embedding_size = 20, vocab_size = VOCAB_SIZE)\n",
    "model = model.to(device)\n",
    "model.train()"
   ]
  },
  {
   "cell_type": "code",
   "execution_count": 11,
   "id": "swiss-directive",
   "metadata": {},
   "outputs": [],
   "source": [
    "# Define training parameters\n",
    "learning_rate = 0.001\n",
    "epochs = 10\n",
    "torch.manual_seed(28)\n",
    "loss_func = nn.CrossEntropyLoss()\n",
    "optimizer = optim.SGD(model.parameters(), lr=learning_rate)"
   ]
  },
  {
   "cell_type": "code",
   "execution_count": 12,
   "id": "revolutionary-knight",
   "metadata": {},
   "outputs": [],
   "source": [
    "def measure_accuracy(model):\n",
    "    model.eval()\n",
    "    num_correct = 0\n",
    "    num_data = 0\n",
    "    for context, target in data:\n",
    "        if target > 1000:\n",
    "            continue\n",
    "        ids = torch.tensor(context)\n",
    "        output = model(ids)\n",
    "        result = torch.argmax(output[:-2]).item()\n",
    "        \n",
    "        num_data += 1\n",
    "        if result == target:\n",
    "            num_correct += 1\n",
    "    return num_correct/num_data"
   ]
  },
  {
   "cell_type": "code",
   "execution_count": null,
   "id": "periodic-native",
   "metadata": {},
   "outputs": [
    {
     "name": "stdout",
     "output_type": "stream",
     "text": [
      "0 1 2 3 "
     ]
    }
   ],
   "source": [
    "losses = []\n",
    "accuracies = []\n",
    "\n",
    "model.train()\n",
    "for epoch in range(epochs):\n",
    "    total_loss = 0\n",
    "    \n",
    "    random.shuffle(data_aug)\n",
    "    for context, target in data_aug[:1000]:\n",
    "        \n",
    "        # Prepare data\n",
    "        ids = torch.tensor(context)\n",
    "        target = torch.tensor([target])\n",
    "                \n",
    "        # Forward pass\n",
    "        model.zero_grad()\n",
    "        output = model(ids)\n",
    "        # Reshape to cover for absence of minibatches (needed for loss function)\n",
    "        output = torch.reshape(output, (1, VOCAB_SIZE))\n",
    "        loss = loss_func(output, target)\n",
    "        \n",
    "        # Backward pass and optim\n",
    "        loss.backward()\n",
    "        optimizer.step()\n",
    "        \n",
    "        # Loss update\n",
    "        total_loss += loss.data.item()\n",
    "        \n",
    "    accuracies.append(measure_accuracy(model))\n",
    "    losses.append(total_loss)\n",
    "    print(epoch, end=\" \")"
   ]
  },
  {
   "cell_type": "code",
   "execution_count": null,
   "id": "missing-incentive",
   "metadata": {},
   "outputs": [],
   "source": [
    "model.eval()\n",
    "results = []\n",
    "for context in test_data:\n",
    "    ids = torch.tensor(context)\n",
    "    output = model(ids)\n",
    "    result = torch.argmax(output[:-2]).item()  # exclude -1 (mask) and -2 (end)\n",
    "    results.append(result)"
   ]
  },
  {
   "cell_type": "code",
   "execution_count": null,
   "id": "graphic-elite",
   "metadata": {},
   "outputs": [],
   "source": [
    "with open(\"{}.cbow\".format(testcase), \"w\") as f:\n",
    "    f.write(\"\\n\".join([str(result) for result in results]))"
   ]
  },
  {
   "cell_type": "markdown",
   "id": "approved-intro",
   "metadata": {},
   "source": [
    "### 3. Visualization"
   ]
  },
  {
   "cell_type": "code",
   "execution_count": null,
   "id": "gross-affect",
   "metadata": {},
   "outputs": [],
   "source": [
    "# Display losses over time\n",
    "plt.figure()\n",
    "plt.plot(losses)\n",
    "plt.show()"
   ]
  },
  {
   "cell_type": "code",
   "execution_count": null,
   "id": "pleasant-quantum",
   "metadata": {},
   "outputs": [],
   "source": [
    "# Display losses over time\n",
    "plt.figure()\n",
    "plt.plot(accuracies)\n",
    "plt.show()"
   ]
  },
  {
   "cell_type": "code",
   "execution_count": null,
   "id": "organized-suspect",
   "metadata": {},
   "outputs": [],
   "source": [
    "if __name__ == \"__main__\":\n",
    "    get_ipython().system('jupyter nbconvert --to script cbow.ipynb')"
   ]
  },
  {
   "cell_type": "code",
   "execution_count": null,
   "id": "noted-bibliography",
   "metadata": {},
   "outputs": [],
   "source": []
  }
 ],
 "metadata": {
  "kernelspec": {
   "display_name": "Python 3",
   "language": "python",
   "name": "python3"
  },
  "language_info": {
   "codemirror_mode": {
    "name": "ipython",
    "version": 3
   },
   "file_extension": ".py",
   "mimetype": "text/x-python",
   "name": "python",
   "nbconvert_exporter": "python",
   "pygments_lexer": "ipython3",
   "version": "3.7.9"
  }
 },
 "nbformat": 4,
 "nbformat_minor": 5
}

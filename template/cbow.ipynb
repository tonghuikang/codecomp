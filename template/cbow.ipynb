{
 "cells": [
  {
   "cell_type": "markdown",
   "id": "through-glossary",
   "metadata": {},
   "source": [
    "# 1.bis. CBoW demo (Full text)\n",
    "\n",
    "### Imports"
   ]
  },
  {
   "cell_type": "code",
   "execution_count": 1,
   "id": "diverse-ivory",
   "metadata": {},
   "outputs": [],
   "source": [
    "import torch\n",
    "from torch.autograd import Variable\n",
    "import torch.nn as nn\n",
    "import torch.optim as optim\n",
    "import torch.nn.functional as F\n",
    "import functools\n",
    "import matplotlib.pyplot as plt\n",
    "device = torch.device(\"cuda:0\" if torch.cuda.is_available() else \"cpu\")"
   ]
  },
  {
   "cell_type": "markdown",
   "id": "destroyed-excuse",
   "metadata": {},
   "source": [
    "### Step 1. Data Processing"
   ]
  },
  {
   "cell_type": "code",
   "execution_count": 2,
   "id": "relevant-concert",
   "metadata": {},
   "outputs": [],
   "source": [
    "k = 1  # window size\n",
    "testcase = \"f1\""
   ]
  },
  {
   "cell_type": "code",
   "execution_count": 3,
   "id": "inclusive-modem",
   "metadata": {},
   "outputs": [],
   "source": [
    "with open(testcase, \"r\") as f:\n",
    "    sentences = [[int(x) for x in sentence.strip().split()] for sentence in f.readlines()][1:]\n",
    "sentences = [[-2]*k + sentence + [-2]*k for sentence in sentences]\n",
    "sentences = [[x%1024 for x in sentence] for sentence in sentences]\n",
    "\n",
    "VOCAB_SIZE = 1024  # actually 1000+2"
   ]
  },
  {
   "cell_type": "code",
   "execution_count": 4,
   "id": "curious-mining",
   "metadata": {},
   "outputs": [
    {
     "name": "stdout",
     "output_type": "stream",
     "text": [
      "26518\n"
     ]
    }
   ],
   "source": [
    "data = []\n",
    "for sentence in sentences:\n",
    "    for segment in zip(*[sentence[i:] for i in range(2*k+1)]):\n",
    "#         if c == 1023:\n",
    "#             continue\n",
    "        data.append([[*segment[:k], *segment[-k:]], segment[k]])\n",
    "print(len(data))"
   ]
  },
  {
   "cell_type": "code",
   "execution_count": 5,
   "id": "incorporated-panama",
   "metadata": {},
   "outputs": [
    {
     "name": "stdout",
     "output_type": "stream",
     "text": [
      "1589\n"
     ]
    }
   ],
   "source": [
    "test_data = []\n",
    "for sentence in sentences:\n",
    "    for segment in zip(*[sentence[i:] for i in range(2*k+1)]):\n",
    "        if segment[k] == 1023:\n",
    "            test_data.append([*segment[:k], *segment[-k:]])\n",
    "print(len(test_data))"
   ]
  },
  {
   "cell_type": "markdown",
   "id": "manual-occasion",
   "metadata": {},
   "source": [
    "### Step 2. Create a CBoW model and train"
   ]
  },
  {
   "cell_type": "code",
   "execution_count": 6,
   "id": "higher-kentucky",
   "metadata": {},
   "outputs": [],
   "source": [
    "class CBOW(nn.Module):\n",
    "\n",
    "    def __init__(self, context_size, embedding_size, vocab_size):\n",
    "        super(CBOW, self).__init__()\n",
    "        self.embeddings = nn.Embedding(vocab_size, embedding_size)\n",
    "        self.linear = nn.Linear(embedding_size, vocab_size)\n",
    "\n",
    "    def forward(self, inputs):\n",
    "        lookup_embeds = self.embeddings(inputs)\n",
    "        embeds = lookup_embeds.sum(dim=0)\n",
    "        out = self.linear(embeds)\n",
    "        #out = F.log_softmax(out, dim = -1)\n",
    "        return out"
   ]
  },
  {
   "cell_type": "code",
   "execution_count": 7,
   "id": "civilian-tongue",
   "metadata": {},
   "outputs": [
    {
     "data": {
      "text/plain": [
       "CBOW(\n",
       "  (embeddings): Embedding(1024, 20)\n",
       "  (linear): Linear(in_features=20, out_features=1024, bias=True)\n",
       ")"
      ]
     },
     "execution_count": 7,
     "metadata": {},
     "output_type": "execute_result"
    }
   ],
   "source": [
    "# Create model and pass to CUDA\n",
    "model = CBOW(context_size = 2, embedding_size = 20, vocab_size = VOCAB_SIZE)\n",
    "model = model.to(device)\n",
    "model.train()"
   ]
  },
  {
   "cell_type": "code",
   "execution_count": 8,
   "id": "swiss-directive",
   "metadata": {},
   "outputs": [],
   "source": [
    "# Define training parameters\n",
    "learning_rate = 0.001\n",
    "epochs = 2\n",
    "torch.manual_seed(28)\n",
    "loss_func = nn.CrossEntropyLoss()\n",
    "optimizer = optim.SGD(model.parameters(), lr=learning_rate)"
   ]
  },
  {
   "cell_type": "code",
   "execution_count": 9,
   "id": "periodic-native",
   "metadata": {},
   "outputs": [
    {
     "name": "stdout",
     "output_type": "stream",
     "text": [
      "0 1 "
     ]
    }
   ],
   "source": [
    "losses = []\n",
    "accuracies = []\n",
    "\n",
    "model.train()\n",
    "for epoch in range(epochs):\n",
    "    total_loss = 0\n",
    "    \n",
    "    for context, target in data:\n",
    "        \n",
    "        # Prepare data\n",
    "        ids = torch.tensor(context)\n",
    "        target = torch.tensor([target])\n",
    "                \n",
    "        # Forward pass\n",
    "        model.zero_grad()\n",
    "        output = model(ids)\n",
    "        # Reshape to cover for absence of minibatches (needed for loss function)\n",
    "        output = torch.reshape(output, (1, VOCAB_SIZE))\n",
    "        loss = loss_func(output, target)\n",
    "        \n",
    "        # Backward pass and optim\n",
    "        loss.backward()\n",
    "        optimizer.step()\n",
    "        \n",
    "        # Loss update\n",
    "        total_loss += loss.data.item()\n",
    "    losses.append(total_loss)\n",
    "    print(epoch, end=\" \")"
   ]
  },
  {
   "cell_type": "code",
   "execution_count": 10,
   "id": "willing-vietnamese",
   "metadata": {},
   "outputs": [],
   "source": [
    "model.eval()\n",
    "results = []\n",
    "for context in test_data:\n",
    "    ids = torch.tensor(context)\n",
    "    output = model(ids)\n",
    "    result = torch.argmax(output[:-2]).item()  # exclude -1 (mask) and -2 (end)\n",
    "    results.append(result)"
   ]
  },
  {
   "cell_type": "code",
   "execution_count": 11,
   "id": "broadband-exploration",
   "metadata": {},
   "outputs": [],
   "source": [
    "with open(\"{}.cbow\".format(testcase), \"w\") as f:\n",
    "    f.write(\"\\n\".join([str(result) for result in results]))"
   ]
  },
  {
   "cell_type": "markdown",
   "id": "approved-intro",
   "metadata": {},
   "source": [
    "### 3. Visualization"
   ]
  },
  {
   "cell_type": "code",
   "execution_count": 12,
   "id": "gross-affect",
   "metadata": {},
   "outputs": [
    {
     "data": {
      "image/png": "[encoded data removed]",
      "text/plain": [
       "<Figure size 432x288 with 1 Axes>"
      ]
     },
     "metadata": {
      "needs_background": "light"
     },
     "output_type": "display_data"
    }
   ],
   "source": [
    "# Display losses over time\n",
    "plt.figure()\n",
    "plt.plot(losses)\n",
    "plt.show()"
   ]
  },
  {
   "cell_type": "code",
   "execution_count": 13,
   "id": "organized-suspect",
   "metadata": {},
   "outputs": [
    {
     "name": "stdout",
     "output_type": "stream",
     "text": [
      "[NbConvertApp] WARNING | Config option `kernel_spec_manager_class` not recognized by `NbConvertApp`.\n",
      "[NbConvertApp] Converting notebook cbow.ipynb to script\n",
      "[NbConvertApp] Writing 3433 bytes to cbow.py\n"
     ]
    }
   ],
   "source": [
    "if __name__ == \"__main__\":\n",
    "    get_ipython().system('jupyter nbconvert --to script cbow.ipynb')"
   ]
  },
  {
   "cell_type": "code",
   "execution_count": null,
   "id": "backed-anxiety",
   "metadata": {},
   "outputs": [],
   "source": []
  },
  {
   "cell_type": "code",
   "execution_count": null,
   "id": "positive-wallet",
   "metadata": {},
   "outputs": [],
   "source": []
  }
 ],
 "metadata": {
  "kernelspec": {
   "display_name": "Python 3",
   "language": "python",
   "name": "python3"
  },
  "language_info": {
   "codemirror_mode": {
    "name": "ipython",
    "version": 3
   },
   "file_extension": ".py",
   "mimetype": "text/x-python",
   "name": "python",
   "nbconvert_exporter": "python",
   "pygments_lexer": "ipython3",
   "version": "3.7.9"
  }
 },
 "nbformat": 4,
 "nbformat_minor": 5
}

{
 "cells": [
  {
   "cell_type": "code",
   "execution_count": 70,
   "metadata": {},
   "outputs": [],
   "source": [
    "def evaluate_2(res, frac):\n",
    "    assert len(res) == 60\n",
    "    score = 1/3 + frac/3\n",
    "    rcount = 0\n",
    "    pcount = 0\n",
    "    scount = 0\n",
    "    \n",
    "    allcount = 1\n",
    "    if res[0] == \"R\":\n",
    "        pcount += 1\n",
    "    if res[0] == \"S\":\n",
    "        rcount += 1\n",
    "    if res[0] == \"P\":\n",
    "        scount += 1\n",
    "\n",
    "    for x in res[1:]:\n",
    "        if x == \"R\":\n",
    "            score += (scount/allcount) + (rcount/allcount)*frac\n",
    "            pcount += 1\n",
    "        if x == \"S\":\n",
    "            score += (pcount/allcount) + (scount/allcount)*frac\n",
    "            rcount += 1\n",
    "        if x == \"P\":\n",
    "            score += (rcount/allcount) + (pcount/allcount)*frac\n",
    "            scount += 1\n",
    "        allcount += 1\n",
    "    \n",
    "    return score"
   ]
  },
  {
   "cell_type": "code",
   "execution_count": 130,
   "metadata": {},
   "outputs": [
    {
     "data": {
      "text/plain": [
       "41.64047105353967"
      ]
     },
     "execution_count": 130,
     "metadata": {},
     "output_type": "execute_result"
    }
   ],
   "source": [
    "r10 = evaluate_2(\"RPS\"*20, 1)\n",
    "r10"
   ]
  },
  {
   "cell_type": "code",
   "execution_count": 131,
   "metadata": {},
   "outputs": [
    {
     "data": {
      "text/plain": [
       "29.799936172398098"
      ]
     },
     "execution_count": 131,
     "metadata": {},
     "output_type": "execute_result"
    }
   ],
   "source": [
    "r05 = evaluate_2(\"R\"*9 +\"S\"*24+\"P\"*27, 0.5)\n",
    "r05"
   ]
  },
  {
   "cell_type": "code",
   "execution_count": 132,
   "metadata": {},
   "outputs": [
    {
     "data": {
      "text/plain": [
       "27.771851342378618"
      ]
     },
     "execution_count": 132,
     "metadata": {},
     "output_type": "execute_result"
    }
   ],
   "source": [
    "r01 = evaluate_2(\"R\"*7 +\"S\"*26+\"P\"*27, 0.1)\n",
    "r01"
   ]
  },
  {
   "cell_type": "code",
   "execution_count": 133,
   "metadata": {},
   "outputs": [
    {
     "data": {
      "text/plain": [
       "27.331726828014784"
      ]
     },
     "execution_count": 133,
     "metadata": {},
     "output_type": "execute_result"
    }
   ],
   "source": [
    "r00 = evaluate_2(\"R\"*6+\"S\"*26+\"P\"*28, 0)\n",
    "r00"
   ]
  },
  {
   "cell_type": "code",
   "execution_count": 134,
   "metadata": {},
   "outputs": [
    {
     "data": {
      "text/plain": [
       "15817.998174541397"
      ]
     },
     "execution_count": 134,
     "metadata": {},
     "output_type": "execute_result"
    }
   ],
   "source": [
    "500*(r10 + r05 + r01 + r00)/4"
   ]
  },
  {
   "cell_type": "code",
   "execution_count": 135,
   "metadata": {},
   "outputs": [
    {
     "data": {
      "text/plain": [
       "(41.64047105353967, 29.799936172398098, 27.771851342378618, 27.331726828014784)"
      ]
     },
     "execution_count": 135,
     "metadata": {},
     "output_type": "execute_result"
    }
   ],
   "source": [
    "r10, r05, r01, r00"
   ]
  },
  {
   "cell_type": "code",
   "execution_count": 124,
   "metadata": {},
   "outputs": [],
   "source": [
    "best = 0\n",
    "best_idx = 0\n",
    "for i in range(60):\n",
    "    for j in range(60-i):\n",
    "        k = 60-i-j\n",
    "        r00 = evaluate_2(\"R\"*i+\"S\"*j+\"P\"*k, 1)\n",
    "        if r00 > best:\n",
    "            best_idx = (i,j,k)\n",
    "            best = r00"
   ]
  },
  {
   "cell_type": "code",
   "execution_count": 125,
   "metadata": {},
   "outputs": [
    {
     "data": {
      "text/plain": [
       "(11, 20, 29)"
      ]
     },
     "execution_count": 125,
     "metadata": {},
     "output_type": "execute_result"
    }
   ],
   "source": [
    "best_idx"
   ]
  },
  {
   "cell_type": "code",
   "execution_count": null,
   "metadata": {},
   "outputs": [],
   "source": []
  }
 ],
 "metadata": {
  "kernelspec": {
   "display_name": "Python 3",
   "language": "python",
   "name": "python3"
  },
  "language_info": {
   "codemirror_mode": {
    "name": "ipython",
    "version": 3
   },
   "file_extension": ".py",
   "mimetype": "text/x-python",
   "name": "python",
   "nbconvert_exporter": "python",
   "pygments_lexer": "ipython3",
   "version": "3.7.9"
  }
 },
 "nbformat": 4,
 "nbformat_minor": 4
}

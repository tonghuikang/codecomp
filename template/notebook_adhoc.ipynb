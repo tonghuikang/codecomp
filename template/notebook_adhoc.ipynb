{
 "cells": [
  {
   "cell_type": "code",
   "execution_count": 52,
   "metadata": {},
   "outputs": [],
   "source": [
    "from collections import Counter\n",
    "\n",
    "class ThreeDChessRooks:\n",
    "    def count(self, C, R, XP, YP, ZP, seed):\n",
    "#         def print(*args):\n",
    "#             pass\n",
    "        \n",
    "        pool = []\n",
    "        \n",
    "        for x,y,z in zip(XP, YP, ZP):\n",
    "            pool.append((x,y,z))\n",
    "\n",
    "        state = seed\n",
    "        for i in range(len(XP), R):\n",
    "            state = (state * 1103515245 + 12345) % 2147483648\n",
    "            x = state%C\n",
    "            state = (state * 1103515245 + 12345) % 2147483648\n",
    "            y = state%C\n",
    "            state = (state * 1103515245 + 12345) % 2147483648\n",
    "            z = state%C\n",
    "            pool.append((x,y,z))\n",
    "            \n",
    "        print(pool)\n",
    "        res = 0\n",
    "\n",
    "        single_match = Counter()\n",
    "        \n",
    "        for x,y,z in pool:\n",
    "            single_match[x,-1,-1] += 1\n",
    "            single_match[-1,y,-1] += 1\n",
    "            single_match[-1,-1,z] += 1\n",
    "        \n",
    "        for k,v in single_match.items():\n",
    "            res += v*(v-1)\n",
    "        \n",
    "        print(single_match)\n",
    "        print(\"single_match res\", res)\n",
    "        \n",
    "        double_match = Counter()\n",
    "        for x,y,z in pool:\n",
    "            double_match[x,y,-1] += 1\n",
    "            double_match[-1,y,z] += 1\n",
    "            double_match[x,-1,z] += 1\n",
    "        \n",
    "        for k,v in double_match.items():\n",
    "            res -= v*(v-1)\n",
    "\n",
    "\n",
    "            for k,v in double_match.items():\n",
    "            x,y,z = k\n",
    "            \n",
    "            if x == -1:\n",
    "                if (0,y,z) in pool and (1,y,z) in pool:\n",
    "                    res -= 1\n",
    "                if (C-1,y,z) in pool and (C-2,y,z) in pool:\n",
    "                    res -= 1\n",
    "                    \n",
    "            if y == -1:\n",
    "                if (x,0,z) in pool and (x,1,z) in pool:\n",
    "                    res -= 1\n",
    "                if (x,C-1,z) in pool and (x,C-2,z) in pool:\n",
    "                    res -= 1\n",
    "                    \n",
    "            if z == -1:\n",
    "                if (x,y,0) in pool and (x,y,1) in pool:\n",
    "                    res -= 1\n",
    "                if (x,y,C-1) in pool and (x,y,C-2) in pool:\n",
    "                    res -= 1\n",
    "        \n",
    "        c = Counter(pool)\n",
    "        for k,v in c.items():\n",
    "            res -= v*(v-1)\n",
    "        \n",
    "        return res        "
   ]
  },
  {
   "cell_type": "code",
   "execution_count": 53,
   "metadata": {},
   "outputs": [],
   "source": [
    "s = ThreeDChessRooks()"
   ]
  },
  {
   "cell_type": "code",
   "execution_count": 54,
   "metadata": {},
   "outputs": [
    {
     "name": "stdout",
     "output_type": "stream",
     "text": [
      "[(9, 5, 9), (2, 6, 0), (3, 7, 1), (4, 8, 9), (8, 1, 8), (5, 8, 7), (2, 1, 6), (3, 2, 5), (0, 9, 4), (3, 0, 7)]\n",
      "Counter({(3, -1, -1): 3, (-1, -1, 9): 2, (2, -1, -1): 2, (-1, 8, -1): 2, (-1, 1, -1): 2, (-1, -1, 7): 2, (9, -1, -1): 1, (-1, 5, -1): 1, (-1, 6, -1): 1, (-1, -1, 0): 1, (-1, 7, -1): 1, (-1, -1, 1): 1, (4, -1, -1): 1, (8, -1, -1): 1, (-1, -1, 8): 1, (5, -1, -1): 1, (-1, -1, 6): 1, (-1, 2, -1): 1, (-1, -1, 5): 1, (0, -1, -1): 1, (-1, 9, -1): 1, (-1, -1, 4): 1, (-1, 0, -1): 1})\n"
     ]
    },
    {
     "data": {
      "text/plain": [
       "16"
      ]
     },
     "execution_count": 54,
     "metadata": {},
     "output_type": "execute_result"
    }
   ],
   "source": [
    "s.count(10,10,[9,2,3,4],[5,6,7,8],[9,0,1,9],47474747)"
   ]
  },
  {
   "cell_type": "code",
   "execution_count": 55,
   "metadata": {},
   "outputs": [
    {
     "name": "stdout",
     "output_type": "stream",
     "text": [
      "[(47, 12, 12), (48, 12, 12), (49, 12, 12), (50, 12, 12), (50, 12, 12), (51, 12, 12), (52, 12, 12), (53, 12, 12)]\n",
      "Counter({(-1, 12, -1): 8, (-1, -1, 12): 8, (50, -1, -1): 2, (47, -1, -1): 1, (48, -1, -1): 1, (49, -1, -1): 1, (51, -1, -1): 1, (52, -1, -1): 1, (53, -1, -1): 1})\n"
     ]
    },
    {
     "data": {
      "text/plain": [
       "52"
      ]
     },
     "execution_count": 55,
     "metadata": {},
     "output_type": "execute_result"
    }
   ],
   "source": [
    "s.count(99,8,\n",
    "        [47, 48, 49, 50, 50, 51, 52, 53],\n",
    "        [12, 12, 12, 12, 12, 12, 12, 12],\n",
    "        [12, 12, 12, 12, 12, 12, 12, 12], 111\n",
    "       )"
   ]
  },
  {
   "cell_type": "code",
   "execution_count": null,
   "metadata": {},
   "outputs": [],
   "source": []
  },
  {
   "cell_type": "code",
   "execution_count": null,
   "metadata": {},
   "outputs": [],
   "source": []
  }
 ],
 "metadata": {
  "kernelspec": {
   "display_name": "Python 3",
   "language": "python",
   "name": "python3"
  },
  "language_info": {
   "codemirror_mode": {
    "name": "ipython",
    "version": 3
   },
   "file_extension": ".py",
   "mimetype": "text/x-python",
   "name": "python",
   "nbconvert_exporter": "python",
   "pygments_lexer": "ipython3",
   "version": "3.7.9"
  }
 },
 "nbformat": 4,
 "nbformat_minor": 4
}

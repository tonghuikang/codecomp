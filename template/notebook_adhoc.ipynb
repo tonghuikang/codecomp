{
 "cells": [
  {
   "cell_type": "code",
   "execution_count": 692,
   "metadata": {},
   "outputs": [],
   "source": [
    "%reset -sf"
   ]
  },
  {
   "cell_type": "code",
   "execution_count": 693,
   "metadata": {},
   "outputs": [],
   "source": [
    "from collections import deque"
   ]
  },
  {
   "cell_type": "code",
   "execution_count": 694,
   "metadata": {},
   "outputs": [],
   "source": [
    "def solve(n,k):\n",
    "    vals = deque(range(1,n+1))\n",
    "    left = []\n",
    "    right = []\n",
    "    bias_right = True\n",
    "    while vals:\n",
    "        for _ in range(k//2):\n",
    "#             print(bias_right)\n",
    "#             print(left)\n",
    "#             print(right[::-1])\n",
    "            \n",
    "            if not vals: continue\n",
    "            if bias_right:\n",
    "                bias_right = not bias_right\n",
    "                left.append(vals.popleft()) \n",
    "                if not vals: continue\n",
    "                right.append(vals.popleft()) \n",
    "            else:\n",
    "                bias_right = not bias_right\n",
    "                right.append(vals.popleft())\n",
    "                if not vals: continue\n",
    "                left.append(vals.popleft()) \n",
    "\n",
    "        right_tmp = []\n",
    "        left_tmp = []\n",
    "        for _ in range(k - k//2):\n",
    "            if not vals: continue\n",
    "            if bias_right:\n",
    "                bias_right = not bias_right\n",
    "                right_tmp.append(vals.pop()) \n",
    "                if not vals: continue\n",
    "                left_tmp.append(vals.pop()) \n",
    "            else:\n",
    "                bias_right = not bias_right\n",
    "                left_tmp.append(vals.pop()) \n",
    "                if not vals: continue\n",
    "                right_tmp.append(vals.pop()) \n",
    "        \n",
    "        if sum(right_tmp) < sum(left_tmp):\n",
    "            left_tmp, right_tmp = right_tmp, left_tmp\n",
    "        right.extend(right_tmp[::-1])\n",
    "        left.extend(left_tmp[::-1])\n",
    "        \n",
    "    print(left)\n",
    "    print(right[::-1])\n",
    "    return left + right[::-1]\n"
   ]
  },
  {
   "cell_type": "code",
   "execution_count": 695,
   "metadata": {},
   "outputs": [
    {
     "name": "stdout",
     "output_type": "stream",
     "text": [
      "[1, 4, 7]\n",
      "[6, 5, 3, 2]\n"
     ]
    },
    {
     "data": {
      "text/plain": [
       "[1, 4, 7, 6, 5, 3, 2]"
      ]
     },
     "execution_count": 695,
     "metadata": {},
     "output_type": "execute_result"
    }
   ],
   "source": [
    "solve(7,4)"
   ]
  },
  {
   "cell_type": "code",
   "execution_count": 696,
   "metadata": {},
   "outputs": [],
   "source": [
    "# solve(12,5)"
   ]
  },
  {
   "cell_type": "code",
   "execution_count": null,
   "metadata": {},
   "outputs": [],
   "source": []
  },
  {
   "cell_type": "code",
   "execution_count": 697,
   "metadata": {},
   "outputs": [],
   "source": [
    "def calc(perm):\n",
    "    minsum = sum(perm[:k])\n",
    "    for i in range(n-k+1):\n",
    "        minsum = min(minsum, sum(perm[i:i+k]))\n",
    "    return minsum"
   ]
  },
  {
   "cell_type": "code",
   "execution_count": 698,
   "metadata": {},
   "outputs": [
    {
     "ename": "NameError",
     "evalue": "name 'candidate' is not defined",
     "output_type": "error",
     "traceback": [
      "\u001b[0;31m---------------------------------------------------------------------------\u001b[0m",
      "\u001b[0;31mNameError\u001b[0m                                 Traceback (most recent call last)",
      "Input \u001b[0;32mIn [698]\u001b[0m, in \u001b[0;36m<module>\u001b[0;34m\u001b[0m\n\u001b[0;32m----> 1\u001b[0m calc(\u001b[43mcandidate\u001b[49m)\n",
      "\u001b[0;31mNameError\u001b[0m: name 'candidate' is not defined"
     ]
    }
   ],
   "source": [
    "calc(candidate)"
   ]
  },
  {
   "cell_type": "code",
   "execution_count": 699,
   "metadata": {},
   "outputs": [
    {
     "ename": "NameError",
     "evalue": "name 'maxval' is not defined",
     "output_type": "error",
     "traceback": [
      "\u001b[0;31m---------------------------------------------------------------------------\u001b[0m",
      "\u001b[0;31mNameError\u001b[0m                                 Traceback (most recent call last)",
      "Input \u001b[0;32mIn [699]\u001b[0m, in \u001b[0;36m<module>\u001b[0;34m\u001b[0m\n\u001b[0;32m----> 1\u001b[0m \u001b[43mmaxval\u001b[49m\n",
      "\u001b[0;31mNameError\u001b[0m: name 'maxval' is not defined"
     ]
    }
   ],
   "source": [
    "maxval"
   ]
  },
  {
   "cell_type": "code",
   "execution_count": 681,
   "metadata": {
    "scrolled": false
   },
   "outputs": [
    {
     "name": "stdout",
     "output_type": "stream",
     "text": [
      "[1, 4]\n",
      "[3, 2]\n",
      "[1, 4]\n",
      "[5, 3, 2]\n",
      "[1, 4]\n",
      "[5, 3, 2]\n",
      "[1, 4, 5]\n",
      "[6, 3, 2]\n",
      "[1, 4, 5]\n",
      "[6, 3, 2]\n",
      "[1, 4, 5]\n",
      "[6, 3, 2]\n",
      "[1, 4, 5, 6]\n",
      "[7, 3, 2]\n",
      "7 4 (1, 3, 6, 7, 4, 5, 2) 17 [1, 4, 5, 6, 7, 3, 2] 16\n"
     ]
    },
    {
     "ename": "RuntimeError",
     "evalue": "No active exception to reraise",
     "output_type": "error",
     "traceback": [
      "\u001b[0;31m---------------------------------------------------------------------------\u001b[0m",
      "\u001b[0;31mRuntimeError\u001b[0m                              Traceback (most recent call last)",
      "Input \u001b[0;32mIn [681]\u001b[0m, in \u001b[0;36m<module>\u001b[0;34m\u001b[0m\n\u001b[1;32m     18\u001b[0m \u001b[38;5;28;01mif\u001b[39;00m maxval \u001b[38;5;241m!=\u001b[39m calc(candidate):\n\u001b[1;32m     19\u001b[0m     \u001b[38;5;28mprint\u001b[39m(n,k, minperm, maxval, candidate, calc(candidate))\n\u001b[0;32m---> 20\u001b[0m     \u001b[38;5;28;01mraise\u001b[39;00m\n",
      "\u001b[0;31mRuntimeError\u001b[0m: No active exception to reraise"
     ]
    }
   ],
   "source": [
    "for n in range(4,11):\n",
    "    for k in range(4,n+1):\n",
    "        \n",
    "        candidate = solve(n,k)\n",
    "        \n",
    "        minperm = list(range(1,n+1))\n",
    "        maxval = 0\n",
    "        for perm in itertools.permutations(list(range(1,n+1))):\n",
    "            if perm[0] != 1:\n",
    "                break\n",
    "            if perm[-1] != 2:\n",
    "                continue\n",
    "            minsum = calc(perm)\n",
    "            if minsum > maxval:\n",
    "                maxval = minsum\n",
    "                minperm = perm\n",
    "                \n",
    "        if maxval != calc(candidate):\n",
    "            print(n,k, minperm, maxval, candidate, calc(candidate))\n",
    "            raise\n"
   ]
  },
  {
   "cell_type": "code",
   "execution_count": 683,
   "metadata": {},
   "outputs": [],
   "source": [
    "# calc((1, 4, 6, 7, 5, 3, 2))"
   ]
  },
  {
   "cell_type": "code",
   "execution_count": null,
   "metadata": {},
   "outputs": [],
   "source": []
  }
 ],
 "metadata": {
  "kernelspec": {
   "display_name": "Python 3 (ipykernel)",
   "language": "python",
   "name": "python3"
  },
  "language_info": {
   "codemirror_mode": {
    "name": "ipython",
    "version": 3
   },
   "file_extension": ".py",
   "mimetype": "text/x-python",
   "name": "python",
   "nbconvert_exporter": "python",
   "pygments_lexer": "ipython3",
   "version": "3.9.7"
  }
 },
 "nbformat": 4,
 "nbformat_minor": 4
}

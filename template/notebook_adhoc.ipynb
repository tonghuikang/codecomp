{
 "cells": [
  {
   "cell_type": "code",
   "execution_count": 485,
   "metadata": {},
   "outputs": [],
   "source": [
    "%reset -sf"
   ]
  },
  {
   "cell_type": "code",
   "execution_count": 486,
   "metadata": {},
   "outputs": [],
   "source": [
    "# LOAD THIS BEFORE START, run rmdl\n",
    "\n",
    "#!/usr/bin/env python3\n",
    "import sys\n",
    "import math, random\n",
    "import functools, itertools, collections, heapq, bisect\n",
    "from collections import Counter, defaultdict, deque\n",
    "\n",
    "# import numpy as np\n",
    "import scipy\n",
    "import matplotlib.pyplot as plt\n",
    "\n",
    "abc = \"abcdefghijklmnopqrstuvwxyz\"\n",
    "abc_map = {c:i for i,c in enumerate(abc)}\n",
    "M9 = 10**9 + 7  # 998244353\n",
    "yes, no = \"YES\", \"NO\"\n",
    "d4 = [(1,0),(0,1),(-1,0),(0,-1)]\n",
    "d8 = [\n",
    "    (-1,-1),(-1,0),(-1,1),\n",
    "    (0,-1),(0,0),(0,1),\n",
    "    (1,-1),(1,0),(1,1)]\n",
    "d6 = [(2,0),(1,1),(-1,1),(-2,0),(-1,-1),(1,-1)]  # hexagonal layout\n",
    "MAXINT = sys.maxsize"
   ]
  },
  {
   "cell_type": "code",
   "execution_count": 496,
   "metadata": {},
   "outputs": [],
   "source": [
    "with open(\"/Users/htong/Downloads/input.txt\") as f:\n",
    "    srr = f.read().strip().split(\"\\n\")"
   ]
  },
  {
   "cell_type": "code",
   "execution_count": 488,
   "metadata": {},
   "outputs": [],
   "source": [
    "srr = \"\"\"\n",
    "19, 13, 30 @ -2,  1, -2\n",
    "18, 19, 22 @ -1, -1, -2\n",
    "20, 25, 34 @ -2, -2, -4\n",
    "12, 31, 28 @ -1, -2, -1\n",
    "20, 19, 15 @  1, -5, -3\n",
    "\"\"\".strip().split(\"\\n\")"
   ]
  },
  {
   "cell_type": "code",
   "execution_count": 497,
   "metadata": {},
   "outputs": [],
   "source": [
    "xrr = []\n",
    "yrr = []\n",
    "zrr = []\n",
    "vxrr = []\n",
    "vyrr = []\n",
    "vzrr = []"
   ]
  },
  {
   "cell_type": "code",
   "execution_count": 498,
   "metadata": {},
   "outputs": [],
   "source": [
    "def get_intersection(\n",
    "    # Define the points for the first line\n",
    "    x1_line1, y1_line1, #= 1, 2\n",
    "    x2_line1, y2_line1, #= 4, 6\n",
    "\n",
    "    # Define the points for the second line\n",
    "    x1_line2, y1_line2, #= 2, 4\n",
    "    x2_line2, y2_line2, #= 6, 3\n",
    "):\n",
    "\n",
    "    def calculate_slope_intercept(x1, y1, x2, y2):\n",
    "        slope = (y2 - y1) / (x2 - x1)\n",
    "        intercept = y1 - slope * x1\n",
    "        return slope, intercept\n",
    "\n",
    "    def find_intersection(slope1, intercept1, slope2, intercept2):\n",
    "        if slope1 == slope2:\n",
    "#             print(\"The lines are parallel and do not intersect.\")\n",
    "            return None\n",
    "        x_intersect = (intercept2 - intercept1) / (slope1 - slope2)\n",
    "        y_intersect = slope1 * x_intersect + intercept1\n",
    "        return x_intersect, y_intersect\n",
    "\n",
    "#     # Define the points for the first line\n",
    "#     x1_line1, y1_line1 = 1, 2\n",
    "#     x2_line1, y2_line1 = 4, 6\n",
    "\n",
    "#     # Define the points for the second line\n",
    "#     x1_line2, y1_line2 = 2, 4\n",
    "#     x2_line2, y2_line2 = 6, 3\n",
    "\n",
    "    # Calculate the slope and intercept for each line\n",
    "    slope1, intercept1 = calculate_slope_intercept(x1_line1, y1_line1, x2_line1, y2_line1)\n",
    "    slope2, intercept2 = calculate_slope_intercept(x1_line2, y1_line2, x2_line2, y2_line2)\n",
    "    \n",
    "#     print(slope1, intercept1)\n",
    "#     print(slope2, intercept2)\n",
    "\n",
    "    # Find the intersection point\n",
    "    intersection = find_intersection(slope1, intercept1, slope2, intercept2)\n",
    "\n",
    "#     if intersection:\n",
    "#         print(f\"The intersection point of the two lines is: {intersection}\")\n",
    "        \n",
    "    return intersection"
   ]
  },
  {
   "cell_type": "code",
   "execution_count": 499,
   "metadata": {},
   "outputs": [],
   "source": [
    "for row in srr:\n",
    "    arr = row.replace(\",\", \"\").split()\n",
    "    xrr.append(int(arr[0]))\n",
    "    yrr.append(int(arr[1]))\n",
    "    zrr.append(int(arr[2]))\n",
    "    vxrr.append(int(arr[-3]))\n",
    "    vyrr.append(int(arr[-2]))\n",
    "    vzrr.append(int(arr[-1]))"
   ]
  },
  {
   "cell_type": "code",
   "execution_count": 500,
   "metadata": {},
   "outputs": [],
   "source": [
    "from pathlib import Path\n",
    "from z3 import If, Int, Solver"
   ]
  },
  {
   "cell_type": "code",
   "execution_count": 501,
   "metadata": {},
   "outputs": [],
   "source": [
    "opt = Solver()\n",
    "fx,fy,fz = Int(\"fx\"), Int(\"fy\"), Int(\"fz\")\n",
    "fdx,fdy,fdz = Int(\"fdx\"), Int(\"fdy\"), Int(\"fdz\")\n",
    "for i, ((x,y,z,dx,dy,dz)) in list(enumerate(zip(xrr,yrr,zrr,vxrr,vyrr,vzrr)))[:3]:\n",
    "    t = Int(f\"t{i}\")\n",
    "    opt.add(t >= 0)\n",
    "    opt.add(x + dx * t == fx + fdx * t)\n",
    "    opt.add(y + dy * t == fy + fdy * t)\n",
    "    opt.add(z + dz * t == fz + fdz * t)\n",
    "assert str(opt.check()) == 'sat'"
   ]
  },
  {
   "cell_type": "code",
   "execution_count": 503,
   "metadata": {},
   "outputs": [
    {
     "name": "stdout",
     "output_type": "stream",
     "text": [
      "673641951253289\n"
     ]
    }
   ],
   "source": [
    "print(opt.model().eval(fx + fy + fz))"
   ]
  },
  {
   "cell_type": "code",
   "execution_count": null,
   "metadata": {},
   "outputs": [],
   "source": []
  },
  {
   "cell_type": "code",
   "execution_count": null,
   "metadata": {},
   "outputs": [],
   "source": []
  },
  {
   "cell_type": "code",
   "execution_count": null,
   "metadata": {},
   "outputs": [],
   "source": []
  },
  {
   "cell_type": "code",
   "execution_count": null,
   "metadata": {},
   "outputs": [],
   "source": []
  }
 ],
 "metadata": {
  "kernelspec": {
   "display_name": "Python 3 (ipykernel)",
   "language": "python",
   "name": "python3"
  },
  "language_info": {
   "codemirror_mode": {
    "name": "ipython",
    "version": 3
   },
   "file_extension": ".py",
   "mimetype": "text/x-python",
   "name": "python",
   "nbconvert_exporter": "python",
   "pygments_lexer": "ipython3",
   "version": "3.9.7"
  }
 },
 "nbformat": 4,
 "nbformat_minor": 4
}

{
 "cells": [
  {
   "cell_type": "code",
   "execution_count": 43,
   "metadata": {},
   "outputs": [],
   "source": [
    "# * represent 0 or more other numbers\n",
    "# @ represent 1 or more other numbers\n",
    "\n",
    "# disallow if contain any 3*1@2, unless there is (-2)*3*1(-1)(2)\n",
    "# disallow if contain any 1*3@2, unless there is 5*1*342\n"
   ]
  },
  {
   "cell_type": "code",
   "execution_count": 44,
   "metadata": {},
   "outputs": [],
   "source": [
    "import itertools"
   ]
  },
  {
   "cell_type": "code",
   "execution_count": 49,
   "metadata": {},
   "outputs": [],
   "source": [
    "def count(k):\n",
    "    cnt = 0\n",
    "\n",
    "    for seq in itertools.permutations(range(k)):\n",
    "        pos = {k:i for i,k in enumerate(seq)}\n",
    "        flag = False\n",
    "        for i in range(k-2):\n",
    "            a,b,c,d,e = i,i+1,i+2,i+3,i+4\n",
    "            if pos[c] < pos[a] and pos[a] < pos[b]-1:\n",
    "                if i >= 2 and pos[a-2] < pos[c] and pos[a]+2 == pos[a-1]+1 == pos[b]:\n",
    "                    pass\n",
    "                else:\n",
    "                    flag = True\n",
    "            if pos[a] < pos[c] and pos[c] < pos[b]-1:\n",
    "                if i < k-4 and pos[e] < pos[a] and pos[c]+2 == pos[d]+1 == pos[b]:\n",
    "                    pass\n",
    "                else:\n",
    "                    flag = True\n",
    "        if flag:\n",
    "            cnt += 1\n",
    "        else:\n",
    "            print(seq)\n",
    "#     print(cnt)\n",
    "    return cnt"
   ]
  },
  {
   "cell_type": "code",
   "execution_count": 50,
   "metadata": {
    "scrolled": false
   },
   "outputs": [
    {
     "name": "stdout",
     "output_type": "stream",
     "text": [
      "(0, 1, 2, 3, 4)\n",
      "(0, 1, 2, 4, 3)\n",
      "(0, 1, 3, 2, 4)\n",
      "(0, 1, 4, 2, 3)\n",
      "(0, 1, 4, 3, 2)\n",
      "(0, 2, 1, 3, 4)\n",
      "(0, 2, 1, 4, 3)\n",
      "(0, 3, 1, 2, 4)\n",
      "(0, 3, 2, 1, 4)\n",
      "(0, 3, 4, 1, 2)\n",
      "(0, 3, 4, 2, 1)\n",
      "(0, 4, 1, 2, 3)\n",
      "(0, 4, 1, 3, 2)\n",
      "(0, 4, 2, 1, 3)\n",
      "(0, 4, 3, 1, 2)\n",
      "(0, 4, 3, 2, 1)\n",
      "(1, 0, 2, 3, 4)\n",
      "(1, 0, 2, 4, 3)\n",
      "(1, 0, 3, 2, 4)\n",
      "(1, 0, 4, 2, 3)\n",
      "(1, 0, 4, 3, 2)\n",
      "(1, 2, 0, 3, 4)\n",
      "(1, 2, 0, 4, 3)\n",
      "(1, 2, 3, 0, 4)\n",
      "(1, 2, 3, 4, 0)\n",
      "(1, 2, 4, 3, 0)\n",
      "(1, 3, 2, 0, 4)\n",
      "(1, 3, 2, 4, 0)\n",
      "(1, 4, 0, 2, 3)\n",
      "(1, 4, 0, 3, 2)\n",
      "(1, 4, 2, 3, 0)\n",
      "(1, 4, 3, 2, 0)\n",
      "(2, 0, 1, 3, 4)\n",
      "(2, 0, 1, 4, 3)\n",
      "(2, 1, 0, 3, 4)\n",
      "(2, 1, 0, 4, 3)\n",
      "(2, 1, 3, 0, 4)\n",
      "(2, 1, 3, 4, 0)\n",
      "(2, 1, 4, 3, 0)\n",
      "(2, 3, 0, 1, 4)\n",
      "(2, 3, 1, 0, 4)\n",
      "(2, 3, 1, 4, 0)\n",
      "(2, 3, 4, 0, 1)\n",
      "(2, 3, 4, 1, 0)\n",
      "(2, 4, 3, 0, 1)\n",
      "(2, 4, 3, 1, 0)\n",
      "(3, 0, 1, 2, 4)\n",
      "(3, 0, 2, 1, 4)\n",
      "(3, 0, 4, 1, 2)\n",
      "(3, 0, 4, 2, 1)\n",
      "(3, 1, 2, 0, 4)\n",
      "(3, 1, 2, 4, 0)\n",
      "(3, 2, 0, 1, 4)\n",
      "(3, 2, 1, 0, 4)\n",
      "(3, 2, 1, 4, 0)\n",
      "(3, 2, 4, 0, 1)\n",
      "(3, 2, 4, 1, 0)\n",
      "(3, 4, 0, 1, 2)\n",
      "(3, 4, 0, 2, 1)\n",
      "(3, 4, 1, 2, 0)\n",
      "(3, 4, 2, 0, 1)\n",
      "(3, 4, 2, 1, 0)\n",
      "(4, 0, 1, 2, 3)\n",
      "(4, 0, 1, 3, 2)\n",
      "(4, 0, 2, 3, 1)\n",
      "(4, 0, 3, 1, 2)\n",
      "(4, 0, 3, 2, 1)\n",
      "(4, 1, 0, 2, 3)\n",
      "(4, 1, 0, 3, 2)\n",
      "(4, 1, 2, 3, 0)\n",
      "(4, 1, 3, 2, 0)\n",
      "(4, 2, 3, 0, 1)\n",
      "(4, 2, 3, 1, 0)\n",
      "(4, 3, 0, 1, 2)\n",
      "(4, 3, 0, 2, 1)\n",
      "(4, 3, 1, 2, 0)\n",
      "(4, 3, 2, 0, 1)\n",
      "(4, 3, 2, 1, 0)\n"
     ]
    },
    {
     "data": {
      "text/plain": [
       "42"
      ]
     },
     "execution_count": 50,
     "metadata": {},
     "output_type": "execute_result"
    }
   ],
   "source": [
    "count(5)"
   ]
  },
  {
   "cell_type": "code",
   "execution_count": null,
   "metadata": {},
   "outputs": [],
   "source": []
  }
 ],
 "metadata": {
  "kernelspec": {
   "display_name": "Python 3",
   "language": "python",
   "name": "python3"
  },
  "language_info": {
   "codemirror_mode": {
    "name": "ipython",
    "version": 3
   },
   "file_extension": ".py",
   "mimetype": "text/x-python",
   "name": "python",
   "nbconvert_exporter": "python",
   "pygments_lexer": "ipython3",
   "version": "3.7.9"
  }
 },
 "nbformat": 4,
 "nbformat_minor": 4
}

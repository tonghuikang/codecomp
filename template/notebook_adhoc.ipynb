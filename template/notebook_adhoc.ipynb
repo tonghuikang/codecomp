{
 "cells": [
  {
   "cell_type": "code",
   "execution_count": 3,
   "metadata": {},
   "outputs": [],
   "source": [
    "moore = [\n",
    "    [1 , 2, 3, 6, 7,10,11,12],\n",
    "    [64,63, 4, 5, 8, 9,14,13],\n",
    "    [61,62,57,56,21,20,15,16],\n",
    "    [60,59,58,55,22,19,18,17],\n",
    "    [49,50,51,54,23,26,27,28],\n",
    "    [48,47,52,53,24,25,30,29],\n",
    "    [45,46,41,40,37,36,31,32],\n",
    "    [44,43,42,39,35,34,34,33]\n",
    "]"
   ]
  },
  {
   "cell_type": "code",
   "execution_count": 2,
   "metadata": {},
   "outputs": [],
   "source": [
    "regions = [[((i-1)//6, (j-1)//6) for i in range(50)] for j in range(50)]\n",
    "regions = [[(min(max(0,x),7),min(max(0,y),7)) for x,y in row] for row in regions]\n",
    "regions = [[moore[x][y] for x,y in row] for row in regions]"
   ]
  },
  {
   "cell_type": "code",
   "execution_count": 67,
   "metadata": {},
   "outputs": [],
   "source": [
    "# regions"
   ]
  },
  {
   "cell_type": "code",
   "execution_count": 54,
   "metadata": {},
   "outputs": [],
   "source": [
    "# regions"
   ]
  },
  {
   "cell_type": "code",
   "execution_count": null,
   "metadata": {},
   "outputs": [],
   "source": []
  }
 ],
 "metadata": {
  "kernelspec": {
   "display_name": "Python 3",
   "language": "python",
   "name": "python3"
  },
  "language_info": {
   "codemirror_mode": {
    "name": "ipython",
    "version": 3
   },
   "file_extension": ".py",
   "mimetype": "text/x-python",
   "name": "python",
   "nbconvert_exporter": "python",
   "pygments_lexer": "ipython3",
   "version": "3.7.9"
  }
 },
 "nbformat": 4,
 "nbformat_minor": 4
}

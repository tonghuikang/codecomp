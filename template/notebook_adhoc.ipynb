{
 "cells": [
  {
   "cell_type": "code",
   "execution_count": 1,
   "metadata": {},
   "outputs": [],
   "source": [
    "def project_point_onto_line(x, y, a, b, c):\n",
    "    # Calculate the line's magnitude\n",
    "    line_magnitude = (a**2 + b**2)**0.5\n",
    "\n",
    "    # Normalize the line coefficients\n",
    "    a_normalized = a / line_magnitude\n",
    "    b_normalized = b / line_magnitude\n",
    "    c_normalized = c / line_magnitude\n",
    "\n",
    "    # Calculate the distance from the point to the line\n",
    "    distance = a_normalized * x + b_normalized * y + c_normalized\n",
    "\n",
    "    # Calculate the projected point coordinates\n",
    "    x_projected = x - a_normalized * distance\n",
    "    y_projected = y - b_normalized * distance\n",
    "\n",
    "    return x_projected, y_projected"
   ]
  },
  {
   "cell_type": "code",
   "execution_count": 11,
   "metadata": {},
   "outputs": [
    {
     "name": "stdout",
     "output_type": "stream",
     "text": [
      "0.0 3.0 0.0 0.5\n"
     ]
    }
   ],
   "source": [
    "x1, y1 = project_point_onto_line(1,3,1,0,0)\n",
    "x2, y2 = project_point_onto_line(2.5,0.5,1,0,0)\n",
    "print(x1, y1, x2, y2)"
   ]
  },
  {
   "cell_type": "code",
   "execution_count": 12,
   "metadata": {},
   "outputs": [
    {
     "name": "stdout",
     "output_type": "stream",
     "text": [
      "1.0 0.0 2.5 0.0\n"
     ]
    }
   ],
   "source": [
    "x1, y1 = project_point_onto_line(1,3,0,1,0)\n",
    "x2, y2 = project_point_onto_line(2.5,0.5,0,1,0)\n",
    "print(x1, y1, x2, y2)"
   ]
  },
  {
   "cell_type": "code",
   "execution_count": 13,
   "metadata": {},
   "outputs": [],
   "source": [
    "X_CONST = 93.1230172983\n",
    "Y_CONST = 96.3218973211"
   ]
  },
  {
   "cell_type": "code",
   "execution_count": 14,
   "metadata": {},
   "outputs": [
    {
     "name": "stdout",
     "output_type": "stream",
     "text": [
      "-0.982264150517236 0.949642854056187 1.042344341953774 -1.0077277637395903\n"
     ]
    }
   ],
   "source": [
    "x1, y1 = project_point_onto_line(1,3,X_CONST,Y_CONST,0)\n",
    "x2, y2 = project_point_onto_line(2.5,0.5,X_CONST,Y_CONST,0)\n",
    "print(x1, y1, x2, y2)"
   ]
  },
  {
   "cell_type": "code",
   "execution_count": 6,
   "metadata": {},
   "outputs": [
    {
     "data": {
      "text/plain": [
       "(1.0, 1.0)"
      ]
     },
     "execution_count": 6,
     "metadata": {},
     "output_type": "execute_result"
    }
   ],
   "source": [
    "project_point_onto_line(1,3,0,1,-1)"
   ]
  },
  {
   "cell_type": "code",
   "execution_count": 3,
   "metadata": {},
   "outputs": [
    {
     "data": {
      "text/plain": [
       "(2.5, 1.0)"
      ]
     },
     "execution_count": 3,
     "metadata": {},
     "output_type": "execute_result"
    }
   ],
   "source": [
    "project_point_onto_line(2.5,0.5,0,1,-1)"
   ]
  },
  {
   "cell_type": "code",
   "execution_count": null,
   "metadata": {},
   "outputs": [],
   "source": []
  }
 ],
 "metadata": {
  "kernelspec": {
   "display_name": "Python 3 (ipykernel)",
   "language": "python",
   "name": "python3"
  },
  "language_info": {
   "codemirror_mode": {
    "name": "ipython",
    "version": 3
   },
   "file_extension": ".py",
   "mimetype": "text/x-python",
   "name": "python",
   "nbconvert_exporter": "python",
   "pygments_lexer": "ipython3",
   "version": "3.9.7"
  }
 },
 "nbformat": 4,
 "nbformat_minor": 4
}

{
 "cells": [
  {
   "cell_type": "code",
   "execution_count": 153,
   "metadata": {},
   "outputs": [],
   "source": [
    "%reset -sf"
   ]
  },
  {
   "cell_type": "code",
   "execution_count": 154,
   "metadata": {},
   "outputs": [],
   "source": [
    "# LOAD THIS BEFORE START, run rmdl\n",
    "\n",
    "#!/usr/bin/env python3\n",
    "import sys\n",
    "import math, random\n",
    "import functools, itertools, collections, heapq, bisect\n",
    "from collections import Counter, defaultdict, deque\n",
    "\n",
    "# import numpy as np\n",
    "import scipy\n",
    "import matplotlib.pyplot as plt\n",
    "\n",
    "abc = \"abcdefghijklmnopqrstuvwxyz\"\n",
    "abc_map = {c:i for i,c in enumerate(abc)}\n",
    "M9 = 10**9 + 7  # 998244353\n",
    "yes, no = \"YES\", \"NO\"\n",
    "d4 = [(1,0),(0,1),(-1,0),(0,-1)]\n",
    "d8 = [\n",
    "    (-1,-1),(-1,0),(-1,1),\n",
    "    (0,-1),(0,0),(0,1),\n",
    "    (1,-1),(1,0),(1,1)]\n",
    "d6 = [(2,0),(1,1),(-1,1),(-2,0),(-1,-1),(1,-1)]  # hexagonal layout\n",
    "MAXINT = sys.maxsize"
   ]
  },
  {
   "cell_type": "code",
   "execution_count": 181,
   "metadata": {},
   "outputs": [],
   "source": [
    "with open(\"/Users/htong/Downloads/input.txt\") as f:\n",
    "    srr = f.read().strip().split(\"\\n\")"
   ]
  },
  {
   "cell_type": "code",
   "execution_count": 156,
   "metadata": {},
   "outputs": [],
   "source": [
    "srr = \"\"\"\n",
    "#.#####################\n",
    "#.......#########...###\n",
    "#######.#########.#.###\n",
    "###.....#.>.>.###.#.###\n",
    "###v#####.#v#.###.#.###\n",
    "###.>...#.#.#.....#...#\n",
    "###v###.#.#.#########.#\n",
    "###...#.#.#.......#...#\n",
    "#####.#.#.#######.#.###\n",
    "#.....#.#.#.......#...#\n",
    "#.#####.#.#.#########v#\n",
    "#.#...#...#...###...>.#\n",
    "#.#.#v#######v###.###v#\n",
    "#...#.>.#...>.>.#.###.#\n",
    "#####v#.#.###v#.#.###.#\n",
    "#.....#...#...#.#.#...#\n",
    "#.#########.###.#.#.###\n",
    "#...###...#...#...#.###\n",
    "###.###.#.###v#####v###\n",
    "#...#...#.#.>.>.#.>.###\n",
    "#.###.###.#.###.#.#v###\n",
    "#.....###...###...#...#\n",
    "#####################.#\n",
    "\"\"\".strip().split(\"\\n\")"
   ]
  },
  {
   "cell_type": "code",
   "execution_count": 182,
   "metadata": {},
   "outputs": [],
   "source": [
    "arr = [list(row) for row in srr]"
   ]
  },
  {
   "cell_type": "code",
   "execution_count": 183,
   "metadata": {},
   "outputs": [],
   "source": [
    "n = len(arr)\n",
    "m = len(arr[0])"
   ]
  },
  {
   "cell_type": "code",
   "execution_count": 184,
   "metadata": {},
   "outputs": [],
   "source": [
    "class DisjointSet:\n",
    "    # github.com/not522/ac-library-python/blob/master/atcoder/dsu.py\n",
    "    # faster implementation of DSU\n",
    "    def __init__(self, n: int = 0) -> None:\n",
    "        if n > 0:  # constant size DSU\n",
    "            self.parent_or_size = [-1] * n\n",
    "        else:\n",
    "            # WARNING: non-negative numeric elements only\n",
    "            self.parent_or_size = defaultdict(lambda: -1)\n",
    "\n",
    "    def union(self, a: int, b: int) -> int:\n",
    "        x = self.find(a)\n",
    "        y = self.find(b)\n",
    "\n",
    "        if x == y:\n",
    "            return x\n",
    "\n",
    "        if -self.parent_or_size[x] < -self.parent_or_size[y]:\n",
    "            x, y = y, x\n",
    "\n",
    "        self.parent_or_size[x] += self.parent_or_size[y]\n",
    "        self.parent_or_size[y] = x\n",
    "\n",
    "        return x\n",
    "\n",
    "    def find(self, a: int) -> int:\n",
    "        parent = self.parent_or_size[a]\n",
    "        while parent >= 0:\n",
    "            if self.parent_or_size[parent] < 0:\n",
    "                return parent\n",
    "            self.parent_or_size[a], a, parent = (\n",
    "                self.parent_or_size[parent],\n",
    "                self.parent_or_size[parent],\n",
    "                self.parent_or_size[self.parent_or_size[parent]],\n",
    "            )\n",
    "        return a\n",
    "\n",
    "    def size(self, a: int) -> int:\n",
    "        return -self.parent_or_size[self.find(a)]"
   ]
  },
  {
   "cell_type": "code",
   "execution_count": 185,
   "metadata": {},
   "outputs": [],
   "source": [
    "# assume DAG"
   ]
  },
  {
   "cell_type": "code",
   "execution_count": 186,
   "metadata": {},
   "outputs": [],
   "source": [
    "ds = DisjointSet(n*m)"
   ]
  },
  {
   "cell_type": "code",
   "execution_count": 187,
   "metadata": {},
   "outputs": [],
   "source": [
    "def parse(x,y):\n",
    "    return x*m + y\n",
    "\n",
    "def divide(z):\n",
    "    return divmod(z, m)"
   ]
  },
  {
   "cell_type": "code",
   "execution_count": 188,
   "metadata": {},
   "outputs": [],
   "source": [
    "for x in range(n):\n",
    "    for y in range(m):\n",
    "        if arr[x][y] == \"#\":\n",
    "            continue\n",
    "        for dx, dy in d4:\n",
    "            xx = x+dx\n",
    "            yy = y+dy\n",
    "            if not (0 <= xx < n and 0 <= yy < m):\n",
    "                continue\n",
    "            if arr[x][y] == \".\" and arr[xx][yy] == \".\":\n",
    "                ds.union(parse(x,y), parse(xx,yy))              "
   ]
  },
  {
   "cell_type": "code",
   "execution_count": 189,
   "metadata": {},
   "outputs": [],
   "source": [
    "mapping = defaultdict(list)"
   ]
  },
  {
   "cell_type": "code",
   "execution_count": 190,
   "metadata": {},
   "outputs": [],
   "source": [
    "for x in range(n):\n",
    "    for y in range(m):\n",
    "        if arr[x][y] == \">\":\n",
    "            mapping[ds.find(parse(x,y-1))].append((ds.find(parse(x,y+1)), 1 + ds.size(parse(x,y+1))))\n",
    "        if arr[x][y] == \"<\":\n",
    "            mapping[ds.find(parse(x,y+1))].append((ds.find(parse(x,y-1)), 1 + ds.size(parse(x,y-1))))\n",
    "        if arr[x][y] == \"^\":\n",
    "            mapping[ds.find(parse(x+1,y))].append((ds.find(parse(x-1,y)), 1 + ds.size(parse(x-1,y))))\n",
    "        if arr[x][y] == \"v\":\n",
    "            mapping[ds.find(parse(x-1,y))].append((ds.find(parse(x+1,y)), 1 + ds.size(parse(x+1,y))))"
   ]
  },
  {
   "cell_type": "code",
   "execution_count": 191,
   "metadata": {},
   "outputs": [],
   "source": [
    "def dijkstra(list_of_indexes_and_costs, start):\n",
    "    # shortest path with nonnegative edge costs\n",
    "    # leetcode.com/problems/path-with-maximum-probability/\n",
    "    # leetcode.com/problems/network-delay-time/\n",
    "    length = len(list_of_indexes_and_costs)\n",
    "    visited = [False] * length\n",
    "    weights = [MAXINT] * length\n",
    "    path = [None] * length\n",
    "    queue = []\n",
    "    weights[start] = 0\n",
    "    heapq.heappush(queue, (0, start))\n",
    "    while queue:\n",
    "        g, u = heapq.heappop(queue)\n",
    "        if visited[u]:\n",
    "            continue\n",
    "        visited[u] = True\n",
    "        for v, w in list_of_indexes_and_costs[u]:\n",
    "            if not visited[v]:\n",
    "                f = g + w\n",
    "                if f < weights[v]:\n",
    "                    weights[v] = f\n",
    "                    path[v] = u\n",
    "                    heapq.heappush(queue, (f, v))\n",
    "    return path, weights\n",
    "\n",
    "\n",
    "def dijkstra_with_preprocessing(map_from_node_to_nodes_and_costs, source, target, idxs=set()):\n",
    "    # this operation is costly, recommend to parse to list_of_indexes_and_costs directly\n",
    "    # leetcode.com/problems/path-with-maximum-probability/\n",
    "    # leetcode.com/problems/network-delay-time/\n",
    "    d = map_from_node_to_nodes_and_costs\n",
    "\n",
    "    if target not in d:  # destination may not have outgoing paths\n",
    "        d[target] = []\n",
    "    if source not in d:\n",
    "        return MAXINT\n",
    "\n",
    "    # assign indexes\n",
    "    if idxs:\n",
    "        idxs = {k: i for i, k in enumerate(idxs)}\n",
    "    else:\n",
    "        idxs = {k: i for i, k in enumerate(d.keys())}\n",
    "\n",
    "    # populate list of indexes and costs\n",
    "    list_of_indexes_and_costs = [[] for _ in range(len(idxs))]\n",
    "    for e, vrr in d.items():\n",
    "        for v, cost in vrr:\n",
    "            list_of_indexes_and_costs[idxs[e]].append((idxs[v], cost))\n",
    "\n",
    "    _, costs = dijkstra(list_of_indexes_and_costs, idxs[source])\n",
    "    return costs[idxs[target]]"
   ]
  },
  {
   "cell_type": "code",
   "execution_count": 192,
   "metadata": {},
   "outputs": [],
   "source": [
    "def topological_sort(map_from_node_to_nodes, all_nodes=set()):\n",
    "    # leetcode.com/problems/course-schedule-ii/\n",
    "    indegree_counter = defaultdict(int)\n",
    "    for lst in map_from_node_to_nodes.values():\n",
    "        for v in lst:\n",
    "            indegree_counter[v] += 1\n",
    "\n",
    "    if not all_nodes:  # assume all nodes are found in the map\n",
    "        all_nodes = set(indegree_counter.keys()) | set(map_from_node_to_nodes)\n",
    "\n",
    "    dq = deque([node for node in all_nodes if node not in indegree_counter])\n",
    "\n",
    "    res = []\n",
    "    while dq:\n",
    "        cur = dq.popleft()\n",
    "        res.append(cur)\n",
    "        for nex in map_from_node_to_nodes[cur]:\n",
    "            indegree_counter[nex] -= 1\n",
    "            if indegree_counter[nex] == 0:\n",
    "                dq.append(nex)\n",
    "    return res if len(res) == len(all_nodes) else []"
   ]
  },
  {
   "cell_type": "code",
   "execution_count": 193,
   "metadata": {},
   "outputs": [],
   "source": [
    "paths_only = defaultdict(list)\n",
    "for k,v in mapping.items():\n",
    "    for x,_ in v:\n",
    "        paths_only[k].append(x)"
   ]
  },
  {
   "cell_type": "code",
   "execution_count": 203,
   "metadata": {},
   "outputs": [],
   "source": [
    "# mapping"
   ]
  },
  {
   "cell_type": "code",
   "execution_count": 204,
   "metadata": {},
   "outputs": [],
   "source": [
    "# paths_only"
   ]
  },
  {
   "cell_type": "code",
   "execution_count": 205,
   "metadata": {},
   "outputs": [],
   "source": [
    "# topo = topological_sort(paths_only)"
   ]
  },
  {
   "cell_type": "code",
   "execution_count": 206,
   "metadata": {},
   "outputs": [],
   "source": [
    "# topo"
   ]
  },
  {
   "cell_type": "code",
   "execution_count": 198,
   "metadata": {},
   "outputs": [],
   "source": [
    "costs = defaultdict(int)"
   ]
  },
  {
   "cell_type": "code",
   "execution_count": 199,
   "metadata": {},
   "outputs": [],
   "source": [
    "for x in topo:\n",
    "    for nex, cost in mapping[x]:\n",
    "        costs[nex] = max(costs[nex], costs[x] + cost)"
   ]
  },
  {
   "cell_type": "code",
   "execution_count": 202,
   "metadata": {},
   "outputs": [
    {
     "data": {
      "text/plain": [
       "94"
      ]
     },
     "execution_count": 202,
     "metadata": {},
     "output_type": "execute_result"
    }
   ],
   "source": [
    "len(mapping)"
   ]
  },
  {
   "cell_type": "code",
   "execution_count": 200,
   "metadata": {},
   "outputs": [],
   "source": [
    "# mapping"
   ]
  },
  {
   "cell_type": "code",
   "execution_count": 207,
   "metadata": {},
   "outputs": [
    {
     "data": {
      "text/plain": [
       "2250"
      ]
     },
     "execution_count": 207,
     "metadata": {},
     "output_type": "execute_result"
    }
   ],
   "source": [
    "costs[ds.find(parse(n-1,m-2))] + ds.size(parse(0,1)) - 1"
   ]
  },
  {
   "cell_type": "code",
   "execution_count": null,
   "metadata": {},
   "outputs": [],
   "source": []
  },
  {
   "cell_type": "code",
   "execution_count": null,
   "metadata": {},
   "outputs": [],
   "source": []
  },
  {
   "cell_type": "code",
   "execution_count": 178,
   "metadata": {},
   "outputs": [
    {
     "data": {
      "text/plain": [
       "14"
      ]
     },
     "execution_count": 178,
     "metadata": {},
     "output_type": "execute_result"
    }
   ],
   "source": [
    "ds.size(parse(0,1))"
   ]
  },
  {
   "cell_type": "code",
   "execution_count": 177,
   "metadata": {},
   "outputs": [
    {
     "data": {
      "text/plain": [
       "4"
      ]
     },
     "execution_count": 177,
     "metadata": {},
     "output_type": "execute_result"
    }
   ],
   "source": [
    "ds.size(parse(n-1,m-2))"
   ]
  },
  {
   "cell_type": "code",
   "execution_count": 124,
   "metadata": {
    "scrolled": true
   },
   "outputs": [
    {
     "data": {
      "text/plain": [
       "51"
      ]
     },
     "execution_count": 124,
     "metadata": {},
     "output_type": "execute_result"
    }
   ],
   "source": [
    "dijkstra_with_preprocessing(mapping, ds.find(parse(0,1)), ds.find(parse(n-1,m-2)))"
   ]
  },
  {
   "cell_type": "code",
   "execution_count": 125,
   "metadata": {},
   "outputs": [
    {
     "data": {
      "text/plain": [
       "1"
      ]
     },
     "execution_count": 125,
     "metadata": {},
     "output_type": "execute_result"
    }
   ],
   "source": [
    "ds.find(parse(0,1))"
   ]
  },
  {
   "cell_type": "code",
   "execution_count": 53,
   "metadata": {},
   "outputs": [
    {
     "data": {
      "text/plain": [
       "defaultdict(list,\n",
       "            {80: [(120, 19), (40, 27), (126, 21)],\n",
       "             40: [(80, 1), (274, 1)],\n",
       "             118: [(1, 14), (120, 19), (208, 19)],\n",
       "             126: [(80, 1), (312, 1)],\n",
       "             120: [(118, 1), (80, 1)],\n",
       "             208: [(118, 1), (304, 1)],\n",
       "             274: [(40, 27), (270, 15), (364, 7)],\n",
       "             304: [(208, 19), (308, 9), (346, 35)],\n",
       "             312: [(126, 21), (308, 9), (270, 15), (356, 7)],\n",
       "             364: [(274, 1), (456, 1)],\n",
       "             308: [(304, 1), (312, 1)],\n",
       "             270: [(312, 1), (274, 1)],\n",
       "             346: [(304, 1), (450, 1)],\n",
       "             356: [(312, 1), (450, 1)],\n",
       "             450: [(356, 7), (346, 35), (452, 7)],\n",
       "             456: [(364, 7), (452, 7), (502, 4)],\n",
       "             452: [(450, 1), (456, 1)],\n",
       "             502: [(456, 1)],\n",
       "             527: [],\n",
       "             1: [(118, 1)]})"
      ]
     },
     "execution_count": 53,
     "metadata": {},
     "output_type": "execute_result"
    }
   ],
   "source": [
    "mapping"
   ]
  },
  {
   "cell_type": "code",
   "execution_count": null,
   "metadata": {},
   "outputs": [],
   "source": []
  },
  {
   "cell_type": "code",
   "execution_count": null,
   "metadata": {},
   "outputs": [],
   "source": []
  }
 ],
 "metadata": {
  "kernelspec": {
   "display_name": "Python 3 (ipykernel)",
   "language": "python",
   "name": "python3"
  },
  "language_info": {
   "codemirror_mode": {
    "name": "ipython",
    "version": 3
   },
   "file_extension": ".py",
   "mimetype": "text/x-python",
   "name": "python",
   "nbconvert_exporter": "python",
   "pygments_lexer": "ipython3",
   "version": "3.9.7"
  }
 },
 "nbformat": 4,
 "nbformat_minor": 4
}

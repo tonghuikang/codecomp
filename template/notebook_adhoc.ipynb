{
 "cells": [
  {
   "cell_type": "code",
   "execution_count": null,
   "metadata": {},
   "outputs": [],
   "source": []
  },
  {
   "cell_type": "code",
   "execution_count": null,
   "metadata": {},
   "outputs": [],
   "source": []
  },
  {
   "cell_type": "code",
   "execution_count": 4,
   "metadata": {},
   "outputs": [],
   "source": [
    "def longest_common_subsequence(arr, brr):\n",
    "    # leetcode.com/problems/longest-common-subsequence/discuss/351689/\n",
    "    m, n = map(len, (arr, brr))\n",
    "    if m < n:\n",
    "        return longest_common_subsequence(brr, arr)\n",
    "    dp = [0] * (n + 1)\n",
    "    for c in arr:\n",
    "        prevRow, prevRowPrevCol = 0, 0\n",
    "        for j, d in enumerate(brr):\n",
    "            prevRow, prevRowPrevCol = dp[j + 1], prevRow\n",
    "            dp[j + 1] = prevRowPrevCol + 1 if c == d else max(dp[j], prevRow)\n",
    "    print(dp)\n",
    "    return dp[-1]"
   ]
  },
  {
   "cell_type": "code",
   "execution_count": 5,
   "metadata": {},
   "outputs": [
    {
     "name": "stdout",
     "output_type": "stream",
     "text": [
      "[0, 1, 1, 2]\n"
     ]
    },
    {
     "data": {
      "text/plain": [
       "2"
      ]
     },
     "execution_count": 5,
     "metadata": {},
     "output_type": "execute_result"
    }
   ],
   "source": [
    "longest_common_subsequence([1,2,3], [1,4,3,3,1])"
   ]
  },
  {
   "cell_type": "code",
   "execution_count": null,
   "metadata": {},
   "outputs": [],
   "source": []
  }
 ],
 "metadata": {
  "kernelspec": {
   "display_name": "Python 3 (ipykernel)",
   "language": "python",
   "name": "python3"
  },
  "language_info": {
   "codemirror_mode": {
    "name": "ipython",
    "version": 3
   },
   "file_extension": ".py",
   "mimetype": "text/x-python",
   "name": "python",
   "nbconvert_exporter": "python",
   "pygments_lexer": "ipython3",
   "version": "3.9.7"
  }
 },
 "nbformat": 4,
 "nbformat_minor": 4
}

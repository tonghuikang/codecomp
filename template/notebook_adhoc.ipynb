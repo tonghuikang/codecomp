{
 "cells": [
  {
   "cell_type": "code",
   "execution_count": 7,
   "metadata": {},
   "outputs": [],
   "source": [
    "class ThreeDChessRooks:\n",
    "    def count(self, C, R, XP, YP, ZP, seed):\n",
    "        \n",
    "        X = [0 for _ in range(R)]\n",
    "        Y = [0 for _ in range(R)]\n",
    "        Z = [0 for _ in range(R)]\n",
    "        \n",
    "        for i in range(len(XP)):\n",
    "            X[i] = XP[i]\n",
    "            Y[i] = YP[i]\n",
    "            Z[i] = ZP[i]\n",
    "\n",
    "        state = seed\n",
    "        for i in range(len(XP), R):\n",
    "            state = (state * 1103515245 + 12345) % 2147483648\n",
    "            X[i] = state%C\n",
    "            state = (state * 1103515245 + 12345) % 2147483648\n",
    "            Y[i] = state%C\n",
    "            state = (state * 1103515245 + 12345) % 2147483648\n",
    "            Z[i] = state%C\n",
    "            \n",
    "        print(X)\n",
    "        print(Y)\n",
    "        print(Z)"
   ]
  },
  {
   "cell_type": "code",
   "execution_count": 12,
   "metadata": {},
   "outputs": [
    {
     "name": "stdout",
     "output_type": "stream",
     "text": [
      "[9, 2, 3, 4, 8, 5, 2, 3, 0, 3]\n",
      "[5, 6, 7, 8, 1, 8, 1, 2, 9, 0]\n",
      "[9, 0, 1, 9, 8, 7, 6, 5, 4, 7]\n"
     ]
    }
   ],
   "source": [
    "s = ThreeDChessRooks()\n",
    "s.count(10,10,[9,2,3,4],[5,6,7,8],[9,0,1,9],47474747)"
   ]
  },
  {
   "cell_type": "code",
   "execution_count": null,
   "metadata": {},
   "outputs": [],
   "source": []
  }
 ],
 "metadata": {
  "kernelspec": {
   "display_name": "Python 3",
   "language": "python",
   "name": "python3"
  },
  "language_info": {
   "codemirror_mode": {
    "name": "ipython",
    "version": 3
   },
   "file_extension": ".py",
   "mimetype": "text/x-python",
   "name": "python",
   "nbconvert_exporter": "python",
   "pygments_lexer": "ipython3",
   "version": "3.7.9"
  }
 },
 "nbformat": 4,
 "nbformat_minor": 4
}

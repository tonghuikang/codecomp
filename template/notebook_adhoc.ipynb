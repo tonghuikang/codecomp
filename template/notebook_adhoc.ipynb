{
 "cells": [
  {
   "cell_type": "code",
   "execution_count": 199,
   "metadata": {},
   "outputs": [],
   "source": [
    "%reset -sf"
   ]
  },
  {
   "cell_type": "code",
   "execution_count": 200,
   "metadata": {},
   "outputs": [
    {
     "data": {
      "text/plain": [
       "419"
      ]
     },
     "execution_count": 200,
     "metadata": {},
     "output_type": "execute_result"
    }
   ],
   "source": [
    "419"
   ]
  },
  {
   "cell_type": "code",
   "execution_count": 319,
   "metadata": {},
   "outputs": [],
   "source": [
    "# LOAD THIS BEFORE START, run rmdl\n",
    "\n",
    "#!/usr/bin/env python3\n",
    "import sys\n",
    "import math, random\n",
    "import functools, itertools, collections, heapq, bisect\n",
    "from collections import Counter, defaultdict, deque\n",
    "\n",
    "# import numpy as np\n",
    "import scipy\n",
    "import matplotlib.pyplot as plt\n",
    "\n",
    "abc = \"abcdefghijklmnopqrstuvwxyz\"\n",
    "abc_map = {c:i for i,c in enumerate(abc)}\n",
    "M9 = 10**9 + 7  # 998244353\n",
    "yes, no = \"YES\", \"NO\"\n",
    "d4 = [(1,0),(0,1),(-1,0),(0,-1)]\n",
    "d8 = [\n",
    "    (-1,-1),(-1,0),(-1,1),\n",
    "    (0,-1),(0,0),(0,1),\n",
    "    (1,-1),(1,0),(1,1)]\n",
    "d6 = [(2,0),(1,1),(-1,1),(-2,0),(-1,-1),(1,-1)]  # hexagonal layout\n",
    "MAXINT = sys.maxsize"
   ]
  },
  {
   "cell_type": "code",
   "execution_count": 394,
   "metadata": {},
   "outputs": [],
   "source": [
    "with open(\"/Users/htong/Downloads/input.txt\") as f:\n",
    "    srr = f.read().strip().split(\"\\n\")"
   ]
  },
  {
   "cell_type": "code",
   "execution_count": 372,
   "metadata": {},
   "outputs": [],
   "source": [
    "srr = \"\"\"\n",
    "1,0,1~1,2,1\n",
    "0,0,2~2,0,2\n",
    "0,2,3~2,2,3\n",
    "0,0,4~0,2,4\n",
    "2,0,5~2,2,5\n",
    "0,1,6~2,1,6\n",
    "1,1,8~1,1,9\n",
    "\"\"\".strip().split(\"\\n\")"
   ]
  },
  {
   "cell_type": "code",
   "execution_count": 395,
   "metadata": {},
   "outputs": [],
   "source": [
    "arr = []\n",
    "brr = []\n",
    "\n",
    "for row in srr:\n",
    "    ar, br = row.split(\"~\")\n",
    "    a,b,c = [int(x) for x in ar.split(\",\")]\n",
    "    x,y,z = [int(x) for x in br.split(\",\")]\n",
    "    \n",
    "    if a > x:\n",
    "        x, a = a, x\n",
    "    if b > y:\n",
    "        y, b = b, y\n",
    "    if c > z:\n",
    "        z, c = c, z\n",
    "    arr.append([a,b,c])\n",
    "    brr.append([x,y,z])"
   ]
  },
  {
   "cell_type": "code",
   "execution_count": 396,
   "metadata": {},
   "outputs": [
    {
     "name": "stdout",
     "output_type": "stream",
     "text": [
      "1283\n"
     ]
    }
   ],
   "source": [
    "print(len(arr))"
   ]
  },
  {
   "cell_type": "code",
   "execution_count": 397,
   "metadata": {},
   "outputs": [],
   "source": [
    "bricks = []  # all cells, top plane, bottom plane\n",
    "\n",
    "for (a,b,c),(x,y,z) in zip(arr, brr):\n",
    "    top_plane = []\n",
    "    bot_plane = []\n",
    "    cells = []\n",
    "    for p in range(a, x+1):\n",
    "        for q in range(b, y+1):\n",
    "            for r in range(c, z+1):\n",
    "                cells.append([p,q,r])\n",
    "                if r == c:\n",
    "                    bot_plane.append([p,q,r])\n",
    "                if r == z:\n",
    "                    top_plane.append([p,q,r])\n",
    "    bricks.append([top_plane, cells, bot_plane])"
   ]
  },
  {
   "cell_type": "code",
   "execution_count": 398,
   "metadata": {},
   "outputs": [],
   "source": [
    "occupied = set()\n",
    "for top_plane, cells, bot_plane in bricks:\n",
    "    for x,y,z in cells:\n",
    "        occupied.add((x,y,z))"
   ]
  },
  {
   "cell_type": "code",
   "execution_count": 399,
   "metadata": {},
   "outputs": [],
   "source": [
    "n = len(bricks)"
   ]
  },
  {
   "cell_type": "code",
   "execution_count": 400,
   "metadata": {},
   "outputs": [],
   "source": [
    "# bricks[i][-1][0][-1]"
   ]
  },
  {
   "cell_type": "code",
   "execution_count": 401,
   "metadata": {},
   "outputs": [],
   "source": [
    "# bricks"
   ]
  },
  {
   "cell_type": "code",
   "execution_count": 402,
   "metadata": {},
   "outputs": [],
   "source": [
    "# bricks"
   ]
  },
  {
   "cell_type": "code",
   "execution_count": 403,
   "metadata": {},
   "outputs": [],
   "source": [
    "flag = True\n",
    "while flag:\n",
    "    flag = False\n",
    "    for i in range(n):\n",
    "        top_plane, cells, bot_plane = bricks[i]\n",
    "        if bot_plane[0][-1] == 1:\n",
    "            continue\n",
    "        for x,y,z in bot_plane:\n",
    "            if (x,y,z-1) in occupied:\n",
    "                break\n",
    "        else:\n",
    "            flag = True\n",
    "            top_plane = [[x,y,z-1] for x,y,z in top_plane]\n",
    "            for x,y,z in cells:\n",
    "                occupied.remove((x,y,z))\n",
    "            cells = [[x,y,z-1] for x,y,z in cells]\n",
    "            for x,y,z in cells:\n",
    "                occupied.add((x,y,z))\n",
    "            bot_plane = [[x,y,z-1] for x,y,z in bot_plane]\n",
    "            bricks[i] = [top_plane, cells, bot_plane]"
   ]
  },
  {
   "cell_type": "code",
   "execution_count": 404,
   "metadata": {},
   "outputs": [],
   "source": [
    "xyz_to_idx = {}\n",
    "\n",
    "for i,(top_plane, cells, bot_plane) in enumerate(bricks):\n",
    "    for x,y,z in cells:\n",
    "        xyz_to_idx[x,y,z] = i"
   ]
  },
  {
   "cell_type": "code",
   "execution_count": 405,
   "metadata": {},
   "outputs": [],
   "source": [
    "# xyz_to_idx"
   ]
  },
  {
   "cell_type": "code",
   "execution_count": 406,
   "metadata": {},
   "outputs": [],
   "source": [
    "# bricks[0]"
   ]
  },
  {
   "cell_type": "code",
   "execution_count": 407,
   "metadata": {},
   "outputs": [],
   "source": [
    "flag = True\n",
    "cnt = 0\n",
    "for i in range(n):\n",
    "    top_plane, cells, bot_plane = bricks[i]\n",
    "    for x,y,z in top_plane:\n",
    "        if (x,y,z+1) in xyz_to_idx:\n",
    "            idx = xyz_to_idx[x,y,z+1]\n",
    "            assert i != idx\n",
    "            bot_plane = bricks[idx][-1]\n",
    "            for a,b,c in bot_plane: \n",
    "                if (a,b,c-1) not in xyz_to_idx:\n",
    "                    continue\n",
    "                if xyz_to_idx[a,b,c-1] == i:\n",
    "                    continue\n",
    "                break  # is supported\n",
    "            else:\n",
    "#                 print(i, idx)\n",
    "                break  # has a brick that is not supported, cannot be disintegrated\n",
    "    else:\n",
    "#         print(i)\n",
    "        cnt += 1"
   ]
  },
  {
   "cell_type": "code",
   "execution_count": 408,
   "metadata": {},
   "outputs": [
    {
     "data": {
      "text/plain": [
       "424"
      ]
     },
     "execution_count": 408,
     "metadata": {},
     "output_type": "execute_result"
    }
   ],
   "source": [
    "cnt"
   ]
  },
  {
   "cell_type": "code",
   "execution_count": 409,
   "metadata": {},
   "outputs": [],
   "source": [
    "bricks_original = deepcopy(bricks)\n",
    "occupied_original = deepcopy(occupied)"
   ]
  },
  {
   "cell_type": "code",
   "execution_count": 410,
   "metadata": {},
   "outputs": [
    {
     "name": "stdout",
     "output_type": "stream",
     "text": [
      "1283\n"
     ]
    }
   ],
   "source": [
    "print(len(bricks_original))"
   ]
  },
  {
   "cell_type": "code",
   "execution_count": 411,
   "metadata": {},
   "outputs": [],
   "source": [
    "from copy import deepcopy"
   ]
  },
  {
   "cell_type": "code",
   "execution_count": 412,
   "metadata": {},
   "outputs": [],
   "source": [
    "# occupied"
   ]
  },
  {
   "cell_type": "code",
   "execution_count": 413,
   "metadata": {},
   "outputs": [],
   "source": [
    "allscore = 0\n",
    "for q in range(n):\n",
    "    bricks = deepcopy(bricks_original)\n",
    "    occupied = deepcopy(occupied_original)\n",
    "    for x,y,z in bricks[q][1]:\n",
    "        occupied.remove((x,y,z))\n",
    "    del bricks[q]\n",
    "\n",
    "    flags = [False for _ in range(n-1)]\n",
    "    \n",
    "    flag = True\n",
    "    while flag:\n",
    "        flag = False\n",
    "        for i in range(n-1):\n",
    "            top_plane, cells, bot_plane = bricks[i]\n",
    "            if bot_plane[0][-1] == 1:\n",
    "                continue\n",
    "            for x,y,z in bot_plane:\n",
    "                if (x,y,z-1) in occupied:\n",
    "                    break\n",
    "            else:\n",
    "                flag = True\n",
    "                flags[i] = True\n",
    "                top_plane = [[x,y,z-1] for x,y,z in top_plane]\n",
    "                for x,y,z in cells:\n",
    "                    occupied.remove((x,y,z))\n",
    "                cells = [[x,y,z-1] for x,y,z in cells]\n",
    "                for x,y,z in cells:\n",
    "                    occupied.add((x,y,z))\n",
    "                bot_plane = [[x,y,z-1] for x,y,z in bot_plane]\n",
    "                bricks[i] = [top_plane, cells, bot_plane]\n",
    "                \n",
    "    score = sum(flags)\n",
    "    allscore += score"
   ]
  },
  {
   "cell_type": "code",
   "execution_count": 414,
   "metadata": {},
   "outputs": [
    {
     "data": {
      "text/plain": [
       "55483"
      ]
     },
     "execution_count": 414,
     "metadata": {},
     "output_type": "execute_result"
    }
   ],
   "source": [
    "allscore"
   ]
  },
  {
   "cell_type": "code",
   "execution_count": 416,
   "metadata": {},
   "outputs": [
    {
     "data": {
      "text/plain": [
       "6"
      ]
     },
     "execution_count": 416,
     "metadata": {},
     "output_type": "execute_result"
    }
   ],
   "source": [
    "maxscore"
   ]
  },
  {
   "cell_type": "code",
   "execution_count": null,
   "metadata": {},
   "outputs": [],
   "source": []
  },
  {
   "cell_type": "code",
   "execution_count": null,
   "metadata": {},
   "outputs": [],
   "source": []
  },
  {
   "cell_type": "code",
   "execution_count": null,
   "metadata": {},
   "outputs": [],
   "source": []
  },
  {
   "cell_type": "code",
   "execution_count": null,
   "metadata": {},
   "outputs": [],
   "source": []
  },
  {
   "cell_type": "code",
   "execution_count": null,
   "metadata": {},
   "outputs": [],
   "source": []
  }
 ],
 "metadata": {
  "kernelspec": {
   "display_name": "Python 3 (ipykernel)",
   "language": "python",
   "name": "python3"
  },
  "language_info": {
   "codemirror_mode": {
    "name": "ipython",
    "version": 3
   },
   "file_extension": ".py",
   "mimetype": "text/x-python",
   "name": "python",
   "nbconvert_exporter": "python",
   "pygments_lexer": "ipython3",
   "version": "3.9.7"
  }
 },
 "nbformat": 4,
 "nbformat_minor": 4
}

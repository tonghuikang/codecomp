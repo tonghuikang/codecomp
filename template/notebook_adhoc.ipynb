{
 "cells": [
  {
   "cell_type": "code",
   "execution_count": 1,
   "metadata": {},
   "outputs": [],
   "source": [
    "%reset -sf"
   ]
  },
  {
   "cell_type": "code",
   "execution_count": 2,
   "metadata": {},
   "outputs": [],
   "source": [
    "#!/usr/bin/env python3\n",
    "import sys\n",
    "import math, random\n",
    "import functools, itertools, collections, heapq, bisect\n",
    "from collections import Counter, defaultdict, deque\n",
    "\n",
    "# available on Google, AtCoder Python3, not available on Codeforces\n",
    "# import numpy as np\n",
    "# import scipy\n",
    "\n",
    "M9 = 10**9 + 7  # 998244353\n",
    "yes, no = \"YES\", \"NO\"\n",
    "# d4 = [(1,0),(0,1),(-1,0),(0,-1)]\n",
    "# d8 = [(1,0),(1,1),(0,1),(-1,1),(-1,0),(-1,-1),(0,-1),(1,-1)]\n",
    "# d6 = [(2,0),(1,1),(-1,1),(-2,0),(-1,-1),(1,-1)]  # hexagonal layout\n",
    "MAXINT = sys.maxsize"
   ]
  },
  {
   "cell_type": "code",
   "execution_count": 3,
   "metadata": {},
   "outputs": [],
   "source": [
    "trr = \"NNCB\"\n",
    "srr = \"\"\"\n",
    "CH -> B\n",
    "HH -> N\n",
    "CB -> H\n",
    "NH -> C\n",
    "HB -> C\n",
    "HC -> B\n",
    "HN -> C\n",
    "NN -> C\n",
    "BH -> H\n",
    "NC -> B\n",
    "NB -> B\n",
    "BN -> B\n",
    "BB -> N\n",
    "BC -> B\n",
    "CC -> N\n",
    "CN -> C\n",
    "\"\"\".strip()\n",
    "\n",
    "\n",
    "trr = \"NNSOFOCNHBVVNOBSBHCB\"\n",
    "with open(\"/Users/hkmac/Downloads/input.txt\") as f:\n",
    "    srr = f.read().strip().split(\"\\n\\n\")[1]\n",
    "    \n",
    "arr = srr.split(\"\\n\")"
   ]
  },
  {
   "cell_type": "markdown",
   "metadata": {},
   "source": [
    "              NBBBCNCCNBBNB BBCHBHHBCHB\n",
    "After step 2: N B C C N B B B C B H C B\n",
    "After step 3: NBBBCNCCNBBNBNBBCHBHHBCHB"
   ]
  },
  {
   "cell_type": "code",
   "execution_count": 4,
   "metadata": {},
   "outputs": [
    {
     "data": {
      "text/plain": [
       "'BNBB'"
      ]
     },
     "execution_count": 4,
     "metadata": {},
     "output_type": "execute_result"
    }
   ],
   "source": [
    "\"BBB\".replace(\"BB\", \"BNB\")\n"
   ]
  },
  {
   "cell_type": "code",
   "execution_count": 5,
   "metadata": {},
   "outputs": [],
   "source": [
    "# trr = \"NBBB\"\n",
    "# mapp = {}\n",
    "# for row in arr:\n",
    "#     a,b = row.split(\" -> \")\n",
    "#     mapp[a[0] + a[1]] = a[0] + \"x\" + b + \"x\" + a[1]\n",
    "\n",
    "# for a,b in mapp.items():\n",
    "#     trr = trr.replace(a,b)\n",
    "# trr"
   ]
  },
  {
   "cell_type": "code",
   "execution_count": null,
   "metadata": {},
   "outputs": [],
   "source": []
  },
  {
   "cell_type": "code",
   "execution_count": 6,
   "metadata": {},
   "outputs": [],
   "source": [
    "mapp = {}\n",
    "for row in arr:\n",
    "    a,b = row.split(\" -> \")\n",
    "    mapp[a] = (a[0] + b, b + a[1])"
   ]
  },
  {
   "cell_type": "code",
   "execution_count": 7,
   "metadata": {},
   "outputs": [],
   "source": [
    "c = Counter()\n",
    "for a,b in zip(trr, trr[1:]):\n",
    "    c[a+b] += 1"
   ]
  },
  {
   "cell_type": "code",
   "execution_count": 8,
   "metadata": {
    "scrolled": true
   },
   "outputs": [
    {
     "data": {
      "text/plain": [
       "Counter({'NN': 1,\n",
       "         'NS': 1,\n",
       "         'SO': 1,\n",
       "         'OF': 1,\n",
       "         'FO': 1,\n",
       "         'OC': 1,\n",
       "         'CN': 1,\n",
       "         'NH': 1,\n",
       "         'HB': 1,\n",
       "         'BV': 1,\n",
       "         'VV': 1,\n",
       "         'VN': 1,\n",
       "         'NO': 1,\n",
       "         'OB': 1,\n",
       "         'BS': 1,\n",
       "         'SB': 1,\n",
       "         'BH': 1,\n",
       "         'HC': 1,\n",
       "         'CB': 1})"
      ]
     },
     "execution_count": 8,
     "metadata": {},
     "output_type": "execute_result"
    }
   ],
   "source": [
    "c"
   ]
  },
  {
   "cell_type": "code",
   "execution_count": 9,
   "metadata": {},
   "outputs": [],
   "source": [
    "for _ in range(40):\n",
    "    d = Counter()\n",
    "    for k,(a,b) in mapp.items():\n",
    "        d[a] += c[k]\n",
    "        d[b] += c[k]\n",
    "    c = d\n",
    "#     print(c)"
   ]
  },
  {
   "cell_type": "code",
   "execution_count": 10,
   "metadata": {},
   "outputs": [],
   "source": [
    "e = Counter()\n",
    "for (a,b),v in d.items():\n",
    "    e[a] += v\n",
    "    e[b] += v\n",
    "e[trr[0]] += 1\n",
    "e[trr[-1]] += 1"
   ]
  },
  {
   "cell_type": "code",
   "execution_count": 11,
   "metadata": {
    "scrolled": false
   },
   "outputs": [
    {
     "name": "stdout",
     "output_type": "stream",
     "text": [
      "Counter({'N': 10493911616998, 'F': 5388479018368, 'H': 5154144395120, 'C': 4753590205514, 'P': 4214223329334, 'V': 2986133667876, 'O': 2534109260898, 'S': 2442329188358, 'K': 2203244080930, 'B': 1611277092094})\n"
     ]
    },
    {
     "data": {
      "text/plain": [
       "4441317262452"
      ]
     },
     "execution_count": 11,
     "metadata": {},
     "output_type": "execute_result"
    }
   ],
   "source": [
    "# print(trr)\n",
    "crr = sorted(e.values())\n",
    "print(e)\n",
    "(crr[-1] - crr[0]) // 2"
   ]
  },
  {
   "cell_type": "code",
   "execution_count": 12,
   "metadata": {},
   "outputs": [
    {
     "data": {
      "text/plain": [
       "304"
      ]
     },
     "execution_count": 12,
     "metadata": {},
     "output_type": "execute_result"
    }
   ],
   "source": [
    "1749 - 1445"
   ]
  },
  {
   "cell_type": "code",
   "execution_count": 13,
   "metadata": {},
   "outputs": [
    {
     "data": {
      "text/plain": [
       "166"
      ]
     },
     "execution_count": 13,
     "metadata": {},
     "output_type": "execute_result"
    }
   ],
   "source": [
    "865 - 699"
   ]
  },
  {
   "cell_type": "code",
   "execution_count": null,
   "metadata": {},
   "outputs": [],
   "source": []
  },
  {
   "cell_type": "code",
   "execution_count": null,
   "metadata": {},
   "outputs": [],
   "source": []
  },
  {
   "cell_type": "code",
   "execution_count": null,
   "metadata": {},
   "outputs": [],
   "source": []
  }
 ],
 "metadata": {
  "kernelspec": {
   "display_name": "Python 3",
   "language": "python",
   "name": "python3"
  },
  "language_info": {
   "codemirror_mode": {
    "name": "ipython",
    "version": 3
   },
   "file_extension": ".py",
   "mimetype": "text/x-python",
   "name": "python",
   "nbconvert_exporter": "python",
   "pygments_lexer": "ipython3",
   "version": "3.8.3"
  }
 },
 "nbformat": 4,
 "nbformat_minor": 4
}

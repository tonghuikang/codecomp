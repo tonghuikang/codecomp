{
 "cells": [
  {
   "cell_type": "code",
   "execution_count": 9,
   "metadata": {},
   "outputs": [],
   "source": [
    "count = 0\n",
    "\n",
    "def partition(array, begin, end):\n",
    "    pivot = begin\n",
    "    global count\n",
    "    for i in range(begin+1, end+1):\n",
    "        if array[i] <= array[begin]:\n",
    "            count += 1\n",
    "            pivot += 1\n",
    "            array[i], array[pivot] = array[pivot], array[i]\n",
    "    array[pivot], array[begin] = array[begin], array[pivot]\n",
    "    return pivot\n",
    "\n",
    "\n",
    "\n",
    "def quicksort(array, begin=0, end=None):\n",
    "    if end is None:\n",
    "        end = len(array) - 1\n",
    "    def _quicksort(array, begin, end):\n",
    "        if begin >= end:\n",
    "            return\n",
    "        pivot = partition(array, begin, end)\n",
    "        _quicksort(array, begin, pivot-1)\n",
    "        _quicksort(array, pivot+1, end)\n",
    "    return _quicksort(array, begin, end)"
   ]
  },
  {
   "cell_type": "code",
   "execution_count": 18,
   "metadata": {},
   "outputs": [
    {
     "name": "stdout",
     "output_type": "stream",
     "text": [
      "269\n",
      "261\n",
      "285\n",
      "314\n",
      "254\n",
      "246\n",
      "239\n",
      "382\n",
      "376\n",
      "528\n",
      "322\n",
      "285\n",
      "348\n",
      "339\n",
      "286\n",
      "268\n",
      "298\n",
      "445\n",
      "414\n",
      "335\n",
      "282\n",
      "387\n",
      "306\n",
      "285\n",
      "289\n",
      "419\n",
      "320\n",
      "258\n",
      "397\n",
      "283\n",
      "305\n",
      "267\n",
      "296\n",
      "290\n",
      "266\n",
      "245\n",
      "281\n",
      "329\n",
      "281\n",
      "283\n",
      "431\n",
      "310\n",
      "309\n",
      "340\n",
      "430\n",
      "408\n",
      "465\n",
      "265\n",
      "348\n",
      "286\n"
     ]
    }
   ],
   "source": [
    "for _ in range(50):\n",
    "    count = 0\n",
    "    arr = list(range(100))[::-1]\n",
    "    import random\n",
    "    random.shuffle(arr)\n",
    "    quicksort(arr)\n",
    "    print(count)"
   ]
  },
  {
   "cell_type": "code",
   "execution_count": null,
   "metadata": {},
   "outputs": [],
   "source": []
  }
 ],
 "metadata": {
  "kernelspec": {
   "display_name": "Python 3",
   "language": "python",
   "name": "python3"
  },
  "language_info": {
   "codemirror_mode": {
    "name": "ipython",
    "version": 3
   },
   "file_extension": ".py",
   "mimetype": "text/x-python",
   "name": "python",
   "nbconvert_exporter": "python",
   "pygments_lexer": "ipython3",
   "version": "3.7.9"
  }
 },
 "nbformat": 4,
 "nbformat_minor": 4
}

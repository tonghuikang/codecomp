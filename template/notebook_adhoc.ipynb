{
 "cells": [
  {
   "cell_type": "code",
   "execution_count": 1,
   "metadata": {},
   "outputs": [],
   "source": [
    "%reset -sf"
   ]
  },
  {
   "cell_type": "code",
   "execution_count": 1,
   "metadata": {},
   "outputs": [],
   "source": [
    "# LOAD THIS BEFORE START\n",
    "\n",
    "#!/usr/bin/env python3\n",
    "import sys\n",
    "import math, random\n",
    "import functools, itertools, collections, heapq, bisect\n",
    "from collections import Counter, defaultdict, deque\n",
    "\n",
    "# import numpy as np\n",
    "# import scipy\n",
    "# import matplotlib.pyplot as plt\n",
    "\n",
    "abc = \"abcdefghijklmnopqrstuvwxyz\"\n",
    "M9 = 10**9 + 7  # 998244353\n",
    "yes, no = \"YES\", \"NO\"\n",
    "d4 = [(1,0),(0,1),(-1,0),(0,-1)]\n",
    "d8 = [\n",
    "    (-1,-1),(-1,0),(-1,1),\n",
    "    (0,-1),(0,0),(0,1),\n",
    "    (1,-1),(1,0),(1,1)]\n",
    "d6 = [(2,0),(1,1),(-1,1),(-2,0),(-1,-1),(1,-1)]  # hexagonal layout\n",
    "MAXINT = sys.maxsize"
   ]
  },
  {
   "cell_type": "code",
   "execution_count": 137,
   "metadata": {},
   "outputs": [],
   "source": [
    "with open(\"/Users/htong/Downloads/input.txt\") as f:\n",
    "    srr = f.read().strip()"
   ]
  },
  {
   "cell_type": "code",
   "execution_count": 6,
   "metadata": {},
   "outputs": [],
   "source": [
    "# srr"
   ]
  },
  {
   "cell_type": "code",
   "execution_count": 138,
   "metadata": {},
   "outputs": [],
   "source": [
    "# srr = \"\"\"\n",
    "# noop\n",
    "# addx 3\n",
    "# addx -5\n",
    "# \"\"\".strip()"
   ]
  },
  {
   "cell_type": "code",
   "execution_count": 139,
   "metadata": {},
   "outputs": [],
   "source": [
    "res = 0"
   ]
  },
  {
   "cell_type": "code",
   "execution_count": 140,
   "metadata": {},
   "outputs": [],
   "source": [
    "pts = [20, 60, 100, 140, 180, 220]"
   ]
  },
  {
   "cell_type": "code",
   "execution_count": 141,
   "metadata": {},
   "outputs": [],
   "source": [
    "brr = [0 for _ in range(240)]"
   ]
  },
  {
   "cell_type": "code",
   "execution_count": 142,
   "metadata": {},
   "outputs": [
    {
     "name": "stdout",
     "output_type": "stream",
     "text": [
      "20 21\n",
      "60 17\n",
      "100 23\n",
      "140 17\n",
      "180 21\n",
      "220 21\n"
     ]
    }
   ],
   "source": [
    "cycle = 0\n",
    "val = 1\n",
    "for row in srr.split(\"\\n\"):\n",
    "    if row == \"noop\":\n",
    "        if abs(val - cycle%40) <= 1:\n",
    "            brr[cycle] = 1\n",
    "        cycle += 1\n",
    "        if cycle in pts:\n",
    "            print(cycle, val)\n",
    "            res += cycle * val\n",
    "        continue\n",
    "    a,b = row.split()\n",
    "    b = int(b)\n",
    "    if abs(val - cycle%40) <= 1:\n",
    "        brr[cycle] = 1\n",
    "    cycle += 1\n",
    "    if cycle in pts:\n",
    "        print(cycle, val)\n",
    "        res += cycle * val\n",
    "    if abs(val - cycle%40) <= 1:\n",
    "        brr[cycle] = 1\n",
    "    cycle += 1\n",
    "    if cycle in pts:\n",
    "        print(cycle, val)\n",
    "        res += cycle * val\n",
    "    val += b\n",
    "#     print(val)"
   ]
  },
  {
   "cell_type": "code",
   "execution_count": 143,
   "metadata": {},
   "outputs": [
    {
     "name": "stdout",
     "output_type": "stream",
     "text": [
      "1110011110111000110011110111100011011100\n",
      "1001000010100101001000010100000001010010\n",
      "1001000100111001000000100111000001011100\n",
      "1110001000100101011001000100000001010010\n",
      "1000010000100101001010000100001001010010\n",
      "1000011110111000111011110111100110011100\n"
     ]
    }
   ],
   "source": [
    "print(\"\\n\".join([\n",
    "    \"\".join(map(str,brr[  0: 40])),\n",
    "    \"\".join(map(str,brr[ 40: 80])),\n",
    "    \"\".join(map(str,brr[ 80:120])),\n",
    "    \"\".join(map(str,brr[120:160])),\n",
    "    \"\".join(map(str,brr[160:200])),\n",
    "    \"\".join(map(str,brr[200:240])),\n",
    "]))"
   ]
  },
  {
   "cell_type": "code",
   "execution_count": 108,
   "metadata": {},
   "outputs": [
    {
     "data": {
      "text/plain": [
       "26280"
      ]
     },
     "execution_count": 108,
     "metadata": {},
     "output_type": "execute_result"
    }
   ],
   "source": [
    "res"
   ]
  },
  {
   "cell_type": "code",
   "execution_count": 15,
   "metadata": {},
   "outputs": [],
   "source": [
    "def test(arr):\n",
    "    res = 0\n",
    "    return res"
   ]
  },
  {
   "cell_type": "code",
   "execution_count": null,
   "metadata": {},
   "outputs": [],
   "source": []
  },
  {
   "cell_type": "code",
   "execution_count": null,
   "metadata": {},
   "outputs": [],
   "source": [
    "# 20th, 60th, 100th, 140th, 180th, and 220th"
   ]
  },
  {
   "cell_type": "code",
   "execution_count": null,
   "metadata": {},
   "outputs": [],
   "source": []
  }
 ],
 "metadata": {
  "kernelspec": {
   "display_name": "Python 3 (ipykernel)",
   "language": "python",
   "name": "python3"
  },
  "language_info": {
   "codemirror_mode": {
    "name": "ipython",
    "version": 3
   },
   "file_extension": ".py",
   "mimetype": "text/x-python",
   "name": "python",
   "nbconvert_exporter": "python",
   "pygments_lexer": "ipython3",
   "version": "3.9.7"
  }
 },
 "nbformat": 4,
 "nbformat_minor": 4
}

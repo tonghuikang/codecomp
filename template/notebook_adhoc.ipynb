{
 "cells": [
  {
   "cell_type": "code",
   "execution_count": 22,
   "metadata": {},
   "outputs": [],
   "source": [
    "LARGE = 10**5\n",
    "\n",
    "srr = []\n",
    "srr.append(str(LARGE))\n",
    "srr.append(\" \".join([\"1\"]*LARGE))\n",
    "for i in range(1, LARGE):\n",
    "    srr.append(\"{} {}\".format(i, i+1))\n",
    "srr = \"\\n\".join(srr)\n",
    "    \n",
    "with open(\"out.txt\", \"w\") as f:\n",
    "    f.write(srr)"
   ]
  },
  {
   "cell_type": "code",
   "execution_count": null,
   "metadata": {},
   "outputs": [],
   "source": []
  }
 ],
 "metadata": {
  "kernelspec": {
   "display_name": "Python 3",
   "language": "python",
   "name": "python3"
  },
  "language_info": {
   "codemirror_mode": {
    "name": "ipython",
    "version": 3
   },
   "file_extension": ".py",
   "mimetype": "text/x-python",
   "name": "python",
   "nbconvert_exporter": "python",
   "pygments_lexer": "ipython3",
   "version": "3.8.3"
  }
 },
 "nbformat": 4,
 "nbformat_minor": 4
}

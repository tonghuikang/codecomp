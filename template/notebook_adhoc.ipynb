{
 "cells": [
  {
   "cell_type": "code",
   "execution_count": 2,
   "metadata": {},
   "outputs": [],
   "source": [
    "%reset -sf"
   ]
  },
  {
   "cell_type": "code",
   "execution_count": 317,
   "metadata": {},
   "outputs": [],
   "source": [
    "# LOAD THIS BEFORE START, run rmdl\n",
    "\n",
    "#!/usr/bin/env python3\n",
    "import sys\n",
    "import math, random\n",
    "import functools, itertools, collections, heapq, bisect\n",
    "from collections import Counter, defaultdict, deque\n",
    "\n",
    "# import numpy as np\n",
    "import scipy\n",
    "import matplotlib.pyplot as plt\n",
    "\n",
    "abc = \"abcdefghijklmnopqrstuvwxyz\"\n",
    "abc_map = {c:i for i,c in enumerate(abc)}\n",
    "M9 = 10**9 + 7  # 998244353\n",
    "yes, no = \"YES\", \"NO\"\n",
    "d4 = [(1,0),(0,1),(-1,0),(0,-1)]\n",
    "d8 = [\n",
    "    (-1,-1),(-1,0),(-1,1),\n",
    "    (0,-1),(0,0),(0,1),\n",
    "    (1,-1),(1,0),(1,1)]\n",
    "d6 = [(2,0),(1,1),(-1,1),(-2,0),(-1,-1),(1,-1)]  # hexagonal layout\n",
    "MAXINT = sys.maxsize"
   ]
  },
  {
   "cell_type": "code",
   "execution_count": 55,
   "metadata": {},
   "outputs": [],
   "source": [
    "with open(\"/Users/htong/Downloads/input.txt\") as f:\n",
    "    srr = f.read().strip().split(\"\\n\")"
   ]
  },
  {
   "cell_type": "code",
   "execution_count": 54,
   "metadata": {},
   "outputs": [],
   "source": [
    "srr = \"\"\"\n",
    "O....#....\n",
    "O.OO#....#\n",
    ".....##...\n",
    "OO.#O....O\n",
    ".O.....O#.\n",
    "O.#..O.#.#\n",
    "..O..#O..O\n",
    ".......O..\n",
    "#....###..\n",
    "#OO..#....\n",
    "\"\"\".strip().split(\"\\n\")"
   ]
  },
  {
   "cell_type": "code",
   "execution_count": 56,
   "metadata": {},
   "outputs": [],
   "source": [
    "arr = [list(row) for row in srr]"
   ]
  },
  {
   "cell_type": "code",
   "execution_count": 59,
   "metadata": {},
   "outputs": [],
   "source": [
    "def rotate_90_clockwise(matrix):\n",
    "    rows, cols = len(matrix), len(matrix[0])\n",
    "    rotated = [[0] * rows for _ in range(cols)]\n",
    "\n",
    "    for i in range(rows):\n",
    "        for j in range(cols):\n",
    "            rotated[j][rows - 1 - i] = matrix[i][j]\n",
    "\n",
    "    return rotated"
   ]
  },
  {
   "cell_type": "code",
   "execution_count": 60,
   "metadata": {},
   "outputs": [],
   "source": [
    "def rotate_90_counterclockwise(matrix):\n",
    "    rows, cols = len(matrix), len(matrix[0])\n",
    "    rotated = [[0] * rows for _ in range(cols)]\n",
    "\n",
    "    for i in range(rows):\n",
    "        for j in range(cols):\n",
    "            rotated[cols - 1 - j][i] = matrix[i][j]\n",
    "\n",
    "    return rotated"
   ]
  },
  {
   "cell_type": "code",
   "execution_count": 65,
   "metadata": {},
   "outputs": [
    {
     "name": "stdout",
     "output_type": "stream",
     "text": [
      "1 102369\n",
      "2 102338\n",
      "3 102324\n",
      "4 102329\n",
      "5 102310\n",
      "6 102303\n",
      "7 102291\n",
      "8 102279\n",
      "9 102281\n",
      "10 102282\n",
      "11 102301\n",
      "12 102341\n",
      "13 102397\n",
      "14 102455\n",
      "15 102523\n",
      "16 102588\n",
      "17 102664\n",
      "18 102718\n",
      "19 102755\n",
      "20 102812\n",
      "21 102849\n",
      "22 102893\n",
      "23 102923\n",
      "24 102956\n",
      "25 102989\n",
      "26 103003\n",
      "27 102998\n",
      "28 102979\n",
      "29 102943\n",
      "30 102905\n",
      "31 102859\n",
      "32 102810\n",
      "33 102775\n",
      "34 102747\n",
      "35 102726\n",
      "36 102696\n",
      "37 102660\n",
      "38 102625\n",
      "39 102574\n",
      "40 102522\n",
      "41 102471\n",
      "42 102417\n",
      "43 102369\n",
      "44 102338\n",
      "45 102324\n",
      "46 102329\n",
      "47 102310\n",
      "48 102303\n",
      "49 102291\n",
      "50 102279\n",
      "51 102281\n",
      "52 102282\n",
      "53 102301\n",
      "54 102341\n",
      "55 102397\n",
      "56 102455\n",
      "57 102523\n",
      "58 102588\n",
      "59 102664\n",
      "60 102718\n",
      "61 102755\n",
      "62 102812\n",
      "63 102849\n",
      "64 102893\n",
      "65 102923\n",
      "66 102956\n",
      "67 102989\n",
      "68 103003\n",
      "69 102998\n",
      "70 102979\n",
      "71 102943\n",
      "72 102905\n",
      "73 102859\n",
      "74 102810\n",
      "75 102775\n",
      "76 102747\n",
      "77 102726\n",
      "78 102696\n",
      "79 102660\n",
      "80 102625\n",
      "81 102574\n",
      "82 102522\n",
      "83 102471\n",
      "84 102417\n",
      "85 102369\n",
      "86 102338\n",
      "87 102324\n",
      "88 102329\n",
      "89 102310\n",
      "90 102303\n",
      "91 102291\n",
      "92 102279\n",
      "93 102281\n",
      "94 102282\n",
      "95 102301\n",
      "96 102341\n",
      "97 102397\n",
      "98 102455\n",
      "99 102523\n",
      "100 102588\n"
     ]
    }
   ],
   "source": [
    "for q in range(400):\n",
    "\n",
    "    n = len(arr)\n",
    "    m = len(arr[0])\n",
    "\n",
    "    for i in range(n):\n",
    "        for j in range(m):\n",
    "            x,y = i,j\n",
    "            if arr[x][y] == \"O\":\n",
    "                while x > 0 and arr[x-1][y] == \".\":\n",
    "                    arr[x][y], arr[x-1][y] = \".\", \"O\"\n",
    "                    x -= 1\n",
    "\n",
    "\n",
    "    arr = rotate_90_clockwise(arr)\n",
    "\n",
    "    res = 0\n",
    "    for i in range(n):\n",
    "        for j in range(m):\n",
    "            if arr[i][j] == \"O\":\n",
    "                res += n - i\n",
    "    if q%4 == 3:\n",
    "        print((q + 1) // 4, res)\n",
    "    \n"
   ]
  },
  {
   "cell_type": "code",
   "execution_count": 62,
   "metadata": {},
   "outputs": [
    {
     "data": {
      "text/plain": [
       "34"
      ]
     },
     "execution_count": 62,
     "metadata": {},
     "output_type": "execute_result"
    }
   ],
   "source": [
    "1000000000 % 42"
   ]
  },
  {
   "cell_type": "code",
   "execution_count": 63,
   "metadata": {},
   "outputs": [
    {
     "data": {
      "text/plain": [
       "454"
      ]
     },
     "execution_count": 63,
     "metadata": {},
     "output_type": "execute_result"
    }
   ],
   "source": [
    "420 + 34"
   ]
  },
  {
   "cell_type": "code",
   "execution_count": null,
   "metadata": {},
   "outputs": [],
   "source": []
  }
 ],
 "metadata": {
  "kernelspec": {
   "display_name": "Python 3 (ipykernel)",
   "language": "python",
   "name": "python3"
  },
  "language_info": {
   "codemirror_mode": {
    "name": "ipython",
    "version": 3
   },
   "file_extension": ".py",
   "mimetype": "text/x-python",
   "name": "python",
   "nbconvert_exporter": "python",
   "pygments_lexer": "ipython3",
   "version": "3.9.7"
  }
 },
 "nbformat": 4,
 "nbformat_minor": 4
}

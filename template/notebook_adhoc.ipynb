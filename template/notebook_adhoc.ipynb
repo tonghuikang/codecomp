{
 "cells": [
  {
   "cell_type": "code",
   "execution_count": 1,
   "metadata": {},
   "outputs": [],
   "source": [
    "%reset -sf"
   ]
  },
  {
   "cell_type": "code",
   "execution_count": 220,
   "metadata": {},
   "outputs": [],
   "source": [
    "# LOAD THIS BEFORE START, run rmdl\n",
    "\n",
    "#!/usr/bin/env python3\n",
    "import sys\n",
    "import math, random\n",
    "import functools, itertools, collections, heapq, bisect\n",
    "from collections import Counter, defaultdict, deque\n",
    "\n",
    "# import numpy as np\n",
    "# import scipy\n",
    "import matplotlib.pyplot as plt\n",
    "\n",
    "abc = \"abcdefghijklmnopqrstuvwxyz\"\n",
    "abc_map = {c:i for i,c in enumerate(abc)}\n",
    "M9 = 10**9 + 7  # 998244353\n",
    "yes, no = \"YES\", \"NO\"\n",
    "d4 = [(1,0),(0,1),(-1,0),(0,-1)]\n",
    "d8 = [\n",
    "    (-1,-1),(-1,0),(-1,1),\n",
    "    (0,-1),(0,0),(0,1),\n",
    "    (1,-1),(1,0),(1,1)]\n",
    "d6 = [(2,0),(1,1),(-1,1),(-2,0),(-1,-1),(1,-1)]  # hexagonal layout\n",
    "MAXINT = sys.maxsize"
   ]
  },
  {
   "cell_type": "code",
   "execution_count": 304,
   "metadata": {},
   "outputs": [],
   "source": [
    "with open(\"/Users/htong/Downloads/input.txt\") as f:\n",
    "    srr, arr = f.read().split(\"\\n\\n\")\n",
    "srr = srr.split(\"\\n\")"
   ]
  },
  {
   "cell_type": "code",
   "execution_count": 305,
   "metadata": {},
   "outputs": [],
   "source": [
    "# srr, arr = \"\"\"        ...#\n",
    "#         .#..\n",
    "#         #...\n",
    "#         ....\n",
    "# ...#.......#\n",
    "# ........#...\n",
    "# ..#....#....\n",
    "# ..........#.\n",
    "#         ...#....\n",
    "#         .....#..\n",
    "#         .#......\n",
    "#         ......#.\n",
    "\n",
    "# 10R5L5R10L4R5L5\"\"\".split(\"\\n\\n\")\n",
    "# srr = srr.split(\"\\n\")"
   ]
  },
  {
   "cell_type": "code",
   "execution_count": 306,
   "metadata": {},
   "outputs": [
    {
     "data": {
      "text/plain": [
       "(200, 150)"
      ]
     },
     "execution_count": 306,
     "metadata": {},
     "output_type": "execute_result"
    }
   ],
   "source": [
    "n = len(srr)\n",
    "m = max(len(row) for row in srr)\n",
    "n,m"
   ]
  },
  {
   "cell_type": "code",
   "execution_count": 307,
   "metadata": {},
   "outputs": [],
   "source": [
    "for i in range(n):\n",
    "    while len(srr[i]) < m:\n",
    "        srr[i] += \" \""
   ]
  },
  {
   "cell_type": "code",
   "execution_count": 308,
   "metadata": {},
   "outputs": [],
   "source": [
    "vals = []\n",
    "cur = ''\n",
    "for x in arr:\n",
    "    if x == \"R\":\n",
    "        vals.append(int(cur))\n",
    "        cur = ''\n",
    "        vals.append('R')\n",
    "    elif x == \"L\":\n",
    "        vals.append(int(cur))\n",
    "        cur = ''\n",
    "        vals.append('L')\n",
    "    else:\n",
    "        cur += x\n",
    "vals.append(int(cur))"
   ]
  },
  {
   "cell_type": "code",
   "execution_count": 309,
   "metadata": {},
   "outputs": [],
   "source": [
    "# You begin the path in the leftmost open tile of the top row of tiles."
   ]
  },
  {
   "cell_type": "code",
   "execution_count": null,
   "metadata": {},
   "outputs": [],
   "source": []
  },
  {
   "cell_type": "code",
   "execution_count": 310,
   "metadata": {},
   "outputs": [],
   "source": [
    "didx = 1\n",
    "# R is minus one"
   ]
  },
  {
   "cell_type": "code",
   "execution_count": null,
   "metadata": {},
   "outputs": [],
   "source": []
  },
  {
   "cell_type": "code",
   "execution_count": null,
   "metadata": {},
   "outputs": [],
   "source": []
  },
  {
   "cell_type": "code",
   "execution_count": 311,
   "metadata": {},
   "outputs": [],
   "source": [
    "pts = []\n",
    "x, y = 0,50\n",
    "for val in vals:\n",
    "#     print(val)\n",
    "    if val == \"R\":\n",
    "        didx = (didx - 1)%4\n",
    "        continue\n",
    "    if val == \"L\":\n",
    "        didx = (didx + 1)%4\n",
    "        continue\n",
    "    while val > 0:\n",
    "        dx, dy = d4[didx]\n",
    "        odidx = didx\n",
    "        xx = (x+dx)\n",
    "        yy = (y+dy)\n",
    "        last = -1\n",
    "        flag = False\n",
    "        if srr[xx%n][yy%m] == \" \":\n",
    "            flag = True\n",
    "            if 0 <= xx < 50 and yy == 49:\n",
    "                last = 11\n",
    "                dist = xx-0\n",
    "                didx = 1\n",
    "                xx = 150 - 1 - dist\n",
    "                yy = 0\n",
    "            elif 50 <= xx < 100 and yy == 49:\n",
    "                last = 13\n",
    "                dist = xx-50\n",
    "                didx = 0\n",
    "                xx = 100\n",
    "                yy = 0 + dist\n",
    "            elif 100 <= xx < 150 and yy == -1:\n",
    "                last = 12\n",
    "                dist = xx-100\n",
    "                didx = 1\n",
    "                xx = 50 - 1 - dist\n",
    "                yy = 50\n",
    "            elif 150 <= xx < 200 and yy == -1:\n",
    "                last = 14\n",
    "                dist = xx-150\n",
    "                didx = 0\n",
    "                xx = 0\n",
    "                yy = 50 + dist\n",
    "            elif 0 <= xx < 50 and yy == 150:\n",
    "                last = 15\n",
    "                dist = xx-0  \n",
    "                didx = 3\n",
    "                xx = 150 - 1 - dist\n",
    "                yy = 100 - 1\n",
    "            elif 50 <= xx < 100 and yy == 100:\n",
    "                last = 16\n",
    "                dist = xx-50\n",
    "                didx = 2\n",
    "                xx = 50 - 1\n",
    "                yy = 100 + dist\n",
    "            elif 100 <= xx < 150 and yy == 100:\n",
    "                last = 17\n",
    "                dist = xx-100\n",
    "                didx = 3\n",
    "                xx = 50 - 1 - dist\n",
    "                yy = 150 - 1\n",
    "            elif 150 <= xx < 200 and yy == 50:\n",
    "                last = 18\n",
    "                dist = xx-150\n",
    "                didx = 2\n",
    "                xx = 150 - 1\n",
    "                yy = 50 + dist\n",
    "            elif xx == -1 and 50 <= yy < 100:\n",
    "                last = 19\n",
    "                dist = yy-50\n",
    "                didx = 1\n",
    "                xx = 150 + dist\n",
    "                yy = 0\n",
    "            elif xx == -1 and 100 <= yy < 150:\n",
    "                last = 21\n",
    "                dist = yy-100\n",
    "                didx = 2\n",
    "                xx = 200 - 1\n",
    "                yy = 0 + dist\n",
    "            elif xx == 50 and 100 <= yy < 150:\n",
    "                last = 22\n",
    "                dist = yy-100\n",
    "                didx = 3\n",
    "                xx = 50 + dist\n",
    "                yy = 100 - 1\n",
    "            elif xx == 100 - 1 and 0 <= yy < 50:\n",
    "                last = 23\n",
    "                dist = yy-0\n",
    "                didx = 1\n",
    "                xx = 50 + dist\n",
    "                yy = 50\n",
    "            elif xx == 150 and 50 <= yy < 100:\n",
    "                last = 24\n",
    "                dist = yy-50\n",
    "                didx = 3\n",
    "                xx = 150 + dist\n",
    "                yy = 50 - 1\n",
    "            elif xx == 200 and 0 <= yy < 50:\n",
    "                last = 25\n",
    "                dist = yy-0\n",
    "                didx = 0\n",
    "                xx = 0\n",
    "                yy = 100 + dist\n",
    "        if flag:\n",
    "#             pts.append([(149-y,199-x),(149-yy,199-xx)])\n",
    "            pts.append([(x,y),(xx,yy)])\n",
    "        if srr[xx][yy] == \" \":\n",
    "            print(x,y,didx,last,xx,yy)\n",
    "            raise\n",
    "        if srr[xx][yy] == \"#\":\n",
    "            val = 0\n",
    "            didx = odidx\n",
    "            continue\n",
    "        if srr[xx][yy] == \".\":\n",
    "            x,y = xx,yy\n",
    "            val -= 1\n",
    "            continue\n",
    "#     print(x+1,y+1)"
   ]
  },
  {
   "cell_type": "code",
   "execution_count": 312,
   "metadata": {},
   "outputs": [
    {
     "data": {
      "image/png": "[encoded data removed]",
      "text/plain": [
       "<Figure size 432x288 with 1 Axes>"
      ]
     },
     "metadata": {
      "needs_background": "light"
     },
     "output_type": "display_data"
    }
   ],
   "source": [
    "import numpy as np\n",
    "import pylab as pl\n",
    "from matplotlib import collections  as mc\n",
    "\n",
    "lines = pts\n",
    "# c = np.array([(1, 0, 0, 1), (0, 1, 0, 1), (0, 0, 1, 1)])\n",
    "\n",
    "lc = mc.LineCollection(lines, linewidths=2)\n",
    "fig, ax = pl.subplots()\n",
    "ax.add_collection(lc)\n",
    "ax.autoscale()\n",
    "ax.margins(0.1)"
   ]
  },
  {
   "cell_type": "code",
   "execution_count": 313,
   "metadata": {},
   "outputs": [],
   "source": [
    "# vals"
   ]
  },
  {
   "cell_type": "code",
   "execution_count": 314,
   "metadata": {},
   "outputs": [],
   "source": [
    "# 10R5L5R10L4R5L5"
   ]
  },
  {
   "cell_type": "code",
   "execution_count": 315,
   "metadata": {},
   "outputs": [
    {
     "data": {
      "text/plain": [
       "(52, 77, 2)"
      ]
     },
     "execution_count": 315,
     "metadata": {},
     "output_type": "execute_result"
    }
   ],
   "source": [
    "res = x+1,y+1,didx\n",
    "res"
   ]
  },
  {
   "cell_type": "code",
   "execution_count": 316,
   "metadata": {},
   "outputs": [
    {
     "data": {
      "text/plain": [
       "30602"
      ]
     },
     "execution_count": 316,
     "metadata": {},
     "output_type": "execute_result"
    }
   ],
   "source": [
    "30602"
   ]
  },
  {
   "cell_type": "code",
   "execution_count": 319,
   "metadata": {},
   "outputs": [
    {
     "data": {
      "text/plain": [
       "52311"
      ]
     },
     "execution_count": 319,
     "metadata": {},
     "output_type": "execute_result"
    }
   ],
   "source": [
    "res[0] * 1000 + 4 * res[1] + 3"
   ]
  },
  {
   "cell_type": "code",
   "execution_count": 162,
   "metadata": {},
   "outputs": [
    {
     "data": {
      "text/plain": [
       "181128"
      ]
     },
     "execution_count": 162,
     "metadata": {},
     "output_type": "execute_result"
    }
   ],
   "source": [
    "181 * 1000 + 4 * 32 + 0"
   ]
  },
  {
   "cell_type": "code",
   "execution_count": null,
   "metadata": {},
   "outputs": [],
   "source": [
    "# Facing is 0 for right (>), 1 for down (v), 2 for left (<), and 3 for up (^). \n",
    "# The final password is the sum of 1000 times the row, 4 times the column, and the facing."
   ]
  }
 ],
 "metadata": {
  "kernelspec": {
   "display_name": "Python 3 (ipykernel)",
   "language": "python",
   "name": "python3"
  },
  "language_info": {
   "codemirror_mode": {
    "name": "ipython",
    "version": 3
   },
   "file_extension": ".py",
   "mimetype": "text/x-python",
   "name": "python",
   "nbconvert_exporter": "python",
   "pygments_lexer": "ipython3",
   "version": "3.9.7"
  }
 },
 "nbformat": 4,
 "nbformat_minor": 4
}

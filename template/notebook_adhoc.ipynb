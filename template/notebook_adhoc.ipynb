{
 "cells": [
  {
   "cell_type": "code",
   "execution_count": 300,
   "metadata": {},
   "outputs": [],
   "source": [
    "%reset -sf"
   ]
  },
  {
   "cell_type": "code",
   "execution_count": 405,
   "metadata": {},
   "outputs": [],
   "source": [
    "# LOAD THIS BEFORE START, run rmdl\n",
    "\n",
    "#!/usr/bin/env python3\n",
    "import sys\n",
    "import math, random\n",
    "import functools, itertools, collections, heapq, bisect\n",
    "from collections import Counter, defaultdict, deque\n",
    "\n",
    "# import numpy as np\n",
    "# import scipy\n",
    "# import matplotlib.pyplot as plt\n",
    "\n",
    "abc = \"abcdefghijklmnopqrstuvwxyz\"\n",
    "abc_map = {c:i for i,c in enumerate(abc)}\n",
    "M9 = 10**9 + 7  # 998244353\n",
    "yes, no = \"YES\", \"NO\"\n",
    "d4 = [(1,0),(0,1),(-1,0),(0,-1)]\n",
    "d8 = [\n",
    "    (-1,-1),(-1,0),(-1,1),\n",
    "    (0,-1),(0,0),(0,1),\n",
    "    (1,-1),(1,0),(1,1)]\n",
    "d6 = [(2,0),(1,1),(-1,1),(-2,0),(-1,-1),(1,-1)]  # hexagonal layout\n",
    "MAXINT = sys.maxsize"
   ]
  },
  {
   "cell_type": "code",
   "execution_count": 406,
   "metadata": {},
   "outputs": [],
   "source": [
    "with open(\"/Users/htong/Downloads/input.txt\") as f:\n",
    "    srr = f.read().strip().replace(\"\\n\\n\", \"\\n\")"
   ]
  },
  {
   "cell_type": "code",
   "execution_count": 407,
   "metadata": {},
   "outputs": [],
   "source": [
    "srr = \"\"\"\n",
    "[1,1,3,1,1]\n",
    "[1,1,5,1,1]\n",
    "\n",
    "[[1],[2,3,4]]\n",
    "[[1],4]\n",
    "\n",
    "[9]\n",
    "[[8,7,6]]\n",
    "\n",
    "[[4,4],4,4]\n",
    "[[4,4],4,4,4]\n",
    "\n",
    "[7,7,7,7]\n",
    "[7,7,7]\n",
    "\n",
    "[]\n",
    "[3]\n",
    "\n",
    "[[[]]]\n",
    "[[]]\n",
    "\n",
    "[1,[2,[3,[4,[5,6,7]]]],8,9]\n",
    "[1,[2,[3,[4,[5,6,0]]]],8,9]\n",
    "\"\"\".strip().replace(\"\\n\\n\", \"\\n\")"
   ]
  },
  {
   "cell_type": "code",
   "execution_count": 408,
   "metadata": {},
   "outputs": [],
   "source": [
    "# srr = \"\"\"\n",
    "# \"\"\".strip()"
   ]
  },
  {
   "cell_type": "code",
   "execution_count": 409,
   "metadata": {},
   "outputs": [],
   "source": [
    "def reverse(a):\n",
    "    if type(a) == list:\n",
    "        return [reverse(x) for x in a[::-1]]\n",
    "    return a"
   ]
  },
  {
   "cell_type": "code",
   "execution_count": 410,
   "metadata": {},
   "outputs": [],
   "source": [
    "def compare(a,b): \n",
    "\n",
    "    stack_a = [a]\n",
    "    stack_b = [b]\n",
    "    \n",
    "    while stack_a and stack_b:\n",
    "        x = stack_a.pop()\n",
    "        y = stack_b.pop()\n",
    "                \n",
    "        if x == y:\n",
    "            continue\n",
    "        \n",
    "        if type(x) == int and type(y) == int:\n",
    "            if x < y:\n",
    "#                 print(x,y)\n",
    "                return True\n",
    "            return False\n",
    "        \n",
    "        if type(x) == int:\n",
    "            x = [x]\n",
    "        if type(y) == int:\n",
    "            y = [y]\n",
    "        \n",
    "        if len(x) == 0:\n",
    "            return True\n",
    "        if len(y) == 0:\n",
    "            return False\n",
    "    \n",
    "        stack_a.append(x[:-1])\n",
    "        stack_b.append(y[:-1])\n",
    "\n",
    "        stack_a.append(x[-1])\n",
    "        stack_b.append(y[-1])\n",
    "    \n",
    "    return True"
   ]
  },
  {
   "cell_type": "code",
   "execution_count": 411,
   "metadata": {},
   "outputs": [],
   "source": [
    "arr = [reverse(eval(a)) for a in srr.split(\"\\n\")]"
   ]
  },
  {
   "cell_type": "code",
   "execution_count": 412,
   "metadata": {},
   "outputs": [],
   "source": [
    "# arr"
   ]
  },
  {
   "cell_type": "code",
   "execution_count": 413,
   "metadata": {},
   "outputs": [],
   "source": [
    "# compare(arr[0],arr[-1]), compare(arr[0],arr[-2]), compare(arr[0],arr[-3]), compare(arr[-3],arr[0])"
   ]
  },
  {
   "cell_type": "code",
   "execution_count": 414,
   "metadata": {},
   "outputs": [],
   "source": [
    "# arr = srr.split(\"\\n\")"
   ]
  },
  {
   "cell_type": "code",
   "execution_count": 415,
   "metadata": {},
   "outputs": [],
   "source": [
    "# arr = sorted(arr, key=functools.cmp_to_key(compare))"
   ]
  },
  {
   "cell_type": "code",
   "execution_count": 416,
   "metadata": {},
   "outputs": [],
   "source": [
    "res1 = 1\n",
    "for x in arr:\n",
    "    if compare(x, [[2]]):\n",
    "#         print(x)\n",
    "        res1 += 1"
   ]
  },
  {
   "cell_type": "code",
   "execution_count": 417,
   "metadata": {},
   "outputs": [
    {
     "data": {
      "text/plain": [
       "10"
      ]
     },
     "execution_count": 417,
     "metadata": {},
     "output_type": "execute_result"
    }
   ],
   "source": [
    "res1"
   ]
  },
  {
   "cell_type": "code",
   "execution_count": 418,
   "metadata": {},
   "outputs": [],
   "source": [
    "res2 = 2\n",
    "for x in arr:\n",
    "    if compare(x, [[6]]):\n",
    "        res2 += 1"
   ]
  },
  {
   "cell_type": "code",
   "execution_count": 419,
   "metadata": {},
   "outputs": [
    {
     "data": {
      "text/plain": [
       "14"
      ]
     },
     "execution_count": 419,
     "metadata": {},
     "output_type": "execute_result"
    }
   ],
   "source": [
    "res2"
   ]
  },
  {
   "cell_type": "code",
   "execution_count": 420,
   "metadata": {},
   "outputs": [
    {
     "data": {
      "text/plain": [
       "140"
      ]
     },
     "execution_count": 420,
     "metadata": {},
     "output_type": "execute_result"
    }
   ],
   "source": [
    "res1 * res2"
   ]
  },
  {
   "cell_type": "code",
   "execution_count": 422,
   "metadata": {},
   "outputs": [],
   "source": [
    "# arr"
   ]
  },
  {
   "cell_type": "code",
   "execution_count": 423,
   "metadata": {},
   "outputs": [],
   "source": [
    "res = 0"
   ]
  },
  {
   "cell_type": "code",
   "execution_count": 424,
   "metadata": {},
   "outputs": [],
   "source": [
    "def test(arr):\n",
    "    res = 0\n",
    "    return res"
   ]
  },
  {
   "cell_type": "code",
   "execution_count": null,
   "metadata": {},
   "outputs": [],
   "source": []
  },
  {
   "cell_type": "code",
   "execution_count": null,
   "metadata": {},
   "outputs": [],
   "source": []
  }
 ],
 "metadata": {
  "kernelspec": {
   "display_name": "Python 3 (ipykernel)",
   "language": "python",
   "name": "python3"
  },
  "language_info": {
   "codemirror_mode": {
    "name": "ipython",
    "version": 3
   },
   "file_extension": ".py",
   "mimetype": "text/x-python",
   "name": "python",
   "nbconvert_exporter": "python",
   "pygments_lexer": "ipython3",
   "version": "3.9.7"
  }
 },
 "nbformat": 4,
 "nbformat_minor": 4
}

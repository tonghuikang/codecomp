{
 "cells": [
  {
   "cell_type": "code",
   "execution_count": null,
   "metadata": {},
   "outputs": [],
   "source": [
    "#  1 0 1\n",
    "#  2 0 2\n",
    "#  6 0 6\n",
    "#  24 4 20\n",
    "#  120 42 78\n",
    "#  720 376 344\n",
    "#  5040 3360 1680\n",
    "#  40320 31360 8960\n",
    "#  362880 311112 51768\n",
    "#  3628800 3306736 322064\n",
    "#  39916800 37771440 2145360\n",
    "#  479001600 463780960 15220640"
   ]
  },
  {
   "cell_type": "code",
   "execution_count": 59,
   "metadata": {},
   "outputs": [],
   "source": [
    "# 3360/42"
   ]
  },
  {
   "cell_type": "code",
   "execution_count": null,
   "metadata": {},
   "outputs": [],
   "source": []
  },
  {
   "cell_type": "code",
   "execution_count": null,
   "metadata": {},
   "outputs": [],
   "source": []
  },
  {
   "cell_type": "code",
   "execution_count": 60,
   "metadata": {},
   "outputs": [
    {
     "data": {
      "text/plain": [
       "9.333333333333334"
      ]
     },
     "execution_count": 60,
     "metadata": {},
     "output_type": "execute_result"
    }
   ],
   "source": [
    "# 31360/3360"
   ]
  },
  {
   "cell_type": "code",
   "execution_count": 61,
   "metadata": {},
   "outputs": [],
   "source": [
    "# [1,2,6,20,78,344,1680,8960]"
   ]
  },
  {
   "cell_type": "code",
   "execution_count": 71,
   "metadata": {},
   "outputs": [],
   "source": [
    "import itertools, collections"
   ]
  },
  {
   "cell_type": "code",
   "execution_count": 97,
   "metadata": {},
   "outputs": [],
   "source": [
    "def count(k):\n",
    "    cnt = 0\n",
    "    ctr = collections.Counter()\n",
    "\n",
    "    for seq in itertools.permutations(range(k)):\n",
    "        pos = {k:i for i,k in enumerate(seq)}\n",
    "        flag = False\n",
    "        for i in range(k-2):\n",
    "            a,b,c,d,e = i,i+1,i+2,i+3,i+4\n",
    "            if pos[c] < pos[a] and pos[a] < pos[b]-1:\n",
    "                if i >= 2 and pos[a-2] < pos[c] and pos[a]+2 == pos[a-1]+1 == pos[b]:\n",
    "                    pass\n",
    "                else:\n",
    "                    flag = True\n",
    "            if pos[a] < pos[c] and pos[c] < pos[b]-1:\n",
    "                if i < k-4 and pos[e] < pos[a] and pos[c]+2 == pos[d]+1 == pos[b]:\n",
    "                    pass\n",
    "                else:\n",
    "                    flag = True\n",
    "        if flag:\n",
    "            cnt += 1\n",
    "            ctr[seq[0]] += 1\n",
    "        else:\n",
    "            pass\n",
    "#             print(seq)\n",
    "#             ctr[seq[0]] += 1\n",
    "    print(sorted(ctr.items()))\n",
    "#     print(cnt)\n",
    "    return cnt"
   ]
  },
  {
   "cell_type": "code",
   "execution_count": 101,
   "metadata": {
    "scrolled": false
   },
   "outputs": [
    {
     "name": "stdout",
     "output_type": "stream",
     "text": [
      "[]\n",
      "[]\n",
      "[]\n",
      "[(0, 1), (1, 1), (2, 1), (3, 1)]\n",
      "[(0, 8), (1, 8), (2, 10), (3, 8), (4, 8)]\n",
      "[(0, 61), (1, 57), (2, 70), (3, 70), (4, 57), (5, 61)]\n",
      "[(0, 476), (1, 442), (2, 500), (3, 524), (4, 500), (5, 442), (6, 476)]\n",
      "[(0, 3919), (1, 3703), (2, 3961), (3, 4097), (4, 4097), (5, 3961), (6, 3703), (7, 3919)]\n",
      "[(0, 34640), (1, 33324), (2, 34614), (3, 35300), (4, 35356), (5, 35300), (6, 34614), (7, 33324), (8, 34640)]\n"
     ]
    }
   ],
   "source": [
    "for i in range(1,10):\n",
    "    count(i)"
   ]
  },
  {
   "cell_type": "code",
   "execution_count": null,
   "metadata": {},
   "outputs": [],
   "source": []
  },
  {
   "cell_type": "code",
   "execution_count": null,
   "metadata": {},
   "outputs": [],
   "source": []
  }
 ],
 "metadata": {
  "kernelspec": {
   "display_name": "Python 3",
   "language": "python",
   "name": "python3"
  },
  "language_info": {
   "codemirror_mode": {
    "name": "ipython",
    "version": 3
   },
   "file_extension": ".py",
   "mimetype": "text/x-python",
   "name": "python",
   "nbconvert_exporter": "python",
   "pygments_lexer": "ipython3",
   "version": "3.7.9"
  }
 },
 "nbformat": 4,
 "nbformat_minor": 4
}

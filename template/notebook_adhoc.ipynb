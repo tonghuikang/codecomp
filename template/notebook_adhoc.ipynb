{
 "cells": [
  {
   "cell_type": "code",
   "execution_count": 156,
   "metadata": {},
   "outputs": [],
   "source": [
    "%reset -sf"
   ]
  },
  {
   "cell_type": "code",
   "execution_count": 500,
   "metadata": {},
   "outputs": [],
   "source": [
    "# LOAD THIS BEFORE START, run rmdl\n",
    "\n",
    "#!/usr/bin/env python3\n",
    "import sys\n",
    "import math, random\n",
    "import functools, itertools, collections, heapq, bisect\n",
    "from collections import Counter, defaultdict, deque\n",
    "\n",
    "# import numpy as np\n",
    "# import scipy\n",
    "import matplotlib.pyplot as plt\n",
    "\n",
    "abc = \"abcdefghijklmnopqrstuvwxyz\"\n",
    "abc_map = {c:i for i,c in enumerate(abc)}\n",
    "M9 = 10**9 + 7  # 998244353\n",
    "yes, no = \"YES\", \"NO\"\n",
    "d4 = [(1,0),(0,1),(-1,0),(0,-1)]\n",
    "d8 = [\n",
    "    (-1,-1),(-1,0),(-1,1),\n",
    "    (0,-1),(0,0),(0,1),\n",
    "    (1,-1),(1,0),(1,1)]\n",
    "d6 = [(2,0),(1,1),(-1,1),(-2,0),(-1,-1),(1,-1)]  # hexagonal layout\n",
    "MAXINT = sys.maxsize"
   ]
  },
  {
   "cell_type": "code",
   "execution_count": 565,
   "metadata": {},
   "outputs": [],
   "source": [
    "with open(\"/Users/htong/Downloads/input.txt\") as f:\n",
    "    srr = f.read().strip() * 1000\n",
    "#     srr = f.read().strip().split(\"\\n\")\n",
    "srr = list(srr)[::-1]"
   ]
  },
  {
   "cell_type": "code",
   "execution_count": 566,
   "metadata": {},
   "outputs": [],
   "source": [
    "# srr = \"\"\"\n",
    "# >>><<><>><<<>><>>><<<>>><<<><<<>><>><<>>\n",
    "# \"\"\".strip() * 10000\n",
    "# srr = list(srr)[::-1]"
   ]
  },
  {
   "cell_type": "code",
   "execution_count": 567,
   "metadata": {},
   "outputs": [],
   "source": [
    "mrr = [[3,0,0,0,0,0,0,0,3] for _ in range(3)]\n",
    "mrr.append([1 for _ in range(9)])"
   ]
  },
  {
   "cell_type": "code",
   "execution_count": 568,
   "metadata": {},
   "outputs": [],
   "source": [
    "# left edge is two units away from the left wall \n",
    "# and its bottom edge is three units above the highest rock in the room"
   ]
  },
  {
   "cell_type": "code",
   "execution_count": 569,
   "metadata": {},
   "outputs": [],
   "source": [
    "import copy"
   ]
  },
  {
   "cell_type": "code",
   "execution_count": 570,
   "metadata": {},
   "outputs": [],
   "source": [
    "inits = [\n",
    "    [[3,0,0,2,2,2,2,0,3]],\n",
    "    \n",
    "    [[3,0,0,0,2,0,0,0,3],\n",
    "     [3,0,0,2,2,2,0,0,3],\n",
    "     [3,0,0,0,2,0,0,0,3]],\n",
    "    \n",
    "    [[3,0,0,0,0,2,0,0,3],\n",
    "     [3,0,0,0,0,2,0,0,3],\n",
    "     [3,0,0,2,2,2,0,0,3]],\n",
    "    \n",
    "    [[3,0,0,2,0,0,0,0,3],\n",
    "     [3,0,0,2,0,0,0,0,3],\n",
    "     [3,0,0,2,0,0,0,0,3],\n",
    "     [3,0,0,2,0,0,0,0,3]],\n",
    "\n",
    "    [[3,0,0,0,0,0,0,0,3],\n",
    "     [3,0,0,2,2,0,0,0,3],\n",
    "     [3,0,0,2,2,0,0,0,3]],\n",
    "]\n",
    "\n",
    "inits = inits * 1000\n",
    "inits = copy.deepcopy(inits)"
   ]
  },
  {
   "cell_type": "code",
   "execution_count": 575,
   "metadata": {
    "scrolled": false
   },
   "outputs": [
    {
     "name": "stdout",
     "output_type": "stream",
     "text": [
      "1180\r"
     ]
    }
   ],
   "source": [
    "seen = {}\n",
    "for k,init in enumerate(inits[:2022]):\n",
    "    print(k, end=\"\\r\")\n",
    "\n",
    "    mrr = init + mrr\n",
    "    n,m = len(mrr), 9\n",
    "   \n",
    "    while True:\n",
    "        cur = srr.pop()\n",
    "        if cur == \"<\":\n",
    "            left = True\n",
    "        else:\n",
    "            left = False\n",
    "\n",
    "        noside = False\n",
    "        for i in range(n):\n",
    "            for j in range(m):\n",
    "                if mrr[i][j] == 2:\n",
    "                    if left:\n",
    "                        if mrr[i][j-1] == 3 or mrr[i][j-1] == 1:\n",
    "                            noside = True\n",
    "                    if not left:\n",
    "                        if mrr[i][j+1] == 3 or mrr[i][j+1] == 1:\n",
    "                            noside = True\n",
    "\n",
    "        mrr_new = [[x if x != 2 else 0 for x in row] for row in mrr]\n",
    "        if not noside:\n",
    "            for i in range(n):\n",
    "                for j in range(m):\n",
    "                    if mrr[i][j] == 2:\n",
    "                        if left:\n",
    "                            mrr_new[i][j-1] = 2\n",
    "                        if not left:\n",
    "                            mrr_new[i][j+1] = 2\n",
    "            mrr = mrr_new\n",
    "        else:\n",
    "            pass\n",
    "\n",
    "        mrr_new = [[x if x != 2 else 0 for x in row] for row in mrr]\n",
    "\n",
    "        nodown = False\n",
    "        for i in range(n):\n",
    "            for j in range(m):\n",
    "                if mrr[i][j] == 2:\n",
    "                    if mrr[i+1][j] == 3 or mrr[i+1][j] == 1:\n",
    "                        nodown = True\n",
    "\n",
    "        if nodown:\n",
    "            mrr = [[x if x != 2 else 1 for x in row] for row in mrr]\n",
    "            break\n",
    "        else:\n",
    "            for i in range(n):\n",
    "                for j in range(m):\n",
    "                    if mrr[i][j] == 2:\n",
    "                        mrr_new[i+1][j] = 2\n",
    "\n",
    "        mrr = mrr_new\n",
    "    \n",
    "    while mrr[3] == [3,0,0,0,0,0,0,0,3]:\n",
    "        del mrr[0]\n",
    "    \n",
    "#     if mrr[3] == [3,1,1,1,1,1,1,1,3]:\n",
    "#         break\n",
    "\n",
    "    if k == 228 + 952:\n",
    "        break\n",
    "    \n",
    "    sign = tuple([k%5, tuple(tuple(row) for row in mrr[:100])])\n",
    "    if sign in seen:\n",
    "        break\n",
    "    seen[sign] = k"
   ]
  },
  {
   "cell_type": "code",
   "execution_count": 560,
   "metadata": {},
   "outputs": [],
   "source": [
    "# sign"
   ]
  },
  {
   "cell_type": "code",
   "execution_count": 561,
   "metadata": {},
   "outputs": [
    {
     "data": {
      "text/plain": [
       "(1968, 228)"
      ]
     },
     "execution_count": 561,
     "metadata": {},
     "output_type": "execute_result"
    }
   ],
   "source": [
    "k, seen[sign]"
   ]
  },
  {
   "cell_type": "code",
   "execution_count": 574,
   "metadata": {},
   "outputs": [
    {
     "data": {
      "text/plain": [
       "952"
      ]
     },
     "execution_count": 574,
     "metadata": {},
     "output_type": "execute_result"
    }
   ],
   "source": [
    "(1000000000000 - 228) % (1968 - 228)"
   ]
  },
  {
   "cell_type": "code",
   "execution_count": 578,
   "metadata": {},
   "outputs": [
    {
     "data": {
      "text/plain": [
       "1565517241733"
      ]
     },
     "execution_count": 578,
     "metadata": {},
     "output_type": "execute_result"
    }
   ],
   "source": [
    "(1000000000000 - 228) // (1968 - 228) * (3089 - 365) + 2208 - 7"
   ]
  },
  {
   "cell_type": "code",
   "execution_count": null,
   "metadata": {},
   "outputs": [],
   "source": [
    "1565517241735  # too high"
   ]
  },
  {
   "cell_type": "code",
   "execution_count": 564,
   "metadata": {},
   "outputs": [
    {
     "data": {
      "text/plain": [
       "(1968, 228)"
      ]
     },
     "execution_count": 564,
     "metadata": {},
     "output_type": "execute_result"
    }
   ],
   "source": [
    "1968, 228  # 3089, 365\n",
    "228 + 952  # "
   ]
  },
  {
   "cell_type": "code",
   "execution_count": 576,
   "metadata": {},
   "outputs": [
    {
     "data": {
      "text/plain": [
       "2208"
      ]
     },
     "execution_count": 576,
     "metadata": {},
     "output_type": "execute_result"
    }
   ],
   "source": [
    "len(mrr)"
   ]
  },
  {
   "cell_type": "code",
   "execution_count": 508,
   "metadata": {},
   "outputs": [
    {
     "data": {
      "text/plain": [
       "(3,\n",
       " ((3, 0, 0, 0, 0, 0, 0, 0, 3),\n",
       "  (3, 0, 0, 0, 0, 0, 0, 0, 3),\n",
       "  (3, 0, 0, 0, 0, 0, 0, 0, 3),\n",
       "  (3, 0, 0, 0, 0, 1, 0, 0, 3),\n",
       "  (3, 0, 0, 0, 0, 1, 0, 0, 3),\n",
       "  (3, 0, 0, 0, 0, 1, 0, 0, 3),\n",
       "  (3, 0, 0, 0, 0, 1, 0, 0, 3),\n",
       "  (3, 0, 0, 0, 0, 1, 0, 0, 3),\n",
       "  (3, 0, 0, 0, 0, 1, 0, 0, 3),\n",
       "  (3, 0, 0, 1, 1, 1, 0, 0, 3),\n",
       "  (3, 0, 0, 0, 1, 0, 0, 0, 3),\n",
       "  (3, 0, 0, 1, 1, 1, 0, 0, 3)))"
      ]
     },
     "execution_count": 508,
     "metadata": {},
     "output_type": "execute_result"
    }
   ],
   "source": [
    "sign"
   ]
  },
  {
   "cell_type": "code",
   "execution_count": 476,
   "metadata": {},
   "outputs": [
    {
     "data": {
      "text/plain": [
       "{((3, 0, 0, 0, 0, 0, 0, 0, 3),\n",
       "  (3, 0, 0, 0, 0, 0, 0, 0, 3),\n",
       "  (3, 0, 0, 0, 0, 0, 0, 0, 3),\n",
       "  (3, 1, 1, 1, 1, 0, 0, 0, 3),\n",
       "  (1, 1, 1, 1, 1, 1, 1, 1, 1)): 0,\n",
       " ((3, 0, 0, 0, 0, 0, 0, 0, 3),\n",
       "  (3, 0, 0, 0, 0, 0, 0, 0, 3),\n",
       "  (3, 0, 0, 0, 0, 0, 0, 0, 3),\n",
       "  (3, 0, 0, 0, 1, 0, 0, 0, 3),\n",
       "  (3, 0, 0, 1, 1, 1, 0, 0, 3),\n",
       "  (3, 0, 0, 0, 1, 0, 0, 0, 3),\n",
       "  (3, 1, 1, 1, 1, 0, 0, 0, 3),\n",
       "  (1, 1, 1, 1, 1, 1, 1, 1, 1)): 1,\n",
       " ((3, 0, 0, 0, 0, 0, 0, 0, 3),\n",
       "  (3, 0, 0, 0, 0, 0, 0, 0, 3),\n",
       "  (3, 0, 0, 0, 0, 0, 0, 0, 3),\n",
       "  (3, 0, 0, 0, 0, 1, 0, 0, 3),\n",
       "  (3, 0, 0, 0, 0, 1, 0, 0, 3),\n",
       "  (3, 0, 0, 1, 1, 1, 0, 0, 3),\n",
       "  (3, 0, 0, 0, 1, 0, 0, 0, 3),\n",
       "  (3, 0, 0, 1, 1, 1, 0, 0, 3),\n",
       "  (3, 0, 0, 0, 1, 0, 0, 0, 3),\n",
       "  (3, 1, 1, 1, 1, 0, 0, 0, 3)): 2,\n",
       " ((3, 0, 0, 0, 0, 0, 0, 0, 3),\n",
       "  (3, 0, 0, 0, 0, 0, 0, 0, 3),\n",
       "  (3, 0, 0, 0, 0, 0, 0, 0, 3),\n",
       "  (3, 0, 0, 0, 0, 1, 0, 0, 3),\n",
       "  (3, 0, 0, 0, 0, 1, 0, 0, 3),\n",
       "  (3, 0, 0, 0, 0, 1, 0, 0, 3),\n",
       "  (3, 0, 0, 0, 0, 1, 0, 0, 3),\n",
       "  (3, 0, 0, 0, 0, 1, 0, 0, 3),\n",
       "  (3, 0, 0, 0, 0, 1, 0, 0, 3),\n",
       "  (3, 0, 0, 1, 1, 1, 0, 0, 3)): 3}"
      ]
     },
     "execution_count": 476,
     "metadata": {},
     "output_type": "execute_result"
    }
   ],
   "source": [
    "seen"
   ]
  },
  {
   "cell_type": "code",
   "execution_count": 464,
   "metadata": {},
   "outputs": [
    {
     "ename": "TypeError",
     "evalue": "tuple indices must be integers or slices, not dict",
     "output_type": "error",
     "traceback": [
      "\u001b[0;31m---------------------------------------------------------------------------\u001b[0m",
      "\u001b[0;31mTypeError\u001b[0m                                 Traceback (most recent call last)",
      "Input \u001b[0;32mIn [464]\u001b[0m, in \u001b[0;36m<module>\u001b[0;34m\u001b[0m\n\u001b[0;32m----> 1\u001b[0m \u001b[43msign\u001b[49m\u001b[43m[\u001b[49m\u001b[43mseen\u001b[49m\u001b[43m]\u001b[49m\n",
      "\u001b[0;31mTypeError\u001b[0m: tuple indices must be integers or slices, not dict"
     ]
    }
   ],
   "source": [
    "sign[seen]"
   ]
  },
  {
   "cell_type": "code",
   "execution_count": null,
   "metadata": {},
   "outputs": [],
   "source": [
    "k"
   ]
  },
  {
   "cell_type": "code",
   "execution_count": 446,
   "metadata": {},
   "outputs": [
    {
     "data": {
      "text/plain": [
       "1514285714288"
      ]
     },
     "execution_count": 446,
     "metadata": {},
     "output_type": "execute_result"
    }
   ],
   "source": [
    "(1000000000000 - 29) // 70 * 106 + 83 - 5"
   ]
  },
  {
   "cell_type": "code",
   "execution_count": 435,
   "metadata": {},
   "outputs": [],
   "source": [
    "# (1000000000000 - 29) % 70"
   ]
  },
  {
   "cell_type": "code",
   "execution_count": 436,
   "metadata": {},
   "outputs": [],
   "source": [
    "# 161 - 55"
   ]
  },
  {
   "cell_type": "code",
   "execution_count": 437,
   "metadata": {},
   "outputs": [],
   "source": [
    "# (1000000000000 - 29) // 70 * 106 + 83 - 5"
   ]
  },
  {
   "cell_type": "code",
   "execution_count": 438,
   "metadata": {},
   "outputs": [],
   "source": [
    "# 1514285714288\n",
    "# 1514285714288"
   ]
  },
  {
   "cell_type": "code",
   "execution_count": 439,
   "metadata": {},
   "outputs": [],
   "source": [
    "# for row in mrr[:100]:\n",
    "#     print(row)"
   ]
  },
  {
   "cell_type": "code",
   "execution_count": 440,
   "metadata": {},
   "outputs": [
    {
     "name": "stdout",
     "output_type": "stream",
     "text": [
      "488\n"
     ]
    }
   ],
   "source": [
    "print(len(mrr))"
   ]
  },
  {
   "cell_type": "code",
   "execution_count": 441,
   "metadata": {},
   "outputs": [
    {
     "name": "stdout",
     "output_type": "stream",
     "text": [
      "488\n"
     ]
    }
   ],
   "source": [
    "print(len(mrr))  # 29"
   ]
  },
  {
   "cell_type": "code",
   "execution_count": 579,
   "metadata": {},
   "outputs": [],
   "source": [
    "# for row in mrr:\n",
    "#     print(row)"
   ]
  },
  {
   "cell_type": "code",
   "execution_count": 443,
   "metadata": {},
   "outputs": [],
   "source": [
    "# init"
   ]
  },
  {
   "cell_type": "code",
   "execution_count": 286,
   "metadata": {},
   "outputs": [],
   "source": [
    "# for row in mrr[:5]:\n",
    "#     print(mrr)"
   ]
  },
  {
   "cell_type": "code",
   "execution_count": 287,
   "metadata": {},
   "outputs": [
    {
     "data": {
      "text/plain": [
       "3177"
      ]
     },
     "execution_count": 287,
     "metadata": {},
     "output_type": "execute_result"
    }
   ],
   "source": [
    "len(mrr) - 4"
   ]
  },
  {
   "cell_type": "code",
   "execution_count": 294,
   "metadata": {},
   "outputs": [
    {
     "name": "stdout",
     "output_type": "stream",
     "text": [
      "324\n",
      "540\n",
      "625\n",
      "673\n",
      "981\n",
      "994\n",
      "1096\n",
      "1327\n",
      "1947\n",
      "2190\n",
      "2219\n",
      "2334\n",
      "2336\n",
      "2355\n",
      "2356\n",
      "2388\n",
      "2423\n",
      "2540\n",
      "2643\n",
      "2698\n",
      "3000\n",
      "3158\n"
     ]
    }
   ],
   "source": [
    "for i,row in enumerate(mrr):\n",
    "    if row == [3,1,1,1,1,1,1,1,3]:\n",
    "        print(i)"
   ]
  },
  {
   "cell_type": "code",
   "execution_count": 293,
   "metadata": {},
   "outputs": [
    {
     "data": {
      "text/plain": [
       "324"
      ]
     },
     "execution_count": 293,
     "metadata": {},
     "output_type": "execute_result"
    }
   ],
   "source": [
    "i"
   ]
  },
  {
   "cell_type": "code",
   "execution_count": 580,
   "metadata": {
    "scrolled": true
   },
   "outputs": [],
   "source": [
    "# for row in mrr:\n",
    "#     print(row)"
   ]
  },
  {
   "cell_type": "code",
   "execution_count": 152,
   "metadata": {},
   "outputs": [
    {
     "name": "stdout",
     "output_type": "stream",
     "text": [
      "2491\n"
     ]
    }
   ],
   "source": [
    "print(len(mrr))"
   ]
  },
  {
   "cell_type": "code",
   "execution_count": null,
   "metadata": {},
   "outputs": [],
   "source": [
    "mrr"
   ]
  },
  {
   "cell_type": "code",
   "execution_count": 107,
   "metadata": {},
   "outputs": [],
   "source": [
    "res = 0"
   ]
  },
  {
   "cell_type": "code",
   "execution_count": 108,
   "metadata": {},
   "outputs": [],
   "source": [
    "def test(arr):\n",
    "    res = 0\n",
    "    return res"
   ]
  },
  {
   "cell_type": "code",
   "execution_count": null,
   "metadata": {},
   "outputs": [],
   "source": []
  },
  {
   "cell_type": "code",
   "execution_count": null,
   "metadata": {},
   "outputs": [],
   "source": []
  }
 ],
 "metadata": {
  "kernelspec": {
   "display_name": "Python 3 (ipykernel)",
   "language": "python",
   "name": "python3"
  },
  "language_info": {
   "codemirror_mode": {
    "name": "ipython",
    "version": 3
   },
   "file_extension": ".py",
   "mimetype": "text/x-python",
   "name": "python",
   "nbconvert_exporter": "python",
   "pygments_lexer": "ipython3",
   "version": "3.9.7"
  }
 },
 "nbformat": 4,
 "nbformat_minor": 4
}

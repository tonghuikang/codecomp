{
 "cells": [
  {
   "cell_type": "code",
   "execution_count": 22,
   "metadata": {},
   "outputs": [],
   "source": [
    "%reset -sf"
   ]
  },
  {
   "cell_type": "code",
   "execution_count": 74,
   "metadata": {},
   "outputs": [
    {
     "name": "stdout",
     "output_type": "stream",
     "text": [
      "[0, 0, 0, 0, 0, 0] 0 0\n"
     ]
    }
   ],
   "source": [
    "import itertools\n",
    "import random\n",
    "\n",
    "n = 3\n",
    "for comb in itertools.product(list(range(-10,10)), repeat=2):\n",
    "    comb = [comb[0]] + [comb[1]]*(2*n-1)\n",
    "    for _ in range(100):\n",
    "        random.shuffle(comb)\n",
    "        vsum = 0\n",
    "        vprod = 1\n",
    "        for x in comb[:n]:\n",
    "            vsum += x\n",
    "        for x in comb[n:]:\n",
    "            vprod *= x\n",
    "        if vprod != vsum:\n",
    "            break\n",
    "    else:\n",
    "        print(comb, vprod, vsum)"
   ]
  },
  {
   "cell_type": "code",
   "execution_count": 63,
   "metadata": {},
   "outputs": [
    {
     "data": {
      "text/plain": [
       "[9, 9, 9, 9, 9, 9, 9, 9]"
      ]
     },
     "execution_count": 63,
     "metadata": {},
     "output_type": "execute_result"
    }
   ],
   "source": [
    "comb"
   ]
  },
  {
   "cell_type": "code",
   "execution_count": 77,
   "metadata": {},
   "outputs": [],
   "source": [
    "import itertools\n",
    "import random\n",
    "\n",
    "for comb in itertools.product(list(range(-7,8)), repeat=6):\n",
    "    comb = list(comb)\n",
    "    if comb == [0, 0, 0, 0, 0, 0]:\n",
    "        continue\n",
    "    for _ in range(100):\n",
    "        random.shuffle(comb)\n",
    "        a,b,c,d,e,f = comb\n",
    "        if a+b+c != d*e*f:\n",
    "            break\n",
    "    else:\n",
    "        break"
   ]
  },
  {
   "cell_type": "code",
   "execution_count": 78,
   "metadata": {},
   "outputs": [
    {
     "data": {
      "text/plain": [
       "[6, 6, 6, 6, 6, 6]"
      ]
     },
     "execution_count": 78,
     "metadata": {},
     "output_type": "execute_result"
    }
   ],
   "source": [
    "comb"
   ]
  },
  {
   "cell_type": "code",
   "execution_count": 76,
   "metadata": {},
   "outputs": [
    {
     "name": "stdout",
     "output_type": "stream",
     "text": [
      "[2, -1, -1, -1]\n",
      "[-1, 2, -1, -1]\n",
      "[-1, 2, -1, -1]\n",
      "[0, 0, 0, 0]\n",
      "[2, -1, -1, -1]\n",
      "[2, 2, 2, 2]\n"
     ]
    }
   ],
   "source": [
    "import itertools\n",
    "import random\n",
    "\n",
    "for comb in itertools.product(list(range(-7,7)), repeat=4):\n",
    "    comb = list(comb)\n",
    "#     if comb == [0, 0, 0, 0] or comb == [2, 2, 2, 2]:\n",
    "#         continue\n",
    "    for _ in range(100):\n",
    "        random.shuffle(comb)\n",
    "        a,b,c,d = comb\n",
    "        if a+b != c*d:\n",
    "            break\n",
    "    else:\n",
    "        print(comb)\n",
    "#         break"
   ]
  },
  {
   "cell_type": "code",
   "execution_count": 38,
   "metadata": {},
   "outputs": [
    {
     "data": {
      "text/plain": [
       "[6, 6, 6, 6]"
      ]
     },
     "execution_count": 38,
     "metadata": {},
     "output_type": "execute_result"
    }
   ],
   "source": [
    "comb"
   ]
  },
  {
   "cell_type": "code",
   "execution_count": null,
   "metadata": {},
   "outputs": [],
   "source": []
  }
 ],
 "metadata": {
  "kernelspec": {
   "display_name": "Python 3 (ipykernel)",
   "language": "python",
   "name": "python3"
  },
  "language_info": {
   "codemirror_mode": {
    "name": "ipython",
    "version": 3
   },
   "file_extension": ".py",
   "mimetype": "text/x-python",
   "name": "python",
   "nbconvert_exporter": "python",
   "pygments_lexer": "ipython3",
   "version": "3.9.7"
  }
 },
 "nbformat": 4,
 "nbformat_minor": 4
}

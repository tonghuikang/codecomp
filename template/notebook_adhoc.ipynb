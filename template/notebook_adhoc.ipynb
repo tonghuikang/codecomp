{
 "cells": [
  {
   "cell_type": "code",
   "execution_count": null,
   "metadata": {},
   "outputs": [],
   "source": [
    "import scipy.optimize\n",
    "import numpy as np\n",
    "\n",
    "\n",
    "for _ in range(100000):\n",
    "    c = [-1, 4]\n",
    "    A = [[-3, 1], [1, 2]]\n",
    "    b = [6, 4]\n",
    "    x0_bounds = (None, None)\n",
    "    x1_bounds = (-3, None)\n",
    "    res = scipy.optimize.linprog(\n",
    "        c, A_ub=A, b_ub=b, bounds=(x0_bounds, x1_bounds),\n",
    "        integrality=np.ones_like(c))\n",
    "\n",
    "    res.x"
   ]
  },
  {
   "cell_type": "code",
   "execution_count": null,
   "metadata": {},
   "outputs": [],
   "source": []
  }
 ],
 "metadata": {
  "kernelspec": {
   "display_name": "Python 3 (ipykernel)",
   "language": "python",
   "name": "python3"
  },
  "language_info": {
   "codemirror_mode": {
    "name": "ipython",
    "version": 3
   },
   "file_extension": ".py",
   "mimetype": "text/x-python",
   "name": "python",
   "nbconvert_exporter": "python",
   "pygments_lexer": "ipython3",
   "version": "3.9.7"
  }
 },
 "nbformat": 4,
 "nbformat_minor": 4
}

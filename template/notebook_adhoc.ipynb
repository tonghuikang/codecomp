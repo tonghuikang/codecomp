{
 "cells": [
  {
   "cell_type": "code",
   "execution_count": 1,
   "metadata": {},
   "outputs": [],
   "source": [
    "%reset -sf"
   ]
  },
  {
   "cell_type": "code",
   "execution_count": 94,
   "metadata": {},
   "outputs": [],
   "source": [
    "# LOAD THIS BEFORE START, run rmdl\n",
    "\n",
    "#!/usr/bin/env python3\n",
    "import sys\n",
    "import math, random\n",
    "import functools, itertools, collections, heapq, bisect\n",
    "from collections import Counter, defaultdict, deque\n",
    "\n",
    "# import numpy as np\n",
    "import scipy\n",
    "import matplotlib.pyplot as plt\n",
    "\n",
    "abc = \"abcdefghijklmnopqrstuvwxyz\"\n",
    "abc_map = {c:i for i,c in enumerate(abc)}\n",
    "M9 = 10**9 + 7  # 998244353\n",
    "yes, no = \"YES\", \"NO\"\n",
    "d4 = [(1,0),(0,1),(-1,0),(0,-1)]\n",
    "d8 = [\n",
    "    (-1,-1),(-1,0),(-1,1),\n",
    "    (0,-1),(0,0),(0,1),\n",
    "    (1,-1),(1,0),(1,1)]\n",
    "d6 = [(2,0),(1,1),(-1,1),(-2,0),(-1,-1),(1,-1)]  # hexagonal layout\n",
    "MAXINT = sys.maxsize"
   ]
  },
  {
   "cell_type": "code",
   "execution_count": 104,
   "metadata": {},
   "outputs": [],
   "source": [
    "with open(\"/Users/htong/Downloads/input.txt\") as f:\n",
    "    srr = f.read().strip().split(\"\\n\")"
   ]
  },
  {
   "cell_type": "code",
   "execution_count": 96,
   "metadata": {},
   "outputs": [],
   "source": [
    "srr = \"\"\"\n",
    "19, 13, 30 @ -2,  1, -2\n",
    "18, 19, 22 @ -1, -1, -2\n",
    "20, 25, 34 @ -2, -2, -4\n",
    "12, 31, 28 @ -1, -2, -1\n",
    "20, 19, 15 @  1, -5, -3\n",
    "\"\"\".strip().split(\"\\n\")"
   ]
  },
  {
   "cell_type": "code",
   "execution_count": 105,
   "metadata": {},
   "outputs": [],
   "source": [
    "xrr = []\n",
    "yrr = []\n",
    "zrr = []\n",
    "vxrr = []\n",
    "vyrr = []\n",
    "vzrr = []"
   ]
  },
  {
   "cell_type": "code",
   "execution_count": 106,
   "metadata": {},
   "outputs": [],
   "source": [
    "def get_intersection(\n",
    "    # Define the points for the first line\n",
    "    x1_line1, y1_line1, #= 1, 2\n",
    "    x2_line1, y2_line1, #= 4, 6\n",
    "\n",
    "    # Define the points for the second line\n",
    "    x1_line2, y1_line2, #= 2, 4\n",
    "    x2_line2, y2_line2, #= 6, 3\n",
    "):\n",
    "\n",
    "    def calculate_slope_intercept(x1, y1, x2, y2):\n",
    "        slope = (y2 - y1) / (x2 - x1)\n",
    "        intercept = y1 - slope * x1\n",
    "        return slope, intercept\n",
    "\n",
    "    def find_intersection(slope1, intercept1, slope2, intercept2):\n",
    "        if slope1 == slope2:\n",
    "#             print(\"The lines are parallel and do not intersect.\")\n",
    "            return None\n",
    "        x_intersect = (intercept2 - intercept1) / (slope1 - slope2)\n",
    "        y_intersect = slope1 * x_intersect + intercept1\n",
    "        return x_intersect, y_intersect\n",
    "\n",
    "#     # Define the points for the first line\n",
    "#     x1_line1, y1_line1 = 1, 2\n",
    "#     x2_line1, y2_line1 = 4, 6\n",
    "\n",
    "#     # Define the points for the second line\n",
    "#     x1_line2, y1_line2 = 2, 4\n",
    "#     x2_line2, y2_line2 = 6, 3\n",
    "\n",
    "    # Calculate the slope and intercept for each line\n",
    "    slope1, intercept1 = calculate_slope_intercept(x1_line1, y1_line1, x2_line1, y2_line1)\n",
    "    slope2, intercept2 = calculate_slope_intercept(x1_line2, y1_line2, x2_line2, y2_line2)\n",
    "    \n",
    "#     print(slope1, intercept1)\n",
    "#     print(slope2, intercept2)\n",
    "\n",
    "    # Find the intersection point\n",
    "    intersection = find_intersection(slope1, intercept1, slope2, intercept2)\n",
    "\n",
    "#     if intersection:\n",
    "#         print(f\"The intersection point of the two lines is: {intersection}\")\n",
    "        \n",
    "    return intersection"
   ]
  },
  {
   "cell_type": "code",
   "execution_count": 107,
   "metadata": {},
   "outputs": [],
   "source": [
    "for row in srr:\n",
    "    arr = row.replace(\",\", \"\").split()\n",
    "    xrr.append(int(arr[0]))\n",
    "    yrr.append(int(arr[1]))\n",
    "    zrr.append(int(arr[2]))\n",
    "    vxrr.append(int(arr[-3]))\n",
    "    vyrr.append(int(arr[-2]))\n",
    "    vzrr.append(int(arr[-1]))"
   ]
  },
  {
   "cell_type": "code",
   "execution_count": 108,
   "metadata": {},
   "outputs": [],
   "source": [
    "# xrr, yrr"
   ]
  },
  {
   "cell_type": "code",
   "execution_count": 109,
   "metadata": {},
   "outputs": [],
   "source": [
    "# In this example, look for intersections that happen with an X and Y position each at least 7 and at most 27"
   ]
  },
  {
   "cell_type": "code",
   "execution_count": 110,
   "metadata": {},
   "outputs": [],
   "source": [
    "# 200000000000000 and at most 400000000000000. Disregard the Z axis entirely."
   ]
  },
  {
   "cell_type": "code",
   "execution_count": 118,
   "metadata": {},
   "outputs": [],
   "source": [
    "val_x = []\n",
    "val_y = []"
   ]
  },
  {
   "cell_type": "code",
   "execution_count": 119,
   "metadata": {},
   "outputs": [],
   "source": [
    "res = 0\n",
    "for i,(x,y,z,vx,vy,vz) in enumerate(zip(xrr, yrr, zrr, vxrr, vyrr, vzrr)):\n",
    "    for j,(x2,y2,z2,vx2,vy2,vz2) in enumerate(zip(xrr, yrr, zrr, vxrr, vyrr, vzrr)):\n",
    "        if i >= j:\n",
    "            continue\n",
    "        intersection = get_intersection(\n",
    "            x, y,\n",
    "            x+vx, y+vy,\n",
    "            x2, y2,\n",
    "            x2+vx2, y2+vy2,\n",
    "        )\n",
    "        if intersection is None:\n",
    "            continue\n",
    "        ix, iy = intersection\n",
    "        t1 = (ix - x) / vx\n",
    "        t2 = (ix - x2) / vx2\n",
    "        \n",
    "        val_x.append(ix)\n",
    "        val_y.append(iy)\n",
    "        \n",
    "        if t1 == 0:\n",
    "            raise\n",
    "        \n",
    "#         if 7 <= ix <= 27 and 7 <= iy <= 27:\n",
    "        if 200000000000000 <= ix <= 400000000000000 and 200000000000000 <= iy <= 400000000000000:\n",
    "            if t1 >= 0 and t2 >= 0:\n",
    "                res += 1"
   ]
  },
  {
   "cell_type": "code",
   "execution_count": 122,
   "metadata": {},
   "outputs": [],
   "source": [
    "# plt.scatter(val_x, val_y)"
   ]
  },
  {
   "cell_type": "code",
   "execution_count": 121,
   "metadata": {},
   "outputs": [
    {
     "data": {
      "text/plain": [
       "16502"
      ]
     },
     "execution_count": 121,
     "metadata": {},
     "output_type": "execute_result"
    }
   ],
   "source": [
    "res"
   ]
  },
  {
   "cell_type": "code",
   "execution_count": null,
   "metadata": {},
   "outputs": [],
   "source": []
  },
  {
   "cell_type": "code",
   "execution_count": 64,
   "metadata": {},
   "outputs": [
    {
     "data": {
      "text/plain": [
       "[19, 18, 20, 12, 20]"
      ]
     },
     "execution_count": 64,
     "metadata": {},
     "output_type": "execute_result"
    }
   ],
   "source": [
    "xrra"
   ]
  },
  {
   "cell_type": "code",
   "execution_count": 25,
   "metadata": {},
   "outputs": [
    {
     "data": {
      "text/plain": [
       "''"
      ]
     },
     "execution_count": 25,
     "metadata": {},
     "output_type": "execute_result"
    }
   ],
   "source": [
    "\"\""
   ]
  },
  {
   "cell_type": "code",
   "execution_count": null,
   "metadata": {},
   "outputs": [],
   "source": []
  }
 ],
 "metadata": {
  "kernelspec": {
   "display_name": "Python 3 (ipykernel)",
   "language": "python",
   "name": "python3"
  },
  "language_info": {
   "codemirror_mode": {
    "name": "ipython",
    "version": 3
   },
   "file_extension": ".py",
   "mimetype": "text/x-python",
   "name": "python",
   "nbconvert_exporter": "python",
   "pygments_lexer": "ipython3",
   "version": "3.9.7"
  }
 },
 "nbformat": 4,
 "nbformat_minor": 4
}

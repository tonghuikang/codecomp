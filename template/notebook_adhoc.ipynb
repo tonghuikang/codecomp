{
 "cells": [
  {
   "cell_type": "code",
   "execution_count": 69,
   "metadata": {},
   "outputs": [],
   "source": [
    "%reset -sf"
   ]
  },
  {
   "cell_type": "code",
   "execution_count": 70,
   "metadata": {},
   "outputs": [],
   "source": [
    "#!/usr/bin/env python3\n",
    "import sys\n",
    "import math, random\n",
    "import functools, itertools, collections, heapq, bisect\n",
    "from collections import Counter, defaultdict, deque\n",
    "\n",
    "# available on Google, AtCoder Python3, not available on Codeforces\n",
    "# import numpy as np\n",
    "# import scipy\n",
    "\n",
    "M9 = 10**9 + 7  # 998244353\n",
    "yes, no = \"YES\", \"NO\"\n",
    "# d4 = [(1,0),(0,1),(-1,0),(0,-1)]\n",
    "# d8 = [(1,0),(1,1),(0,1),(-1,1),(-1,0),(-1,-1),(0,-1),(1,-1)]\n",
    "# d6 = [(2,0),(1,1),(-1,1),(-2,0),(-1,-1),(1,-1)]  # hexagonal layout\n",
    "MAXINT = sys.maxsize"
   ]
  },
  {
   "cell_type": "code",
   "execution_count": 71,
   "metadata": {},
   "outputs": [],
   "source": [
    "# Python 3 program to count inversions in an array\n",
    "\n",
    "# Function to Use Inversion Count\n",
    "\n",
    "\n",
    "def mergeSort(arr):\n",
    "\tn = len(arr)\n",
    "\t# A temp_arr is created to store\n",
    "\t# sorted array in merge function\n",
    "\ttemp_arr = [0]*n\n",
    "\treturn _mergeSort(arr, temp_arr, 0, n-1)\n",
    "\n",
    "# This Function will use MergeSort to count inversions\n",
    "\n",
    "\n",
    "def _mergeSort(arr, temp_arr, left, right):\n",
    "\n",
    "\t# A variable inv_count is used to store\n",
    "\t# inversion counts in each recursive call\n",
    "\n",
    "\tinv_count = 0\n",
    "\n",
    "\t# We will make a recursive call if and only if\n",
    "\t# we have more than one elements\n",
    "\n",
    "\tif left < right:\n",
    "\n",
    "\t\t# mid is calculated to divide the array into two subarrays\n",
    "\t\t# Floor division is must in case of python\n",
    "\n",
    "\t\tmid = (left + right)//2\n",
    "\n",
    "\t\t# It will calculate inversion\n",
    "\t\t# counts in the left subarray\n",
    "\n",
    "\t\tinv_count += _mergeSort(arr, temp_arr,\n",
    "\t\t\t\t\t\t\t\tleft, mid)\n",
    "\n",
    "\t\t# It will calculate inversion\n",
    "\t\t# counts in right subarray\n",
    "\n",
    "\t\tinv_count += _mergeSort(arr, temp_arr,\n",
    "\t\t\t\t\t\t\t\tmid + 1, right)\n",
    "\n",
    "\t\t# It will merge two subarrays in\n",
    "\t\t# a sorted subarray\n",
    "\n",
    "\t\tinv_count += merge(arr, temp_arr, left, mid, right)\n",
    "\treturn inv_count\n",
    "\n",
    "# This function will merge two subarrays\n",
    "# in a single sorted subarray\n",
    "\n",
    "\n",
    "def merge(arr, temp_arr, left, mid, right):\n",
    "\ti = left\t # Starting index of left subarray\n",
    "\tj = mid + 1 # Starting index of right subarray\n",
    "\tk = left\t # Starting index of to be sorted subarray\n",
    "\tinv_count = 0\n",
    "\n",
    "\t# Conditions are checked to make sure that\n",
    "\t# i and j don't exceed their\n",
    "\t# subarray limits.\n",
    "\n",
    "\twhile i <= mid and j <= right:\n",
    "\n",
    "\t\t# There will be no inversion if arr[i] <= arr[j]\n",
    "\n",
    "\t\tif arr[i] <= arr[j]:\n",
    "\t\t\ttemp_arr[k] = arr[i]\n",
    "\t\t\tk += 1\n",
    "\t\t\ti += 1\n",
    "\t\telse:\n",
    "\t\t\t# Inversion will occur.\n",
    "\t\t\ttemp_arr[k] = arr[j]\n",
    "\t\t\tinv_count += (mid-i + 1)\n",
    "\t\t\tk += 1\n",
    "\t\t\tj += 1\n",
    "\n",
    "\t# Copy the remaining elements of left\n",
    "\t# subarray into temporary array\n",
    "\twhile i <= mid:\n",
    "\t\ttemp_arr[k] = arr[i]\n",
    "\t\tk += 1\n",
    "\t\ti += 1\n",
    "\n",
    "\t# Copy the remaining elements of right\n",
    "\t# subarray into temporary array\n",
    "\twhile j <= right:\n",
    "\t\ttemp_arr[k] = arr[j]\n",
    "\t\tk += 1\n",
    "\t\tj += 1\n",
    "\n",
    "\t# Copy the sorted subarray into Original array\n",
    "\tfor loop_var in range(left, right + 1):\n",
    "\t\tarr[loop_var] = temp_arr[loop_var]\n",
    "\n",
    "\treturn inv_count\n"
   ]
  },
  {
   "cell_type": "code",
   "execution_count": 91,
   "metadata": {},
   "outputs": [],
   "source": [
    "LENGTH = 3"
   ]
  },
  {
   "cell_type": "code",
   "execution_count": 98,
   "metadata": {},
   "outputs": [],
   "source": [
    "combs = list(itertools.permutations(range(LENGTH), r=3))"
   ]
  },
  {
   "cell_type": "code",
   "execution_count": 99,
   "metadata": {},
   "outputs": [],
   "source": [
    "val = list(range(LENGTH))\n",
    "val = [1,2,1]"
   ]
  },
  {
   "cell_type": "code",
   "execution_count": 100,
   "metadata": {},
   "outputs": [
    {
     "name": "stdout",
     "output_type": "stream",
     "text": [
      "(1, 2, 1) 1\n",
      "(2, 1, 1) 2\n",
      "(1, 1, 2) 0\n"
     ]
    }
   ],
   "source": [
    "unseen = set(itertools.permutations(val, r=LENGTH))\n",
    "\n",
    "for perm in unseen:\n",
    "    inv = mergeSort(list(perm))\n",
    "    print(perm, inv)"
   ]
  },
  {
   "cell_type": "code",
   "execution_count": 101,
   "metadata": {},
   "outputs": [],
   "source": [
    "for _ in range(10000):\n",
    "    a,b,c = random.sample(combs, 1)[0]\n",
    "    val[a], val[b], val[c] = val[b], val[c], val[a]\n",
    "    unseen.discard(tuple(val))\n",
    "\n",
    "for perm in unseen:\n",
    "    inv = mergeSort(list(perm))\n",
    "    print(perm, inv)"
   ]
  },
  {
   "cell_type": "code",
   "execution_count": null,
   "metadata": {},
   "outputs": [],
   "source": []
  },
  {
   "cell_type": "code",
   "execution_count": 77,
   "metadata": {},
   "outputs": [],
   "source": [
    "srr = \"\"\"\n",
    "\"\"\".strip()\n",
    "\n",
    "srr = \"\"\"aa\n",
    "\"\"\".strip()\n",
    "\n",
    "with open(\"/Users/hkmac/Downloads/input.txt\") as f:\n",
    "    srr = f.read().strip()\n",
    "    \n",
    "inp = srr.split(\"\\n\")"
   ]
  },
  {
   "cell_type": "code",
   "execution_count": null,
   "metadata": {},
   "outputs": [],
   "source": []
  },
  {
   "cell_type": "code",
   "execution_count": null,
   "metadata": {},
   "outputs": [],
   "source": []
  },
  {
   "cell_type": "code",
   "execution_count": null,
   "metadata": {},
   "outputs": [],
   "source": []
  },
  {
   "cell_type": "code",
   "execution_count": null,
   "metadata": {},
   "outputs": [],
   "source": []
  },
  {
   "cell_type": "code",
   "execution_count": null,
   "metadata": {},
   "outputs": [],
   "source": []
  },
  {
   "cell_type": "code",
   "execution_count": null,
   "metadata": {},
   "outputs": [],
   "source": []
  }
 ],
 "metadata": {
  "kernelspec": {
   "display_name": "Python 3",
   "language": "python",
   "name": "python3"
  },
  "language_info": {
   "codemirror_mode": {
    "name": "ipython",
    "version": 3
   },
   "file_extension": ".py",
   "mimetype": "text/x-python",
   "name": "python",
   "nbconvert_exporter": "python",
   "pygments_lexer": "ipython3",
   "version": "3.8.3"
  }
 },
 "nbformat": 4,
 "nbformat_minor": 4
}

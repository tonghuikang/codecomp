{
 "cells": [
  {
   "cell_type": "code",
   "execution_count": 117,
   "metadata": {},
   "outputs": [],
   "source": [
    "%reset -sf"
   ]
  },
  {
   "cell_type": "code",
   "execution_count": 118,
   "metadata": {},
   "outputs": [],
   "source": [
    "# LOAD THIS BEFORE START, run rmdl\n",
    "\n",
    "#!/usr/bin/env python3\n",
    "import sys\n",
    "import math, random\n",
    "import functools, itertools, collections, heapq, bisect\n",
    "from collections import Counter, defaultdict, deque\n",
    "\n",
    "# import numpy as np\n",
    "# import scipy\n",
    "# import matplotlib.pyplot as plt\n",
    "\n",
    "abc = \"SabcdefghijklmnopqrstuvwxyzEM\"\n",
    "abc_map = {c:i for i,c in enumerate(abc)}\n",
    "M9 = 10**9 + 7  # 998244353\n",
    "yes, no = \"YES\", \"NO\"\n",
    "d4 = [(1,0),(0,1),(-1,0),(0,-1)]\n",
    "d8 = [\n",
    "    (-1,-1),(-1,0),(-1,1),\n",
    "    (0,-1),(0,0),(0,1),\n",
    "    (1,-1),(1,0),(1,1)]\n",
    "d6 = [(2,0),(1,1),(-1,1),(-2,0),(-1,-1),(1,-1)]  # hexagonal layout\n",
    "MAXINT = sys.maxsize"
   ]
  },
  {
   "cell_type": "code",
   "execution_count": 138,
   "metadata": {},
   "outputs": [],
   "source": [
    "def shortest_path_constant_cost(map_from_node_to_nodes, source, target):\n",
    "    # to be tested\n",
    "    # no path is produced here\n",
    "    d = map_from_node_to_nodes\n",
    "    stack = deque([source])\n",
    "    visited = {source: 0}\n",
    "    while stack:\n",
    "        cur = stack.popleft()\n",
    "        for nex in d[cur]:\n",
    "            if nex in visited:\n",
    "                continue\n",
    "            stack.append(nex)\n",
    "            visited[nex] = visited[cur] + 1\n",
    "            if nex == target:\n",
    "                return visited[nex]\n",
    "    return visited\n",
    "\n",
    "\n",
    "def dijkstra(list_of_indexes_and_costs, start):\n",
    "    # shortest path with nonnegative edge costs\n",
    "    # leetcode.com/problems/path-with-maximum-probability/\n",
    "    # leetcode.com/problems/network-delay-time/\n",
    "    length = len(list_of_indexes_and_costs)\n",
    "    visited = [False]*length\n",
    "    weights = [MAXINT]*length\n",
    "    path = [None]*length\n",
    "    queue = []\n",
    "    weights[start] = 0\n",
    "    heapq.heappush(queue, (0, start))\n",
    "    while queue:\n",
    "        g, u = heapq.heappop(queue)\n",
    "        if visited[u]:\n",
    "            continue\n",
    "        visited[u] = True\n",
    "        for v, w in list_of_indexes_and_costs[u]:\n",
    "            if not visited[v]:\n",
    "                f = g + w\n",
    "                if f < weights[v]:\n",
    "                    weights[v] = f\n",
    "                    path[v] = u\n",
    "                    heapq.heappush(queue, (f, v))\n",
    "    return path, weights\n",
    "\n",
    "\n",
    "def dijkstra_with_preprocessing(map_from_node_to_nodes_and_costs, source, target, idxs=set()):\n",
    "    # this operation is costly, recommend to parse to list_of_indexes_and_costs directly\n",
    "    # leetcode.com/problems/path-with-maximum-probability/\n",
    "    # leetcode.com/problems/network-delay-time/\n",
    "    d = map_from_node_to_nodes_and_costs\n",
    "\n",
    "    if target not in d:  # destination may not have outgoing paths\n",
    "        d[target] = []\n",
    "    if source not in d:\n",
    "        return MAXINT\n",
    "\n",
    "    # assign indexes\n",
    "    if idxs:\n",
    "        idxs = {k:i for i,k in enumerate(idxs)}\n",
    "    else:\n",
    "        idxs = {k:i for i,k in enumerate(d.keys())}\n",
    "\n",
    "    # populate list of indexes and costs\n",
    "    list_of_indexes_and_costs = [[] for _ in range(len(idxs))]\n",
    "    for e,vrr in d.items():\n",
    "        for v,cost in vrr:\n",
    "            list_of_indexes_and_costs[idxs[e]].append((idxs[v],cost))\n",
    "\n",
    "    _, costs = dijkstra(list_of_indexes_and_costs, idxs[source])\n",
    "    return costs[idxs[target]]\n",
    "\n"
   ]
  },
  {
   "cell_type": "code",
   "execution_count": 139,
   "metadata": {},
   "outputs": [],
   "source": [
    "with open(\"/Users/htong/Downloads/input.txt\") as f:\n",
    "    srr = f.read().strip().split(\"\\n\")"
   ]
  },
  {
   "cell_type": "code",
   "execution_count": 140,
   "metadata": {},
   "outputs": [],
   "source": [
    "# srr = \"\"\"\n",
    "# Sabqponm\n",
    "# abcryxxl\n",
    "# accszExk\n",
    "# acctuvwj\n",
    "# abdefghi\n",
    "# \"\"\".strip().split(\"\\n\")"
   ]
  },
  {
   "cell_type": "code",
   "execution_count": 141,
   "metadata": {},
   "outputs": [],
   "source": [
    "# srr = \"\"\"\n",
    "# \"\"\".strip()"
   ]
  },
  {
   "cell_type": "code",
   "execution_count": 142,
   "metadata": {},
   "outputs": [],
   "source": [
    "n = len(srr)\n",
    "m = len(srr[0])"
   ]
  },
  {
   "cell_type": "code",
   "execution_count": 143,
   "metadata": {},
   "outputs": [],
   "source": [
    "mrr = [[abc_map[x] for x in row] for row in srr]"
   ]
  },
  {
   "cell_type": "code",
   "execution_count": 144,
   "metadata": {},
   "outputs": [
    {
     "data": {
      "text/plain": [
       "(41, 163)"
      ]
     },
     "execution_count": 144,
     "metadata": {},
     "output_type": "execute_result"
    }
   ],
   "source": [
    "n, m"
   ]
  },
  {
   "cell_type": "code",
   "execution_count": 145,
   "metadata": {},
   "outputs": [],
   "source": [
    "# def shortest_path_constant_cost(map_from_node_to_nodes, source, target):\n"
   ]
  },
  {
   "cell_type": "code",
   "execution_count": 146,
   "metadata": {},
   "outputs": [],
   "source": [
    "# abc_map"
   ]
  },
  {
   "cell_type": "code",
   "execution_count": 168,
   "metadata": {},
   "outputs": [],
   "source": [
    "d = defaultdict(list)\n",
    "start = (0,0)\n",
    "ends = []\n",
    "\n",
    "for x in range(n):\n",
    "    for y in range(m):\n",
    "        d4 = [(1,0),(0,1),(-1,0),(0,-1)]\n",
    "        for dx,dy in d4:\n",
    "            xx = x+dx\n",
    "            yy = y+dy\n",
    "            if 0 <= xx < n and 0 <= yy < m:\n",
    "                if mrr[xx][yy] <= mrr[x][y] + 1:\n",
    "                    d[xx,yy].append((x,y))\n",
    "        if mrr[x][y] == 1:\n",
    "            ends.append((x,y))\n",
    "        if mrr[x][y] == 27:\n",
    "            start = (x,y)"
   ]
  },
  {
   "cell_type": "code",
   "execution_count": 169,
   "metadata": {},
   "outputs": [],
   "source": [
    "mapp = shortest_path_constant_cost(d, start, end)"
   ]
  },
  {
   "cell_type": "code",
   "execution_count": 170,
   "metadata": {},
   "outputs": [],
   "source": [
    "# mapp"
   ]
  },
  {
   "cell_type": "code",
   "execution_count": 171,
   "metadata": {},
   "outputs": [],
   "source": [
    "minb = 10**9\n",
    "for (x,y),b in mapp.items():\n",
    "    if mrr[x][y] == 1:\n",
    "        minb = min(minb, b)"
   ]
  },
  {
   "cell_type": "code",
   "execution_count": 172,
   "metadata": {},
   "outputs": [
    {
     "data": {
      "text/plain": [
       "525"
      ]
     },
     "execution_count": 172,
     "metadata": {},
     "output_type": "execute_result"
    }
   ],
   "source": [
    "minb"
   ]
  },
  {
   "cell_type": "code",
   "execution_count": 134,
   "metadata": {},
   "outputs": [
    {
     "data": {
      "text/plain": [
       "(20, 138)"
      ]
     },
     "execution_count": 134,
     "metadata": {},
     "output_type": "execute_result"
    }
   ],
   "source": [
    "enda"
   ]
  },
  {
   "cell_type": "code",
   "execution_count": 135,
   "metadata": {},
   "outputs": [
    {
     "data": {
      "text/plain": [
       "554"
      ]
     },
     "execution_count": 135,
     "metadata": {},
     "output_type": "execute_result"
    }
   ],
   "source": [
    "554"
   ]
  },
  {
   "cell_type": "code",
   "execution_count": 136,
   "metadata": {},
   "outputs": [
    {
     "data": {
      "text/plain": [
       "534"
      ]
     },
     "execution_count": 136,
     "metadata": {},
     "output_type": "execute_result"
    }
   ],
   "source": [
    "shortest_path_constant_cost(d, start, end)"
   ]
  },
  {
   "cell_type": "code",
   "execution_count": 139,
   "metadata": {},
   "outputs": [],
   "source": [
    "res = 0"
   ]
  },
  {
   "cell_type": "code",
   "execution_count": 15,
   "metadata": {},
   "outputs": [],
   "source": [
    "def test(arr):\n",
    "    res = 0\n",
    "    return res"
   ]
  },
  {
   "cell_type": "code",
   "execution_count": null,
   "metadata": {},
   "outputs": [],
   "source": []
  }
 ],
 "metadata": {
  "kernelspec": {
   "display_name": "Python 3 (ipykernel)",
   "language": "python",
   "name": "python3"
  },
  "language_info": {
   "codemirror_mode": {
    "name": "ipython",
    "version": 3
   },
   "file_extension": ".py",
   "mimetype": "text/x-python",
   "name": "python",
   "nbconvert_exporter": "python",
   "pygments_lexer": "ipython3",
   "version": "3.9.7"
  }
 },
 "nbformat": 4,
 "nbformat_minor": 4
}

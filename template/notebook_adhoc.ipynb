{
 "cells": [
  {
   "cell_type": "code",
   "execution_count": 47,
   "metadata": {},
   "outputs": [],
   "source": [
    "%reset -sf"
   ]
  },
  {
   "cell_type": "code",
   "execution_count": 48,
   "metadata": {},
   "outputs": [],
   "source": [
    "#!/usr/bin/env python3\n",
    "import sys\n",
    "import math, random\n",
    "import functools, itertools, collections, heapq, bisect\n",
    "from collections import Counter, defaultdict, deque\n",
    "\n",
    "# available on Google, AtCoder Python3, not available on Codeforces\n",
    "# import numpy as np\n",
    "# import scipy\n",
    "\n",
    "M9 = 10**9 + 7  # 998244353\n",
    "yes, no = \"YES\", \"NO\"\n",
    "d4 = [(1,0),(0,1),(-1,0),(0,-1)]\n",
    "# d8 = [(1,0),(1,1),(0,1),(-1,1),(-1,0),(-1,-1),(0,-1),(1,-1)]\n",
    "# d6 = [(2,0),(1,1),(-1,1),(-2,0),(-1,-1),(1,-1)]  # hexagonal layout\n",
    "MAXINT = sys.maxsize"
   ]
  },
  {
   "cell_type": "code",
   "execution_count": 49,
   "metadata": {},
   "outputs": [],
   "source": [
    "# trr = \"\"\n",
    "# srr = \"\"\"\n",
    "# \"\"\".strip()\n",
    "\n",
    "\n",
    "# trr = \"\"\n",
    "with open(\"/Users/hkmac/Downloads/input.txt\") as f:\n",
    "    srr_inp = f.read().strip()\n",
    "\n",
    "with open(\"input1.txt\") as f:\n",
    "    srr_inp = f.read().strip()\n",
    "    \n",
    "srr_inp = list(srr_inp.split(\"\\n\\n\"))\n",
    "srr_inp = [srr_in.strip().split(\"\\n\")[1:] for srr_in in srr_inp]\n",
    "srr_inp = [[list(map(int,srr_i.split(\",\"))) for srr_i in srr_in] for srr_in in srr_inp]"
   ]
  },
  {
   "cell_type": "code",
   "execution_count": 50,
   "metadata": {},
   "outputs": [
    {
     "data": {
      "text/plain": [
       "5"
      ]
     },
     "execution_count": 50,
     "metadata": {},
     "output_type": "execute_result"
    }
   ],
   "source": [
    "len(srr_inp)"
   ]
  },
  {
   "cell_type": "code",
   "execution_count": 59,
   "metadata": {
    "scrolled": false
   },
   "outputs": [
    {
     "name": "stdout",
     "output_type": "stream",
     "text": [
      "0 1 ok\n",
      "140316999422448\n",
      "(67, 1248, -46)\n",
      "1 0 ok\n",
      "140316999422448\n",
      "(67, -1244, -46)\n",
      "1 3 ok\n",
      "140316996781968\n",
      "(-159, 1136, 26)\n",
      "1 4 ok\n",
      "140316996783120\n",
      "(-1107, -87, 111)\n",
      "2 4 ok\n",
      "140316996781392\n",
      "(170, -1124, 69)\n",
      "3 1 ok\n",
      "140316996783552\n",
      "(161, -1132, -20)\n",
      "4 1 ok\n",
      "140316996781968\n",
      "(90, 110, -1105)\n",
      "4 2 ok\n",
      "140316996781824\n",
      "(1127, -167, 69)\n"
     ]
    }
   ],
   "source": [
    "import copy\n",
    "\n",
    "mapping = {}\n",
    "\n",
    "for ii in range(len(srr_inp)):\n",
    "    for jj in range(len(srr_inp)):\n",
    "        if ii == jj:\n",
    "            continue\n",
    "        \n",
    "        arr = srr_inp[ii]\n",
    "        brr = srr_inp[jj]\n",
    "\n",
    "        for px,py,pz in itertools.product([-1,1], repeat=3):\n",
    "            for transform in [\n",
    "    lambda x: (x[0],x[1],x[2]),\n",
    "    lambda x: (x[0],x[2],x[1]),\n",
    "    lambda x: (x[1],x[0],x[2]),\n",
    "    lambda x: (x[1],x[2],x[0]),\n",
    "    lambda x: (x[2],x[0],x[1]),\n",
    "    lambda x: (x[2],x[1],x[0]),\n",
    "]:\n",
    "                xrr = [transform((x*px,y*py,z*pz)) for x,y,z in arr]\n",
    "\n",
    "                for (p,q,r) in (xrr):\n",
    "                    for (p2,q2,r2) in (brr):\n",
    "                        p9,q9,r9 = p-p2, q-q2, r-r2\n",
    "                        \n",
    "                        tf = lambda x: (transform((x[0]*px,x[1]*py,x[2]*pz),)[0] - p9, \n",
    "                                        transform((x[0]*px,x[1]*py,x[2]*pz),)[1] - q9, \n",
    "                                        transform((x[0]*px,x[1]*py,x[2]*pz),)[2] - r9)\n",
    "                        \n",
    "                        prr = [tf((x,y,z),) for x,y,z in arr]\n",
    "                        qrr = [(x,y,z) for x,y,z in brr]\n",
    "\n",
    "                        if len(set(prr) & set(qrr)) >= 12:\n",
    "                            mapping[ii,jj] = (transform, px, py, pz, p9, q9, r9)\n",
    "                            print(ii,jj,\"ok\")\n",
    "                            print(id(tf))\n",
    "                            print(tf((1,2,3),))\n",
    "                            break\n",
    "                    if (ii,jj) in mapping:\n",
    "                        break\n",
    "                if (ii,jj) in mapping:\n",
    "                    break\n",
    "            if (ii,jj) in mapping:\n",
    "                break"
   ]
  },
  {
   "cell_type": "code",
   "execution_count": 60,
   "metadata": {},
   "outputs": [
    {
     "name": "stdout",
     "output_type": "stream",
     "text": [
      "(0, 1) (<function <lambda> at 0x7f9e18b510d0>, -1, 1, -1, -68, -1246, 43)\n",
      "(1, 0) (<function <lambda> at 0x7f9e18e81310>, -1, 1, -1, -68, 1246, 43)\n",
      "(1, 3) (<function <lambda> at 0x7f9e18e819d0>, 1, 1, 1, 160, -1134, -23)\n",
      "(1, 4) (<function <lambda> at 0x7f9e18b23f70>, 1, -1, -1, 1104, 88, -113)\n",
      "(2, 4) (<function <lambda> at 0x7f9e18b0eca0>, 1, 1, -1, -168, 1125, -72)\n",
      "(3, 1) (<function <lambda> at 0x7f9e18b0e9d0>, 1, 1, 1, -160, 1134, 23)\n",
      "(4, 1) (<function <lambda> at 0x7f9e1894ae50>, -1, 1, -1, -88, -113, 1104)\n",
      "(4, 2) (<function <lambda> at 0x7f9e18e811f0>, 1, 1, -1, -1125, 168, -72)\n"
     ]
    }
   ],
   "source": [
    "for k,func in mapping.items():\n",
    "    print(k, func)\n",
    "#     print(func((1,2,3),))"
   ]
  },
  {
   "cell_type": "code",
   "execution_count": 53,
   "metadata": {},
   "outputs": [],
   "source": [
    "stack = [0]\n",
    "visited = set(stack)\n",
    "prev = {}\n",
    "\n",
    "while stack:\n",
    "    cur = stack.pop()\n",
    "    for nex in range(len(srr_inp)):\n",
    "        if nex in visited:\n",
    "            continue\n",
    "        if (cur,nex) not in mapping:\n",
    "            continue\n",
    "        stack.append(nex)\n",
    "        visited.add(nex)\n",
    "        prev[nex] = cur"
   ]
  },
  {
   "cell_type": "code",
   "execution_count": 54,
   "metadata": {},
   "outputs": [
    {
     "data": {
      "text/plain": [
       "{0, 1, 2, 3, 4}"
      ]
     },
     "execution_count": 54,
     "metadata": {},
     "output_type": "execute_result"
    }
   ],
   "source": [
    "visited"
   ]
  },
  {
   "cell_type": "code",
   "execution_count": 55,
   "metadata": {},
   "outputs": [
    {
     "data": {
      "text/plain": [
       "{1: 0, 3: 1, 4: 1, 2: 4}"
      ]
     },
     "execution_count": 55,
     "metadata": {},
     "output_type": "execute_result"
    }
   ],
   "source": [
    "prev"
   ]
  },
  {
   "cell_type": "code",
   "execution_count": null,
   "metadata": {},
   "outputs": [],
   "source": [
    "mapping[4,1](1,2,3)"
   ]
  },
  {
   "cell_type": "code",
   "execution_count": 61,
   "metadata": {},
   "outputs": [],
   "source": [
    "beacons = set(map(tuple, srr_inp[0]))\n",
    "\n",
    "for i in range(len(srr_inp)):\n",
    "    cur = i\n",
    "    arr = srr_inp[i]\n",
    "    transforms = []\n",
    "    while cur != 0:\n",
    "        transform, px, py, pz, p9, q9, r9 = mapping[cur, prev[cur]]\n",
    "\n",
    "        tf = lambda x: (transform((x[0]*px,x[1]*py,x[2]*pz),)[0] - p9, \n",
    "                        transform((x[0]*px,x[1]*py,x[2]*pz),)[1] - q9, \n",
    "                        transform((x[0]*px,x[1]*py,x[2]*pz),)[2] - r9)\n",
    "        arr = [tf((x,y,z),) for x,y,z in arr]        \n",
    "        cur = prev[cur]\n",
    "    assert cur == 0\n",
    "\n",
    "    beacons.update(set(map(tuple, arr)))"
   ]
  },
  {
   "cell_type": "code",
   "execution_count": 62,
   "metadata": {
    "scrolled": false
   },
   "outputs": [
    {
     "data": {
      "text/plain": [
       "{(-892, 524, 684),\n",
       " (-876, 649, 763),\n",
       " (-838, 591, 734),\n",
       " (-789, 900, -551),\n",
       " (-739, -1745, 668),\n",
       " (-706, -3180, -659),\n",
       " (-697, -3072, -689),\n",
       " (-689, 845, -530),\n",
       " (-687, -1600, 576),\n",
       " (-661, -816, -575),\n",
       " (-654, -3158, -753),\n",
       " (-635, -1737, 486),\n",
       " (-631, -672, 1502),\n",
       " (-624, -1620, 1868),\n",
       " (-620, -3212, 371),\n",
       " (-618, -824, -621),\n",
       " (-612, -1695, 1788),\n",
       " (-601, -1648, -643),\n",
       " (-584, 868, -557),\n",
       " (-537, -823, -458),\n",
       " (-532, -1715, 1894),\n",
       " (-518, -1681, -600),\n",
       " (-499, -1607, -770),\n",
       " (-485, -357, 347),\n",
       " (-470, -3283, 303),\n",
       " (-456, -621, 1527),\n",
       " (-447, -329, 318),\n",
       " (-430, -3130, 366),\n",
       " (-413, -627, 1469),\n",
       " (-345, -311, 381),\n",
       " (-36, -1284, 1171),\n",
       " (-27, -1108, -65),\n",
       " (7, -33, -71),\n",
       " (12, -2351, -103),\n",
       " (26, -1119, 1091),\n",
       " (346, -2985, 342),\n",
       " (366, -3059, 397),\n",
       " (377, -2827, 367),\n",
       " (390, -675, -793),\n",
       " (396, -1931, -563),\n",
       " (404, -588, -901),\n",
       " (408, -1815, 803),\n",
       " (423, -701, 434),\n",
       " (432, -2009, 850),\n",
       " (443, 580, 662),\n",
       " (455, 729, 728),\n",
       " (456, -540, 1869),\n",
       " (459, -707, 401),\n",
       " (465, -695, 1988),\n",
       " (474, 580, 667),\n",
       " (496, -1584, 1900),\n",
       " (497, -1838, -617),\n",
       " (527, -524, 1933),\n",
       " (528, -643, 409),\n",
       " (534, -1912, 768),\n",
       " (544, -627, -890),\n",
       " (553, 345, -567),\n",
       " (564, 392, -477),\n",
       " (568, -2007, -577),\n",
       " (605, -1665, 1952),\n",
       " (612, -1593, 1893),\n",
       " (630, 319, -379),\n",
       " (686, -3108, -505),\n",
       " (776, -3184, -501),\n",
       " (846, -3110, -434),\n",
       " (1135, -1161, 1235),\n",
       " (1243, -1093, 1063),\n",
       " (1660, -552, 429),\n",
       " (1693, -557, 386),\n",
       " (1735, -437, 1738),\n",
       " (1749, -1800, 1813),\n",
       " (1772, -405, 1572),\n",
       " (1776, -675, 371),\n",
       " (1779, -442, 1789),\n",
       " (1780, -1548, 337),\n",
       " (1786, -1538, 337),\n",
       " (1847, -1591, 415),\n",
       " (1889, -1729, 1762),\n",
       " (1994, -1805, 1792)}"
      ]
     },
     "execution_count": 62,
     "metadata": {},
     "output_type": "execute_result"
    }
   ],
   "source": [
    "beacons"
   ]
  },
  {
   "cell_type": "code",
   "execution_count": 63,
   "metadata": {},
   "outputs": [
    {
     "data": {
      "text/plain": [
       "79"
      ]
     },
     "execution_count": 63,
     "metadata": {},
     "output_type": "execute_result"
    }
   ],
   "source": [
    "len(beacons)"
   ]
  },
  {
   "cell_type": "code",
   "execution_count": null,
   "metadata": {},
   "outputs": [],
   "source": []
  },
  {
   "cell_type": "code",
   "execution_count": null,
   "metadata": {},
   "outputs": [],
   "source": []
  },
  {
   "cell_type": "code",
   "execution_count": null,
   "metadata": {},
   "outputs": [],
   "source": []
  },
  {
   "cell_type": "code",
   "execution_count": null,
   "metadata": {},
   "outputs": [],
   "source": []
  }
 ],
 "metadata": {
  "kernelspec": {
   "display_name": "Python 3",
   "language": "python",
   "name": "python3"
  },
  "language_info": {
   "codemirror_mode": {
    "name": "ipython",
    "version": 3
   },
   "file_extension": ".py",
   "mimetype": "text/x-python",
   "name": "python",
   "nbconvert_exporter": "python",
   "pygments_lexer": "ipython3",
   "version": "3.8.3"
  }
 },
 "nbformat": 4,
 "nbformat_minor": 4
}

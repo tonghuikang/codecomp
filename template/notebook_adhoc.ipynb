{
 "cells": [
  {
   "cell_type": "code",
   "execution_count": 32,
   "metadata": {},
   "outputs": [],
   "source": [
    "def project_point_onto_line(x, y, a, b, c):\n",
    "    # Calculate the line's magnitude\n",
    "    line_magnitude = (a**2 + b**2)**0.5\n",
    "\n",
    "    # Normalize the line coefficients\n",
    "    a_normalized = a / line_magnitude\n",
    "    b_normalized = b / line_magnitude\n",
    "    c_normalized = c / line_magnitude\n",
    "\n",
    "    # Calculate the distance from the point to the line\n",
    "    distance = a_normalized * x + b_normalized * y + c_normalized\n",
    "\n",
    "    # Calculate the projected point coordinates\n",
    "    x_projected = x - a_normalized * distance\n",
    "    y_projected = y - b_normalized * distance\n",
    "\n",
    "    return x_projected, y_projected"
   ]
  },
  {
   "cell_type": "code",
   "execution_count": 38,
   "metadata": {},
   "outputs": [],
   "source": [
    "X_CONST_1 = 89.213721983\n",
    "Y_CONST_1 = 0.2138179231\n",
    "C_CONST_1 = 1.1238719833\n",
    "\n",
    "X_CONST_2 = 0.1278316213\n",
    "Y_CONST_2 = 87.213892179\n",
    "C_CONST_2 = 2.1238971981\n",
    "\n",
    "X_CONST = 93.1230172983\n",
    "Y_CONST = 96.3218973211\n",
    "C_CONST = 98.1283719231\n"
   ]
  },
  {
   "cell_type": "code",
   "execution_count": 39,
   "metadata": {},
   "outputs": [
    {
     "name": "stdout",
     "output_type": "stream",
     "text": [
      "-0.01978174567915536 2.9975558959986226 -0.01378143087437067 0.4939752370741877\n"
     ]
    }
   ],
   "source": [
    "x1, y1 = project_point_onto_line(1,3,    X_CONST_1,Y_CONST_1,C_CONST_1)\n",
    "x2, y2 = project_point_onto_line(2.5,0.5,X_CONST_1,Y_CONST_1,C_CONST_1)\n",
    "print(x1, y1, x2, y2)"
   ]
  },
  {
   "cell_type": "code",
   "execution_count": 40,
   "metadata": {},
   "outputs": [
    {
     "name": "stdout",
     "output_type": "stream",
     "text": [
      "0.995564990398876 -0.025811964455294767 2.499226073630216 -0.028015918772121062\n"
     ]
    }
   ],
   "source": [
    "x1, y1 = project_point_onto_line(1,3,    X_CONST_2,Y_CONST_2,C_CONST_2)\n",
    "x2, y2 = project_point_onto_line(2.5,0.5,X_CONST_2,Y_CONST_2,C_CONST_2)\n",
    "print(x1, y1, x2, y2)"
   ]
  },
  {
   "cell_type": "code",
   "execution_count": 41,
   "metadata": {},
   "outputs": [],
   "source": [
    "X_CONST = 93.1230172983\n",
    "Y_CONST = 96.3218973211"
   ]
  },
  {
   "cell_type": "code",
   "execution_count": 42,
   "metadata": {},
   "outputs": [
    {
     "name": "stdout",
     "output_type": "stream",
     "text": [
      "-1.4913510434214858 0.42306825576150553 0.5332574490495241 -1.5343023620342717\n"
     ]
    }
   ],
   "source": [
    "x1, y1 = project_point_onto_line(1,3,    X_CONST,Y_CONST,C_CONST)\n",
    "x2, y2 = project_point_onto_line(2.5,0.5,X_CONST,Y_CONST,C_CONST)\n",
    "print(x1, y1, x2, y2)"
   ]
  },
  {
   "cell_type": "code",
   "execution_count": 6,
   "metadata": {},
   "outputs": [
    {
     "data": {
      "text/plain": [
       "(1.0, 1.0)"
      ]
     },
     "execution_count": 6,
     "metadata": {},
     "output_type": "execute_result"
    }
   ],
   "source": [
    "project_point_onto_line(1,3,0,1,-1)"
   ]
  },
  {
   "cell_type": "code",
   "execution_count": 3,
   "metadata": {},
   "outputs": [
    {
     "data": {
      "text/plain": [
       "(2.5, 1.0)"
      ]
     },
     "execution_count": 3,
     "metadata": {},
     "output_type": "execute_result"
    }
   ],
   "source": [
    "project_point_onto_line(2.5,0.5,0,1,-1)"
   ]
  },
  {
   "cell_type": "code",
   "execution_count": null,
   "metadata": {},
   "outputs": [],
   "source": []
  }
 ],
 "metadata": {
  "kernelspec": {
   "display_name": "Python 3 (ipykernel)",
   "language": "python",
   "name": "python3"
  },
  "language_info": {
   "codemirror_mode": {
    "name": "ipython",
    "version": 3
   },
   "file_extension": ".py",
   "mimetype": "text/x-python",
   "name": "python",
   "nbconvert_exporter": "python",
   "pygments_lexer": "ipython3",
   "version": "3.9.7"
  }
 },
 "nbformat": 4,
 "nbformat_minor": 4
}

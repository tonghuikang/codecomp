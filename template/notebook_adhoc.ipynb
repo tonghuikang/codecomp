{
 "cells": [
  {
   "cell_type": "code",
   "execution_count": 156,
   "metadata": {},
   "outputs": [],
   "source": [
    "%reset -sf"
   ]
  },
  {
   "cell_type": "code",
   "execution_count": 18,
   "metadata": {},
   "outputs": [],
   "source": [
    "# LOAD THIS BEFORE START, run rmdl\n",
    "\n",
    "#!/usr/bin/env python3\n",
    "import sys\n",
    "import math, random\n",
    "import functools, itertools, collections, heapq, bisect\n",
    "from collections import Counter, defaultdict, deque\n",
    "\n",
    "# import numpy as np\n",
    "# import scipy\n",
    "import matplotlib.pyplot as plt\n",
    "\n",
    "abc = \"abcdefghijklmnopqrstuvwxyz\"\n",
    "abc_map = {c:i for i,c in enumerate(abc)}\n",
    "M9 = 10**9 + 7  # 998244353\n",
    "yes, no = \"YES\", \"NO\"\n",
    "d4 = [(1,0),(0,1),(-1,0),(0,-1)]\n",
    "d8 = [\n",
    "    (-1,-1),(-1,0),(-1,1),\n",
    "    (0,-1),(0,0),(0,1),\n",
    "    (1,-1),(1,0),(1,1)]\n",
    "d6 = [(2,0),(1,1),(-1,1),(-2,0),(-1,-1),(1,-1)]  # hexagonal layout\n",
    "MAXINT = sys.maxsize"
   ]
  },
  {
   "cell_type": "code",
   "execution_count": 103,
   "metadata": {},
   "outputs": [],
   "source": [
    "with open(\"/Users/htong/Downloads/input.txt\") as f:\n",
    "    srr = f.read().strip().split(\"\\n\")"
   ]
  },
  {
   "cell_type": "code",
   "execution_count": 104,
   "metadata": {},
   "outputs": [],
   "source": [
    "# srr = \"\"\"\n",
    "# Valve AA has flow rate=0; tunnels lead to valves DD, II, BB\n",
    "# Valve BB has flow rate=13; tunnels lead to valves CC, AA\n",
    "# Valve CC has flow rate=2; tunnels lead to valves DD, BB\n",
    "# Valve DD has flow rate=20; tunnels lead to valves CC, AA, EE\n",
    "# Valve EE has flow rate=3; tunnels lead to valves FF, DD\n",
    "# Valve FF has flow rate=0; tunnels lead to valves EE, GG\n",
    "# Valve GG has flow rate=0; tunnels lead to valves FF, HH\n",
    "# Valve HH has flow rate=22; tunnel leads to valve GG\n",
    "# Valve II has flow rate=0; tunnels lead to valves AA, JJ\n",
    "# Valve JJ has flow rate=21; tunnel leads to valve II\n",
    "# \"\"\".strip().split(\"\\n\")"
   ]
  },
  {
   "cell_type": "code",
   "execution_count": 105,
   "metadata": {},
   "outputs": [],
   "source": [
    "# srr = \"\"\"\n",
    "# \"\"\".strip()"
   ]
  },
  {
   "cell_type": "code",
   "execution_count": 106,
   "metadata": {},
   "outputs": [],
   "source": [
    "valve_to_pressure = {}\n",
    "valve_to_nex = {}\n",
    "\n",
    "for row in srr:\n",
    "    row = row.replace(\"=\", \"|\")\n",
    "    row = row.replace(\";\", \"|\")\n",
    "    row = row.replace(\",\", \"\")\n",
    "    row = row.replace(\"valves\", \"|\")\n",
    "    row = row.replace(\"valve\", \"|\")\n",
    "    a,b,c,d = row.split(\"|\")\n",
    "    a = a.split()[1]\n",
    "    b = int(b)\n",
    "    nexs = d.split()\n",
    "    valve_to_pressure[a] = b\n",
    "    valve_to_nex[a] = nexs"
   ]
  },
  {
   "cell_type": "code",
   "execution_count": 107,
   "metadata": {},
   "outputs": [],
   "source": [
    "# valve_to_pressure"
   ]
  },
  {
   "cell_type": "code",
   "execution_count": 108,
   "metadata": {},
   "outputs": [],
   "source": [
    "# states = defaultdict(int)\n",
    "# states[\"AA\", tuple(), 0] = 0 # location, opened, currate -> value\n",
    "# # prevmax = defaultdict(int)\n",
    "\n",
    "# for _ in range(30):\n",
    "#     print(_, len(states))\n",
    "#     new_states = defaultdict(int)\n",
    "#     for (cur, opened, currate), value in states.items():\n",
    "#         if cur not in opened and valve_to_pressure[cur] > 0:\n",
    "#             nex_opened = tuple(sorted(list(opened) + [cur]))\n",
    "#             nex_currate = currate + valve_to_pressure[cur]\n",
    "#             nex_state = (cur, nex_opened, nex_currate)\n",
    "#             nex_value = value + currate\n",
    "#             if nex_state not in states or nex_value > states[nex_state]:\n",
    "#                 new_states[nex_state] = max(new_states[nex_state], nex_value)\n",
    "#         for nex in valve_to_nex[cur]:\n",
    "#             nex_state = (nex, opened, currate)\n",
    "#             nex_value = value + currate\n",
    "#             if nex_state not in states or nex_value > states[nex_state]:\n",
    "#                 new_states[nex_state] = max(new_states[nex_state], nex_value)\n",
    "#     states = new_states"
   ]
  },
  {
   "cell_type": "code",
   "execution_count": 110,
   "metadata": {},
   "outputs": [
    {
     "name": "stdout",
     "output_type": "stream",
     "text": [
      "0 1 0\n",
      "1 26 0\n",
      "2 61 0\n",
      "3 474 0\n",
      "4 1752 23\n",
      "5 4040 46\n",
      "6 11155 69\n",
      "7 30349 131\n",
      "8 55936 193\n",
      "9 71410 255\n",
      "10 80538 317\n",
      "11 93891 379\n",
      "12 115364 441\n",
      "13 144353 516\n",
      "14 181714 591\n",
      "15 233076 696\n",
      "16 268495 805\n",
      "17 301722 930\n",
      "18 312663 1055\n",
      "19 329452 1180\n",
      "20 346810 1311\n",
      "21 367825 1446\n",
      "22 394802 1587\n",
      "23 419844 1728\n",
      "24 457337 1883\n",
      "25 497268 2041\n"
     ]
    }
   ],
   "source": [
    "states = defaultdict(int)\n",
    "states[\"AA\", \"AA\", tuple(), 0] = 0 # location1, location2, opened, currate -> value\n",
    "# prevmax = defaultdict(int)\n",
    "\n",
    "for _ in range(26):\n",
    "    maxval = max(states.values())\n",
    "    print(_, len(states), maxval)\n",
    "    new_states = defaultdict(int)\n",
    "    for (cur1, cur2, opened, currate), value in states.items():\n",
    "        if value < maxval - 100:\n",
    "            continue\n",
    "        if cur1 not in opened and valve_to_pressure[cur1] > 0 and cur2 not in opened and valve_to_pressure[cur2] > 0 and cur1 != cur2:\n",
    "            nex_opened = tuple(sorted(list(opened) + [cur1, cur2]))\n",
    "            nex_currate = currate + valve_to_pressure[cur1] + valve_to_pressure[cur2]\n",
    "            nex_state = (cur1, cur2, nex_opened, nex_currate)\n",
    "            nex_value = value + currate\n",
    "            if nex_state not in states or nex_value > states[nex_state]:\n",
    "                new_states[nex_state] = max(new_states[nex_state], nex_value)\n",
    "\n",
    "        if cur1 not in opened and valve_to_pressure[cur1] > 0:\n",
    "            for nex2 in valve_to_nex[cur2]:\n",
    "                nex_opened = tuple(sorted(list(opened) + [cur1]))\n",
    "                nex_currate = currate + valve_to_pressure[cur1]\n",
    "                nex_state = (cur1, nex2, nex_opened, nex_currate)\n",
    "                nex_value = value + currate\n",
    "                if nex_state not in states or nex_value > states[nex_state]:\n",
    "                    new_states[nex_state] = max(new_states[nex_state], nex_value)\n",
    "\n",
    "        if cur2 not in opened and valve_to_pressure[cur2] > 0:\n",
    "            for nex1 in valve_to_nex[cur1]:\n",
    "                nex_opened = tuple(sorted(list(opened) + [cur2]))\n",
    "                nex_currate = currate + valve_to_pressure[cur2]\n",
    "                nex_state = (nex1, cur2, nex_opened, nex_currate)\n",
    "                nex_value = value + currate\n",
    "                if nex_state not in states or nex_value > states[nex_state]:\n",
    "                    new_states[nex_state] = max(new_states[nex_state], nex_value)\n",
    "                    \n",
    "        for nex1 in valve_to_nex[cur1]:\n",
    "            for nex2 in valve_to_nex[cur2]:\n",
    "                nex_state = (nex1, nex2, opened, currate)\n",
    "                nex_value = value + currate\n",
    "                if nex_state not in states or nex_value > states[nex_state]:\n",
    "                    new_states[nex_state] = max(new_states[nex_state], nex_value)\n",
    "    states.update(new_states)"
   ]
  },
  {
   "cell_type": "code",
   "execution_count": 111,
   "metadata": {},
   "outputs": [
    {
     "data": {
      "text/plain": [
       "2213"
      ]
     },
     "execution_count": 111,
     "metadata": {},
     "output_type": "execute_result"
    }
   ],
   "source": [
    "max(states.values())"
   ]
  },
  {
   "cell_type": "code",
   "execution_count": null,
   "metadata": {},
   "outputs": [],
   "source": [
    "res = 0"
   ]
  },
  {
   "cell_type": "code",
   "execution_count": 266,
   "metadata": {},
   "outputs": [],
   "source": [
    "def test(arr):\n",
    "    res = 0\n",
    "    return res"
   ]
  },
  {
   "cell_type": "code",
   "execution_count": null,
   "metadata": {},
   "outputs": [],
   "source": []
  },
  {
   "cell_type": "code",
   "execution_count": null,
   "metadata": {},
   "outputs": [],
   "source": []
  }
 ],
 "metadata": {
  "kernelspec": {
   "display_name": "Python 3 (ipykernel)",
   "language": "python",
   "name": "python3"
  },
  "language_info": {
   "codemirror_mode": {
    "name": "ipython",
    "version": 3
   },
   "file_extension": ".py",
   "mimetype": "text/x-python",
   "name": "python",
   "nbconvert_exporter": "python",
   "pygments_lexer": "ipython3",
   "version": "3.9.7"
  }
 },
 "nbformat": 4,
 "nbformat_minor": 4
}

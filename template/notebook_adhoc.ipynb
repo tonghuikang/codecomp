{
 "cells": [
  {
   "cell_type": "code",
   "execution_count": 333,
   "metadata": {},
   "outputs": [],
   "source": [
    "%reset -sf"
   ]
  },
  {
   "cell_type": "code",
   "execution_count": 334,
   "metadata": {},
   "outputs": [],
   "source": [
    "#!/usr/bin/env python3\n",
    "import sys\n",
    "import math, random\n",
    "import functools, itertools, collections, heapq, bisect\n",
    "from collections import Counter, defaultdict, deque"
   ]
  },
  {
   "cell_type": "code",
   "execution_count": 335,
   "metadata": {},
   "outputs": [],
   "source": [
    "strr = \"\"\"be cfbegad cbdgef fgaecd cgeb fdcge agebfd fecdb fabcd edb | fdgacbe cefdb cefbgd gcbe\n",
    "edbfga begcd cbg gc gcadebf fbgde acbgfd abcde gfcbed gfec | fcgedb cgb dgebacf gc\n",
    "fgaebd cg bdaec gdafb agbcfd gdcbef bgcad gfac gcb cdgabef | cg cg fdcagb cbg\n",
    "fbegcd cbd adcefb dageb afcb bc aefdc ecdab fgdeca fcdbega | efabcd cedba gadfec cb\n",
    "aecbfdg fbg gf bafeg dbefa fcge gcbea fcaegb dgceab fcbdga | gecf egdcabf bgf bfgea\n",
    "fgeab ca afcebg bdacfeg cfaedg gcfdb baec bfadeg bafgc acf | gebdcfa ecba ca fadegcb\n",
    "dbcfg fgd bdegcaf fgec aegbdf ecdfab fbedc dacgb gdcebf gf | cefg dcbef fcge gbcadfe\n",
    "bdfegc cbegaf gecbf dfcage bdacg ed bedf ced adcbefg gebcd | ed bcgafe cdgba cbgef\n",
    "egadfb cdbfeg cegd fecab cgb gbdefca cg fgcdab egfdb bfceg | gbdfcae bgc cg cgb\n",
    "gcafb gcf dcaebfg ecagb gf abcdeg gaef cafbge fdbac fegbdc | fgae cfgab fg bagce\"\"\""
   ]
  },
  {
   "cell_type": "code",
   "execution_count": 336,
   "metadata": {},
   "outputs": [],
   "source": [
    "# with open(\"/Users/hkmac/Downloads/input.txt\") as f:\n",
    "#     strr = f.read()"
   ]
  },
  {
   "cell_type": "code",
   "execution_count": 337,
   "metadata": {},
   "outputs": [],
   "source": [
    "inp = [row.split(\" | \") for row in strr.strip().split(\"\\n\")]"
   ]
  },
  {
   "cell_type": "code",
   "execution_count": 338,
   "metadata": {},
   "outputs": [],
   "source": [
    "left = [[tuple(sorted(list(x))) for x in row[0].split()] for row in inp]"
   ]
  },
  {
   "cell_type": "code",
   "execution_count": 339,
   "metadata": {},
   "outputs": [],
   "source": [
    "right = [[tuple(sorted(list(x))) for x in row[1].split()] for row in inp]"
   ]
  },
  {
   "cell_type": "code",
   "execution_count": 340,
   "metadata": {},
   "outputs": [
    {
     "data": {
      "text/plain": [
       "[('a', 'b', 'c', 'd', 'e', 'f', 'g'),\n",
       " ('a', 'b', 'c', 'd', 'f', 'g'),\n",
       " ('a', 'b', 'c', 'e', 'f', 'g'),\n",
       " ('a', 'b', 'd', 'e', 'f', 'g'),\n",
       " ('a', 'b', 'd', 'f', 'g'),\n",
       " ('a', 'c', 'd', 'e', 'g'),\n",
       " ('a', 'c', 'd', 'f', 'g'),\n",
       " ('a', 'c', 'f'),\n",
       " ('b', 'c', 'd', 'f'),\n",
       " ('c', 'f')]"
      ]
     },
     "execution_count": 340,
     "metadata": {},
     "output_type": "execute_result"
    }
   ],
   "source": [
    "ref = [\"abcefg\", \"cf\", \"acdeg\", \"acdfg\", \"bcdf\",\n",
    "       \"abdfg\", \"abdfeg\", \"acf\", \"abcdefg\", \"abcdfg\"]\n",
    "ref = [tuple(sorted(list(x))) for x in ref]\n",
    "\n",
    "idx = {word:i for i,word in enumerate(ref)}\n",
    "\n",
    "ref.sort()\n",
    "ref"
   ]
  },
  {
   "cell_type": "code",
   "execution_count": 341,
   "metadata": {},
   "outputs": [],
   "source": [
    "arr = left[0]\n",
    "brr = right[0]"
   ]
  },
  {
   "cell_type": "code",
   "execution_count": 342,
   "metadata": {},
   "outputs": [
    {
     "data": {
      "text/plain": [
       "[('b', 'e'),\n",
       " ('a', 'b', 'c', 'd', 'e', 'f', 'g'),\n",
       " ('b', 'c', 'd', 'e', 'f', 'g'),\n",
       " ('a', 'c', 'd', 'e', 'f', 'g'),\n",
       " ('b', 'c', 'e', 'g'),\n",
       " ('c', 'd', 'e', 'f', 'g'),\n",
       " ('a', 'b', 'd', 'e', 'f', 'g'),\n",
       " ('b', 'c', 'd', 'e', 'f'),\n",
       " ('a', 'b', 'c', 'd', 'f'),\n",
       " ('b', 'd', 'e')]"
      ]
     },
     "execution_count": 342,
     "metadata": {},
     "output_type": "execute_result"
    }
   ],
   "source": [
    "arr"
   ]
  },
  {
   "cell_type": "code",
   "execution_count": 343,
   "metadata": {},
   "outputs": [
    {
     "data": {
      "text/plain": [
       "[('a', 'b', 'c', 'd', 'e', 'f', 'g'),\n",
       " ('b', 'c', 'd', 'e', 'f'),\n",
       " ('b', 'c', 'd', 'e', 'f', 'g'),\n",
       " ('b', 'c', 'e', 'g')]"
      ]
     },
     "execution_count": 343,
     "metadata": {},
     "output_type": "execute_result"
    }
   ],
   "source": [
    "brr"
   ]
  },
  {
   "cell_type": "code",
   "execution_count": 344,
   "metadata": {},
   "outputs": [
    {
     "name": "stdout",
     "output_type": "stream",
     "text": [
      "ok\n"
     ]
    }
   ],
   "source": [
    "abc = \"abcdefg\"\n",
    "mappings = itertools.permutations(\"abcdefg\", r=7)\n",
    "for mapping in mappings:\n",
    "    mapping_inv = {x:abc[i] for i,x in enumerate(mapping)}\n",
    "    mapping = {abc[i]:x for i,x in enumerate(mapping)}\n",
    "    \n",
    "    xrr = [tuple(sorted(mapping_inv[x] for x in word)) for word in arr]\n",
    "    xrr.sort()\n",
    "    if xrr == ref:\n",
    "        print(\"ok\")\n",
    "        break"
   ]
  },
  {
   "cell_type": "code",
   "execution_count": 345,
   "metadata": {},
   "outputs": [
    {
     "data": {
      "text/plain": [
       "[('a', 'b', 'c', 'd', 'e', 'f', 'g'),\n",
       " ('a', 'b', 'c', 'd', 'f', 'g'),\n",
       " ('a', 'b', 'c', 'e', 'f', 'g'),\n",
       " ('a', 'b', 'd', 'e', 'f', 'g'),\n",
       " ('a', 'b', 'd', 'f', 'g'),\n",
       " ('a', 'c', 'd', 'e', 'g'),\n",
       " ('a', 'c', 'd', 'f', 'g'),\n",
       " ('a', 'c', 'f'),\n",
       " ('b', 'c', 'd', 'f'),\n",
       " ('c', 'f')]"
      ]
     },
     "execution_count": 345,
     "metadata": {},
     "output_type": "execute_result"
    }
   ],
   "source": [
    "ref"
   ]
  },
  {
   "cell_type": "code",
   "execution_count": 346,
   "metadata": {},
   "outputs": [
    {
     "data": {
      "text/plain": [
       "[('a', 'b', 'c', 'd', 'e', 'f', 'g'),\n",
       " ('a', 'b', 'c', 'd', 'f', 'g'),\n",
       " ('a', 'b', 'c', 'e', 'f', 'g'),\n",
       " ('a', 'b', 'd', 'e', 'f', 'g'),\n",
       " ('a', 'b', 'd', 'f', 'g'),\n",
       " ('a', 'c', 'd', 'e', 'g'),\n",
       " ('a', 'c', 'd', 'f', 'g'),\n",
       " ('a', 'c', 'f'),\n",
       " ('b', 'c', 'd', 'f'),\n",
       " ('c', 'f')]"
      ]
     },
     "execution_count": 346,
     "metadata": {},
     "output_type": "execute_result"
    }
   ],
   "source": [
    "xrr"
   ]
  },
  {
   "cell_type": "code",
   "execution_count": 348,
   "metadata": {},
   "outputs": [
    {
     "data": {
      "text/plain": [
       "[8, 3, 9, 4]"
      ]
     },
     "execution_count": 348,
     "metadata": {},
     "output_type": "execute_result"
    }
   ],
   "source": [
    "yrr = [idx[tuple(sorted(mapping_inv[x] for x in word))] for word in brr]\n",
    "yrr"
   ]
  },
  {
   "cell_type": "code",
   "execution_count": 317,
   "metadata": {},
   "outputs": [
    {
     "data": {
      "text/plain": [
       "[('a', 'b', 'c', 'd', 'e', 'f', 'g'),\n",
       " ('b', 'c', 'd', 'e', 'f'),\n",
       " ('b', 'c', 'd', 'e', 'f', 'g'),\n",
       " ('b', 'c', 'e', 'g')]"
      ]
     },
     "execution_count": 317,
     "metadata": {},
     "output_type": "execute_result"
    }
   ],
   "source": [
    "brr"
   ]
  },
  {
   "cell_type": "code",
   "execution_count": null,
   "metadata": {},
   "outputs": [],
   "source": []
  }
 ],
 "metadata": {
  "kernelspec": {
   "display_name": "Python 3",
   "language": "python",
   "name": "python3"
  },
  "language_info": {
   "codemirror_mode": {
    "name": "ipython",
    "version": 3
   },
   "file_extension": ".py",
   "mimetype": "text/x-python",
   "name": "python",
   "nbconvert_exporter": "python",
   "pygments_lexer": "ipython3",
   "version": "3.8.3"
  }
 },
 "nbformat": 4,
 "nbformat_minor": 4
}

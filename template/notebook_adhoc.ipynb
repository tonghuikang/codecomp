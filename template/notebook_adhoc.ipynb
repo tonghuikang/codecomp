{
 "cells": [
  {
   "cell_type": "code",
   "execution_count": 1,
   "metadata": {},
   "outputs": [],
   "source": [
    "def evaluate_2(res, frac):\n",
    "    assert len(res) == 60\n",
    "    score = 1/3 + frac/3\n",
    "    rcount = 0\n",
    "    pcount = 0\n",
    "    scount = 0\n",
    "    \n",
    "    allcount = 1\n",
    "    if res[0] == \"R\":\n",
    "        pcount += 1\n",
    "    if res[0] == \"S\":\n",
    "        rcount += 1\n",
    "    if res[0] == \"P\":\n",
    "        scount += 1\n",
    "\n",
    "    for x in res[1:]:\n",
    "        if x == \"R\":\n",
    "            score += (scount/allcount) + (rcount/allcount)*frac\n",
    "            pcount += 1\n",
    "        if x == \"S\":\n",
    "            score += (pcount/allcount) + (scount/allcount)*frac\n",
    "            rcount += 1\n",
    "        if x == \"P\":\n",
    "            score += (rcount/allcount) + (pcount/allcount)*frac\n",
    "            scount += 1\n",
    "        allcount += 1\n",
    "    \n",
    "    return score"
   ]
  },
  {
   "cell_type": "code",
   "execution_count": 2,
   "metadata": {},
   "outputs": [],
   "source": [
    "def gen(arr):\n",
    "    rps = \"RSP\"\n",
    "    srr = \"\"\n",
    "    for i,x in enumerate(arr):\n",
    "        srr += rps[i%3]*x\n",
    "    return srr"
   ]
  },
  {
   "cell_type": "code",
   "execution_count": null,
   "metadata": {},
   "outputs": [],
   "source": []
  },
  {
   "cell_type": "code",
   "execution_count": 3,
   "metadata": {},
   "outputs": [
    {
     "data": {
      "text/plain": [
       "41.64047105353967"
      ]
     },
     "execution_count": 3,
     "metadata": {},
     "output_type": "execute_result"
    }
   ],
   "source": [
    "r10 = evaluate_2(\"RPS\"*20, 1)\n",
    "r10"
   ]
  },
  {
   "cell_type": "code",
   "execution_count": null,
   "metadata": {},
   "outputs": [],
   "source": []
  },
  {
   "cell_type": "code",
   "execution_count": 4,
   "metadata": {},
   "outputs": [
    {
     "data": {
      "text/plain": [
       "30.720394650024275"
      ]
     },
     "execution_count": 4,
     "metadata": {},
     "output_type": "execute_result"
    }
   ],
   "source": [
    "r05 = evaluate_2(\"RPS\"*20, 0.5)\n",
    "r05"
   ]
  },
  {
   "cell_type": "code",
   "execution_count": 5,
   "metadata": {},
   "outputs": [
    {
     "data": {
      "text/plain": [
       "33.043061433829976"
      ]
     },
     "execution_count": 5,
     "metadata": {},
     "output_type": "execute_result"
    }
   ],
   "source": [
    "r05 = evaluate_2(gen((1, 5, 15, 23, 16)), 0.5)\n",
    "r05"
   ]
  },
  {
   "cell_type": "code",
   "execution_count": null,
   "metadata": {},
   "outputs": [],
   "source": []
  },
  {
   "cell_type": "code",
   "execution_count": 6,
   "metadata": {},
   "outputs": [
    {
     "data": {
      "text/plain": [
       "21.98433352721195"
      ]
     },
     "execution_count": 6,
     "metadata": {},
     "output_type": "execute_result"
    }
   ],
   "source": [
    "r01 = evaluate_2(\"RPS\"*20, 0.1)\n",
    "r01"
   ]
  },
  {
   "cell_type": "code",
   "execution_count": 7,
   "metadata": {},
   "outputs": [
    {
     "data": {
      "text/plain": [
       "29.146994921167078"
      ]
     },
     "execution_count": 7,
     "metadata": {},
     "output_type": "execute_result"
    }
   ],
   "source": [
    "r01 = evaluate_2(gen((1, 4, 15, 25, 15)), 0.1)\n",
    "r01"
   ]
  },
  {
   "cell_type": "code",
   "execution_count": null,
   "metadata": {},
   "outputs": [],
   "source": []
  },
  {
   "cell_type": "code",
   "execution_count": 8,
   "metadata": {},
   "outputs": [
    {
     "data": {
      "text/plain": [
       "19.80031824650886"
      ]
     },
     "execution_count": 8,
     "metadata": {},
     "output_type": "execute_result"
    }
   ],
   "source": [
    "r00 = evaluate_2(\"RPS\"*20, 0)\n",
    "r00"
   ]
  },
  {
   "cell_type": "code",
   "execution_count": 9,
   "metadata": {},
   "outputs": [
    {
     "data": {
      "text/plain": [
       "28.466022908980722"
      ]
     },
     "execution_count": 9,
     "metadata": {},
     "output_type": "execute_result"
    }
   ],
   "source": [
    "r00 = evaluate_2(gen((0, 1, 9, 27, 23)), 0.0)\n",
    "r00"
   ]
  },
  {
   "cell_type": "code",
   "execution_count": 10,
   "metadata": {
    "scrolled": true
   },
   "outputs": [
    {
     "data": {
      "text/plain": [
       "16537.06878968968"
      ]
     },
     "execution_count": 10,
     "metadata": {},
     "output_type": "execute_result"
    }
   ],
   "source": [
    "500*(r10 + r05 + r01 + r00)/4"
   ]
  },
  {
   "cell_type": "code",
   "execution_count": 11,
   "metadata": {},
   "outputs": [
    {
     "data": {
      "text/plain": [
       "(41.64047105353967, 33.043061433829976, 29.146994921167078, 28.466022908980722)"
      ]
     },
     "execution_count": 11,
     "metadata": {},
     "output_type": "execute_result"
    }
   ],
   "source": [
    "r10, r05, r01, r00"
   ]
  },
  {
   "cell_type": "code",
   "execution_count": null,
   "metadata": {},
   "outputs": [],
   "source": [
    "best = 0\n",
    "best_idx = 0\n",
    "for i in range(60):\n",
    "    for j in range(60-i):\n",
    "        for k in range(60-i-j):\n",
    "            for l in range(60-i-j-k):\n",
    "                m = 60-i-j-k-l\n",
    "                r00 = evaluate_2(\"R\"*i+\"S\"*j+\"P\"*k+\"R\"*l+\"S\"*m, 0.5)\n",
    "                if r00 > best:\n",
    "                    best_idx = (i,j,k,l,m)\n",
    "                    best = r00"
   ]
  },
  {
   "cell_type": "code",
   "execution_count": null,
   "metadata": {},
   "outputs": [],
   "source": [
    "best_idx, best"
   ]
  },
  {
   "cell_type": "code",
   "execution_count": 207,
   "metadata": {},
   "outputs": [],
   "source": []
  },
  {
   "cell_type": "code",
   "execution_count": null,
   "metadata": {},
   "outputs": [],
   "source": []
  }
 ],
 "metadata": {
  "kernelspec": {
   "display_name": "Python 3",
   "language": "python",
   "name": "python3"
  },
  "language_info": {
   "codemirror_mode": {
    "name": "ipython",
    "version": 3
   },
   "file_extension": ".py",
   "mimetype": "text/x-python",
   "name": "python",
   "nbconvert_exporter": "python",
   "pygments_lexer": "ipython3",
   "version": "3.7.9"
  }
 },
 "nbformat": 4,
 "nbformat_minor": 4
}

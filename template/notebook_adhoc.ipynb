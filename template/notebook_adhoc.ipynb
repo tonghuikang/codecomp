{
 "cells": [
  {
   "cell_type": "code",
   "execution_count": 171,
   "metadata": {},
   "outputs": [],
   "source": [
    "%reset -sf"
   ]
  },
  {
   "cell_type": "code",
   "execution_count": 172,
   "metadata": {},
   "outputs": [],
   "source": [
    "#!/usr/bin/env python3\n",
    "import sys\n",
    "import math, random\n",
    "import functools, itertools, collections, heapq, bisect\n",
    "from collections import Counter, defaultdict, deque\n",
    "\n",
    "# available on Google, AtCoder Python3, not available on Codeforces\n",
    "# import numpy as np\n",
    "# import scipy\n",
    "\n",
    "M9 = 10**9 + 7  # 998244353\n",
    "yes, no = \"YES\", \"NO\"\n",
    "d4 = [(1,0),(0,1),(-1,0),(0,-1)]\n",
    "# d8 = [(1,0),(1,1),(0,1),(-1,1),(-1,0),(-1,-1),(0,-1),(1,-1)]\n",
    "# d6 = [(2,0),(1,1),(-1,1),(-2,0),(-1,-1),(1,-1)]  # hexagonal layout\n",
    "MAXINT = sys.maxsize"
   ]
  },
  {
   "cell_type": "code",
   "execution_count": 173,
   "metadata": {},
   "outputs": [],
   "source": [
    "# trr = \"\"\n",
    "# srr = \"\"\"\n",
    "# \"\"\".strip()\n",
    "\n",
    "\n",
    "# trr = \"\"\n",
    "with open(\"/Users/hkmac/Downloads/input.txt\") as f:\n",
    "    srr_inp = f.read().strip()\n",
    "\n",
    "with open(\"input1.txt\") as f:\n",
    "    srr_inp = f.read().strip()\n",
    "    \n",
    "srr_inp = list(srr_inp.split(\"\\n\\n\"))\n",
    "srr_inp = [srr_in.strip().split(\"\\n\")[1:] for srr_in in srr_inp]\n",
    "srr_inp = [[list(map(int,srr_i.split(\",\"))) for srr_i in srr_in] for srr_in in srr_inp]"
   ]
  },
  {
   "cell_type": "code",
   "execution_count": 174,
   "metadata": {},
   "outputs": [
    {
     "data": {
      "text/plain": [
       "5"
      ]
     },
     "execution_count": 174,
     "metadata": {},
     "output_type": "execute_result"
    }
   ],
   "source": [
    "len(srr_inp)"
   ]
  },
  {
   "cell_type": "code",
   "execution_count": null,
   "metadata": {
    "scrolled": true
   },
   "outputs": [],
   "source": [
    "mapping = {}\n",
    "\n",
    "# transformations = \n",
    "\n",
    "\n",
    "for ii in range(len(srr_inp)):\n",
    "    for jj in range(len(srr_inp)):\n",
    "        if ii == jj:\n",
    "            continue\n",
    "        \n",
    "        arr = srr_inp[ii]\n",
    "        brr = srr_inp[jj]\n",
    "\n",
    "        for px,py,pz in itertools.product([-1,1], repeat=3):\n",
    "            for transform in [\n",
    "    lambda x: (x[0],x[1],x[2]),\n",
    "    lambda x: (x[0],x[2],x[1]),\n",
    "    lambda x: (x[1],x[0],x[2]),\n",
    "    lambda x: (x[1],x[2],x[0]),\n",
    "    lambda x: (x[2],x[0],x[1]),\n",
    "    lambda x: (x[2],x[1],x[0]),\n",
    "]:\n",
    "                xrr = [transform((x*px,y*py,z*pz)) for x,y,z in arr]\n",
    "\n",
    "                for (p,q,r) in (xrr):\n",
    "                    for (p2,q2,r2) in (brr):\n",
    "                        p9,q9,r9 = p-p2, q-q2, r-r2\n",
    "                        \n",
    "                        def transformer(x,y,z):\n",
    "                            xx,yy,zz = transform((x*px,y*py,z*pz),)\n",
    "                            return (xx-p9, yy-q9, zz-r9)\n",
    "                        \n",
    "                        prr = [transformer(x,y,z) for x,y,z in arr]\n",
    "                        qrr = [(x,y,z) for x,y,z in brr]\n",
    "\n",
    "                        if len(set(prr) & set(qrr)) >= 12:\n",
    "                            mapping[ii,jj] = transformer\n",
    "#                             print(\"ok\")\n",
    "#                             break\n",
    "#                     if (ii,jj) in mapping:\n",
    "#                         break\n",
    "#                 if (ii,jj) in mapping:\n",
    "#                     break"
   ]
  },
  {
   "cell_type": "code",
   "execution_count": null,
   "metadata": {},
   "outputs": [],
   "source": [
    "for func in mapping.values():\n",
    "    print(id(func))"
   ]
  },
  {
   "cell_type": "code",
   "execution_count": 245,
   "metadata": {},
   "outputs": [],
   "source": [
    "stack = [0]\n",
    "visited = set(stack)\n",
    "prev = {}\n",
    "\n",
    "while stack:\n",
    "    cur = stack.pop()\n",
    "    for nex in range(len(srr_inp)):\n",
    "        if nex in visited:\n",
    "            continue\n",
    "        if (cur,nex) not in mapping:\n",
    "            continue\n",
    "        stack.append(nex)\n",
    "        visited.add(nex)\n",
    "        prev[nex] = cur"
   ]
  },
  {
   "cell_type": "code",
   "execution_count": 246,
   "metadata": {},
   "outputs": [
    {
     "data": {
      "text/plain": [
       "{0, 1, 2, 3, 4}"
      ]
     },
     "execution_count": 246,
     "metadata": {},
     "output_type": "execute_result"
    }
   ],
   "source": [
    "visited"
   ]
  },
  {
   "cell_type": "code",
   "execution_count": 247,
   "metadata": {},
   "outputs": [
    {
     "data": {
      "text/plain": [
       "{1: 0, 3: 1, 4: 1, 2: 4}"
      ]
     },
     "execution_count": 247,
     "metadata": {},
     "output_type": "execute_result"
    }
   ],
   "source": [
    "prev"
   ]
  },
  {
   "cell_type": "code",
   "execution_count": 249,
   "metadata": {},
   "outputs": [
    {
     "data": {
      "text/plain": [
       "(612, 828, -625)"
      ]
     },
     "execution_count": 249,
     "metadata": {},
     "output_type": "execute_result"
    }
   ],
   "source": [
    "mapping[4,1](1,2,3)"
   ]
  },
  {
   "cell_type": "code",
   "execution_count": 215,
   "metadata": {},
   "outputs": [],
   "source": [
    "beacons = set(map(tuple, srr_inp[0]))\n",
    "\n",
    "for i in range(len(srr_inp)):\n",
    "    cur = i\n",
    "    arr = srr_inp[i]\n",
    "    transforms = []\n",
    "    while cur != 0:\n",
    "        transformer = mapping[cur, prev[cur]]\n",
    "        transforms.append(transformer)\n",
    "        cur = prev[cur]\n",
    "    assert cur == 0\n",
    "        \n",
    "    for transformer in transforms:\n",
    "        arr = [transformer(x,y,z) for x,y,z in arr]\n",
    "\n",
    "    beacons.update(set(map(tuple, arr)))"
   ]
  },
  {
   "cell_type": "code",
   "execution_count": 216,
   "metadata": {
    "scrolled": false
   },
   "outputs": [
    {
     "data": {
      "text/plain": [
       "{(-955, 922, 397),\n",
       " (-892, 524, 684),\n",
       " (-885, 848, 464),\n",
       " (-876, 649, 763),\n",
       " (-838, 591, 734),\n",
       " (-795, 924, 468),\n",
       " (-789, 900, -551),\n",
       " (-760, 2079, -821),\n",
       " (-731, 2117, -793),\n",
       " (-697, 1977, -839),\n",
       " (-689, 845, -530),\n",
       " (-677, 1173, -443),\n",
       " (-677, 2025, 540),\n",
       " (-669, 1104, -507),\n",
       " (-661, -816, -575),\n",
       " (-644, 1209, -449),\n",
       " (-643, 2120, -805),\n",
       " (-618, -824, -621),\n",
       " (-606, 2194, 580),\n",
       " (-592, 2267, 587),\n",
       " (-584, 868, -557),\n",
       " (-541, 2023, -887),\n",
       " (-537, -823, -458),\n",
       " (-517, 2217, -840),\n",
       " (-505, 2101, 526),\n",
       " (-502, 2319, 450),\n",
       " (-486, 1205, -404),\n",
       " (-485, -357, 347),\n",
       " (-475, 973, -434),\n",
       " (-455, 1047, -379),\n",
       " (-447, -329, 318),\n",
       " (-410, 2371, 595),\n",
       " (-345, -311, 381),\n",
       " (-310, 1098, 762),\n",
       " (-284, 63, -990),\n",
       " (-275, 1224, 665),\n",
       " (-237, 257, -966),\n",
       " (-228, 1200, 859),\n",
       " (-212, 2099, 30),\n",
       " (-202, 160, -1092),\n",
       " (-121, 1681, 66),\n",
       " (-115, 2017, -72),\n",
       " (-102, 327, 181),\n",
       " (-18, 2052, 54),\n",
       " (-10, 472, 129),\n",
       " (-8, 3041, -1532),\n",
       " (-3, 3062, -1287),\n",
       " (7, -33, -71),\n",
       " (13, 1606, -31),\n",
       " (68, 3011, -1427),\n",
       " (80, 335, 77),\n",
       " (93, 1668, 134),\n",
       " (132, 1371, -981),\n",
       " (132, 3201, -143),\n",
       " (157, 1429, -1086),\n",
       " (165, 1365, -1017),\n",
       " (185, 1761, -213),\n",
       " (204, 3142, -150),\n",
       " (206, 1664, -1385),\n",
       " (213, 3149, -34),\n",
       " (219, 1715, -73),\n",
       " (248, 1743, -111),\n",
       " (249, 1586, -1318),\n",
       " (259, 1586, -1324),\n",
       " (321, 902, -403),\n",
       " (361, 749, -340),\n",
       " (390, -675, -793),\n",
       " (390, 2425, 733),\n",
       " (391, 2045, -523),\n",
       " (404, -588, -901),\n",
       " (409, 2351, 563),\n",
       " (423, -701, 434),\n",
       " (424, 2263, -478),\n",
       " (443, 580, 662),\n",
       " (449, 2088, -529),\n",
       " (455, 729, 728),\n",
       " (459, -707, 401),\n",
       " (474, 580, 667),\n",
       " (492, 2384, 606),\n",
       " (511, 820, -408),\n",
       " (526, 2295, -523),\n",
       " (528, -643, 409),\n",
       " (544, -627, -890),\n",
       " (545, 874, 716),\n",
       " (553, 345, -567),\n",
       " (564, 392, -477),\n",
       " (578, 2432, -613),\n",
       " (588, 960, 652),\n",
       " (597, 852, 622),\n",
       " (630, 319, -379),\n",
       " (630, 2287, -705),\n",
       " (631, 964, -531),\n",
       " (636, 2484, -673),\n",
       " (704, 2312, -781),\n",
       " (710, 2244, 545),\n",
       " (790, 2256, 470),\n",
       " (791, 1176, -610),\n",
       " (815, 1020, 443),\n",
       " (816, 2164, 565),\n",
       " (822, 1136, 434),\n",
       " (855, 1105, -626),\n",
       " (874, 1027, 515),\n",
       " (910, 1167, -455),\n",
       " (1024, 1249, -21),\n",
       " (1090, 1650, 3),\n",
       " (1096, 1683, 39),\n",
       " (1102, 3237, -3),\n",
       " (1122, 1620, -1314),\n",
       " (1129, 141, -954),\n",
       " (1141, 1256, 103),\n",
       " (1143, 65, -1126),\n",
       " (1154, 1658, -66),\n",
       " (1166, 391, -40),\n",
       " (1183, 234, -1055),\n",
       " (1187, 1248, 60),\n",
       " (1209, 424, 43),\n",
       " (1240, 1635, -1231),\n",
       " (1245, 1678, -1198),\n",
       " (1257, 3118, 6),\n",
       " (1273, 3182, -65),\n",
       " (1336, 465, -59),\n",
       " (1355, 3038, -1317),\n",
       " (1359, 1397, -948),\n",
       " (1360, 2987, -1273),\n",
       " (1392, 2821, -1310),\n",
       " (1456, 1445, -1102),\n",
       " (1467, 1484, -962)}"
      ]
     },
     "execution_count": 216,
     "metadata": {},
     "output_type": "execute_result"
    }
   ],
   "source": [
    "beacons"
   ]
  },
  {
   "cell_type": "code",
   "execution_count": 218,
   "metadata": {},
   "outputs": [
    {
     "data": {
      "text/plain": [
       "127"
      ]
     },
     "execution_count": 218,
     "metadata": {},
     "output_type": "execute_result"
    }
   ],
   "source": [
    "len(beacons)"
   ]
  },
  {
   "cell_type": "code",
   "execution_count": null,
   "metadata": {},
   "outputs": [],
   "source": []
  },
  {
   "cell_type": "code",
   "execution_count": null,
   "metadata": {},
   "outputs": [],
   "source": []
  },
  {
   "cell_type": "code",
   "execution_count": null,
   "metadata": {},
   "outputs": [],
   "source": []
  },
  {
   "cell_type": "code",
   "execution_count": null,
   "metadata": {},
   "outputs": [],
   "source": []
  }
 ],
 "metadata": {
  "kernelspec": {
   "display_name": "Python 3",
   "language": "python",
   "name": "python3"
  },
  "language_info": {
   "codemirror_mode": {
    "name": "ipython",
    "version": 3
   },
   "file_extension": ".py",
   "mimetype": "text/x-python",
   "name": "python",
   "nbconvert_exporter": "python",
   "pygments_lexer": "ipython3",
   "version": "3.8.3"
  }
 },
 "nbformat": 4,
 "nbformat_minor": 4
}

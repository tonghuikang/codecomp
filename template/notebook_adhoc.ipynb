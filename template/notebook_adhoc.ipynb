{
 "cells": [
  {
   "cell_type": "code",
   "execution_count": 1,
   "metadata": {},
   "outputs": [],
   "source": [
    "%reset -sf"
   ]
  },
  {
   "cell_type": "code",
   "execution_count": 2,
   "metadata": {},
   "outputs": [],
   "source": [
    "# LOAD THIS BEFORE START\n",
    "\n",
    "#!/usr/bin/env python3\n",
    "import sys\n",
    "import math, random\n",
    "import functools, itertools, collections, heapq, bisect\n",
    "from collections import Counter, defaultdict, deque\n",
    "\n",
    "# import numpy as np\n",
    "# import scipy\n",
    "# import matplotlib.pyplot as plt\n",
    "\n",
    "abc = \"abcdefghijklmnopqrstuvwxyz\"\n",
    "M9 = 10**9 + 7  # 998244353\n",
    "yes, no = \"YES\", \"NO\"\n",
    "d4 = [(1,0),(0,1),(-1,0),(0,-1)]\n",
    "d8 = [\n",
    "    (-1,-1),(-1,0),(-1,1),\n",
    "    (0,-1),(0,0),(0,1),\n",
    "    (1,-1),(1,0),(1,1)]\n",
    "d6 = [(2,0),(1,1),(-1,1),(-2,0),(-1,-1),(1,-1)]  # hexagonal layout\n",
    "MAXINT = sys.maxsize"
   ]
  },
  {
   "cell_type": "code",
   "execution_count": 87,
   "metadata": {},
   "outputs": [],
   "source": [
    "# with open(\"/Users/hkmac/Downloads/input.txt\") as f:\n",
    "#     srr = f.read().strip()"
   ]
  },
  {
   "cell_type": "code",
   "execution_count": 86,
   "metadata": {},
   "outputs": [],
   "source": [
    "srr = \"\"\"\n",
    "R 4\n",
    "U 4\n",
    "L 3\n",
    "D 1\n",
    "R 4\n",
    "D 1\n",
    "L 5\n",
    "R 2\n",
    "\"\"\".strip()"
   ]
  },
  {
   "cell_type": "code",
   "execution_count": 384,
   "metadata": {},
   "outputs": [],
   "source": [
    "srr = \"\"\"\n",
    "R 5\n",
    "U 8\n",
    "L 8\n",
    "D 3\n",
    "R 17\n",
    "D 10\n",
    "L 25\n",
    "U 20\n",
    "\"\"\".strip()"
   ]
  },
  {
   "cell_type": "code",
   "execution_count": 396,
   "metadata": {},
   "outputs": [],
   "source": [
    "d4 = {\n",
    "    \"R\": (1,0),\n",
    "    \"L\": (-1,0),\n",
    "    \"U\": (0,1),\n",
    "    \"D\": (0,-1),\n",
    "}"
   ]
  },
  {
   "cell_type": "code",
   "execution_count": 397,
   "metadata": {},
   "outputs": [],
   "source": [
    "sequence = []\n",
    "x, y = 0,0\n",
    "sequence.append((x,y))\n",
    "\n",
    "for row in srr.split(\"\\n\"):\n",
    "    a,b = row.split()\n",
    "    b = int(b)\n",
    "    dx,dy = d4[a]\n",
    "    for _ in range(b):\n",
    "        x = x + dx\n",
    "        y = y + dy\n",
    "        sequence.append((x,y))"
   ]
  },
  {
   "cell_type": "code",
   "execution_count": 398,
   "metadata": {},
   "outputs": [],
   "source": [
    "# sequence"
   ]
  },
  {
   "cell_type": "code",
   "execution_count": 399,
   "metadata": {},
   "outputs": [],
   "source": [
    "# print(sequence)"
   ]
  },
  {
   "cell_type": "code",
   "execution_count": 400,
   "metadata": {},
   "outputs": [],
   "source": [
    "# sequence = [(0,0), (0,1), (0,2), (0,3), (1,3), (2,3), (3,3), (3,2), (3,1), (3,0)]"
   ]
  },
  {
   "cell_type": "code",
   "execution_count": 401,
   "metadata": {},
   "outputs": [],
   "source": [
    "for _ in range(9):\n",
    "    new_sequence = []\n",
    "    tx,ty = 0,0\n",
    "    new_sequence.append((tx,ty))\n",
    "    for (px,py),(nx,ny) in zip(sequence, sequence[1:]):\n",
    "        if False:\n",
    "            pass\n",
    "        elif abs(nx-tx) <= 1 and abs(ny-ty) <= 1:\n",
    "            pass\n",
    "        elif abs(nx-tx) == 2 and abs(ny-ty) == 0:\n",
    "            tx,ty = (nx+tx)//2,ty\n",
    "        elif abs(nx-tx) == 0 and abs(ny-ty) == 2:\n",
    "            tx,ty = tx,(ny+ty)//2\n",
    "        elif abs(nx-tx) == 2 and abs(ny-ty) == 1:\n",
    "            tx,ty = (nx+tx)//2,ny\n",
    "        elif abs(nx-tx) == 1 and abs(ny-ty) == 2:\n",
    "            tx,ty = nx,(ny+ty)//2\n",
    "        elif abs(nx-tx) > 1 or abs(ny-ty) > 1:\n",
    "            tx,ty = px,py\n",
    "#         else:\n",
    "#             print(nx,ny,px,py)\n",
    "#             assert False\n",
    "        new_sequence.append((tx,ty))\n",
    "#     print(new_sequence)\n",
    "#     print()\n",
    "    sequence = new_sequence\n"
   ]
  },
  {
   "cell_type": "code",
   "execution_count": 402,
   "metadata": {},
   "outputs": [],
   "source": [
    "# new_sequence"
   ]
  },
  {
   "cell_type": "code",
   "execution_count": 403,
   "metadata": {},
   "outputs": [],
   "source": [
    "# print(new_sequence)"
   ]
  },
  {
   "cell_type": "code",
   "execution_count": 404,
   "metadata": {},
   "outputs": [],
   "source": [
    "# sequence"
   ]
  },
  {
   "cell_type": "code",
   "execution_count": 405,
   "metadata": {},
   "outputs": [
    {
     "name": "stdout",
     "output_type": "stream",
     "text": [
      "2376\n"
     ]
    }
   ],
   "source": [
    "print(len(set(new_sequence)))"
   ]
  },
  {
   "cell_type": "code",
   "execution_count": 372,
   "metadata": {},
   "outputs": [],
   "source": [
    "# 4442"
   ]
  },
  {
   "cell_type": "code",
   "execution_count": 27,
   "metadata": {},
   "outputs": [],
   "source": [
    "# 5619"
   ]
  },
  {
   "cell_type": "code",
   "execution_count": 23,
   "metadata": {},
   "outputs": [],
   "source": [
    "visited_tail = set()\n",
    "hx,hy = 0,0\n",
    "tx,ty = 0,0\n",
    "visited_tail.add((tx,ty))\n",
    "\n",
    "for row in srr.split(\"\\n\"):\n",
    "    a,b = row.split()\n",
    "    b = int(b)\n",
    "    dx,dy = d4[a]\n",
    "    for _ in range(b):\n",
    "        nx = hx + dx\n",
    "        ny = hy + dy\n",
    "        if abs(nx-tx) > 1 or abs(ny-ty) > 1:\n",
    "            tx,ty = hx,hy\n",
    "            visited_tail.add((tx,ty))\n",
    "        hx,hy = nx,ny"
   ]
  },
  {
   "cell_type": "code",
   "execution_count": 26,
   "metadata": {},
   "outputs": [],
   "source": [
    "# visited_tail"
   ]
  },
  {
   "cell_type": "code",
   "execution_count": 25,
   "metadata": {},
   "outputs": [
    {
     "data": {
      "text/plain": [
       "5619"
      ]
     },
     "execution_count": 25,
     "metadata": {},
     "output_type": "execute_result"
    }
   ],
   "source": [
    "len(visited_tail)"
   ]
  },
  {
   "cell_type": "code",
   "execution_count": 55,
   "metadata": {},
   "outputs": [],
   "source": [
    "res = 0"
   ]
  },
  {
   "cell_type": "code",
   "execution_count": 92,
   "metadata": {},
   "outputs": [],
   "source": [
    "def test(arr):\n",
    "    res = 0\n",
    "    return res"
   ]
  },
  {
   "cell_type": "code",
   "execution_count": null,
   "metadata": {},
   "outputs": [],
   "source": []
  },
  {
   "cell_type": "code",
   "execution_count": null,
   "metadata": {},
   "outputs": [],
   "source": []
  },
  {
   "cell_type": "code",
   "execution_count": null,
   "metadata": {},
   "outputs": [],
   "source": []
  }
 ],
 "metadata": {
  "kernelspec": {
   "display_name": "Python 3 (ipykernel)",
   "language": "python",
   "name": "python3"
  },
  "language_info": {
   "codemirror_mode": {
    "name": "ipython",
    "version": 3
   },
   "file_extension": ".py",
   "mimetype": "text/x-python",
   "name": "python",
   "nbconvert_exporter": "python",
   "pygments_lexer": "ipython3",
   "version": "3.9.7"
  }
 },
 "nbformat": 4,
 "nbformat_minor": 4
}

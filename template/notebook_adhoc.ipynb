{
 "cells": [
  {
   "cell_type": "code",
   "execution_count": 1,
   "metadata": {},
   "outputs": [],
   "source": [
    "%reset -sf"
   ]
  },
  {
   "cell_type": "code",
   "execution_count": 184,
   "metadata": {},
   "outputs": [],
   "source": [
    "#!/usr/bin/env python3\n",
    "import sys\n",
    "import math, random\n",
    "import functools, itertools, collections, heapq, bisect\n",
    "from collections import Counter, defaultdict, deque\n",
    "\n",
    "import matplotlib.pyplot as plt\n",
    "\n",
    "abc = \"abcdefghijklmnopqrstuvwxyz\"\n",
    "M9 = 10**9 + 7  # 998244353\n",
    "yes, no = \"YES\", \"NO\"\n",
    "d4 = [(1,0),(0,1),(-1,0),(0,-1)]\n",
    "d8 = [\n",
    "    (-1,-1),(-1,0),(-1,1),\n",
    "    (0,-1),(0,0),(0,1),\n",
    "    (1,-1),(1,0),(1,1)]\n",
    "d6 = [(2,0),(1,1),(-1,1),(-2,0),(-1,-1),(1,-1)]  # hexagonal layout\n",
    "MAXINT = sys.maxsize"
   ]
  },
  {
   "cell_type": "code",
   "execution_count": 247,
   "metadata": {},
   "outputs": [],
   "source": [
    "arr = \"\"\"\n",
    "[N] [G]                     [Q]    \n",
    "[H] [B]         [B] [R]     [H]    \n",
    "[S] [N]     [Q] [M] [T]     [Z]    \n",
    "[J] [T]     [R] [V] [H]     [R] [S]\n",
    "[F] [Q]     [W] [T] [V] [J] [V] [M]\n",
    "[W] [P] [V] [S] [F] [B] [Q] [J] [H]\n",
    "[T] [R] [Q] [B] [D] [D] [B] [N] [N]\n",
    "[D] [H] [L] [N] [N] [M] [D] [D] [B]\n",
    "\"\"\".strip()"
   ]
  },
  {
   "cell_type": "code",
   "execution_count": 248,
   "metadata": {},
   "outputs": [],
   "source": [
    "stack = [[] for _ in range(11)]"
   ]
  },
  {
   "cell_type": "code",
   "execution_count": 249,
   "metadata": {},
   "outputs": [],
   "source": [
    "for brr in arr.split(\"\\n\")[::-1]:\n",
    "    for i,x in enumerate(\n",
    "        [brr[1], brr[5], brr[9], brr[13], brr[17], brr[21], brr[25], brr[29], brr[33]],\n",
    "        start = 1\n",
    "    ):\n",
    "        if x != \" \":\n",
    "            stack[i].append(x)"
   ]
  },
  {
   "cell_type": "code",
   "execution_count": 251,
   "metadata": {},
   "outputs": [],
   "source": [
    "# srr = \"\"\"\n",
    "# \"\"\".strip()"
   ]
  },
  {
   "cell_type": "code",
   "execution_count": 252,
   "metadata": {},
   "outputs": [],
   "source": [
    "# srr = \"\"\"\n",
    "# \"\"\".strip()"
   ]
  },
  {
   "cell_type": "code",
   "execution_count": 253,
   "metadata": {},
   "outputs": [],
   "source": [
    "for arr in srr.split(\"\\n\"):\n",
    "    _,a,_,b,_,c = arr.split()\n",
    "    a, b, c = int(a), int(b), int(c)\n",
    "    rev = []\n",
    "    for _ in range(a):\n",
    "        x = stack[b].pop()\n",
    "        rev.append(x)\n",
    "    for x in rev[::-1]:\n",
    "        stack[c].append(x)"
   ]
  },
  {
   "cell_type": "code",
   "execution_count": 254,
   "metadata": {},
   "outputs": [
    {
     "name": "stdout",
     "output_type": "stream",
     "text": [
      "QLFQDBBHM\n"
     ]
    }
   ],
   "source": [
    "print(\"\".join(stack[x][-1] for x in range(1,10)))"
   ]
  },
  {
   "cell_type": "code",
   "execution_count": 255,
   "metadata": {},
   "outputs": [],
   "source": [
    "# with open(\"/Users/hkmac/Downloads/input.txt\") as f:\n",
    "#     srr = f.read().strip()\n",
    "\n",
    "# brr = srr.split(\"\\n\\n\")\n",
    "\n",
    "# xrr = \\\n",
    "# [\n",
    "#     [\n",
    "#         [\n",
    "#             int(drr) \n",
    "#             for drr in crr.split(\"-\")\n",
    "#         ]\n",
    "#         for crr in brr.split(\",\")\n",
    "#     ]\n",
    "#     for brr in srr.split(\"\\n\")\n",
    "# ]\n",
    "\n",
    "# brr = srr.split(\"\\n\")"
   ]
  },
  {
   "cell_type": "code",
   "execution_count": 245,
   "metadata": {},
   "outputs": [],
   "source": [
    "# xrr"
   ]
  },
  {
   "cell_type": "code",
   "execution_count": 191,
   "metadata": {},
   "outputs": [],
   "source": [
    "res = 0"
   ]
  },
  {
   "cell_type": "code",
   "execution_count": 1,
   "metadata": {},
   "outputs": [],
   "source": [
    "# sum(sorted(brr)[-3:])"
   ]
  },
  {
   "cell_type": "code",
   "execution_count": null,
   "metadata": {},
   "outputs": [],
   "source": [
    "def test(arr):\n",
    "    res = 0\n",
    "    return res"
   ]
  },
  {
   "cell_type": "code",
   "execution_count": null,
   "metadata": {},
   "outputs": [],
   "source": []
  },
  {
   "cell_type": "code",
   "execution_count": null,
   "metadata": {},
   "outputs": [],
   "source": []
  },
  {
   "cell_type": "code",
   "execution_count": null,
   "metadata": {},
   "outputs": [],
   "source": []
  }
 ],
 "metadata": {
  "kernelspec": {
   "display_name": "Python 3 (ipykernel)",
   "language": "python",
   "name": "python3"
  },
  "language_info": {
   "codemirror_mode": {
    "name": "ipython",
    "version": 3
   },
   "file_extension": ".py",
   "mimetype": "text/x-python",
   "name": "python",
   "nbconvert_exporter": "python",
   "pygments_lexer": "ipython3",
   "version": "3.9.7"
  }
 },
 "nbformat": 4,
 "nbformat_minor": 4
}

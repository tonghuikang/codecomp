{
 "cells": [
  {
   "cell_type": "code",
   "execution_count": 99,
   "metadata": {},
   "outputs": [],
   "source": [
    "from collections import Counter\n",
    "\n",
    "class ThreeDChessRooks:\n",
    "    def count(self, C, R, XP, YP, ZP, seed):\n",
    "#         def print(*args):\n",
    "#             pass\n",
    "        \n",
    "        pool = [None for _ in range(R)]\n",
    "        \n",
    "        for i,(x,y,z) in enumerate(zip(XP, YP, ZP)):\n",
    "            pool[i] = (x,y,z)\n",
    "\n",
    "        state = seed\n",
    "        for i in range(len(XP), R):\n",
    "            state = (state * 1103515245 + 12345) % 2147483648\n",
    "            x = state%C\n",
    "            state = (state * 1103515245 + 12345) % 2147483648\n",
    "            y = state%C\n",
    "            state = (state * 1103515245 + 12345) % 2147483648\n",
    "            z = state%C\n",
    "            pool[i] = (x,y,z)\n",
    "            \n",
    "#         print(pool)\n",
    "        res = 0\n",
    "\n",
    "        single_match_x = Counter()\n",
    "        single_match_y = Counter()\n",
    "        single_match_z = Counter()\n",
    "        \n",
    "        for x,y,z in pool:\n",
    "            single_match_x[x] += 1\n",
    "            single_match_y[y] += 1\n",
    "            single_match_z[z] += 1\n",
    "        \n",
    "        for k,v in single_match_x.items():\n",
    "            res += v*(v-1)\n",
    "\n",
    "        for k,v in single_match_y.items():\n",
    "            res += v*(v-1)\n",
    "\n",
    "        for k,v in single_match_z.items():\n",
    "            res += v*(v-1)\n",
    "            \n",
    "        del single_match_x\n",
    "        del single_match_y\n",
    "        del single_match_z\n",
    "#         print(single_match)\n",
    "#         print(\"single_match res\", res)\n",
    "        \n",
    "        double_match = Counter()\n",
    "        for x,y,z in pool:\n",
    "            double_match[x,y,-1] += 1\n",
    "            double_match[-1,y,z] += 1\n",
    "            double_match[x,-1,z] += 1\n",
    "        \n",
    "        for k,v in double_match.items():\n",
    "            res -= v*(v-1)\n",
    "\n",
    "#         print(double_match)\n",
    "#         print(\"double_match res\", res)\n",
    "        c = Counter(pool)\n",
    "    \n",
    "        for k,v in double_match.items():\n",
    "            x,y,z = k\n",
    "            \n",
    "            if x == -1:\n",
    "                if (0,y,z) in c and (1,y,z) in c:\n",
    "                    res -= c[0,y,z]*c[1,y,z]\n",
    "                if (C-1,y,z) in c and (C-2,y,z) in c:\n",
    "                    res -= c[C-1,y,z]*c[C-2,y,z]\n",
    "                    \n",
    "            if y == -1:\n",
    "                if (x,0,z) in c and (x,1,z) in c:\n",
    "                    res -= c[x,0,z]*c[x,1,z]\n",
    "                if (x,C-1,z) in c and (x,C-2,z) in c:\n",
    "                    res -= c[x,C-1,z]*c[x,C-2,z]\n",
    "                    \n",
    "            if z == -1:\n",
    "                if (x,y,0) in c and (x,y,1) in c:\n",
    "                    res -= c[x,y,0]*c[x,y,1]\n",
    "                if (x,y,C-1) in c and (x,y,C-2) in c:\n",
    "                    res -= c[x,y,C-1]*c[x,y,C-2]\n",
    "        \n",
    "#         for k,v in c.items():\n",
    "#             res -= v*(v-1)\n",
    "        \n",
    "        return res        "
   ]
  },
  {
   "cell_type": "code",
   "execution_count": 100,
   "metadata": {},
   "outputs": [],
   "source": [
    "s = ThreeDChessRooks()"
   ]
  },
  {
   "cell_type": "code",
   "execution_count": 101,
   "metadata": {},
   "outputs": [
    {
     "data": {
      "text/plain": [
       "16"
      ]
     },
     "execution_count": 101,
     "metadata": {},
     "output_type": "execute_result"
    }
   ],
   "source": [
    "s.count(10,10,[9,2,3,4],[5,6,7,8],[9,0,1,9],47474747)"
   ]
  },
  {
   "cell_type": "code",
   "execution_count": 109,
   "metadata": {},
   "outputs": [
    {
     "data": {
      "text/plain": [
       "54"
      ]
     },
     "execution_count": 109,
     "metadata": {},
     "output_type": "execute_result"
    }
   ],
   "source": [
    "s.count(99,8,\n",
    "        [47, 48, 49, 50, 50, 51, 52, 53],\n",
    "        [12, 12, 12, 12, 12, 12, 12, 12],\n",
    "        [12, 12, 12, 12, 12, 12, 12, 12], 111\n",
    "       )"
   ]
  },
  {
   "cell_type": "code",
   "execution_count": 110,
   "metadata": {},
   "outputs": [
    {
     "data": {
      "text/plain": [
       "0"
      ]
     },
     "execution_count": 110,
     "metadata": {},
     "output_type": "execute_result"
    }
   ],
   "source": [
    "s.count(2,2,\n",
    "        [1,1],\n",
    "        [0,1],\n",
    "        [0,0], 111\n",
    "       )"
   ]
  },
  {
   "cell_type": "code",
   "execution_count": 111,
   "metadata": {},
   "outputs": [
    {
     "data": {
      "text/plain": [
       "1"
      ]
     },
     "execution_count": 111,
     "metadata": {},
     "output_type": "execute_result"
    }
   ],
   "source": [
    "s.count(3,2,\n",
    "        [0,0],\n",
    "        [0,1],\n",
    "        [0,0], 111\n",
    "       )"
   ]
  },
  {
   "cell_type": "code",
   "execution_count": 112,
   "metadata": {},
   "outputs": [
    {
     "data": {
      "text/plain": [
       "2"
      ]
     },
     "execution_count": 112,
     "metadata": {},
     "output_type": "execute_result"
    }
   ],
   "source": [
    "s.count(3,3,\n",
    "        [0,0,0],\n",
    "        [0,1,1],\n",
    "        [0,0,0], 111\n",
    "       )"
   ]
  },
  {
   "cell_type": "code",
   "execution_count": null,
   "metadata": {},
   "outputs": [],
   "source": []
  },
  {
   "cell_type": "code",
   "execution_count": null,
   "metadata": {},
   "outputs": [],
   "source": []
  }
 ],
 "metadata": {
  "kernelspec": {
   "display_name": "Python 3",
   "language": "python",
   "name": "python3"
  },
  "language_info": {
   "codemirror_mode": {
    "name": "ipython",
    "version": 3
   },
   "file_extension": ".py",
   "mimetype": "text/x-python",
   "name": "python",
   "nbconvert_exporter": "python",
   "pygments_lexer": "ipython3",
   "version": "3.7.9"
  }
 },
 "nbformat": 4,
 "nbformat_minor": 4
}

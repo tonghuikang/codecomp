{
 "cells": [
  {
   "cell_type": "code",
   "execution_count": 1,
   "metadata": {},
   "outputs": [],
   "source": [
    "%reset -sf"
   ]
  },
  {
   "cell_type": "code",
   "execution_count": 2,
   "metadata": {},
   "outputs": [],
   "source": [
    "# LOAD THIS BEFORE START, run rmdl\n",
    "\n",
    "#!/usr/bin/env python3\n",
    "import sys\n",
    "import math, random\n",
    "import functools, itertools, collections, heapq, bisect\n",
    "from collections import Counter, defaultdict, deque\n",
    "\n",
    "# import numpy as np\n",
    "# import scipy\n",
    "import matplotlib.pyplot as plt\n",
    "\n",
    "abc = \"abcdefghijklmnopqrstuvwxyz\"\n",
    "abc_map = {c:i for i,c in enumerate(abc)}\n",
    "M9 = 10**9 + 7  # 998244353\n",
    "yes, no = \"YES\", \"NO\"\n",
    "d4 = [(1,0),(0,1),(-1,0),(0,-1)]\n",
    "d8 = [\n",
    "    (-1,-1),(-1,0),(-1,1),\n",
    "    (0,-1),(0,0),(0,1),\n",
    "    (1,-1),(1,0),(1,1)]\n",
    "d6 = [(2,0),(1,1),(-1,1),(-2,0),(-1,-1),(1,-1)]  # hexagonal layout\n",
    "MAXINT = sys.maxsize"
   ]
  },
  {
   "cell_type": "code",
   "execution_count": 114,
   "metadata": {},
   "outputs": [],
   "source": [
    "with open(\"/Users/htong/Downloads/input.txt\") as f:\n",
    "    srr = f.read().strip().split(\"\\n\")"
   ]
  },
  {
   "cell_type": "code",
   "execution_count": 10,
   "metadata": {},
   "outputs": [],
   "source": [
    "srr = \"\"\"\n",
    "Blueprint 1: Each ore robot costs 4 ore. Each clay robot costs 2 ore. Each obsidian robot costs 3 ore and 14 clay. Each geode robot costs 2 ore and 7 obsidian.\n",
    "Blueprint 2: Each ore robot costs 2 ore. Each clay robot costs 3 ore. Each obsidian robot costs 3 ore and 8 clay. Each geode robot costs 3 ore and 12 obsidian.\n",
    "\"\"\".strip().split(\"\\n\")"
   ]
  },
  {
   "cell_type": "code",
   "execution_count": 115,
   "metadata": {
    "scrolled": true
   },
   "outputs": [
    {
     "name": "stdout",
     "output_type": "stream",
     "text": [
      "1 4 4 4 20 2 12\n",
      "2 2 2 2 17 2 10\n",
      "3 3 3 4 19 4 7\n"
     ]
    }
   ],
   "source": [
    "res = 0\n",
    "for row in srr:\n",
    "    row = \"\".join(x for x in row if x in \"0123456789 \")\n",
    "    arr = row.split()\n",
    "    idx, ore_ore, clay_ore, ob_ore, ob_clay, ge_ore, ge_ob = [int(x) for x in arr]\n",
    "    print(idx, ore_ore, clay_ore, ob_ore, ob_clay, ge_ore, ge_ob)\n",
    "    val = quality(ore_ore, clay_ore, ob_ore, ob_clay, ge_ore, ge_ob)\n",
    "    print(idx, val)\n",
    "    res += idx * val"
   ]
  },
  {
   "cell_type": "code",
   "execution_count": 111,
   "metadata": {},
   "outputs": [
    {
     "data": {
      "text/plain": [
       "1144"
      ]
     },
     "execution_count": 111,
     "metadata": {},
     "output_type": "execute_result"
    }
   ],
   "source": [
    "res"
   ]
  },
  {
   "cell_type": "code",
   "execution_count": null,
   "metadata": {},
   "outputs": [],
   "source": [
    "def check(newset, curset):\n",
    "#     print(newset)\n",
    "#     print(curset)\n",
    "    (ax,bx,cx,dx),(a1x,b1x,c1x,d1x) = newset\n",
    "    for (a,b,c,d),(a1,b1,c1,d1) in curset:\n",
    "        if (\n",
    "            ax <= a and\n",
    "            bx <= b and\n",
    "            cx <= c and\n",
    "            dx <= d and\n",
    "            a1x <= a1 and\n",
    "            b1x <= b1 and\n",
    "            c1x <= c1 and\n",
    "            d1x <= d1\n",
    "        ):\n",
    "            return False\n",
    "    return True\n"
   ]
  },
  {
   "cell_type": "code",
   "execution_count": 117,
   "metadata": {},
   "outputs": [],
   "source": [
    "def quality(ore_ore, clay_ore, ob_ore, ob_clay, ge_ore, ge_ob):\n",
    "    ore_cost = [ore_ore, 0, 0]\n",
    "    clay_cost = [clay_ore, 0, 0]\n",
    "    ob_cost = [ob_ore, ob_clay, 0]\n",
    "    ge_cost = [ge_ore, 0, ge_ob]\n",
    "    \n",
    "    maxd = 0\n",
    "        \n",
    "    states = [((0,0,0,0),(1,0,0,0))]  # (res) ore, clay, ob, ge, (bots) ore, clay, ob, ge\n",
    "    visited = set(states)\n",
    "    for turn_idx in range(32):\n",
    "        new_states = set()\n",
    "        print(turn_idx, maxd, len(states))\n",
    "        for state in states:\n",
    "            (a,b,c,d),(a1,b1,c1,d1) = state\n",
    "            \n",
    "            if (d+d1 < maxd):\n",
    "                continue\n",
    "            maxd = max(maxd, d)\n",
    "\n",
    "            bots = [a1,b1,c1,d1]\n",
    "            new_state = ((a+a1,b+b1,c+c1,d+d1),tuple(bots))\n",
    "            if new_state not in visited:\n",
    "                if turn_idx >= 12 or check(new_state, states):\n",
    "                    visited.add(new_state)\n",
    "                    new_states.add(new_state)\n",
    "\n",
    "            for i,(x,y,z) in enumerate([ore_cost, clay_cost, ob_cost, ge_cost]):\n",
    "                if a < x or b < y or c < z:\n",
    "                    continue\n",
    "                bots = [a1,b1,c1,d1]\n",
    "                bots[i] += 1\n",
    "                new_state = ((a-x+a1,b-y+b1,c-z+c1,d+d1),tuple(bots))\n",
    "                if new_state not in visited:\n",
    "                    if turn_idx >= 14 or check(new_state, states):\n",
    "                        visited.add(new_state)\n",
    "                        new_states.add(new_state)\n",
    "\n",
    "        states = new_states\n",
    "\n",
    "    for (a,b,c,d),(a1,b1,c1,d1) in new_states:\n",
    "        maxd = max(maxd, d)\n",
    "    return maxd"
   ]
  },
  {
   "cell_type": "code",
   "execution_count": 118,
   "metadata": {},
   "outputs": [
    {
     "name": "stdout",
     "output_type": "stream",
     "text": [
      "0 0 1\n",
      "1 0 1\n",
      "2 0 1\n",
      "3 0 1\n",
      "4 0 1\n",
      "5 0 3\n",
      "6 0 5\n",
      "7 0 6\n",
      "8 0 11\n",
      "9 0 23\n",
      "10 0 46\n",
      "11 0 66\n",
      "12 0 151\n",
      "13 0 286\n",
      "14 0 567\n",
      "15 0 1037\n",
      "16 0 1887\n",
      "17 0 3165\n",
      "18 0 5404\n",
      "19 0 9837\n",
      "20 0 19507\n",
      "21 0 38029\n",
      "22 0 77805\n",
      "23 0 154481\n",
      "24 0 298841\n",
      "25 0 559204\n",
      "26 0 1018992\n",
      "27 0 1842414\n",
      "28 1 188290\n",
      "29 2 453044\n",
      "30 3 1137243\n",
      "31 5 646204\n",
      "10\n"
     ]
    }
   ],
   "source": [
    "print(quality(4, 4, 4, 20, 2, 12))"
   ]
  },
  {
   "cell_type": "code",
   "execution_count": 121,
   "metadata": {},
   "outputs": [
    {
     "name": "stdout",
     "output_type": "stream",
     "text": [
      "0 0 1\n",
      "1 0 1\n",
      "2 0 1\n",
      "3 0 3\n",
      "4 0 5\n",
      "5 0 14\n",
      "6 0 31\n",
      "7 0 79\n",
      "8 0 181\n",
      "9 0 391\n",
      "10 0 712\n",
      "11 0 1229\n",
      "12 0 2120\n",
      "13 0 4259\n",
      "14 0 8744\n",
      "15 0 19804\n",
      "16 0 44780\n",
      "17 0 97548\n",
      "18 0 203177\n",
      "19 0 408879\n",
      "20 0 815215\n",
      "21 1 123410\n",
      "22 2 316920\n",
      "23 4 205733\n",
      "24 6 207991\n",
      "25 9 253863\n",
      "26 12 287543\n",
      "27 16 317151\n",
      "28 20 598128\n",
      "29 25 948898\n",
      "30 31 1111229\n",
      "31 38 1022624\n",
      "54\n"
     ]
    }
   ],
   "source": [
    "print(quality(2, 2, 2, 17, 2, 10))"
   ]
  },
  {
   "cell_type": "code",
   "execution_count": 120,
   "metadata": {},
   "outputs": [
    {
     "name": "stdout",
     "output_type": "stream",
     "text": [
      "0 0 1\n",
      "1 0 1\n",
      "2 0 1\n",
      "3 0 1\n",
      "4 0 3\n",
      "5 0 5\n",
      "6 0 8\n",
      "7 0 19\n",
      "8 0 39\n",
      "9 0 77\n",
      "10 0 176\n",
      "11 0 364\n",
      "12 0 670\n",
      "13 0 1221\n",
      "14 0 2088\n",
      "15 0 3827\n",
      "16 0 7542\n",
      "17 0 15465\n",
      "18 0 31543\n",
      "19 0 66230\n",
      "20 0 134681\n",
      "21 0 265091\n",
      "22 0 527120\n",
      "23 1 68644\n",
      "24 2 177378\n",
      "25 3 527633\n",
      "26 5 643948\n",
      "27 8 608047\n",
      "28 11 829591\n",
      "29 15 875648\n",
      "30 19 1466137\n",
      "31 24 2109080\n",
      "111\n"
     ]
    }
   ],
   "source": [
    "print(3 * quality(3, 3, 4, 19, 4, 7))"
   ]
  },
  {
   "cell_type": "code",
   "execution_count": 122,
   "metadata": {},
   "outputs": [
    {
     "data": {
      "text/plain": [
       "19980"
      ]
     },
     "execution_count": 122,
     "metadata": {},
     "output_type": "execute_result"
    }
   ],
   "source": [
    "10 * 54 * 111 // 3"
   ]
  },
  {
   "cell_type": "code",
   "execution_count": null,
   "metadata": {},
   "outputs": [],
   "source": [
    "# 1 4 4 4 20 2 12\n",
    "# 2 2 2 2 17 2 10\n",
    "# 3 3 3 4 19 4 7"
   ]
  },
  {
   "cell_type": "code",
   "execution_count": 106,
   "metadata": {},
   "outputs": [
    {
     "name": "stdout",
     "output_type": "stream",
     "text": [
      "0 1\n",
      "1 1\n",
      "2 1\n",
      "3 2\n",
      "4 4\n",
      "5 8\n",
      "6 18\n",
      "7 41\n",
      "8 99\n",
      "9 226\n",
      "10 436\n",
      "11 850\n",
      "12 1810\n",
      "13 4236\n",
      "14 10207\n",
      "15 26605\n",
      "16 65565\n",
      "17 150514\n",
      "18 321582\n",
      "19 681286\n",
      "20 110136\n",
      "21 301753\n",
      "22 277420\n",
      "23 314160\n"
     ]
    }
   ],
   "source": [
    "val = quality(ore_ore, clay_ore, ob_ore, ob_clay, ge_ore, ge_ob)"
   ]
  },
  {
   "cell_type": "code",
   "execution_count": 98,
   "metadata": {},
   "outputs": [],
   "source": [
    "# val = quality(ore_ore, clay_ore, ob_ore, ob_clay, ge_ore, ge_ob)"
   ]
  },
  {
   "cell_type": "code",
   "execution_count": 107,
   "metadata": {},
   "outputs": [
    {
     "data": {
      "text/plain": [
       "12"
      ]
     },
     "execution_count": 107,
     "metadata": {},
     "output_type": "execute_result"
    }
   ],
   "source": [
    "val"
   ]
  },
  {
   "cell_type": "code",
   "execution_count": null,
   "metadata": {},
   "outputs": [],
   "source": []
  },
  {
   "cell_type": "code",
   "execution_count": null,
   "metadata": {},
   "outputs": [],
   "source": []
  },
  {
   "cell_type": "code",
   "execution_count": null,
   "metadata": {},
   "outputs": [],
   "source": []
  },
  {
   "cell_type": "code",
   "execution_count": null,
   "metadata": {},
   "outputs": [],
   "source": []
  }
 ],
 "metadata": {
  "kernelspec": {
   "display_name": "Python 3 (ipykernel)",
   "language": "python",
   "name": "python3"
  },
  "language_info": {
   "codemirror_mode": {
    "name": "ipython",
    "version": 3
   },
   "file_extension": ".py",
   "mimetype": "text/x-python",
   "name": "python",
   "nbconvert_exporter": "python",
   "pygments_lexer": "ipython3",
   "version": "3.9.7"
  }
 },
 "nbformat": 4,
 "nbformat_minor": 4
}

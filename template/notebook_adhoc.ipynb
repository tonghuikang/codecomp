{
 "cells": [
  {
   "cell_type": "code",
   "execution_count": 484,
   "metadata": {},
   "outputs": [],
   "source": [
    "%reset -sf"
   ]
  },
  {
   "cell_type": "code",
   "execution_count": 485,
   "metadata": {},
   "outputs": [],
   "source": [
    "# LOAD THIS BEFORE START, run rmdl\n",
    "\n",
    "#!/usr/bin/env python3\n",
    "import sys\n",
    "import math, random\n",
    "import functools, itertools, collections, heapq, bisect\n",
    "from collections import Counter, defaultdict, deque\n",
    "\n",
    "# import numpy as np\n",
    "# import scipy\n",
    "import matplotlib.pyplot as plt\n",
    "\n",
    "abc = \"abcdefghijklmnopqrstuvwxyz\"\n",
    "abc_map = {c:i for i,c in enumerate(abc)}\n",
    "M9 = 10**9 + 7  # 998244353\n",
    "yes, no = \"YES\", \"NO\"\n",
    "d4 = [(1,0),(0,1),(-1,0),(0,-1)]\n",
    "d8 = [\n",
    "    (-1,-1),(-1,0),(-1,1),\n",
    "    (0,-1),(0,0),(0,1),\n",
    "    (1,-1),(1,0),(1,1)]\n",
    "d6 = [(2,0),(1,1),(-1,1),(-2,0),(-1,-1),(1,-1)]  # hexagonal layout\n",
    "MAXINT = sys.maxsize"
   ]
  },
  {
   "cell_type": "code",
   "execution_count": 486,
   "metadata": {},
   "outputs": [],
   "source": [
    "with open(\"/Users/htong/Downloads/input.txt\") as f:\n",
    "    srr = f.read().strip().split(\"\\n\")\n",
    "srr = [row.replace(\":\", \" :\") for row in srr]"
   ]
  },
  {
   "cell_type": "code",
   "execution_count": 487,
   "metadata": {},
   "outputs": [
    {
     "name": "stdout",
     "output_type": "stream",
     "text": [
      "humn : 2796\n",
      "rnwh : humn - qpdw\n",
      "root : wgbd + rqsg\n"
     ]
    }
   ],
   "source": [
    "# , \"mplm: -606685340277.5\"\n",
    "new_srr = [\"rqsg : 1 * wgbd\", \"humn : rnwh + qpdw\"]\n",
    "# new_srr = [\"humn : -19564616375223\", \"rnwh : humn - qpdw\"]\n",
    "for row in srr:\n",
    "    if \"root\" in row:\n",
    "        print(row)\n",
    "        continue\n",
    "    if \"humn\" in row:\n",
    "        print(row)\n",
    "        continue\n",
    "    new_srr.append(row)\n",
    "srr = new_srr"
   ]
  },
  {
   "cell_type": "code",
   "execution_count": 488,
   "metadata": {},
   "outputs": [],
   "source": [
    "# srr"
   ]
  },
  {
   "cell_type": "code",
   "execution_count": 489,
   "metadata": {},
   "outputs": [],
   "source": [
    "# srr"
   ]
  },
  {
   "cell_type": "code",
   "execution_count": 490,
   "metadata": {},
   "outputs": [],
   "source": [
    "# srr = \"\"\"\n",
    "# root: pppw + sjmn\n",
    "# dbpl: 5\n",
    "# cczh: sllz + lgvd\n",
    "# zczc: 2\n",
    "# ptdq: humn - dvpt\n",
    "# dvpt: 3\n",
    "# lfqf: 4\n",
    "# humn: 301\n",
    "# ljgn: 2\n",
    "# sjmn: drzm * dbpl\n",
    "# sllz: 4\n",
    "# pppw: cczh / lfqf\n",
    "# lgvd: ljgn * ptdq\n",
    "# drzm: hmdt - zczc\n",
    "# hmdt: 32\n",
    "# \"\"\".strip().split(\"\\n\")\n",
    "# srr = [row.replace(\":\", \" :\") for row in srr]"
   ]
  },
  {
   "cell_type": "code",
   "execution_count": 491,
   "metadata": {},
   "outputs": [],
   "source": [
    "# srr"
   ]
  },
  {
   "cell_type": "code",
   "execution_count": 492,
   "metadata": {},
   "outputs": [
    {
     "name": "stdout",
     "output_type": "stream",
     "text": [
      "2310\n",
      "1155\n",
      "819\n",
      "621\n",
      "483\n",
      "380\n",
      "306\n",
      "250\n",
      "206\n",
      "176\n",
      "154\n",
      "137\n",
      "122\n",
      "110\n",
      "101\n",
      "93\n",
      "88\n",
      "83\n",
      "80\n",
      "77\n",
      "75\n",
      "74\n",
      "73\n",
      "72\n",
      "72\n",
      "71\n",
      "71\n",
      "70\n",
      "70\n",
      "69\n",
      "69\n",
      "68\n",
      "68\n",
      "67\n",
      "67\n",
      "66\n",
      "66\n",
      "65\n",
      "65\n",
      "64\n",
      "64\n",
      "63\n",
      "63\n",
      "62\n",
      "62\n",
      "61\n",
      "61\n",
      "60\n",
      "60\n",
      "59\n",
      "59\n",
      "58\n",
      "58\n",
      "57\n",
      "57\n",
      "56\n",
      "56\n",
      "55\n",
      "55\n",
      "54\n",
      "54\n",
      "53\n",
      "53\n",
      "52\n",
      "52\n",
      "51\n",
      "51\n",
      "50\n",
      "50\n",
      "49\n",
      "49\n",
      "48\n",
      "48\n",
      "47\n",
      "47\n",
      "46\n",
      "46\n",
      "45\n",
      "45\n",
      "44\n",
      "44\n",
      "43\n",
      "43\n",
      "42\n",
      "42\n",
      "41\n",
      "41\n",
      "40\n",
      "40\n",
      "39\n",
      "39\n",
      "38\n",
      "38\n",
      "37\n",
      "37\n",
      "36\n",
      "36\n",
      "35\n",
      "35\n",
      "34\n",
      "34\n",
      "33\n",
      "33\n",
      "32\n",
      "32\n",
      "31\n",
      "31\n",
      "30\n",
      "30\n",
      "29\n",
      "29\n",
      "28\n",
      "28\n",
      "27\n",
      "27\n",
      "26\n",
      "26\n",
      "25\n",
      "25\n",
      "24\n",
      "24\n",
      "23\n",
      "23\n",
      "22\n",
      "22\n",
      "21\n",
      "21\n",
      "20\n",
      "20\n",
      "19\n",
      "19\n",
      "18\n",
      "18\n",
      "17\n",
      "17\n",
      "16\n",
      "16\n",
      "15\n",
      "15\n",
      "14\n",
      "14\n",
      "13\n",
      "13\n",
      "12\n",
      "12\n",
      "11\n",
      "11\n",
      "10\n",
      "10\n",
      "9\n",
      "9\n",
      "8\n",
      "8\n",
      "7\n",
      "7\n",
      "6\n",
      "6\n",
      "5\n",
      "5\n",
      "4\n",
      "4\n",
      "3\n",
      "3\n",
      "2\n",
      "2\n"
     ]
    }
   ],
   "source": [
    "while len(srr) > 1:\n",
    "    print(len(srr))\n",
    "    new_srr = []\n",
    "    vals = {}\n",
    "    for row in srr:\n",
    "        try:\n",
    "            a,_,b = row.split()\n",
    "            b = float(b)\n",
    "            vals[a] = b\n",
    "        except:\n",
    "            new_srr.append(row)\n",
    "            pass\n",
    "        \n",
    "#     if \"humn\" in vals:\n",
    "#         print(val[\"humn\"])\n",
    "#         raise\n",
    "    \n",
    "#     print(new_srr, vals)\n",
    "\n",
    "    new_srr2 = []\n",
    "    for row in new_srr:\n",
    "        for k,v in vals.items():\n",
    "            row = row.replace(k, str(v))\n",
    "        new_srr2.append(row)\n",
    "        \n",
    "#     print(new_srr2)\n",
    "\n",
    "    new_srr3 = []\n",
    "    for row in new_srr2:\n",
    "        try:\n",
    "            expr = \" \".join(row.split()[2:])\n",
    "            x = eval(expr)\n",
    "            new_srr3.append(\"{} : {}\".format(row.split()[0], x))\n",
    "        except:\n",
    "            new_srr3.append(row)\n",
    "            pass\n",
    "\n",
    "#     print(new_srr3)\n",
    "        \n",
    "        \n",
    "    new_srr4 = []\n",
    "    for row in new_srr3:\n",
    "        try:\n",
    "            a,_,b,s,c = row.split()\n",
    "            a = float(a)\n",
    "            b = float(b)\n",
    "            if s == \"+\":\n",
    "                row = f\"{c} : ({a}) - ({b})\"\n",
    "            if s == \"-\":\n",
    "                row = f\"{c} : {b} - ({a})\"\n",
    "            if s == \"*\":\n",
    "                row = f\"{c} : ({a}) / ({b})\"\n",
    "            if s == \"/\":\n",
    "                row = f\"{c} : ({b}) / ({a})\"\n",
    "            new_srr4.append(row)\n",
    "        except:\n",
    "            try:\n",
    "                a,_,b,s,c = row.split()\n",
    "                a = float(a)\n",
    "                c = float(c)\n",
    "                if s == \"+\":\n",
    "                    row = f\"{b} : ({a}) - ({c})\"\n",
    "                if s == \"-\":\n",
    "                    row = f\"{b} : ({a}) + ({c})\"\n",
    "                if s == \"*\":\n",
    "                    row = f\"{b} : ({a}) / ({c})\"\n",
    "                if s == \"/\":\n",
    "                    row = f\"{b} : ({a}) * ({c})\"\n",
    "                new_srr4.append(row)\n",
    "            except:\n",
    "                new_srr4.append(row)\n",
    "                pass\n",
    "        \n",
    "#     print(new_srr4)\n",
    "    srr = new_srr4\n",
    "#     break"
   ]
  },
  {
   "cell_type": "code",
   "execution_count": 493,
   "metadata": {},
   "outputs": [
    {
     "data": {
      "text/plain": [
       "['humn : 3558714869436.0']"
      ]
     },
     "execution_count": 493,
     "metadata": {},
     "output_type": "execute_result"
    }
   ],
   "source": [
    "srr"
   ]
  },
  {
   "cell_type": "code",
   "execution_count": 494,
   "metadata": {},
   "outputs": [
    {
     "name": "stdout",
     "output_type": "stream",
     "text": [
      "\n"
     ]
    }
   ],
   "source": [
    "print(\"\")"
   ]
  },
  {
   "cell_type": "code",
   "execution_count": 495,
   "metadata": {},
   "outputs": [
    {
     "data": {
      "text/plain": [
       "-19564616375223"
      ]
     },
     "execution_count": 495,
     "metadata": {},
     "output_type": "execute_result"
    }
   ],
   "source": [
    "-19564616375223"
   ]
  },
  {
   "cell_type": "code",
   "execution_count": 353,
   "metadata": {},
   "outputs": [
    {
     "data": {
      "text/plain": [
       "-606685340277.5"
      ]
     },
     "execution_count": 353,
     "metadata": {},
     "output_type": "execute_result"
    }
   ],
   "source": [
    "-12133706805550.0 / 20.0"
   ]
  },
  {
   "cell_type": "code",
   "execution_count": 354,
   "metadata": {},
   "outputs": [
    {
     "data": {
      "text/plain": [
       "-4702797244738"
      ]
     },
     "execution_count": 354,
     "metadata": {},
     "output_type": "execute_result"
    }
   ],
   "source": [
    "-4702797244738"
   ]
  },
  {
   "cell_type": "code",
   "execution_count": null,
   "metadata": {},
   "outputs": [],
   "source": [
    "838"
   ]
  },
  {
   "cell_type": "code",
   "execution_count": null,
   "metadata": {},
   "outputs": [],
   "source": [
    "new_srr3"
   ]
  },
  {
   "cell_type": "code",
   "execution_count": null,
   "metadata": {},
   "outputs": [],
   "source": [
    "x"
   ]
  },
  {
   "cell_type": "code",
   "execution_count": 19,
   "metadata": {},
   "outputs": [
    {
     "data": {
      "text/plain": [
       "['root: pppw + sjmn',\n",
       " 'cczh: 4 + lgvd',\n",
       " 'ptdq: 5 - 3',\n",
       " 'sjmn: drzm * 5',\n",
       " 'pppw: cczh / 4',\n",
       " 'lgvd: 2 * ptdq',\n",
       " 'drzm: 32 - 2']"
      ]
     },
     "execution_count": 19,
     "metadata": {},
     "output_type": "execute_result"
    }
   ],
   "source": [
    "new_srr2"
   ]
  },
  {
   "cell_type": "code",
   "execution_count": null,
   "metadata": {},
   "outputs": [],
   "source": [
    "vals"
   ]
  },
  {
   "cell_type": "code",
   "execution_count": null,
   "metadata": {},
   "outputs": [],
   "source": [
    "-19564616375374"
   ]
  }
 ],
 "metadata": {
  "kernelspec": {
   "display_name": "Python 3 (ipykernel)",
   "language": "python",
   "name": "python3"
  },
  "language_info": {
   "codemirror_mode": {
    "name": "ipython",
    "version": 3
   },
   "file_extension": ".py",
   "mimetype": "text/x-python",
   "name": "python",
   "nbconvert_exporter": "python",
   "pygments_lexer": "ipython3",
   "version": "3.9.7"
  }
 },
 "nbformat": 4,
 "nbformat_minor": 4
}

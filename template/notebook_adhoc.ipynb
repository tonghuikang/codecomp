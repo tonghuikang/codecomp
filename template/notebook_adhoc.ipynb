{
 "cells": [
  {
   "cell_type": "code",
   "execution_count": 375,
   "metadata": {},
   "outputs": [],
   "source": [
    "%reset -sf"
   ]
  },
  {
   "cell_type": "code",
   "execution_count": null,
   "metadata": {},
   "outputs": [],
   "source": []
  },
  {
   "cell_type": "code",
   "execution_count": 376,
   "metadata": {},
   "outputs": [],
   "source": [
    "# LOAD THIS BEFORE START, run rmdl\n",
    "\n",
    "#!/usr/bin/env python3\n",
    "import sys\n",
    "import math, random\n",
    "import functools, itertools, collections, heapq, bisect\n",
    "from collections import Counter, defaultdict, deque\n",
    "\n",
    "# import numpy as np\n",
    "import scipy\n",
    "import matplotlib.pyplot as plt\n",
    "\n",
    "abc = \"abcdefghijklmnopqrstuvwxyz\"\n",
    "abc_map = {c:i for i,c in enumerate(abc)}\n",
    "M9 = 10**9 + 7  # 998244353\n",
    "yes, no = \"YES\", \"NO\"\n",
    "d4 = [(1,0),(0,1),(-1,0),(0,-1)]\n",
    "d8 = [\n",
    "    (-1,-1),(-1,0),(-1,1),\n",
    "    (0,-1),(0,0),(0,1),\n",
    "    (1,-1),(1,0),(1,1)]\n",
    "d6 = [(2,0),(1,1),(-1,1),(-2,0),(-1,-1),(1,-1)]  # hexagonal layout\n",
    "MAXINT = sys.maxsize"
   ]
  },
  {
   "cell_type": "code",
   "execution_count": 377,
   "metadata": {},
   "outputs": [],
   "source": [
    "with open(\"/Users/htong/Downloads/input.txt\") as f:\n",
    "    srr = f.read().strip().split(\"\\n\\n\")"
   ]
  },
  {
   "cell_type": "code",
   "execution_count": 378,
   "metadata": {},
   "outputs": [],
   "source": [
    "start = [\"tl\", \"gd\", \"zb\", \"gc\"]\n",
    "\n",
    "srr = \"\"\"\n",
    "%cg -> mt, hb\n",
    "%sp -> xm\n",
    "%nr -> hf, mt\n",
    "&qz -> qn\n",
    "%df -> hd\n",
    "%vg -> rm, kx\n",
    "%gm -> mt, md\n",
    "%ls -> hc\n",
    "%lq -> zq, fx\n",
    "&zd -> bz, kg, zb, lf, sq, zk, jx\n",
    "%lz -> mt\n",
    "%sq -> zk\n",
    "%zn -> kx, tc\n",
    "&zq -> mb, hc, qz, ql, tl, ls\n",
    "&mt -> zm, tt, mh, gd, md\n",
    "%lm -> mb, zq\n",
    "%hf -> mt, sm\n",
    "%hb -> mh, mt\n",
    "%rm -> kx\n",
    "%gc -> kx, sp\n",
    "&cq -> qn\n",
    "%mh -> jt\n",
    "%zm -> nr\n",
    "%xm -> kx, ld\n",
    "&jx -> qn\n",
    "&qn -> rx\n",
    "%mp -> qt, kx\n",
    "%zk -> vj\n",
    "%hd -> mp, kx\n",
    "%tl -> zq, hl\n",
    "%zb -> zd, ph\n",
    "%cl -> zd\n",
    "&tt -> qn\n",
    "%ld -> zn\n",
    "%js -> lq, zq\n",
    "%sm -> mt, lz\n",
    "%qt -> vg, kx\n",
    "%md -> cg\n",
    "%vj -> bz, zd\n",
    "%qs -> zd, fs\n",
    "%mb -> ps\n",
    "&kx -> cq, gc, sp, df, ld\n",
    "%hc -> lm\n",
    "%tc -> df, kx\n",
    "%ps -> js, zq\n",
    "%fs -> qc, zd\n",
    "%hl -> jj, zq\n",
    "%bz -> qs\n",
    "%jj -> zq, ql\n",
    "%ql -> ls\n",
    "%ph -> kg, zd\n",
    "%qc -> cl, zd\n",
    "%lf -> sq\n",
    "%kg -> lf\n",
    "%fx -> zq\n",
    "%jt -> zm, mt\n",
    "%gd -> gm, mt\n",
    "\"\"\".strip().split(\"\\n\")"
   ]
  },
  {
   "cell_type": "code",
   "execution_count": 379,
   "metadata": {},
   "outputs": [],
   "source": [
    "# start = [\"a\", \"b\", \"c\"]\n",
    "\n",
    "# srr = \"\"\"\n",
    "# %a -> b\n",
    "# %b -> c\n",
    "# %c -> inv\n",
    "# &inv -> a\n",
    "# \"\"\".strip().split(\"\\n\")"
   ]
  },
  {
   "cell_type": "code",
   "execution_count": 380,
   "metadata": {},
   "outputs": [],
   "source": [
    "# start = [\"a\"]\n",
    "\n",
    "# srr = \"\"\"\n",
    "# %a -> inv, con\n",
    "# &inv -> b\n",
    "# %b -> con\n",
    "# &con -> output\n",
    "# \"\"\".strip().split(\"\\n\")"
   ]
  },
  {
   "cell_type": "code",
   "execution_count": null,
   "metadata": {},
   "outputs": [],
   "source": []
  },
  {
   "cell_type": "code",
   "execution_count": 381,
   "metadata": {},
   "outputs": [],
   "source": [
    "flipflop = {}\n",
    "conjuction = {}\n",
    "\n",
    "for row in srr:\n",
    "    if row[0] == '%':\n",
    "        a,b = row.split(\" -> \")\n",
    "        a = a[1:]\n",
    "        arr = b.split(\", \")\n",
    "        flipflop[a] = arr\n",
    "    if row[0] == '&':\n",
    "        a,b = row.split(\" -> \")\n",
    "        a = a[1:]\n",
    "        arr = b.split(\", \")\n",
    "        conjuction[a] = arr"
   ]
  },
  {
   "cell_type": "code",
   "execution_count": 382,
   "metadata": {},
   "outputs": [
    {
     "data": {
      "text/plain": [
       "{'cg': ['mt', 'hb'],\n",
       " 'sp': ['xm'],\n",
       " 'nr': ['hf', 'mt'],\n",
       " 'df': ['hd'],\n",
       " 'vg': ['rm', 'kx'],\n",
       " 'gm': ['mt', 'md'],\n",
       " 'ls': ['hc'],\n",
       " 'lq': ['zq', 'fx'],\n",
       " 'lz': ['mt'],\n",
       " 'sq': ['zk'],\n",
       " 'zn': ['kx', 'tc'],\n",
       " 'lm': ['mb', 'zq'],\n",
       " 'hf': ['mt', 'sm'],\n",
       " 'hb': ['mh', 'mt'],\n",
       " 'rm': ['kx'],\n",
       " 'gc': ['kx', 'sp'],\n",
       " 'mh': ['jt'],\n",
       " 'zm': ['nr'],\n",
       " 'xm': ['kx', 'ld'],\n",
       " 'mp': ['qt', 'kx'],\n",
       " 'zk': ['vj'],\n",
       " 'hd': ['mp', 'kx'],\n",
       " 'tl': ['zq', 'hl'],\n",
       " 'zb': ['zd', 'ph'],\n",
       " 'cl': ['zd'],\n",
       " 'ld': ['zn'],\n",
       " 'js': ['lq', 'zq'],\n",
       " 'sm': ['mt', 'lz'],\n",
       " 'qt': ['vg', 'kx'],\n",
       " 'md': ['cg'],\n",
       " 'vj': ['bz', 'zd'],\n",
       " 'qs': ['zd', 'fs'],\n",
       " 'mb': ['ps'],\n",
       " 'hc': ['lm'],\n",
       " 'tc': ['df', 'kx'],\n",
       " 'ps': ['js', 'zq'],\n",
       " 'fs': ['qc', 'zd'],\n",
       " 'hl': ['jj', 'zq'],\n",
       " 'bz': ['qs'],\n",
       " 'jj': ['zq', 'ql'],\n",
       " 'ql': ['ls'],\n",
       " 'ph': ['kg', 'zd'],\n",
       " 'qc': ['cl', 'zd'],\n",
       " 'lf': ['sq'],\n",
       " 'kg': ['lf'],\n",
       " 'fx': ['zq'],\n",
       " 'jt': ['zm', 'mt'],\n",
       " 'gd': ['gm', 'mt']}"
      ]
     },
     "execution_count": 382,
     "metadata": {},
     "output_type": "execute_result"
    }
   ],
   "source": [
    "flipflop"
   ]
  },
  {
   "cell_type": "code",
   "execution_count": 383,
   "metadata": {},
   "outputs": [
    {
     "data": {
      "text/plain": [
       "{'qz': ['qn'],\n",
       " 'zd': ['bz', 'kg', 'zb', 'lf', 'sq', 'zk', 'jx'],\n",
       " 'zq': ['mb', 'hc', 'qz', 'ql', 'tl', 'ls'],\n",
       " 'mt': ['zm', 'tt', 'mh', 'gd', 'md'],\n",
       " 'cq': ['qn'],\n",
       " 'jx': ['qn'],\n",
       " 'qn': ['rx'],\n",
       " 'tt': ['qn'],\n",
       " 'kx': ['cq', 'gc', 'sp', 'df', 'ld']}"
      ]
     },
     "execution_count": 383,
     "metadata": {},
     "output_type": "execute_result"
    }
   ],
   "source": [
    "conjuction"
   ]
  },
  {
   "cell_type": "code",
   "execution_count": 384,
   "metadata": {},
   "outputs": [],
   "source": [
    "conjuction_input_prev = {x:{} for x in conjuction}\n",
    "\n",
    "for k,v in flipflop.items():\n",
    "    for nex in v:\n",
    "        if nex in conjuction:\n",
    "            conjuction_input_prev[nex][k] = False"
   ]
  },
  {
   "cell_type": "code",
   "execution_count": 385,
   "metadata": {},
   "outputs": [
    {
     "data": {
      "text/plain": [
       "{'qz': {},\n",
       " 'zd': {'zb': False,\n",
       "  'cl': False,\n",
       "  'vj': False,\n",
       "  'qs': False,\n",
       "  'fs': False,\n",
       "  'ph': False,\n",
       "  'qc': False},\n",
       " 'zq': {'lq': False,\n",
       "  'lm': False,\n",
       "  'tl': False,\n",
       "  'js': False,\n",
       "  'ps': False,\n",
       "  'hl': False,\n",
       "  'jj': False,\n",
       "  'fx': False},\n",
       " 'mt': {'cg': False,\n",
       "  'nr': False,\n",
       "  'gm': False,\n",
       "  'lz': False,\n",
       "  'hf': False,\n",
       "  'hb': False,\n",
       "  'sm': False,\n",
       "  'jt': False,\n",
       "  'gd': False},\n",
       " 'cq': {},\n",
       " 'jx': {},\n",
       " 'qn': {},\n",
       " 'tt': {},\n",
       " 'kx': {'vg': False,\n",
       "  'zn': False,\n",
       "  'rm': False,\n",
       "  'gc': False,\n",
       "  'xm': False,\n",
       "  'mp': False,\n",
       "  'hd': False,\n",
       "  'qt': False,\n",
       "  'tc': False}}"
      ]
     },
     "execution_count": 385,
     "metadata": {},
     "output_type": "execute_result"
    }
   ],
   "source": [
    "conjuction_input_prev"
   ]
  },
  {
   "cell_type": "code",
   "execution_count": 386,
   "metadata": {},
   "outputs": [],
   "source": [
    "state_ff = {x:False for x in flipflop}  # is_on"
   ]
  },
  {
   "cell_type": "code",
   "execution_count": 387,
   "metadata": {},
   "outputs": [],
   "source": [
    "low_count = 0\n",
    "high_count = 0\n",
    "\n",
    "cnts = defaultdict(list)\n",
    "\n",
    "for idx in range(1, 100000):\n",
    "    queue = deque([(x, False, None) for x in start])  # val, is_high\n",
    "    low_count += 1\n",
    "\n",
    "    while queue:\n",
    "        x, is_high, prev = queue.popleft()\n",
    "        if is_high:\n",
    "            high_count += 1\n",
    "        else:\n",
    "            low_count += 1\n",
    "            \n",
    "#         print(x, is_high)\n",
    "        if x == \"qn\" and is_high == True:\n",
    "            cnts[prev].append(idx)\n",
    "#             print(idx, prev)\n",
    "\n",
    "        if x == \"rz\" and is_high == True:\n",
    "            print(idx)\n",
    "        \n",
    "        if x in flipflop:\n",
    "            if is_high:\n",
    "                continue\n",
    "            if state_ff[x]:  # is on\n",
    "                state_ff[x] = not state_ff[x]\n",
    "                for nex in flipflop[x]:\n",
    "                    queue.append([nex, False, x])\n",
    "                    if nex in conjuction_input_prev:\n",
    "                        conjuction_input_prev[nex][x] = False\n",
    "            else:\n",
    "                state_ff[x] = not state_ff[x]\n",
    "                for nex in flipflop[x]:\n",
    "                    queue.append([nex, True, x])\n",
    "                    if nex in conjuction_input_prev:\n",
    "                        conjuction_input_prev[nex][x] = True\n",
    "\n",
    "        if x in conjuction:\n",
    "            all_high = True\n",
    "            for k,v in conjuction_input_prev[x].items():\n",
    "                if not v:\n",
    "                    all_high = False\n",
    "            if all_high:\n",
    "                for nex in conjuction[x]:\n",
    "                    queue.append([nex, False, x])\n",
    "                    if nex in conjuction_input_prev:\n",
    "                        conjuction_input_prev[nex][x] = False\n",
    "            else:\n",
    "                for nex in conjuction[x]:\n",
    "                    queue.append([nex, True, x])\n",
    "                    if nex in conjuction_input_prev:\n",
    "                        conjuction_input_prev[nex][x] = True"
   ]
  },
  {
   "cell_type": "code",
   "execution_count": 388,
   "metadata": {},
   "outputs": [
    {
     "data": {
      "text/plain": [
       "241528477694627"
      ]
     },
     "execution_count": 388,
     "metadata": {},
     "output_type": "execute_result"
    }
   ],
   "source": [
    "3907 * 3911 * 3931 * 4021"
   ]
  },
  {
   "cell_type": "code",
   "execution_count": 390,
   "metadata": {},
   "outputs": [
    {
     "data": {
      "text/plain": [
       "defaultdict(list,\n",
       "            {'jx': [3907,\n",
       "              7814,\n",
       "              11721,\n",
       "              15628,\n",
       "              19535,\n",
       "              23442,\n",
       "              27349,\n",
       "              31256,\n",
       "              35163,\n",
       "              39070,\n",
       "              42977,\n",
       "              46884,\n",
       "              50791,\n",
       "              54698,\n",
       "              58605,\n",
       "              62512,\n",
       "              66419,\n",
       "              70326,\n",
       "              74233,\n",
       "              78140,\n",
       "              82047,\n",
       "              85954,\n",
       "              89861,\n",
       "              93768,\n",
       "              97675],\n",
       "             'qz': [3911,\n",
       "              7822,\n",
       "              11733,\n",
       "              15644,\n",
       "              19555,\n",
       "              23466,\n",
       "              27377,\n",
       "              31288,\n",
       "              35199,\n",
       "              39110,\n",
       "              43021,\n",
       "              46932,\n",
       "              50843,\n",
       "              54754,\n",
       "              58665,\n",
       "              62576,\n",
       "              66487,\n",
       "              70398,\n",
       "              74309,\n",
       "              78220,\n",
       "              82131,\n",
       "              86042,\n",
       "              89953,\n",
       "              93864,\n",
       "              97775],\n",
       "             'tt': [3931,\n",
       "              7862,\n",
       "              11793,\n",
       "              15724,\n",
       "              19655,\n",
       "              23586,\n",
       "              27517,\n",
       "              31448,\n",
       "              35379,\n",
       "              39310,\n",
       "              43241,\n",
       "              47172,\n",
       "              51103,\n",
       "              55034,\n",
       "              58965,\n",
       "              62896,\n",
       "              66827,\n",
       "              70758,\n",
       "              74689,\n",
       "              78620,\n",
       "              82551,\n",
       "              86482,\n",
       "              90413,\n",
       "              94344,\n",
       "              98275],\n",
       "             'cq': [4021,\n",
       "              8042,\n",
       "              12063,\n",
       "              16084,\n",
       "              20105,\n",
       "              24126,\n",
       "              28147,\n",
       "              32168,\n",
       "              36189,\n",
       "              40210,\n",
       "              44231,\n",
       "              48252,\n",
       "              52273,\n",
       "              56294,\n",
       "              60315,\n",
       "              64336,\n",
       "              68357,\n",
       "              72378,\n",
       "              76399,\n",
       "              80420,\n",
       "              84441,\n",
       "              88462,\n",
       "              92483,\n",
       "              96504]})"
      ]
     },
     "execution_count": 390,
     "metadata": {},
     "output_type": "execute_result"
    }
   ],
   "source": [
    "cnts"
   ]
  },
  {
   "cell_type": "code",
   "execution_count": null,
   "metadata": {},
   "outputs": [],
   "source": []
  },
  {
   "cell_type": "code",
   "execution_count": null,
   "metadata": {},
   "outputs": [],
   "source": []
  },
  {
   "cell_type": "code",
   "execution_count": null,
   "metadata": {},
   "outputs": [],
   "source": []
  }
 ],
 "metadata": {
  "kernelspec": {
   "display_name": "Python 3 (ipykernel)",
   "language": "python",
   "name": "python3"
  },
  "language_info": {
   "codemirror_mode": {
    "name": "ipython",
    "version": 3
   },
   "file_extension": ".py",
   "mimetype": "text/x-python",
   "name": "python",
   "nbconvert_exporter": "python",
   "pygments_lexer": "ipython3",
   "version": "3.9.7"
  }
 },
 "nbformat": 4,
 "nbformat_minor": 4
}

{
 "cells": [
  {
   "cell_type": "code",
   "execution_count": 2,
   "metadata": {},
   "outputs": [],
   "source": [
    "from typing import List\n",
    "\n",
    "def doesValidArrayExist(derived: List[int]) -> bool:\n",
    "    arr = [0]\n",
    "    for x in derived[:-1]:\n",
    "        arr.append(arr[-1]^x)\n",
    "    if arr[-1]^arr[0] == derived[-1]:\n",
    "        return arr\n",
    "\n",
    "    arr = [1]\n",
    "    for x in derived[:-1]:\n",
    "        arr.append(arr[-1]^x)\n",
    "    if arr[-1]^arr[0] == derived[-1]:\n",
    "        return arr\n",
    "\n",
    "    return arr"
   ]
  },
  {
   "cell_type": "code",
   "execution_count": null,
   "metadata": {},
   "outputs": [],
   "source": [
    "class Solution:\n",
    "    def doesValidArrayExist(self, derived: List[int]) -> bool:\n",
    "        \n",
    "        return sum(derived)%2 == 0\n",
    "#         arr = [0]\n",
    "#         for x in derived[:-1]:\n",
    "#             arr.append(arr[-1]^x)\n",
    "#         if arr[-1]^arr[0] == derived[-1]:\n",
    "#             return arr\n",
    "\n",
    "#         arr = [1]\n",
    "#         for x in derived[:-1]:\n",
    "#             arr.append(arr[-1]^x)\n",
    "#         if arr[-1]^arr[0] == derived[-1]:\n",
    "#             return arr\n",
    "        \n",
    "#         return arr"
   ]
  },
  {
   "cell_type": "code",
   "execution_count": null,
   "metadata": {},
   "outputs": [],
   "source": [
    "[1,1,0]\n",
    "[1,1]\n",
    "[1,0]"
   ]
  },
  {
   "cell_type": "code",
   "execution_count": 4,
   "metadata": {},
   "outputs": [
    {
     "data": {
      "text/plain": [
       "[0, 1, 0]"
      ]
     },
     "execution_count": 4,
     "metadata": {},
     "output_type": "execute_result"
    }
   ],
   "source": [
    "doesValidArrayExist([1,1,0])"
   ]
  },
  {
   "cell_type": "code",
   "execution_count": 5,
   "metadata": {},
   "outputs": [
    {
     "data": {
      "text/plain": [
       "[0, 1]"
      ]
     },
     "execution_count": 5,
     "metadata": {},
     "output_type": "execute_result"
    }
   ],
   "source": [
    "doesValidArrayExist([1,1])"
   ]
  },
  {
   "cell_type": "code",
   "execution_count": 6,
   "metadata": {},
   "outputs": [
    {
     "data": {
      "text/plain": [
       "[1, 0]"
      ]
     },
     "execution_count": 6,
     "metadata": {},
     "output_type": "execute_result"
    }
   ],
   "source": [
    "doesValidArrayExist([1,0])"
   ]
  },
  {
   "cell_type": "code",
   "execution_count": null,
   "metadata": {},
   "outputs": [],
   "source": []
  },
  {
   "cell_type": "code",
   "execution_count": null,
   "metadata": {},
   "outputs": [],
   "source": []
  }
 ],
 "metadata": {
  "kernelspec": {
   "display_name": "Python 3 (ipykernel)",
   "language": "python",
   "name": "python3"
  },
  "language_info": {
   "codemirror_mode": {
    "name": "ipython",
    "version": 3
   },
   "file_extension": ".py",
   "mimetype": "text/x-python",
   "name": "python",
   "nbconvert_exporter": "python",
   "pygments_lexer": "ipython3",
   "version": "3.9.7"
  }
 },
 "nbformat": 4,
 "nbformat_minor": 4
}

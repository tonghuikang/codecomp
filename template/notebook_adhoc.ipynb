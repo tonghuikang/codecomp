{
 "cells": [
  {
   "cell_type": "code",
   "execution_count": 1,
   "metadata": {},
   "outputs": [],
   "source": [
    "%reset -sf"
   ]
  },
  {
   "cell_type": "code",
   "execution_count": 1,
   "metadata": {},
   "outputs": [],
   "source": [
    "# LOAD THIS BEFORE START, run rmdl\n",
    "\n",
    "#!/usr/bin/env python3\n",
    "import sys\n",
    "import math, random\n",
    "import functools, itertools, collections, heapq, bisect\n",
    "from collections import Counter, defaultdict, deque\n",
    "\n",
    "# import numpy as np\n",
    "# import scipy\n",
    "# import matplotlib.pyplot as plt\n",
    "\n",
    "abc = \"abcdefghijklmnopqrstuvwxyz\"\n",
    "M9 = 10**9 + 7  # 998244353\n",
    "yes, no = \"YES\", \"NO\"\n",
    "d4 = [(1,0),(0,1),(-1,0),(0,-1)]\n",
    "d8 = [\n",
    "    (-1,-1),(-1,0),(-1,1),\n",
    "    (0,-1),(0,0),(0,1),\n",
    "    (1,-1),(1,0),(1,1)]\n",
    "d6 = [(2,0),(1,1),(-1,1),(-2,0),(-1,-1),(1,-1)]  # hexagonal layout\n",
    "MAXINT = sys.maxsize"
   ]
  },
  {
   "cell_type": "code",
   "execution_count": 137,
   "metadata": {},
   "outputs": [],
   "source": [
    "with open(\"/Users/htong/Downloads/input.txt\") as f:\n",
    "    srr = f.read().strip()"
   ]
  },
  {
   "cell_type": "code",
   "execution_count": null,
   "metadata": {},
   "outputs": [],
   "source": [
    "Monkey 0:\n",
    "  Starting items: 79, 98\n",
    "  Operation: new = old * 19\n",
    "  Test: divisible by 23\n",
    "    If true: throw to monkey 2\n",
    "    If false: throw to monkey 3\n",
    "\n",
    "Monkey 1:\n",
    "  Starting items: 54, 65, 75, 74\n",
    "  Operation: new = old + 6\n",
    "  Test: divisible by 19\n",
    "    If true: throw to monkey 2\n",
    "    If false: throw to monkey 0\n",
    "\n",
    "Monkey 2:\n",
    "  Starting items: 79, 60, 97\n",
    "  Operation: new = old * old\n",
    "  Test: divisible by 13\n",
    "    If true: throw to monkey 1\n",
    "    If false: throw to monkey 3\n",
    "\n",
    "Monkey 3:\n",
    "  Starting items: 74\n",
    "  Operation: new = old + 3\n",
    "  Test: divisible by 17\n",
    "    If true: throw to monkey 0\n",
    "    If false: throw to monkey 1"
   ]
  },
  {
   "cell_type": "code",
   "execution_count": 48,
   "metadata": {},
   "outputs": [],
   "source": [
    "items = [[79, 98], [54, 65, 75, 74], [79, 60, 97], [74]]\n",
    "ops = [\n",
    "    lambda old: old * 19,\n",
    "    lambda old: old + 6,\n",
    "    lambda old: old * old,\n",
    "    lambda old: old + 3,\n",
    "]\n",
    "test = [\n",
    "    lambda x: x%23 == 0, lambda x: x%19 == 0, lambda x: x%13 == 0, lambda x: x%17 == 0, \n",
    "]\n",
    "iftrue = [2,2,1,0]\n",
    "iffalse = [3,0,3,1]\n",
    "M = 4\n"
   ]
  },
  {
   "cell_type": "code",
   "execution_count": 65,
   "metadata": {},
   "outputs": [],
   "source": [
    "items = [[77, 69, 76, 77, 50, 58], [75, 70, 82, 83, 96, 64, 62], [53], [85, 64, 93, 64, 99], \n",
    "         [61, 92, 71], [79, 73, 50, 90], [50, 89], [83, 56, 64, 58, 93, 91, 56, 65]]\n",
    "ops = [\n",
    "    lambda old: old * 11,\n",
    "    lambda old: old + 8,\n",
    "    lambda old: old * 3,\n",
    "    lambda old: old + 4,\n",
    "    lambda old: old * old,\n",
    "    lambda old: old + 2,\n",
    "    lambda old: old + 3,\n",
    "    lambda old: old + 5,\n",
    "]\n",
    "test = [\n",
    "    lambda x: x%5 == 0, lambda x: x%17 == 0, lambda x: x%2 == 0, lambda x: x%7 == 0, \n",
    "    lambda x: x%3 == 0, lambda x: x%11 == 0, lambda x: x%13 == 0, lambda x: x%19 == 0, \n",
    "]\n",
    "iftrue = [1,5,0,7,2,4,4,1]\n",
    "iffalse = [5,6,7,2,3,6,3,0]\n",
    "M = 8"
   ]
  },
  {
   "cell_type": "code",
   "execution_count": 66,
   "metadata": {},
   "outputs": [],
   "source": [
    "pdt = 5*17*2*7*3*11*13*19"
   ]
  },
  {
   "cell_type": "code",
   "execution_count": 67,
   "metadata": {},
   "outputs": [],
   "source": [
    "cnts = [0 for _ in range(M)]\n",
    "for _ in range(10_000):\n",
    "    for midx in range(M):\n",
    "        items[midx] = items[midx][::-1]\n",
    "        while items[midx]:\n",
    "            val = items[midx].pop()\n",
    "            val = ops[midx](val)\n",
    "#             val = val // 3\n",
    "            val = val%pdt\n",
    "            if test[midx](val):\n",
    "                items[iftrue[midx]].append(val)\n",
    "            else:\n",
    "                items[iffalse[midx]].append(val)\n",
    "            cnts[midx] += 1\n",
    "#     print(items)"
   ]
  },
  {
   "cell_type": "code",
   "execution_count": 68,
   "metadata": {},
   "outputs": [
    {
     "data": {
      "text/plain": [
       "[115025, 93029, 114545, 114164, 8590, 30465, 122693, 122667]"
      ]
     },
     "execution_count": 68,
     "metadata": {},
     "output_type": "execute_result"
    }
   ],
   "source": [
    "cnts"
   ]
  },
  {
   "cell_type": "code",
   "execution_count": 69,
   "metadata": {},
   "outputs": [
    {
     "data": {
      "text/plain": [
       "15050382231"
      ]
     },
     "execution_count": 69,
     "metadata": {},
     "output_type": "execute_result"
    }
   ],
   "source": [
    "sorted(cnts)[-1] * sorted(cnts)[-2]"
   ]
  },
  {
   "cell_type": "code",
   "execution_count": 6,
   "metadata": {},
   "outputs": [],
   "source": [
    "srr = \"\"\"\n",
    "\"\"\".strip()"
   ]
  },
  {
   "cell_type": "code",
   "execution_count": 138,
   "metadata": {},
   "outputs": [],
   "source": [
    "srr = \"\"\"\n",
    "\"\"\".strip()"
   ]
  },
  {
   "cell_type": "code",
   "execution_count": 139,
   "metadata": {},
   "outputs": [],
   "source": [
    "res = 0"
   ]
  },
  {
   "cell_type": "code",
   "execution_count": 15,
   "metadata": {},
   "outputs": [],
   "source": [
    "def test(arr):\n",
    "    res = 0\n",
    "    return res"
   ]
  },
  {
   "cell_type": "code",
   "execution_count": null,
   "metadata": {},
   "outputs": [],
   "source": []
  }
 ],
 "metadata": {
  "kernelspec": {
   "display_name": "Python 3 (ipykernel)",
   "language": "python",
   "name": "python3"
  },
  "language_info": {
   "codemirror_mode": {
    "name": "ipython",
    "version": 3
   },
   "file_extension": ".py",
   "mimetype": "text/x-python",
   "name": "python",
   "nbconvert_exporter": "python",
   "pygments_lexer": "ipython3",
   "version": "3.9.7"
  }
 },
 "nbformat": 4,
 "nbformat_minor": 4
}

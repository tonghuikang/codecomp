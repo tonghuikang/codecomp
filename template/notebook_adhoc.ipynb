{
 "cells": [
  {
   "cell_type": "code",
   "execution_count": 325,
   "metadata": {},
   "outputs": [],
   "source": [
    "%reset -sf"
   ]
  },
  {
   "cell_type": "code",
   "execution_count": 326,
   "metadata": {},
   "outputs": [],
   "source": [
    "#!/usr/bin/env python3\n",
    "import sys\n",
    "import math, random\n",
    "import functools, itertools, collections, heapq, bisect\n",
    "from collections import Counter, defaultdict, deque\n",
    "\n",
    "import matplotlib.pyplot as plt\n",
    "\n",
    "# available on Google, AtCoder Python3, not available on Codeforces\n",
    "# import numpy as np\n",
    "# import scipy\n",
    "\n",
    "M9 = 10**9 + 7  # 998244353\n",
    "yes, no = \"YES\", \"NO\"\n",
    "# d4 = [(1,0),(0,1),(-1,0),(0,-1)]\n",
    "d8 = [\n",
    "    (-1,-1),(-1,0),(-1,1),\n",
    "    (0,-1),(0,0),(0,1),\n",
    "    (1,-1),(1,0),(1,1)]\n",
    "# d6 = [(2,0),(1,1),(-1,1),(-2,0),(-1,-1),(1,-1)]  # hexagonal layout\n",
    "MAXINT = sys.maxsize"
   ]
  },
  {
   "cell_type": "code",
   "execution_count": 327,
   "metadata": {},
   "outputs": [],
   "source": [
    "trr = \"\"\n",
    "srr = \"\"\"\n",
    "..#.#..#####.#.#.#.###.##.....###.##.#..###.####..#####..#....#..#..##..###..######.###...####..#..#####..##..#.#####...##.#.#..#.##..#.#......#.###.######.###.####...#.##.##..#..#..#####.....#.#....###..#.##......#.....#..#..#..##..#...##.######.####.####.#.#...#.......#..#.#.#...####.##.#......#..#...##.#.##..#...##.#.##..###.#......#.#.......#.#.#.####.###.##...#.....####.#..#..#.##.#....##..#.####....##...##..#...#......#.#.......#.......##..####..#...#.#.#...##..#.#..###..#####........#..####......#..#\n",
    "\n",
    "#..#.\n",
    "#....\n",
    "##..#\n",
    "..#..\n",
    "..###\n",
    "\"\"\".strip()\n",
    "\n",
    "# srr = srr.replace(\"#\", \"$\")\n",
    "# srr = srr.replace(\".\", \"#\")\n",
    "# srr = srr.replace(\"$\", \".\")\n",
    "\n",
    "with open(\"/Users/hkmac/Downloads/input.txt\") as f:\n",
    "    srr = f.read().strip()\n",
    "\n",
    "a,b = srr.split(\"\\n\\n\")\n",
    "arr = b.split(\"\\n\")"
   ]
  },
  {
   "cell_type": "code",
   "execution_count": 328,
   "metadata": {},
   "outputs": [],
   "source": [
    "# arr"
   ]
  },
  {
   "cell_type": "code",
   "execution_count": 329,
   "metadata": {},
   "outputs": [
    {
     "data": {
      "text/plain": [
       "(100, 100)"
      ]
     },
     "execution_count": 329,
     "metadata": {},
     "output_type": "execute_result"
    }
   ],
   "source": [
    "len(arr), len(arr[0])"
   ]
  },
  {
   "cell_type": "code",
   "execution_count": 330,
   "metadata": {},
   "outputs": [],
   "source": [
    "lighted = set()\n",
    "for i,row in enumerate(arr):\n",
    "    for j,cell in enumerate(row):\n",
    "        if cell == \"#\":\n",
    "            lighted.add((i,j))"
   ]
  },
  {
   "cell_type": "code",
   "execution_count": 331,
   "metadata": {},
   "outputs": [
    {
     "name": "stdout",
     "output_type": "stream",
     "text": [
      "5011\n",
      "110578\n",
      "110578\n",
      "6696\n",
      "6696\n",
      "109412\n",
      "109412\n",
      "7737\n",
      "7737\n",
      "108356\n",
      "108356\n",
      "8769\n",
      "8769\n",
      "107296\n",
      "107296\n",
      "9962\n",
      "9962\n",
      "106147\n",
      "106147\n",
      "11107\n",
      "11107\n",
      "105043\n",
      "105043\n",
      "12296\n",
      "12296\n",
      "103888\n",
      "103888\n",
      "13427\n",
      "13427\n",
      "102770\n",
      "102770\n",
      "14577\n",
      "14577\n",
      "101707\n",
      "101707\n",
      "15773\n",
      "15773\n",
      "100498\n",
      "100498\n",
      "16968\n",
      "16968\n",
      "99249\n",
      "99249\n",
      "18343\n",
      "18343\n",
      "98206\n",
      "98206\n",
      "19580\n",
      "19580\n",
      "96866\n",
      "96866\n",
      "20715\n",
      "20715\n",
      "95767\n",
      "95767\n",
      "22041\n",
      "22041\n",
      "94391\n",
      "94391\n",
      "23283\n",
      "23283\n",
      "93406\n",
      "93406\n",
      "24666\n",
      "24666\n",
      "91909\n",
      "91909\n",
      "25985\n",
      "25985\n",
      "90703\n",
      "90703\n",
      "27078\n",
      "27078\n",
      "89309\n",
      "89309\n",
      "28573\n",
      "28573\n",
      "88125\n",
      "88125\n",
      "29921\n",
      "29921\n",
      "86719\n",
      "86719\n",
      "31312\n",
      "31312\n",
      "85585\n",
      "85585\n",
      "32759\n",
      "32759\n",
      "84146\n",
      "84146\n",
      "34117\n",
      "34117\n",
      "82853\n",
      "82853\n",
      "35536\n",
      "35536\n",
      "81421\n",
      "81421\n",
      "37055\n"
     ]
    }
   ],
   "source": [
    "for _ in range(50):\n",
    "    print(len(lighted))\n",
    "    next_lighted = set()\n",
    "    for x in range(-120, 220):\n",
    "        for y in range(-120, 220):\n",
    "            srr = \"\"\n",
    "            for dx,dy in d8:\n",
    "                xx,yy = x+dx, y+dy\n",
    "                if (xx,yy) in lighted:\n",
    "                    srr += \"1\"\n",
    "                else:\n",
    "                    srr += \"0\"\n",
    "            val = int(srr,2)\n",
    "            res = a[val]\n",
    "            if res == \"#\":\n",
    "                next_lighted.add((x,y))\n",
    "    lighted = next_lighted\n",
    "    print(len(lighted))\n",
    "    \n",
    "#     print(next_lighted)\n",
    "#     lighted = sorted(lighted)\n",
    "#     plt.scatter([y for x,y in lighted], [-x for x,y in lighted])\n",
    "#     plt.show()"
   ]
  },
  {
   "cell_type": "code",
   "execution_count": 332,
   "metadata": {},
   "outputs": [
    {
     "data": {
      "text/plain": [
       "19766"
      ]
     },
     "execution_count": 332,
     "metadata": {},
     "output_type": "execute_result"
    }
   ],
   "source": [
    "len([(x,y) for x,y in lighted if (-55 < x < 155 and -55 < y < 155)])"
   ]
  },
  {
   "cell_type": "code",
   "execution_count": null,
   "metadata": {},
   "outputs": [],
   "source": []
  }
 ],
 "metadata": {
  "kernelspec": {
   "display_name": "Python 3",
   "language": "python",
   "name": "python3"
  },
  "language_info": {
   "codemirror_mode": {
    "name": "ipython",
    "version": 3
   },
   "file_extension": ".py",
   "mimetype": "text/x-python",
   "name": "python",
   "nbconvert_exporter": "python",
   "pygments_lexer": "ipython3",
   "version": "3.8.3"
  }
 },
 "nbformat": 4,
 "nbformat_minor": 4
}

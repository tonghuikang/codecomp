{
 "cells": [
  {
   "cell_type": "code",
   "execution_count": 153,
   "metadata": {},
   "outputs": [],
   "source": [
    "%reset -sf"
   ]
  },
  {
   "cell_type": "code",
   "execution_count": 154,
   "metadata": {},
   "outputs": [],
   "source": [
    "# LOAD THIS BEFORE START, run rmdl\n",
    "\n",
    "#!/usr/bin/env python3\n",
    "import sys\n",
    "import math, random\n",
    "import functools, itertools, collections, heapq, bisect\n",
    "from collections import Counter, defaultdict, deque\n",
    "\n",
    "# import numpy as np\n",
    "import scipy\n",
    "import matplotlib.pyplot as plt\n",
    "\n",
    "abc = \"abcdefghijklmnopqrstuvwxyz\"\n",
    "abc_map = {c:i for i,c in enumerate(abc)}\n",
    "M9 = 10**9 + 7  # 998244353\n",
    "yes, no = \"YES\", \"NO\"\n",
    "d4 = [(1,0),(0,1),(-1,0),(0,-1)]\n",
    "d8 = [\n",
    "    (-1,-1),(-1,0),(-1,1),\n",
    "    (0,-1),(0,0),(0,1),\n",
    "    (1,-1),(1,0),(1,1)]\n",
    "d6 = [(2,0),(1,1),(-1,1),(-2,0),(-1,-1),(1,-1)]  # hexagonal layout\n",
    "MAXINT = sys.maxsize"
   ]
  },
  {
   "cell_type": "code",
   "execution_count": 325,
   "metadata": {},
   "outputs": [],
   "source": [
    "with open(\"/Users/htong/Downloads/input.txt\") as f:\n",
    "    srr = f.read().strip().split(\"\\n\")"
   ]
  },
  {
   "cell_type": "code",
   "execution_count": 311,
   "metadata": {},
   "outputs": [],
   "source": [
    "srr = \"\"\"\n",
    "#.#####################\n",
    "#.......#########...###\n",
    "#######.#########.#.###\n",
    "###.....#.>.>.###.#.###\n",
    "###v#####.#v#.###.#.###\n",
    "###.>...#.#.#.....#...#\n",
    "###v###.#.#.#########.#\n",
    "###...#.#.#.......#...#\n",
    "#####.#.#.#######.#.###\n",
    "#.....#.#.#.......#...#\n",
    "#.#####.#.#.#########v#\n",
    "#.#...#...#...###...>.#\n",
    "#.#.#v#######v###.###v#\n",
    "#...#.>.#...>.>.#.###.#\n",
    "#####v#.#.###v#.#.###.#\n",
    "#.....#...#...#.#.#...#\n",
    "#.#########.###.#.#.###\n",
    "#...###...#...#...#.###\n",
    "###.###.#.###v#####v###\n",
    "#...#...#.#.>.>.#.>.###\n",
    "#.###.###.#.###.#.#v###\n",
    "#.....###...###...#...#\n",
    "#####################.#\n",
    "\"\"\".strip().split(\"\\n\")"
   ]
  },
  {
   "cell_type": "code",
   "execution_count": 326,
   "metadata": {},
   "outputs": [],
   "source": [
    "arr = [list(row) for row in srr]"
   ]
  },
  {
   "cell_type": "code",
   "execution_count": 327,
   "metadata": {},
   "outputs": [],
   "source": [
    "n = len(arr)\n",
    "m = len(arr[0])"
   ]
  },
  {
   "cell_type": "code",
   "execution_count": 328,
   "metadata": {},
   "outputs": [],
   "source": [
    "class DisjointSet:\n",
    "    # github.com/not522/ac-library-python/blob/master/atcoder/dsu.py\n",
    "    # faster implementation of DSU\n",
    "    def __init__(self, n: int = 0) -> None:\n",
    "        if n > 0:  # constant size DSU\n",
    "            self.parent_or_size = [-1] * n\n",
    "        else:\n",
    "            # WARNING: non-negative numeric elements only\n",
    "            self.parent_or_size = defaultdict(lambda: -1)\n",
    "\n",
    "    def union(self, a: int, b: int) -> int:\n",
    "        x = self.find(a)\n",
    "        y = self.find(b)\n",
    "\n",
    "        if x == y:\n",
    "            return x\n",
    "\n",
    "        if -self.parent_or_size[x] < -self.parent_or_size[y]:\n",
    "            x, y = y, x\n",
    "\n",
    "        self.parent_or_size[x] += self.parent_or_size[y]\n",
    "        self.parent_or_size[y] = x\n",
    "\n",
    "        return x\n",
    "\n",
    "    def find(self, a: int) -> int:\n",
    "        parent = self.parent_or_size[a]\n",
    "        while parent >= 0:\n",
    "            if self.parent_or_size[parent] < 0:\n",
    "                return parent\n",
    "            self.parent_or_size[a], a, parent = (\n",
    "                self.parent_or_size[parent],\n",
    "                self.parent_or_size[parent],\n",
    "                self.parent_or_size[self.parent_or_size[parent]],\n",
    "            )\n",
    "        return a\n",
    "\n",
    "    def size(self, a: int) -> int:\n",
    "        return -self.parent_or_size[self.find(a)]"
   ]
  },
  {
   "cell_type": "code",
   "execution_count": 329,
   "metadata": {},
   "outputs": [],
   "source": [
    "# assume DAG"
   ]
  },
  {
   "cell_type": "code",
   "execution_count": 330,
   "metadata": {},
   "outputs": [],
   "source": [
    "ds = DisjointSet(n*m)"
   ]
  },
  {
   "cell_type": "code",
   "execution_count": 331,
   "metadata": {},
   "outputs": [],
   "source": [
    "def parse(x,y):\n",
    "    return x*m + y\n",
    "\n",
    "def divide(z):\n",
    "    return divmod(z, m)"
   ]
  },
  {
   "cell_type": "code",
   "execution_count": 332,
   "metadata": {},
   "outputs": [],
   "source": [
    "for x in range(n):\n",
    "    for y in range(m):\n",
    "        if arr[x][y] == \"#\":\n",
    "            continue\n",
    "        for dx, dy in d4:\n",
    "            xx = x+dx\n",
    "            yy = y+dy\n",
    "            if not (0 <= xx < n and 0 <= yy < m):\n",
    "                continue\n",
    "            if arr[x][y] == \".\" and arr[xx][yy] == \".\":\n",
    "                ds.union(parse(x,y), parse(xx,yy))              "
   ]
  },
  {
   "cell_type": "code",
   "execution_count": 333,
   "metadata": {},
   "outputs": [],
   "source": [
    "mapping = defaultdict(list)"
   ]
  },
  {
   "cell_type": "code",
   "execution_count": 334,
   "metadata": {},
   "outputs": [],
   "source": [
    "for x in range(n):\n",
    "    for y in range(m):\n",
    "        if arr[x][y] == \">\":\n",
    "            mapping[ds.find(parse(x,y-1))].append((ds.find(parse(x,y+1)), 1 + ds.size(parse(x,y+1))))\n",
    "            mapping[ds.find(parse(x,y+1))].append((ds.find(parse(x,y-1)), 1 + ds.size(parse(x,y-1))))\n",
    "        if arr[x][y] == \"<\":\n",
    "            mapping[ds.find(parse(x,y-1))].append((ds.find(parse(x,y+1)), 1 + ds.size(parse(x,y+1))))\n",
    "            mapping[ds.find(parse(x,y+1))].append((ds.find(parse(x,y-1)), 1 + ds.size(parse(x,y-1))))\n",
    "        if arr[x][y] == \"^\":\n",
    "            mapping[ds.find(parse(x+1,y))].append((ds.find(parse(x-1,y)), 1 + ds.size(parse(x-1,y))))\n",
    "            mapping[ds.find(parse(x-1,y))].append((ds.find(parse(x+1,y)), 1 + ds.size(parse(x+1,y))))\n",
    "        if arr[x][y] == \"v\":\n",
    "            mapping[ds.find(parse(x+1,y))].append((ds.find(parse(x-1,y)), 1 + ds.size(parse(x-1,y))))\n",
    "            mapping[ds.find(parse(x-1,y))].append((ds.find(parse(x+1,y)), 1 + ds.size(parse(x+1,y))))"
   ]
  },
  {
   "cell_type": "code",
   "execution_count": 335,
   "metadata": {},
   "outputs": [],
   "source": [
    "startpt = ds.find(parse(0,1))\n",
    "endpt = ds.find(parse(n-1,m-2))"
   ]
  },
  {
   "cell_type": "code",
   "execution_count": 336,
   "metadata": {},
   "outputs": [],
   "source": [
    "def dfs(cur, visited):\n",
    "    maxval = -1000000000\n",
    "    if cur == endpt:\n",
    "        return 0\n",
    "    for nex, cost in mapping[cur]:\n",
    "        if nex in visited:\n",
    "            continue\n",
    "        visited.add(cur)\n",
    "        val = dfs(nex, visited) + cost\n",
    "        visited.remove(cur)\n",
    "        maxval = max(maxval, val)\n",
    "    return maxval"
   ]
  },
  {
   "cell_type": "code",
   "execution_count": 337,
   "metadata": {},
   "outputs": [
    {
     "data": {
      "text/plain": [
       "6470"
      ]
     },
     "execution_count": 337,
     "metadata": {},
     "output_type": "execute_result"
    }
   ],
   "source": [
    "dfs(ds.find(parse(0,1)), set([startpt])) + ds.size(startpt) - 1"
   ]
  },
  {
   "cell_type": "code",
   "execution_count": null,
   "metadata": {},
   "outputs": [],
   "source": []
  },
  {
   "cell_type": "code",
   "execution_count": 324,
   "metadata": {},
   "outputs": [
    {
     "data": {
      "text/plain": [
       "defaultdict(list,\n",
       "            {120: [(80, 2), (118, 2)],\n",
       "             80: [(120, 20), (40, 28), (126, 22)],\n",
       "             40: [(80, 2), (274, 2)],\n",
       "             118: [(1, 15), (120, 20), (208, 20)],\n",
       "             1: [(118, 2)],\n",
       "             126: [(80, 2), (312, 2)],\n",
       "             208: [(118, 2), (304, 2)],\n",
       "             274: [(40, 28), (270, 16), (364, 8)],\n",
       "             270: [(274, 2), (312, 2)],\n",
       "             304: [(208, 20), (308, 10), (346, 36)],\n",
       "             312: [(126, 22), (308, 10), (270, 16), (356, 8)],\n",
       "             364: [(274, 2), (456, 2)],\n",
       "             308: [(304, 2), (312, 2)],\n",
       "             346: [(304, 2), (450, 2)],\n",
       "             356: [(312, 2), (450, 2)],\n",
       "             450: [(356, 8), (346, 36), (452, 8)],\n",
       "             456: [(364, 8), (452, 8), (502, 5)],\n",
       "             452: [(450, 2), (456, 2)],\n",
       "             502: [(456, 2)]})"
      ]
     },
     "execution_count": 324,
     "metadata": {},
     "output_type": "execute_result"
    }
   ],
   "source": [
    "mapping"
   ]
  },
  {
   "cell_type": "code",
   "execution_count": null,
   "metadata": {},
   "outputs": [],
   "source": []
  },
  {
   "cell_type": "code",
   "execution_count": null,
   "metadata": {},
   "outputs": [],
   "source": []
  }
 ],
 "metadata": {
  "kernelspec": {
   "display_name": "Python 3 (ipykernel)",
   "language": "python",
   "name": "python3"
  },
  "language_info": {
   "codemirror_mode": {
    "name": "ipython",
    "version": 3
   },
   "file_extension": ".py",
   "mimetype": "text/x-python",
   "name": "python",
   "nbconvert_exporter": "python",
   "pygments_lexer": "ipython3",
   "version": "3.9.7"
  }
 },
 "nbformat": 4,
 "nbformat_minor": 4
}

{
 "cells": [
  {
   "cell_type": "code",
   "execution_count": 72,
   "metadata": {},
   "outputs": [],
   "source": [
    "log = print"
   ]
  },
  {
   "cell_type": "code",
   "execution_count": 73,
   "metadata": {},
   "outputs": [],
   "source": [
    "arr = list(map(int, \"\"\"\n",
    "17 39 135 137 33 165 9 35 139 69 37 153 99 195 77 105 79 193 95 125 61 91 143 75 198 107 121 55 113 7 3 101 45 13 59 167 109 169 23 57 65 89 161 29 197 177 63 175 181 133 123 83 31 103 11 71 149 187 51 145 141 19 15 179 93 87 171 5 21 131 157 49 147 43 151 97 47 159 155 115 53 117 119 129 73 173 81 189 191 127 111 85 67 163 183 41 185 25 27\n",
    "\"\"\".strip().split()))"
   ]
  },
  {
   "cell_type": "code",
   "execution_count": 74,
   "metadata": {},
   "outputs": [],
   "source": [
    "# arr"
   ]
  },
  {
   "cell_type": "code",
   "execution_count": 75,
   "metadata": {},
   "outputs": [],
   "source": [
    "def distribute_to_equal_subset_sum(arr):\n",
    "    total_sum = sum(arr)\n",
    "\n",
    "    if total_sum % 2 != 0:\n",
    "        return None\n",
    "\n",
    "    target_sum = total_sum // 2\n",
    "    n = len(arr)\n",
    "\n",
    "    # Initialize the dynamic programming table\n",
    "    dp = [False] * (target_sum + 1)\n",
    "    dp[0] = True\n",
    "\n",
    "    for i in range(n):\n",
    "        for j in range(target_sum, arr[i] - 1, -1):\n",
    "            if not dp[j]:\n",
    "                dp[j] = dp[j - arr[i]]\n",
    "\n",
    "    if not dp[target_sum]:\n",
    "        return None\n",
    "\n",
    "    # Backtrack to find the subset\n",
    "    subset = []\n",
    "    j = target_sum\n",
    "    for i in range(n - 1, -1, -1):\n",
    "        if j >= arr[i] and dp[j - arr[i]]:\n",
    "            subset.append(arr[i])\n",
    "            j -= arr[i]\n",
    "\n",
    "    return subset\n",
    "\n",
    "    c = Counter(left)\n",
    "    right = []\n",
    "    for x in arr:\n",
    "        log(x, c[x])\n",
    "        if c[x] > 0:\n",
    "            c[x] -= 1\n",
    "            continue\n",
    "        right.append(x)\n",
    "\n",
    "    log(sum(left), sum(right), sum(arr))\n",
    "    assert sum(left) == sum(right)\n",
    "    assert sum(left) + sum(right) == sum(arr)\n",
    "    assert sorted(left + right) == sorted(arr)\n",
    "    return left, right"
   ]
  },
  {
   "cell_type": "code",
   "execution_count": 78,
   "metadata": {},
   "outputs": [],
   "source": [
    "# distribute_to_equal_subset_sum(arr)"
   ]
  },
  {
   "cell_type": "code",
   "execution_count": null,
   "metadata": {},
   "outputs": [],
   "source": []
  }
 ],
 "metadata": {
  "kernelspec": {
   "display_name": "Python 3 (ipykernel)",
   "language": "python",
   "name": "python3"
  },
  "language_info": {
   "codemirror_mode": {
    "name": "ipython",
    "version": 3
   },
   "file_extension": ".py",
   "mimetype": "text/x-python",
   "name": "python",
   "nbconvert_exporter": "python",
   "pygments_lexer": "ipython3",
   "version": "3.9.7"
  }
 },
 "nbformat": 4,
 "nbformat_minor": 4
}

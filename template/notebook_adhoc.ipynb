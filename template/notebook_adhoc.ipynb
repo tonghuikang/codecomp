{
 "cells": [
  {
   "cell_type": "code",
   "execution_count": 1,
   "metadata": {},
   "outputs": [],
   "source": [
    "class RangeQuery:\n",
    "    def __init__(self, data, func=min):\n",
    "        self.func = func\n",
    "        self._data = _data = [list(data)]\n",
    "        i, n = 1, len(_data[0])\n",
    "        while 2 * i <= n:\n",
    "            prev = _data[-1]\n",
    "            _data.append([func(prev[j], prev[j + i]) for j in range(n - 2 * i + 1)])\n",
    "            i <<= 1\n",
    "\n",
    "    def query(self, begin, end):\n",
    "        depth = (end - begin).bit_length() - 1\n",
    "        return self.func(self._data[depth][begin], self._data[depth][end - (1 << depth)])\n"
   ]
  },
  {
   "cell_type": "code",
   "execution_count": 18,
   "metadata": {},
   "outputs": [],
   "source": [
    "rqmin = RangeQuery([(10,0),(11,1),(1,2),(12,3),(13,4)], func=min)"
   ]
  },
  {
   "cell_type": "code",
   "execution_count": 19,
   "metadata": {},
   "outputs": [
    {
     "data": {
      "text/plain": [
       "(1, 2)"
      ]
     },
     "execution_count": 19,
     "metadata": {},
     "output_type": "execute_result"
    }
   ],
   "source": [
    "rqmin.query(1,5)"
   ]
  },
  {
   "cell_type": "code",
   "execution_count": null,
   "metadata": {},
   "outputs": [],
   "source": []
  }
 ],
 "metadata": {
  "kernelspec": {
   "display_name": "Python 3 (ipykernel)",
   "language": "python",
   "name": "python3"
  },
  "language_info": {
   "codemirror_mode": {
    "name": "ipython",
    "version": 3
   },
   "file_extension": ".py",
   "mimetype": "text/x-python",
   "name": "python",
   "nbconvert_exporter": "python",
   "pygments_lexer": "ipython3",
   "version": "3.9.7"
  }
 },
 "nbformat": 4,
 "nbformat_minor": 4
}

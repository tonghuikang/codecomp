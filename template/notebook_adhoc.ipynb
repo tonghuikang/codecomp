{
 "cells": [
  {
   "cell_type": "code",
   "execution_count": 72,
   "metadata": {},
   "outputs": [],
   "source": [
    "def compute(arr):\n",
    "    vals = set([0])\n",
    "    for x in arr:\n",
    "        new_vals = set()\n",
    "        for y in vals:\n",
    "            new_vals.add(x+y)\n",
    "            new_vals.add(x-y)\n",
    "        vals = new_vals\n",
    "    return 0 in vals"
   ]
  },
  {
   "cell_type": "code",
   "execution_count": 78,
   "metadata": {},
   "outputs": [],
   "source": [
    "# compute((2, 3, 4, 5, 5, 1100))"
   ]
  },
  {
   "cell_type": "code",
   "execution_count": 73,
   "metadata": {},
   "outputs": [
    {
     "data": {
      "text/plain": [
       "True"
      ]
     },
     "execution_count": 73,
     "metadata": {},
     "output_type": "execute_result"
    }
   ],
   "source": [
    "compute((2, 3, 4, 5, 5, 11))"
   ]
  },
  {
   "cell_type": "code",
   "execution_count": 74,
   "metadata": {},
   "outputs": [],
   "source": [
    "from functools import cache\n",
    "\n",
    "@cache\n",
    "def minmax(state):\n",
    "    if len(state) == 1:\n",
    "        return 1\n",
    "    if len(state) == 2 and state[0] == state[1]:\n",
    "        return -1\n",
    "    n = len(state)\n",
    "\n",
    "    access = set()\n",
    "    \n",
    "    maxval = -1\n",
    "    for i in range(n):\n",
    "        minval = 1\n",
    "        for j in range(n):\n",
    "            if i == j:\n",
    "                continue\n",
    "            new_state = [x for x in state]\n",
    "            new_state[i] -= min(state[i], state[j])\n",
    "            new_state[j] -= min(state[i], state[j])\n",
    "            while 0 in new_state:\n",
    "                new_state.remove(0)\n",
    "            inp = tuple(sorted(new_state))\n",
    "            val = minmax(inp)\n",
    "            if val == -1:\n",
    "                access.add(inp)\n",
    "                assert compute(inp)\n",
    "            else:\n",
    "                assert not compute(inp)\n",
    "            minval = min(minval, val)\n",
    "        maxval = max(maxval, minval)\n",
    "    if maxval == -1:\n",
    "        print(state, maxval, access)\n",
    "    return maxval"
   ]
  },
  {
   "cell_type": "code",
   "execution_count": 75,
   "metadata": {},
   "outputs": [],
   "source": [
    "# minmax([10,4,6,3])"
   ]
  },
  {
   "cell_type": "code",
   "execution_count": 76,
   "metadata": {},
   "outputs": [
    {
     "name": "stdout",
     "output_type": "stream",
     "text": [
      "(5, 5, 10) -1 {(5, 5)}\n",
      "(1, 5, 6) -1 {(1, 1), (5, 5)}\n",
      "(1, 5, 5, 11) -1 {(1, 5, 6), (5, 5, 10)}\n",
      "(3, 5, 8) -1 {(5, 5), (3, 3)}\n",
      "(3, 3, 6) -1 {(3, 3)}\n",
      "(3, 3, 5, 11) -1 {(3, 3, 6), (3, 5, 8)}\n",
      "(2, 3, 5) -1 {(3, 3), (2, 2)}\n",
      "(2, 5, 5, 8) -1 {(3, 5, 8), (2, 3, 5)}\n",
      "(1, 2, 3) -1 {(1, 1), (2, 2)}\n",
      "(2, 3, 5, 6) -1 {(1, 5, 6), (3, 3, 6), (1, 2, 3), (2, 3, 5)}\n",
      "(2, 3, 5, 5, 11) -1 {(3, 3, 5, 11), (2, 3, 5, 6), (2, 5, 5, 8), (1, 5, 5, 11)}\n",
      "(4, 5, 9) -1 {(4, 4), (5, 5)}\n",
      "(1, 4, 5) -1 {(4, 4), (1, 1)}\n",
      "(1, 5, 5, 9) -1 {(4, 5, 9), (1, 4, 5)}\n",
      "(4, 5, 5, 6) -1 {(1, 5, 6), (1, 4, 5)}\n",
      "(1, 3, 4) -1 {(1, 1), (3, 3)}\n",
      "(1, 3, 5, 9) -1 {(1, 5, 6), (3, 5, 8), (1, 3, 4)}\n",
      "(3, 4, 4, 5) -1 {(1, 4, 5), (1, 3, 4)}\n",
      "(3, 4, 5, 5, 9) -1 {(3, 4, 4, 5), (1, 3, 5, 9), (1, 5, 5, 9), (4, 5, 5, 6)}\n",
      "(2, 5, 7) -1 {(5, 5), (2, 2)}\n",
      "(2, 4, 6) -1 {(4, 4), (2, 2)}\n",
      "(2, 4, 5, 11) -1 {(2, 5, 7), (2, 4, 6), (4, 5, 9)}\n",
      "(1, 1, 2) -1 {(1, 1)}\n",
      "(1, 2, 5, 6) -1 {(1, 5, 6), (2, 4, 6), (1, 4, 5), (1, 1, 2)}\n",
      "(1, 2, 5, 5, 11) -1 {(1, 2, 5, 6), (1, 5, 5, 9), (1, 5, 5, 11), (2, 4, 5, 11)}\n",
      "(1, 2, 5, 8) -1 {(2, 5, 7), (1, 2, 3), (1, 5, 6)}\n",
      "(2, 2, 4) -1 {(2, 2)}\n",
      "(2, 3, 4, 5) -1 {(2, 2, 4), (1, 4, 5), (2, 3, 5), (1, 2, 3)}\n",
      "(2, 4, 5, 5, 8) -1 {(1, 2, 5, 8), (4, 5, 5, 6), (2, 5, 5, 8), (2, 3, 4, 5)}\n",
      "(2, 3, 5, 10) -1 {(2, 5, 7), (3, 5, 8), (2, 3, 5)}\n",
      "(1, 2, 3, 6) -1 {(1, 3, 4), (1, 2, 3), (2, 3, 5)}\n",
      "(1, 2, 3, 5, 11) -1 {(2, 3, 5, 10), (1, 3, 5, 9), (1, 2, 5, 8), (1, 2, 3, 6)}\n",
      "(1, 2, 3, 4) -1 {(2, 2, 4), (1, 2, 3), (1, 3, 4), (1, 1, 2)}\n",
      "(2, 3, 4, 5, 6) -1 {(3, 4, 4, 5), (1, 2, 3, 4), (2, 3, 5, 6), (2, 3, 4, 5), (1, 2, 5, 6), (1, 2, 3, 6)}\n",
      "(2, 3, 4, 5, 5, 11) -1 {(2, 4, 5, 5, 8), (1, 2, 3, 5, 11), (3, 4, 5, 5, 9), (1, 2, 5, 5, 11), (2, 3, 5, 5, 11), (2, 3, 4, 5, 6)}\n"
     ]
    },
    {
     "data": {
      "text/plain": [
       "-1"
      ]
     },
     "execution_count": 76,
     "metadata": {},
     "output_type": "execute_result"
    }
   ],
   "source": [
    "minmax(tuple([2,3,4,5,5,11]))"
   ]
  },
  {
   "cell_type": "code",
   "execution_count": null,
   "metadata": {},
   "outputs": [],
   "source": []
  }
 ],
 "metadata": {
  "kernelspec": {
   "display_name": "Python 3 (ipykernel)",
   "language": "python",
   "name": "python3"
  },
  "language_info": {
   "codemirror_mode": {
    "name": "ipython",
    "version": 3
   },
   "file_extension": ".py",
   "mimetype": "text/x-python",
   "name": "python",
   "nbconvert_exporter": "python",
   "pygments_lexer": "ipython3",
   "version": "3.9.7"
  }
 },
 "nbformat": 4,
 "nbformat_minor": 4
}

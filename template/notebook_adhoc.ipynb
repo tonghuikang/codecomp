{
 "cells": [
  {
   "cell_type": "code",
   "execution_count": 584,
   "metadata": {},
   "outputs": [],
   "source": [
    "strr = '''7,4,9,5,11,17,23,2,0,14,21,24,10,16,13,6,15,25,12,22,18,20,8,19,3,26,1\n",
    "\n",
    "22 13 17 11  0\n",
    " 8  2 23  4 24\n",
    "21  9 14 16  7\n",
    " 6 10  3 18  5\n",
    " 1 12 20 15 19\n",
    "\n",
    " 3 15  0  2 22\n",
    " 9 18 13 17  5\n",
    "19  8  7 25 23\n",
    "20 11 10 24  4\n",
    "14 21 16 12  6\n",
    "\n",
    "14 21 17 24  4\n",
    "10 16 15  9 19\n",
    "18  8 23 26 20\n",
    "22 11 13  6  5\n",
    " 2  0 12  3  7'''"
   ]
  },
  {
   "cell_type": "code",
   "execution_count": 585,
   "metadata": {},
   "outputs": [],
   "source": [
    "with open(\"/Users/hkmac/Downloads/input.txt\") as f:\n",
    "    strr = f.read()"
   ]
  },
  {
   "cell_type": "code",
   "execution_count": 586,
   "metadata": {},
   "outputs": [],
   "source": [
    "inp = strr.strip().split(\"\\n\\n\")"
   ]
  },
  {
   "cell_type": "code",
   "execution_count": 587,
   "metadata": {},
   "outputs": [],
   "source": [
    "seq = inp[0].split(\",\")\n",
    "seq = [int(x) for x in seq]"
   ]
  },
  {
   "cell_type": "code",
   "execution_count": 588,
   "metadata": {},
   "outputs": [],
   "source": [
    "# seq"
   ]
  },
  {
   "cell_type": "code",
   "execution_count": 589,
   "metadata": {},
   "outputs": [],
   "source": [
    "boards = [[[int(z) for z in y.split()] for y in x.split(\"\\n\")] for x in inp[1:]]"
   ]
  },
  {
   "cell_type": "code",
   "execution_count": 590,
   "metadata": {},
   "outputs": [],
   "source": [
    "res = None\n",
    "\n",
    "for xx in seq:\n",
    "    x = xx\n",
    "    for q,board in enumerate(boards):\n",
    "        for i in range(5):\n",
    "            for j in range(5):\n",
    "                if board[i][j] == x:\n",
    "                    board[i][j] = 1/256\n",
    "                    \n",
    "    remove = set()\n",
    "    new_boards = []\n",
    "    for q,board in enumerate(boards):\n",
    "        for i in range(5):\n",
    "#             marked = True\n",
    "            for j in range(5):\n",
    "                if board[i][j] != 1/256:\n",
    "                    break\n",
    "            else:\n",
    "#                 print(\"check\")\n",
    "                res = board\n",
    "                remove.add(q)\n",
    "#                 assert False\n",
    "\n",
    "        for j in range(5):\n",
    "#             marked = True\n",
    "            for i in range(5):\n",
    "                if board[i][j] != 1/256:\n",
    "#                     marked = False\n",
    "                    break\n",
    "            else:\n",
    "#                 print(\"check\")\n",
    "                res = board\n",
    "                remove.add(q)\n",
    "#                 assert False\n",
    "\n",
    "        if q in remove:\n",
    "            continue\n",
    "        new_boards.append(board)\n",
    "                \n",
    "    \n",
    "    for r in sorted(remove)[::-1]:\n",
    "        del boards[r]\n",
    "\n",
    "#     print(boards)\n",
    "#     boards = new_boards\n",
    "    if len(boards) == 0:\n",
    "        break\n"
   ]
  },
  {
   "cell_type": "code",
   "execution_count": 591,
   "metadata": {},
   "outputs": [
    {
     "data": {
      "text/plain": [
       "{0}"
      ]
     },
     "execution_count": 591,
     "metadata": {},
     "output_type": "execute_result"
    }
   ],
   "source": [
    "remove"
   ]
  },
  {
   "cell_type": "code",
   "execution_count": 592,
   "metadata": {},
   "outputs": [
    {
     "data": {
      "text/plain": [
       "[[0.00390625, 0.00390625, 56, 0.00390625, 0.00390625],\n",
       " [36, 57, 0.00390625, 0.00390625, 77],\n",
       " [0.00390625, 0.00390625, 35, 0.00390625, 0.00390625],\n",
       " [82, 0.00390625, 0.00390625, 0.00390625, 0.00390625],\n",
       " [45, 0.00390625, 0.00390625, 0.00390625, 0.00390625]]"
      ]
     },
     "execution_count": 592,
     "metadata": {},
     "output_type": "execute_result"
    }
   ],
   "source": [
    "board"
   ]
  },
  {
   "cell_type": "code",
   "execution_count": 593,
   "metadata": {},
   "outputs": [
    {
     "data": {
      "text/plain": [
       "388.0703125"
      ]
     },
     "execution_count": 593,
     "metadata": {},
     "output_type": "execute_result"
    }
   ],
   "source": [
    "sum(sum(x) for x in (board))"
   ]
  },
  {
   "cell_type": "code",
   "execution_count": 594,
   "metadata": {},
   "outputs": [
    {
     "data": {
      "text/plain": [
       "49"
      ]
     },
     "execution_count": 594,
     "metadata": {},
     "output_type": "execute_result"
    }
   ],
   "source": [
    "xx"
   ]
  },
  {
   "cell_type": "code",
   "execution_count": 569,
   "metadata": {},
   "outputs": [
    {
     "data": {
      "text/plain": [
       "19012"
      ]
     },
     "execution_count": 569,
     "metadata": {},
     "output_type": "execute_result"
    }
   ],
   "source": [
    "388*49"
   ]
  },
  {
   "cell_type": "code",
   "execution_count": 509,
   "metadata": {},
   "outputs": [
    {
     "data": {
      "text/plain": [
       "27068"
      ]
     },
     "execution_count": 509,
     "metadata": {},
     "output_type": "execute_result"
    }
   ],
   "source": [
    "404*67"
   ]
  },
  {
   "cell_type": "code",
   "execution_count": 379,
   "metadata": {},
   "outputs": [
    {
     "data": {
      "text/plain": [
       "8602"
      ]
     },
     "execution_count": 379,
     "metadata": {},
     "output_type": "execute_result"
    }
   ],
   "source": [
    "506*17"
   ]
  },
  {
   "cell_type": "code",
   "execution_count": 439,
   "metadata": {},
   "outputs": [
    {
     "data": {
      "text/plain": [
       "(66, 80, 100)"
      ]
     },
     "execution_count": 439,
     "metadata": {},
     "output_type": "execute_result"
    }
   ],
   "source": [
    "seq.index(17), seq.index(67), len(seq)"
   ]
  },
  {
   "cell_type": "code",
   "execution_count": null,
   "metadata": {},
   "outputs": [],
   "source": []
  }
 ],
 "metadata": {
  "kernelspec": {
   "display_name": "Python 3",
   "language": "python",
   "name": "python3"
  },
  "language_info": {
   "codemirror_mode": {
    "name": "ipython",
    "version": 3
   },
   "file_extension": ".py",
   "mimetype": "text/x-python",
   "name": "python",
   "nbconvert_exporter": "python",
   "pygments_lexer": "ipython3",
   "version": "3.8.3"
  }
 },
 "nbformat": 4,
 "nbformat_minor": 4
}

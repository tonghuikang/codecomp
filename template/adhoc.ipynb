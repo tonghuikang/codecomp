{
 "cells": [
  {
   "cell_type": "code",
   "execution_count": 820,
   "metadata": {},
   "outputs": [],
   "source": [
    "%reset -sf"
   ]
  },
  {
   "cell_type": "code",
   "execution_count": 821,
   "metadata": {},
   "outputs": [],
   "source": [
    "!mkdir -p output"
   ]
  },
  {
   "cell_type": "code",
   "execution_count": 822,
   "metadata": {},
   "outputs": [],
   "source": [
    "import matplotlib.pyplot as plt\n",
    "import numpy as np\n",
    "from collections import Counter, defaultdict\n",
    "\n",
    "import ortools\n",
    "import networkx as nx\n",
    "import graph_tool\n",
    "import graph_tool.draw"
   ]
  },
  {
   "cell_type": "markdown",
   "metadata": {},
   "source": [
    "# Input parsing"
   ]
  },
  {
   "cell_type": "code",
   "execution_count": 823,
   "metadata": {},
   "outputs": [
    {
     "name": "stdout",
     "output_type": "stream",
     "text": [
      "a_an_example.in.txt         d_dense_schedule.in.txt\r\n",
      "b_better_start_small.in.txt e_exceptional_skills.in.txt\r\n",
      "c_collaboration.in.txt      f_find_great_mentors.in.txt\r\n"
     ]
    }
   ],
   "source": [
    "!ls input_data"
   ]
  },
  {
   "cell_type": "code",
   "execution_count": 824,
   "metadata": {},
   "outputs": [],
   "source": [
    "case_a = \"a_an_example.in.txt\"\n",
    "case_b = \"b_better_start_small.in.txt\"\n",
    "case_c = \"c_collaboration.in.txt\"\n",
    "case_d = \"d_dense_schedule.in.txt\"\n",
    "case_e = \"e_exceptional_skills.in.txt\"\n",
    "case_f = \"f_find_great_mentors.in.txt\"\n",
    "\n",
    "folder_in = \"input_data/\"\n",
    "folder_out = \"output/\""
   ]
  },
  {
   "cell_type": "code",
   "execution_count": 825,
   "metadata": {},
   "outputs": [],
   "source": [
    "# !head input_data/e_exceptional_skills.in.txt"
   ]
  },
  {
   "cell_type": "code",
   "execution_count": 826,
   "metadata": {},
   "outputs": [],
   "source": [
    "cases = [case_a, case_b, case_c, case_d, case_e, case_f]"
   ]
  },
  {
   "cell_type": "code",
   "execution_count": 827,
   "metadata": {},
   "outputs": [],
   "source": [
    "case = case_a\n",
    "# case = case_b\n",
    "# case = case_c\n",
    "# case = case_d\n",
    "case = case_e\n",
    "case = case_f"
   ]
  },
  {
   "cell_type": "code",
   "execution_count": 828,
   "metadata": {},
   "outputs": [
    {
     "name": "stdout",
     "output_type": "stream",
     "text": [
      "3 3\r\n",
      "Anna 1\r\n",
      "C++ 2\r\n",
      "Bob 2\r\n",
      "HTML 5\r\n",
      "CSS 5\r\n",
      "Maria 1\r\n",
      "Python 3\r\n",
      "Logging 5 10 5 1\r\n",
      "C++ 3\r\n",
      "WebServer 7 10 7 2\r\n",
      "HTML 3\r\n",
      "C++ 2\r\n",
      "WebChat 10 20 20 2\r\n",
      "Python 3\r\n",
      "HTML 3\r\n"
     ]
    }
   ],
   "source": [
    "!cat input_data/a_an_example.in.txt"
   ]
  },
  {
   "cell_type": "code",
   "execution_count": 829,
   "metadata": {},
   "outputs": [],
   "source": [
    "def input_parser(filename):\n",
    "\n",
    "    with open(filename) as f:\n",
    "        srr = [row.strip() for row in f.readlines()]\n",
    "\n",
    "    ptr = 0\n",
    "    c,p = [int(x) for x in srr[ptr].split()]\n",
    "    ptr += 1\n",
    "\n",
    "    name_to_skills_and_levels = defaultdict(list)\n",
    "\n",
    "    for _ in range(c):\n",
    "        name, num_skills = srr[ptr].split()\n",
    "        num_skills = int(num_skills)\n",
    "        ptr += 1\n",
    "\n",
    "        for _ in range(num_skills):\n",
    "            skill, skill_level = srr[ptr].split()\n",
    "            skill_level = int(skill_level)\n",
    "            ptr += 1\n",
    "\n",
    "            name_to_skills_and_levels[name].append((skill, skill_level))\n",
    "\n",
    "    project_to_days_needed = {}\n",
    "    project_to_score_given = {}\n",
    "    project_to_best_before = {}\n",
    "    project_to_skills_and_skill_levels = defaultdict(list)\n",
    "    \n",
    "    # augmented info\n",
    "    project_to_people_needed = {}\n",
    "    project_to_people_days_needed = {}\n",
    "    project_to_unique_skills_needed = {}\n",
    "\n",
    "    for _ in range(p):\n",
    "        project_name, d, s, b, r = srr[ptr].split()\n",
    "        ptr += 1\n",
    "\n",
    "        project_to_days_needed[project_name] = int(d)\n",
    "        project_to_score_given[project_name] = int(s)\n",
    "        project_to_best_before[project_name] = int(b)\n",
    "\n",
    "        for _ in range(int(r)):\n",
    "            skill, skill_level_required = srr[ptr].split()\n",
    "            skill_level_required = int(skill_level_required)\n",
    "            ptr += 1\n",
    "\n",
    "            project_to_skills_and_skill_levels[project_name].append((skill, skill_level_required))\n",
    "                        \n",
    "        # aug\n",
    "        project_to_people_needed[project_name] = \\\n",
    "            len(project_to_skills_and_skill_levels[project_name])\n",
    "        \n",
    "        project_to_people_days_needed[project_name] = \\\n",
    "            project_to_days_needed[project_name] * project_to_people_needed[project_name]\n",
    "        \n",
    "        project_to_unique_skills_needed[project_name] = len(\n",
    "            set(x[0] for x in project_to_skills_and_skill_levels[project_name]))\n",
    "    \n",
    "    return (name_to_skills_and_levels,\n",
    "            project_to_days_needed,\n",
    "            project_to_score_given,\n",
    "            project_to_best_before,\n",
    "            project_to_skills_and_skill_levels,\n",
    "            project_to_people_needed, \n",
    "            project_to_people_days_needed,  \n",
    "            project_to_unique_skills_needed)"
   ]
  },
  {
   "cell_type": "code",
   "execution_count": 830,
   "metadata": {},
   "outputs": [],
   "source": [
    "# g++ -std=c++17 checker.cpp -o checker && ./checker "
   ]
  },
  {
   "cell_type": "code",
   "execution_count": 831,
   "metadata": {},
   "outputs": [],
   "source": [
    "# i.e. they need to have "
   ]
  },
  {
   "cell_type": "code",
   "execution_count": 832,
   "metadata": {},
   "outputs": [],
   "source": [
    "name_to_skills_and_levels, \\\n",
    "project_to_days_needed, \\\n",
    "project_to_score_given, \\\n",
    "project_to_best_before, \\\n",
    "project_to_skills_and_skill_levels, \\\n",
    "project_to_people_needed, \\\n",
    "project_to_people_days_needed, \\\n",
    "project_to_unique_skills_needed = input_parser(folder_in + case)"
   ]
  },
  {
   "cell_type": "code",
   "execution_count": 833,
   "metadata": {},
   "outputs": [
    {
     "name": "stdout",
     "output_type": "stream",
     "text": [
      "f_find_great_mentors.in.txt\n",
      "total project-days needed 358542004\n",
      "total project-days available 12306416362\n",
      "ratio 0.029134558221767404\n"
     ]
    }
   ],
   "source": [
    "print(case)\n",
    "\n",
    "project_days = 0\n",
    "for project in project_to_skills_and_skill_levels:\n",
    "    people_needed = len(project_to_skills_and_skill_levels[project])\n",
    "    days_needed = project_to_days_needed[project]\n",
    "    project_days += people_needed*days_needed\n",
    "\n",
    "project_days_needed = project_days\n",
    "print(\"total project-days needed\", project_days)\n",
    "\n",
    "project_days = 0\n",
    "for project in project_to_skills_and_skill_levels:\n",
    "    people_needed = len(project_to_skills_and_skill_levels[project])\n",
    "    days_needed = project_to_best_before[project]\n",
    "    project_days += people_needed*days_needed\n",
    "\n",
    "print(\"total project-days available\", project_days)\n",
    "\n",
    "print(\"ratio\", project_days_needed/project_days)"
   ]
  },
  {
   "cell_type": "code",
   "execution_count": 834,
   "metadata": {},
   "outputs": [
    {
     "name": "stdout",
     "output_type": "stream",
     "text": [
      "number of contributors 1000\n",
      "number of projects 19413\n"
     ]
    }
   ],
   "source": [
    "print(\"number of contributors\", len(name_to_skills_and_levels))\n",
    "print(\"number of projects\", len(project_to_days_needed))"
   ]
  },
  {
   "cell_type": "code",
   "execution_count": 835,
   "metadata": {},
   "outputs": [
    {
     "name": "stdout",
     "output_type": "stream",
     "text": [
      "f_find_great_mentors.in.txt\n"
     ]
    },
    {
     "data": {
      "image/png": "[encoded data removed]",
      "text/plain": [
       "<Figure size 432x288 with 1 Axes>"
      ]
     },
     "metadata": {
      "needs_background": "light"
     },
     "output_type": "display_data"
    }
   ],
   "source": [
    "print(case)\n",
    "skill_levels = []\n",
    "for name, skills_and_levels in name_to_skills_and_levels.items():\n",
    "    for skill, level in skills_and_levels:\n",
    "        skill_levels.append(level)\n",
    "plt.hist(skill_levels, bins=range(max(skill_levels) + 3))\n",
    "plt.show()"
   ]
  },
  {
   "cell_type": "code",
   "execution_count": 836,
   "metadata": {},
   "outputs": [
    {
     "name": "stdout",
     "output_type": "stream",
     "text": [
      "f_find_great_mentors.in.txt\n"
     ]
    },
    {
     "data": {
      "image/png": "[encoded data removed]",
      "text/plain": [
       "<Figure size 432x288 with 1 Axes>"
      ]
     },
     "metadata": {
      "needs_background": "light"
     },
     "output_type": "display_data"
    }
   ],
   "source": [
    "print(case)\n",
    "skill_levels = []\n",
    "for name, skills_and_levels in project_to_skills_and_skill_levels.items():\n",
    "    for skill, level in skills_and_levels:\n",
    "        skill_levels.append(level)\n",
    "plt.hist(skill_levels, bins=range(max(skill_levels) + 3))\n",
    "plt.show()"
   ]
  },
  {
   "cell_type": "code",
   "execution_count": 837,
   "metadata": {},
   "outputs": [
    {
     "name": "stdout",
     "output_type": "stream",
     "text": [
      "f_find_great_mentors.in.txt\n"
     ]
    },
    {
     "data": {
      "image/png": "[encoded data removed]",
      "text/plain": [
       "<Figure size 432x288 with 1 Axes>"
      ]
     },
     "metadata": {
      "needs_background": "light"
     },
     "output_type": "display_data"
    }
   ],
   "source": [
    "print(case)\n",
    "plt.hist(project_to_days_needed.values())\n",
    "plt.show()"
   ]
  },
  {
   "cell_type": "code",
   "execution_count": 838,
   "metadata": {},
   "outputs": [
    {
     "name": "stdout",
     "output_type": "stream",
     "text": [
      "f_find_great_mentors.in.txt\n"
     ]
    },
    {
     "data": {
      "image/png": "[encoded data removed]",
      "text/plain": [
       "<Figure size 432x288 with 1 Axes>"
      ]
     },
     "metadata": {
      "needs_background": "light"
     },
     "output_type": "display_data"
    }
   ],
   "source": [
    "print(case)\n",
    "plt.hist(project_to_best_before.values())\n",
    "plt.show()"
   ]
  },
  {
   "cell_type": "code",
   "execution_count": 839,
   "metadata": {},
   "outputs": [
    {
     "name": "stdout",
     "output_type": "stream",
     "text": [
      "f_find_great_mentors.in.txt\n",
      "9136275\n"
     ]
    },
    {
     "data": {
      "image/png": "[encoded data removed]",
      "text/plain": [
       "<Figure size 432x288 with 1 Axes>"
      ]
     },
     "metadata": {
      "needs_background": "light"
     },
     "output_type": "display_data"
    }
   ],
   "source": [
    "print(case)\n",
    "print(sum(project_to_score_given.values()))\n",
    "plt.hist(project_to_score_given.values(), bins=200)\n",
    "plt.show()"
   ]
  },
  {
   "cell_type": "code",
   "execution_count": 840,
   "metadata": {},
   "outputs": [
    {
     "name": "stdout",
     "output_type": "stream",
     "text": [
      "f_find_great_mentors.in.txt\n"
     ]
    },
    {
     "data": {
      "image/png": "[encoded data removed]",
      "text/plain": [
       "<Figure size 432x288 with 1 Axes>"
      ]
     },
     "metadata": {
      "needs_background": "light"
     },
     "output_type": "display_data"
    }
   ],
   "source": [
    "print(case)\n",
    "# x - project_to_score_given \n",
    "# y - project_to_days_needed \n",
    "n = len(list(project_to_score_given.values()))\n",
    "plt.scatter(np.array(list(project_to_score_given.values())) + np.random.randn(n)/10, \n",
    "            np.array(list(project_to_days_needed.values())) + np.random.randn(n)/10)\n",
    "plt.show()"
   ]
  },
  {
   "cell_type": "code",
   "execution_count": 841,
   "metadata": {},
   "outputs": [
    {
     "name": "stdout",
     "output_type": "stream",
     "text": [
      "f_find_great_mentors.in.txt\n"
     ]
    },
    {
     "data": {
      "image/png": "[encoded data removed]",
      "text/plain": [
       "<Figure size 432x288 with 1 Axes>"
      ]
     },
     "metadata": {
      "needs_background": "light"
     },
     "output_type": "display_data"
    }
   ],
   "source": [
    "print(case)\n",
    "# x - project_to_score_given \n",
    "# y - project_to_people_days_needed \n",
    "n = len(list(project_to_score_given.values()))\n",
    "plt.scatter(np.array(list(project_to_score_given.values())) + np.random.randn(n)/10, \n",
    "            np.array(list(project_to_people_days_needed.values())) + np.random.randn(n)/10)\n",
    "plt.show()"
   ]
  },
  {
   "cell_type": "code",
   "execution_count": 842,
   "metadata": {},
   "outputs": [
    {
     "name": "stdout",
     "output_type": "stream",
     "text": [
      "f_find_great_mentors.in.txt\n"
     ]
    },
    {
     "data": {
      "image/png": "[encoded data removed]",
      "text/plain": [
       "<Figure size 432x288 with 1 Axes>"
      ]
     },
     "metadata": {
      "needs_background": "light"
     },
     "output_type": "display_data"
    }
   ],
   "source": [
    "print(case)\n",
    "# x - project_to_people_needed \n",
    "# y - project_to_unique_skills_needed \n",
    "n = len(list(project_to_score_given.values()))\n",
    "plt.scatter(np.array(list(project_to_people_needed.values())) + np.random.randn(n)/10, \n",
    "            np.array(list(project_to_unique_skills_needed.values())) + np.random.randn(n)/10)\n",
    "plt.show()"
   ]
  },
  {
   "cell_type": "code",
   "execution_count": 844,
   "metadata": {},
   "outputs": [
    {
     "name": "stdout",
     "output_type": "stream",
     "text": [
      "f_find_great_mentors.in.txt\n"
     ]
    },
    {
     "data": {
      "image/png": "[encoded data removed]",
      "text/plain": [
       "<Figure size 432x288 with 1 Axes>"
      ]
     },
     "metadata": {
      "needs_background": "light"
     },
     "output_type": "display_data"
    }
   ],
   "source": [
    "print(case)\n",
    "# x - project_to_score_given \n",
    "# y - project_to_unique_skills_needed \n",
    "n = len(list(project_to_score_given.values()))\n",
    "plt.scatter(np.array(list(project_to_score_given.values())) + np.random.randn(n)/10, \n",
    "            np.array(list(project_to_unique_skills_needed.values())) + np.random.randn(n)/10)\n",
    "plt.show()"
   ]
  },
  {
   "cell_type": "code",
   "execution_count": 860,
   "metadata": {},
   "outputs": [
    {
     "name": "stdout",
     "output_type": "stream",
     "text": [
      "f_find_great_mentors.in.txt\n"
     ]
    },
    {
     "data": {
      "image/png": "[encoded data removed]",
      "text/plain": [
       "<Figure size 432x288 with 1 Axes>"
      ]
     },
     "metadata": {
      "needs_background": "light"
     },
     "output_type": "display_data"
    }
   ],
   "source": [
    "print(case)\n",
    "all_skills = set()\n",
    "for name, skills_and_levels in name_to_skills_and_levels.items():\n",
    "    for skill, level in skills_and_levels:\n",
    "        all_skills.add(skill)\n",
    "\n",
    "skill_to_idx = {x:i for i,x in enumerate(all_skills)}\n",
    "        \n",
    "# x - skill_idx \n",
    "# y - skill level\n",
    "    \n",
    "xx, yy = [], []\n",
    "for name, skills_and_levels in name_to_skills_and_levels.items():\n",
    "    for skill, level in skills_and_levels:\n",
    "        xx.append(skill_to_idx[skill])\n",
    "        yy.append(level)\n",
    "\n",
    "n = len(list(xx))\n",
    "plt.scatter(np.array(xx) + np.random.randn(n)/5, \n",
    "            np.array(yy) + np.random.randn(n)/5, alpha=0.1)\n",
    "plt.show()"
   ]
  },
  {
   "cell_type": "code",
   "execution_count": null,
   "metadata": {},
   "outputs": [],
   "source": []
  },
  {
   "cell_type": "code",
   "execution_count": 850,
   "metadata": {},
   "outputs": [],
   "source": [
    "# case"
   ]
  },
  {
   "cell_type": "code",
   "execution_count": 851,
   "metadata": {},
   "outputs": [],
   "source": [
    "# name_to_skills_and_levels"
   ]
  },
  {
   "cell_type": "code",
   "execution_count": 843,
   "metadata": {},
   "outputs": [],
   "source": [
    "# assert False"
   ]
  },
  {
   "cell_type": "code",
   "execution_count": null,
   "metadata": {},
   "outputs": [],
   "source": []
  },
  {
   "cell_type": "code",
   "execution_count": 767,
   "metadata": {},
   "outputs": [],
   "source": [
    "# # pretty messy when large\n",
    "\n",
    "# for idx in reversed(sorted(G.get_vertices())):\n",
    "#     if G.vertex(idx).out_degree() > 7:\n",
    "#         G.remove_vertex(idx)\n",
    "\n",
    "# for idx in reversed(sorted(G.get_vertices())):\n",
    "#     if G.vertex(idx).out_degree() == 0:\n",
    "#         G.remove_vertex(idx)\n",
    "\n",
    "# # pos = graph_tool.draw.random_layout(G)\n",
    "# graph_tool.draw.graph_draw(G)\n",
    "# plt.show()"
   ]
  },
  {
   "cell_type": "markdown",
   "metadata": {},
   "source": [
    "# Upper bound analysis"
   ]
  },
  {
   "cell_type": "code",
   "execution_count": 768,
   "metadata": {},
   "outputs": [],
   "source": [
    "# see Codeforces comment\n",
    "# probably not gonna do for this practice\n",
    "# also unlikely to do such complicated analysis in qualifiers"
   ]
  },
  {
   "cell_type": "code",
   "execution_count": null,
   "metadata": {},
   "outputs": [],
   "source": []
  },
  {
   "cell_type": "markdown",
   "metadata": {},
   "source": [
    "# Scoring"
   ]
  },
  {
   "cell_type": "code",
   "execution_count": 769,
   "metadata": {},
   "outputs": [
    {
     "name": "stdout",
     "output_type": "stream",
     "text": [
      "adhoc.ipynb                 d_difficult.0000001420\r\n",
      "c_coarse.0000000005         e_exceptional_skills.in.txt\r\n",
      "c_coarse.in.txt.0000000005  output.txt\r\n"
     ]
    }
   ],
   "source": [
    "!ls output"
   ]
  },
  {
   "cell_type": "code",
   "execution_count": null,
   "metadata": {},
   "outputs": [],
   "source": [
    "ourput_parser(folder_out + case)"
   ]
  },
  {
   "cell_type": "code",
   "execution_count": 775,
   "metadata": {},
   "outputs": [],
   "source": [
    "output_filename = folder_out + \"e_exceptional_skills.in.txt\"\n",
    "output_filename = folder_out + \"output.txt\"\n",
    "\n",
    "def output_parser(output_filename):\n",
    "\n",
    "    ordered_project_and_teammates = []\n",
    "    ptr = 0\n",
    "    with open(output_filename) as f:\n",
    "        srr = f.read().strip().split(\"\\n\")\n",
    "\n",
    "    num_projects = int(srr[ptr])\n",
    "    ptr += 1\n",
    "    assert len(srr) == num_projects*2 + 1\n",
    "\n",
    "    for _ in range(num_projects):\n",
    "        project = srr[ptr]\n",
    "        ptr += 1\n",
    "\n",
    "        teammates = srr[ptr].split()\n",
    "        ptr += 1\n",
    "        ordered_project_and_teammates.append((project, teammates))\n",
    "    \n",
    "    return ordered_project_and_teammates"
   ]
  },
  {
   "cell_type": "code",
   "execution_count": 795,
   "metadata": {},
   "outputs": [
    {
     "name": "stdout",
     "output_type": "stream",
     "text": [
      "adhoc.ipynb                 d_difficult.0000001420\r\n",
      "c_coarse.0000000005         e_exceptional_skills.in.txt\r\n",
      "c_coarse.in.txt.0000000005  output.txt\r\n"
     ]
    }
   ],
   "source": [
    "!ls output"
   ]
  },
  {
   "cell_type": "code",
   "execution_count": 776,
   "metadata": {},
   "outputs": [
    {
     "data": {
      "text/plain": [
       "'a_an_example.in.txt'"
      ]
     },
     "execution_count": 776,
     "metadata": {},
     "output_type": "execute_result"
    }
   ],
   "source": [
    "case"
   ]
  },
  {
   "cell_type": "code",
   "execution_count": 777,
   "metadata": {},
   "outputs": [
    {
     "data": {
      "text/plain": [
       "defaultdict(list,\n",
       "            {'Anna': [('C++', 2)],\n",
       "             'Bob': [('HTML', 5), ('CSS', 5)],\n",
       "             'Maria': [('Python', 3)]})"
      ]
     },
     "execution_count": 777,
     "metadata": {},
     "output_type": "execute_result"
    }
   ],
   "source": [
    "name_to_skills_and_levels"
   ]
  },
  {
   "cell_type": "code",
   "execution_count": 886,
   "metadata": {
    "scrolled": false
   },
   "outputs": [],
   "source": [
    "name_to_skills_and_levels, \\\n",
    "project_to_days_needed, \\\n",
    "project_to_score_given, \\\n",
    "project_to_best_before, \\\n",
    "project_to_skills_and_skill_levels, \\\n",
    "project_to_people_needed, \\\n",
    "project_to_people_days_needed, \\\n",
    "project_to_unique_skills_needed = input_parser(folder_in + case)\n",
    "\n",
    "# output_filename = folder_out + \"output.txt\"\n",
    "# output_filename = folder_out + \"e_exceptional_skills.in.txt\"\n",
    "\n",
    "# ordered_project_and_teammates = output_parser(output_filename)\n",
    "\n",
    "person_to_available_date = {name:0 for name in name_to_skills_and_levels}\n",
    "\n",
    "person_and_skill_to_level = defaultdict(int)\n",
    "for person, skills_and_levels in person_and_skill_to_level.items():\n",
    "    for skill, level in skills_and_levels:\n",
    "        person_and_skill_to_level[person, skill] = level\n",
    "\n",
    "# for project, teammates in ordered_project_and_teammates:\n",
    "#     # check individual allocation is ok\n",
    "    \n",
    "#     for person, (skill, skill_level) in zip(teammates, project_to_skills_and_skill_levels[project]):\n",
    "#         assert person_and_skill_to_level[person, skill] + 1 >= skill_level        \n",
    "\n",
    "# def scoring(crr):\n",
    "#     crr = set(crr)\n",
    "#     res = 0\n",
    "#     for a,b in zip(arr,brr):\n",
    "        \n",
    "#         all_included = set(a) & crr == set(a)\n",
    "#         all_excluded = set(b) & crr == set()\n",
    "\n",
    "#         if all_included and all_excluded:\n",
    "#             res += 1\n",
    "#     return res\n",
    "\n",
    "# scoring(list(always_include))"
   ]
  },
  {
   "cell_type": "code",
   "execution_count": null,
   "metadata": {},
   "outputs": [],
   "source": [
    "# output_filename = folder_out + \"output.txt\"\n",
    "# output_filename = folder_out + \"e_exceptional_skills.in.txt\"\n",
    "\n",
    "# ordered_project_and_teammates = output_parser(output_filename)"
   ]
  },
  {
   "cell_type": "code",
   "execution_count": 868,
   "metadata": {},
   "outputs": [],
   "source": [
    "name_to_skills_and_levels, \\\n",
    "project_to_days_needed, \\\n",
    "project_to_score_given, \\\n",
    "project_to_best_before, \\\n",
    "project_to_skills_and_skill_levels, \\\n",
    "project_to_people_needed, \\\n",
    "project_to_people_days_needed, \\\n",
    "project_to_unique_skills_needed = input_parser(folder_in + case)\n",
    "\n",
    "person_to_available_date = {name:0 for name in name_to_skills_and_levels}\n",
    "\n",
    "skill_and_level_to_person = defaultdict(set)\n",
    "person_and_skill_to_level = defaultdict(int)\n",
    "for person, skills_and_levels in name_to_skills_and_levels.items():\n",
    "    for skill, level in skills_and_levels:\n",
    "        person_and_skill_to_level[person, skill] = level\n",
    "        skill_and_level_to_person[skill, level].add(person)"
   ]
  },
  {
   "cell_type": "code",
   "execution_count": 889,
   "metadata": {},
   "outputs": [],
   "source": [
    "completed_projects = set()"
   ]
  },
  {
   "cell_type": "code",
   "execution_count": 891,
   "metadata": {},
   "outputs": [],
   "source": [
    "while True:\n",
    "    # training schedule\n",
    "    for project in project_to_days_needed:\n",
    "        if project_to_days_needed[project] > 1000:\n",
    "            continue\n",
    "        \n",
    "        if project_to_unique_skills_needed[project] > 1:\n",
    "            continue\n",
    "        \n",
    "        for level, skill in \n",
    "        \n",
    "        break\n",
    "    break"
   ]
  },
  {
   "cell_type": "code",
   "execution_count": 893,
   "metadata": {},
   "outputs": [
    {
     "data": {
      "text/plain": [
       "[('s52', 9),\n",
       " ('s52', 9),\n",
       " ('s52', 9),\n",
       " ('s52', 9),\n",
       " ('s52', 9),\n",
       " ('s52', 9),\n",
       " ('s52', 9),\n",
       " ('s52', 9),\n",
       " ('s52', 9)]"
      ]
     },
     "execution_count": 893,
     "metadata": {},
     "output_type": "execute_result"
    }
   ],
   "source": [
    "project_to_skills_and_skill_levels[project]"
   ]
  },
  {
   "cell_type": "code",
   "execution_count": 888,
   "metadata": {
    "scrolled": false
   },
   "outputs": [],
   "source": [
    "# [skills_and_skill_levels for project, skills_and_skill_levels in project_to_skills_and_skill_levels.items() \n",
    "#  if project_to_days_needed[project] > 1000]"
   ]
  },
  {
   "cell_type": "code",
   "execution_count": 872,
   "metadata": {},
   "outputs": [],
   "source": [
    "# for i in range(skill_and_level_to_person):\n",
    "#     pass"
   ]
  },
  {
   "cell_type": "code",
   "execution_count": null,
   "metadata": {},
   "outputs": [],
   "source": []
  },
  {
   "cell_type": "code",
   "execution_count": 870,
   "metadata": {},
   "outputs": [],
   "source": [
    "# skill_and_level_to_person"
   ]
  },
  {
   "cell_type": "code",
   "execution_count": null,
   "metadata": {},
   "outputs": [],
   "source": []
  },
  {
   "cell_type": "code",
   "execution_count": null,
   "metadata": {},
   "outputs": [],
   "source": []
  },
  {
   "cell_type": "code",
   "execution_count": 866,
   "metadata": {},
   "outputs": [],
   "source": [
    "# person_and_skill_to_level"
   ]
  },
  {
   "cell_type": "code",
   "execution_count": null,
   "metadata": {},
   "outputs": [],
   "source": []
  },
  {
   "cell_type": "code",
   "execution_count": 792,
   "metadata": {},
   "outputs": [
    {
     "data": {
      "text/plain": [
       "[('C++', 3)]"
      ]
     },
     "execution_count": 792,
     "metadata": {},
     "output_type": "execute_result"
    }
   ],
   "source": [
    "skill_level"
   ]
  },
  {
   "cell_type": "code",
   "execution_count": 791,
   "metadata": {},
   "outputs": [
    {
     "data": {
      "text/plain": [
       "defaultdict(int, {('Bob', 'Logging'): 0})"
      ]
     },
     "execution_count": 791,
     "metadata": {},
     "output_type": "execute_result"
    }
   ],
   "source": [
    "person_and_skill_to_level"
   ]
  },
  {
   "cell_type": "code",
   "execution_count": 789,
   "metadata": {},
   "outputs": [
    {
     "data": {
      "text/plain": [
       "0"
      ]
     },
     "execution_count": 789,
     "metadata": {},
     "output_type": "execute_result"
    }
   ],
   "source": [
    "person_and_skill_to_level[\"Bob\"]"
   ]
  },
  {
   "cell_type": "code",
   "execution_count": 780,
   "metadata": {},
   "outputs": [
    {
     "data": {
      "text/plain": [
       "defaultdict(int, {('Bob', 'Logging'): 0})"
      ]
     },
     "execution_count": 780,
     "metadata": {},
     "output_type": "execute_result"
    }
   ],
   "source": [
    "person_and_skill_to_level"
   ]
  },
  {
   "cell_type": "markdown",
   "metadata": {},
   "source": [
    "# Submission"
   ]
  },
  {
   "cell_type": "code",
   "execution_count": 63,
   "metadata": {},
   "outputs": [],
   "source": [
    "import shutil\n",
    "\n",
    "def save_file(res):\n",
    "    shutil.copy(\"adhoc.ipynb\", folder_out)\n",
    "    score = str(scoring(res)).zfill(10)\n",
    "    with open(folder_out + case + \".\" + score, \"w\") as f:\n",
    "        f.write(str(len(res)) + \" \" + \" \".join(res))\n",
    "        \n",
    "save_file(res)"
   ]
  },
  {
   "cell_type": "markdown",
   "metadata": {},
   "source": [
    "# 1-opt\n",
    "\n",
    "Idea - force to serve a customer"
   ]
  },
  {
   "cell_type": "code",
   "execution_count": 64,
   "metadata": {},
   "outputs": [
    {
     "name": "stdout",
     "output_type": "stream",
     "text": [
      "adhoc.ipynb                  d_difficult.0000001420\r\n",
      "c_coarse.in.txt.0000000001   d_difficult.in.txt0000001420\r\n",
      "c_coarse.in.txt0000000001\r\n"
     ]
    }
   ],
   "source": [
    "!ls output"
   ]
  },
  {
   "cell_type": "code",
   "execution_count": 65,
   "metadata": {},
   "outputs": [],
   "source": [
    "# initialisation\n",
    "crr = always_include"
   ]
  },
  {
   "cell_type": "code",
   "execution_count": 66,
   "metadata": {},
   "outputs": [],
   "source": [
    "# loads an input\n",
    "\n",
    "score = '0000000001'\n",
    "filename = case + score\n",
    "with open(folder_out + case + \".\" + score) as f:\n",
    "    crr = f.read().split()[1:]"
   ]
  },
  {
   "cell_type": "code",
   "execution_count": 67,
   "metadata": {
    "scrolled": false
   },
   "outputs": [
    {
     "name": "stdout",
     "output_type": "stream",
     "text": [
      "3\n",
      "4\n",
      "5\n"
     ]
    },
    {
     "ename": "KeyboardInterrupt",
     "evalue": "",
     "output_type": "error",
     "traceback": [
      "\u001b[0;31m---------------------------------------------------------------------------\u001b[0m",
      "\u001b[0;31mKeyboardInterrupt\u001b[0m                         Traceback (most recent call last)",
      "Input \u001b[0;32mIn [67]\u001b[0m, in \u001b[0;36m<module>\u001b[0;34m\u001b[0m\n\u001b[1;32m      2\u001b[0m crr \u001b[38;5;241m=\u001b[39m \u001b[38;5;28mset\u001b[39m(crr)\n\u001b[1;32m      4\u001b[0m \u001b[38;5;28;01mwhile\u001b[39;00m \u001b[38;5;28;01mTrue\u001b[39;00m:\n\u001b[0;32m----> 5\u001b[0m     idx \u001b[38;5;241m=\u001b[39m \u001b[43mnp\u001b[49m\u001b[38;5;241;43m.\u001b[39;49m\u001b[43mrandom\u001b[49m\u001b[38;5;241;43m.\u001b[39;49m\u001b[43mrandint\u001b[49m\u001b[43m(\u001b[49m\u001b[38;5;241;43m0\u001b[39;49m\u001b[43m,\u001b[49m\u001b[38;5;28;43mlen\u001b[39;49m\u001b[43m(\u001b[49m\u001b[43mxrr\u001b[49m\u001b[43m)\u001b[49m\u001b[38;5;241;43m-\u001b[39;49m\u001b[38;5;241;43m1\u001b[39;49m\u001b[43m)\u001b[49m\n\u001b[1;32m      7\u001b[0m     \u001b[38;5;28;01mif\u001b[39;00m xrr[idx] \u001b[38;5;241m&\u001b[39m crr \u001b[38;5;241m==\u001b[39m xrr[idx] \u001b[38;5;129;01mand\u001b[39;00m \u001b[38;5;129;01mnot\u001b[39;00m yrr[idx] \u001b[38;5;241m&\u001b[39m crr:\n\u001b[1;32m      8\u001b[0m         \u001b[38;5;28;01mcontinue\u001b[39;00m\n",
      "\u001b[0;31mKeyboardInterrupt\u001b[0m: "
     ]
    }
   ],
   "source": [
    "prev_points, pts = scoring(crr), 0\n",
    "crr = set(crr)\n",
    "\n",
    "while True:\n",
    "    idx = np.random.randint(0,len(xrr)-1)\n",
    "    \n",
    "    if xrr[idx] & crr == xrr[idx] and not yrr[idx] & crr:\n",
    "        continue\n",
    "    new_crr = (crr | xrr[idx]) - yrr[idx]\n",
    "    \n",
    "    pts = scoring(new_crr)\n",
    "    if pts > prev_points:\n",
    "        crr = new_crr\n",
    "        prev_points = pts\n",
    "        print(pts)"
   ]
  },
  {
   "cell_type": "code",
   "execution_count": 68,
   "metadata": {},
   "outputs": [],
   "source": [
    "res = crr\n",
    "save_file(res)"
   ]
  },
  {
   "cell_type": "markdown",
   "metadata": {},
   "source": [
    "# 2-opt\n",
    "Force to serve two customers"
   ]
  },
  {
   "cell_type": "code",
   "execution_count": 69,
   "metadata": {
    "scrolled": false
   },
   "outputs": [
    {
     "ename": "KeyboardInterrupt",
     "evalue": "",
     "output_type": "error",
     "traceback": [
      "\u001b[0;31m---------------------------------------------------------------------------\u001b[0m",
      "\u001b[0;31mKeyboardInterrupt\u001b[0m                         Traceback (most recent call last)",
      "Input \u001b[0;32mIn [69]\u001b[0m, in \u001b[0;36m<module>\u001b[0;34m\u001b[0m\n\u001b[1;32m      3\u001b[0m \u001b[38;5;66;03m# del idx\u001b[39;00m\n\u001b[1;32m      5\u001b[0m \u001b[38;5;28;01mwhile\u001b[39;00m \u001b[38;5;28;01mTrue\u001b[39;00m:\n\u001b[0;32m----> 6\u001b[0m     idx1 \u001b[38;5;241m=\u001b[39m \u001b[43mnp\u001b[49m\u001b[38;5;241;43m.\u001b[39;49m\u001b[43mrandom\u001b[49m\u001b[38;5;241;43m.\u001b[39;49m\u001b[43mrandint\u001b[49m\u001b[43m(\u001b[49m\u001b[38;5;241;43m0\u001b[39;49m\u001b[43m,\u001b[49m\u001b[38;5;28;43mlen\u001b[39;49m\u001b[43m(\u001b[49m\u001b[43mxrr\u001b[49m\u001b[43m)\u001b[49m\u001b[38;5;241;43m-\u001b[39;49m\u001b[38;5;241;43m1\u001b[39;49m\u001b[43m)\u001b[49m\n\u001b[1;32m      7\u001b[0m     idx2 \u001b[38;5;241m=\u001b[39m np\u001b[38;5;241m.\u001b[39mrandom\u001b[38;5;241m.\u001b[39mrandint(\u001b[38;5;241m0\u001b[39m,\u001b[38;5;28mlen\u001b[39m(xrr)\u001b[38;5;241m-\u001b[39m\u001b[38;5;241m1\u001b[39m)\n\u001b[1;32m      9\u001b[0m     \u001b[38;5;28;01mif\u001b[39;00m xrr[idx1] \u001b[38;5;241m&\u001b[39m yrr[idx2]:\n",
      "\u001b[0;31mKeyboardInterrupt\u001b[0m: "
     ]
    }
   ],
   "source": [
    "crr = set(crr)\n",
    "prev_points, pts = scoring(crr), 0\n",
    "# del idx\n",
    "\n",
    "while True:\n",
    "    idx1 = np.random.randint(0,len(xrr)-1)\n",
    "    idx2 = np.random.randint(0,len(xrr)-1)\n",
    "    \n",
    "    if xrr[idx1] & yrr[idx2]:\n",
    "        continue\n",
    "    if xrr[idx2] & yrr[idx1]:\n",
    "        continue\n",
    "    if xrr[idx1] & crr == xrr[idx1] and not yrr[idx1] & crr:\n",
    "        continue\n",
    "    if xrr[idx2] & crr == xrr[idx2] and not yrr[idx2] & crr:\n",
    "        continue\n",
    "    \n",
    "    new_crr = (crr | xrr[idx1] | xrr[idx2]) - yrr[idx1] - yrr[idx2]\n",
    "    \n",
    "    pts = scoring(new_crr)\n",
    "    if pts > prev_points:\n",
    "        crr = new_crr\n",
    "        prev_points = pts\n",
    "        print(pts)"
   ]
  },
  {
   "cell_type": "code",
   "execution_count": 70,
   "metadata": {},
   "outputs": [],
   "source": [
    "res = crr\n",
    "save_file(res)"
   ]
  },
  {
   "cell_type": "markdown",
   "metadata": {},
   "source": [
    "# Integer Programming\n",
    "Likely totally useless in actual contest."
   ]
  },
  {
   "cell_type": "code",
   "execution_count": 71,
   "metadata": {},
   "outputs": [],
   "source": [
    "from ortools.linear_solver import pywraplp\n",
    "solver = pywraplp.Solver.CreateSolver('SCIP')\n"
   ]
  },
  {
   "cell_type": "code",
   "execution_count": 72,
   "metadata": {},
   "outputs": [],
   "source": [
    "ingredients = {x:solver.IntVar(0, 1, x) for x in to_decide}\n",
    "\n",
    "targets = []\n",
    "for i,(xr,yr) in enumerate(zip(xrr, yrr)):\n",
    "    satisfied = solver.IntVar(0, 1, str(i).zfill(6))\n",
    "    \n",
    "    # all included ingredients\n",
    "    if xr:\n",
    "        solver.Add(len(xr) - sum(ingredients[x] for x in xr) <= (1 - satisfied) * (len(xr)))\n",
    "    \n",
    "    # all excluded ingredients \n",
    "    if yr:\n",
    "        solver.Add(sum(ingredients[y] for y in yr) <= (1 - satisfied) * (len(yr)))\n",
    "    targets.append(satisfied)\n",
    "\n",
    "solver.SetTimeLimit(60*1000)\n",
    "solver.Maximize(sum(targets))"
   ]
  },
  {
   "cell_type": "code",
   "execution_count": 73,
   "metadata": {},
   "outputs": [],
   "source": [
    "status = solver.Solve()"
   ]
  },
  {
   "cell_type": "code",
   "execution_count": 74,
   "metadata": {},
   "outputs": [
    {
     "name": "stdout",
     "output_type": "stream",
     "text": [
      "Solution:\n",
      "Objective value = 5.0\n",
      "\n",
      "Advanced usage:\n",
      "Problem solved in 1149.000000 milliseconds\n",
      "Problem solved in 8 iterations\n",
      "Problem solved in 1 branch-and-bound nodes\n"
     ]
    }
   ],
   "source": [
    "if status == pywraplp.Solver.OPTIMAL:\n",
    "    print('Solution:')\n",
    "    print('Objective value =', solver.Objective().Value())\n",
    "else:\n",
    "    print('The problem does not have an optimal solution.')\n",
    "\n",
    "print('\\nAdvanced usage:')\n",
    "print('Problem solved in %f milliseconds' % solver.wall_time())\n",
    "print('Problem solved in %d iterations' % solver.iterations())\n",
    "print('Problem solved in %d branch-and-bound nodes' % solver.nodes())"
   ]
  },
  {
   "cell_type": "code",
   "execution_count": 75,
   "metadata": {},
   "outputs": [
    {
     "name": "stdout",
     "output_type": "stream",
     "text": [
      "5\n"
     ]
    }
   ],
   "source": [
    "res = [k for k,v in ingredients.items() if v.solution_value() == 1]\n",
    "res = set(res) | always_include\n",
    "\n",
    "print(scoring(res))\n",
    "save_file(res)"
   ]
  },
  {
   "cell_type": "code",
   "execution_count": null,
   "metadata": {},
   "outputs": [],
   "source": []
  }
 ],
 "metadata": {
  "kernelspec": {
   "display_name": "Python 3 (ipykernel)",
   "language": "python",
   "name": "python3"
  },
  "language_info": {
   "codemirror_mode": {
    "name": "ipython",
    "version": 3
   },
   "file_extension": ".py",
   "mimetype": "text/x-python",
   "name": "python",
   "nbconvert_exporter": "python",
   "pygments_lexer": "ipython3",
   "version": "3.9.7"
  }
 },
 "nbformat": 4,
 "nbformat_minor": 4
}

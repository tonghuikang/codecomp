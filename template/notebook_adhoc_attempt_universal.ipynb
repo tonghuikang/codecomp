{
 "cells": [
  {
   "cell_type": "code",
   "execution_count": 2,
   "metadata": {},
   "outputs": [],
   "source": [
    "import numpy as np\n",
    "import matplotlib.pyplot as plt\n",
    "from scipy.optimize import minimize"
   ]
  },
  {
   "cell_type": "code",
   "execution_count": 3,
   "metadata": {},
   "outputs": [],
   "source": [
    "with open(\"e1\", \"r\") as f:\n",
    "    ref = f.readlines()\n",
    "    \n",
    "ref = [[int(x) for x in row.strip()] for row in ref[2:]]\n",
    "ref = np.array(ref)"
   ]
  },
  {
   "cell_type": "code",
   "execution_count": 4,
   "metadata": {},
   "outputs": [],
   "source": [
    "correct_for_each_contestant = np.sum(ref, axis=1)"
   ]
  },
  {
   "cell_type": "code",
   "execution_count": 5,
   "metadata": {},
   "outputs": [],
   "source": [
    "correct_for_each_question = np.sum(ref, axis=0)"
   ]
  },
  {
   "cell_type": "code",
   "execution_count": 6,
   "metadata": {},
   "outputs": [
    {
     "data": {
      "image/png": "[encoded data removed]",
      "text/plain": [
       "<Figure size 432x288 with 1 Axes>"
      ]
     },
     "metadata": {
      "needs_background": "light"
     },
     "output_type": "display_data"
    }
   ],
   "source": [
    "plt.hist(correct_for_each_contestant, bins=np.linspace(0,10000,51))\n",
    "plt.show()"
   ]
  },
  {
   "cell_type": "code",
   "execution_count": 7,
   "metadata": {},
   "outputs": [
    {
     "data": {
      "image/png": "[encoded data removed]",
      "text/plain": [
       "<Figure size 432x288 with 1 Axes>"
      ]
     },
     "metadata": {
      "needs_background": "light"
     },
     "output_type": "display_data"
    }
   ],
   "source": [
    "plt.hist(correct_for_each_question, bins=np.linspace(0,100,21))\n",
    "plt.show()"
   ]
  },
  {
   "cell_type": "code",
   "execution_count": 8,
   "metadata": {},
   "outputs": [
    {
     "data": {
      "text/plain": [
       "array([[0, 0, 1, ..., 1, 1, 0],\n",
       "       [0, 1, 0, ..., 0, 0, 0],\n",
       "       [1, 1, 0, ..., 1, 1, 0],\n",
       "       ...,\n",
       "       [1, 1, 1, ..., 0, 1, 0],\n",
       "       [1, 1, 1, ..., 0, 1, 1],\n",
       "       [1, 1, 1, ..., 0, 0, 1]])"
      ]
     },
     "execution_count": 8,
     "metadata": {},
     "output_type": "execute_result"
    }
   ],
   "source": [
    "ref"
   ]
  },
  {
   "cell_type": "code",
   "execution_count": 9,
   "metadata": {},
   "outputs": [],
   "source": [
    "# estimate the difficulty of each question\n",
    "# estimate the skill_level of each participant\n",
    "# logloss"
   ]
  },
  {
   "cell_type": "code",
   "execution_count": 27,
   "metadata": {},
   "outputs": [],
   "source": [
    "def sigmoid(x):\n",
    "    return 1 / (1 + np.exp(-x))\n",
    "\n",
    "def logloss(preds, ref):\n",
    "    assert preds.shape == ref.shape\n",
    "    return (1-ref)*np.log(1-preds) + (ref)*np.log(preds)"
   ]
  },
  {
   "cell_type": "code",
   "execution_count": 28,
   "metadata": {},
   "outputs": [],
   "source": [
    "skills = np.zeros(100)\n",
    "difficulties = np.zeros(10000)"
   ]
  },
  {
   "cell_type": "code",
   "execution_count": 46,
   "metadata": {},
   "outputs": [],
   "source": [
    "def loss_calculation(inp_arr):\n",
    "    skills, difficulties = inp_arr[:100], inp_arr[-10000:]\n",
    "    preds = sigmoid(np.subtract.outer(skills, difficulties))\n",
    "    return -np.sum(logloss(preds, ref))"
   ]
  },
  {
   "cell_type": "code",
   "execution_count": 47,
   "metadata": {},
   "outputs": [
    {
     "data": {
      "text/plain": [
       "693147.1805599461"
      ]
     },
     "execution_count": 47,
     "metadata": {},
     "output_type": "execute_result"
    }
   ],
   "source": [
    "loss_calculation(np.concatenate((skills, difficulties)))"
   ]
  },
  {
   "cell_type": "code",
   "execution_count": 49,
   "metadata": {},
   "outputs": [
    {
     "data": {
      "text/plain": [
       "      fun: 669994.8371538379\n",
       " hess_inv: array([[ 9.91218544e-01, -1.12934412e-02,  6.59850733e-03, ...,\n",
       "        -9.05785664e-06, -1.09966636e-05, -9.90840703e-06],\n",
       "       [-1.12934412e-02,  9.85476007e-01,  8.48605362e-03, ...,\n",
       "        -1.16538235e-05, -1.41148580e-05, -1.27399746e-05],\n",
       "       [ 6.59850733e-03,  8.48605362e-03,  9.95041837e-01, ...,\n",
       "         6.76745438e-06,  8.47950807e-06,  7.46729144e-06],\n",
       "       ...,\n",
       "       [-9.05785664e-06, -1.16538235e-05,  6.76745438e-06, ...,\n",
       "         1.00000002e+00, -1.91827672e-07, -2.85449303e-08],\n",
       "       [-1.09966636e-05, -1.41148580e-05,  8.47950807e-06, ...,\n",
       "        -1.91827672e-07,  1.00000099e+00,  8.99715225e-08],\n",
       "       [-9.90840703e-06, -1.27399746e-05,  7.46729144e-06, ...,\n",
       "        -2.85449303e-08,  8.99715225e-08,  9.99999999e-01]])\n",
       "      jac: array([ 2.02079688e+03,  2.59951562e+03, -1.51326562e+03, ...,\n",
       "       -2.24218750e+00,  2.67031250e+01,  4.73437500e+00])\n",
       "  message: 'Maximum number of iterations has been exceeded.'\n",
       "     nfev: 20202\n",
       "      nit: 1\n",
       "     njev: 2\n",
       "   status: 1\n",
       "  success: False\n",
       "        x: array([-9.42618013e-02, -1.21253434e-01,  7.06127856e-02, ...,\n",
       "        8.35654267e-05, -1.12813326e-03, -2.08913567e-04])"
      ]
     },
     "execution_count": 49,
     "metadata": {},
     "output_type": "execute_result"
    }
   ],
   "source": [
    "minimize(loss_calculation, np.zeros(100+10000), options={\"maxiter\":1})"
   ]
  },
  {
   "cell_type": "code",
   "execution_count": null,
   "metadata": {},
   "outputs": [],
   "source": []
  },
  {
   "cell_type": "code",
   "execution_count": null,
   "metadata": {},
   "outputs": [],
   "source": []
  },
  {
   "cell_type": "code",
   "execution_count": null,
   "metadata": {},
   "outputs": [],
   "source": []
  },
  {
   "cell_type": "code",
   "execution_count": null,
   "metadata": {},
   "outputs": [],
   "source": []
  }
 ],
 "metadata": {
  "kernelspec": {
   "display_name": "Python 3",
   "language": "python",
   "name": "python3"
  },
  "language_info": {
   "codemirror_mode": {
    "name": "ipython",
    "version": 3
   },
   "file_extension": ".py",
   "mimetype": "text/x-python",
   "name": "python",
   "nbconvert_exporter": "python",
   "pygments_lexer": "ipython3",
   "version": "3.7.9"
  }
 },
 "nbformat": 4,
 "nbformat_minor": 4
}

{
 "cells": [
  {
   "cell_type": "code",
   "execution_count": 2,
   "metadata": {},
   "outputs": [
    {
     "name": "stdout",
     "output_type": "stream",
     "text": [
      "Maximum number of applicants that can get job is 5 \n"
     ]
    }
   ],
   "source": [
    "# Python program to find\n",
    "# maximal Bipartite matching.\n",
    "\n",
    "class GFG:\n",
    "\tdef __init__(self,graph):\n",
    "\t\t\n",
    "\t\t# residual graph\n",
    "\t\tself.graph = graph\n",
    "\t\tself.ppl = len(graph)\n",
    "\t\tself.jobs = len(graph[0])\n",
    "\n",
    "\t# A DFS based recursive function\n",
    "\t# that returns true if a matching\n",
    "\t# for vertex u is possible\n",
    "\tdef bpm(self, u, matchR, seen):\n",
    "\n",
    "\t\t# Try every job one by one\n",
    "\t\tfor v in range(self.jobs):\n",
    "\n",
    "\t\t\t# If applicant u is interested\n",
    "\t\t\t# in job v and v is not seen\n",
    "\t\t\tif self.graph[u][v] and seen[v] == False:\n",
    "\t\t\t\t\n",
    "\t\t\t\t# Mark v as visited\n",
    "\t\t\t\tseen[v] = True\n",
    "\n",
    "\t\t\t\t'''If job 'v' is not assigned to\n",
    "\t\t\t\tan applicant OR previously assigned\n",
    "\t\t\t\tapplicant for job v (which is matchR[v])\n",
    "\t\t\t\thas an alternate job available.\n",
    "\t\t\t\tSince v is marked as visited in the\n",
    "\t\t\t\tabove line, matchR[v] in the following\n",
    "\t\t\t\trecursive call will not get job 'v' again'''\n",
    "\t\t\t\tif matchR[v] == -1 or self.bpm(matchR[v],\n",
    "\t\t\t\t\t\t\t\t\t\t\tmatchR, seen):\n",
    "\t\t\t\t\tmatchR[v] = u\n",
    "\t\t\t\t\treturn True\n",
    "\t\treturn False\n",
    "\n",
    "\t# Returns maximum number of matching\n",
    "\tdef maxBPM(self):\n",
    "\t\t'''An array to keep track of the\n",
    "\t\tapplicants assigned to jobs.\n",
    "\t\tThe value of matchR[i] is the\n",
    "\t\tapplicant number assigned to job i,\n",
    "\t\tthe value -1 indicates nobody is assigned.'''\n",
    "\t\tmatchR = [-1] * self.jobs\n",
    "\t\t\n",
    "\t\t# Count of jobs assigned to applicants\n",
    "\t\tresult = 0\n",
    "\t\tfor i in range(self.ppl):\n",
    "\t\t\t\n",
    "\t\t\t# Mark all jobs as not seen for next applicant.\n",
    "\t\t\tseen = [False] * self.jobs\n",
    "\t\t\t\n",
    "\t\t\t# Find if the applicant 'u' can get a job\n",
    "\t\t\tif self.bpm(i, matchR, seen):\n",
    "\t\t\t\tresult += 1\n",
    "\t\treturn result\n",
    "\n",
    "\n",
    "bpGraph =[[0, 1, 1, 0, 0, 0],\n",
    "\t\t  [1, 0, 0, 1, 0, 0],\n",
    "\t\t  [1, 0, 1, 0, 0, 0],\n",
    "\t\t  [0, 0, 1, 1, 0, 0],\n",
    "\t\t  [0, 0, 0, 0, 0, 0],\n",
    "\t\t  [0, 0, 0, 0, 0, 1]]\n",
    "\n",
    "g = GFG(bpGraph)\n",
    "\n",
    "print (\"Maximum number of applicants that can get job is %d \" % g.maxBPM())\n",
    "\n",
    "# This code is contributed by Neelam Yadav\n"
   ]
  },
  {
   "cell_type": "code",
   "execution_count": null,
   "metadata": {},
   "outputs": [],
   "source": []
  }
 ],
 "metadata": {
  "kernelspec": {
   "display_name": "Python [conda env:code] *",
   "language": "python",
   "name": "conda-env-code-py"
  },
  "language_info": {
   "codemirror_mode": {
    "name": "ipython",
    "version": 3
   },
   "file_extension": ".py",
   "mimetype": "text/x-python",
   "name": "python",
   "nbconvert_exporter": "python",
   "pygments_lexer": "ipython3",
   "version": "3.7.9"
  }
 },
 "nbformat": 4,
 "nbformat_minor": 4
}
